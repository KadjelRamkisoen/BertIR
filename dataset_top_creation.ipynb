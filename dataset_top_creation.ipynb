{
 "cells": [
  {
   "cell_type": "markdown",
   "metadata": {},
   "source": [
    "## Notebook to create the splitted data into chunks, top1 and top3"
   ]
  },
  {
   "cell_type": "code",
   "execution_count": null,
   "metadata": {
    "id": "32wo7kcR3xb9"
   },
   "outputs": [],
   "source": [
    "import pandas as pd\n",
    "import numpy as np\n",
    "import seaborn as sns\n",
    "import matplotlib.pyplot as plt\n",
    "import re\n"
   ]
  },
  {
   "cell_type": "markdown",
   "metadata": {
    "jupyter": {
     "outputs_hidden": true
    }
   },
   "source": [
    "1. check overlapping - done\n",
    "2. create train+test / dev datasets - done\n",
    "3. score datasets with base model (pretrained models)\n",
    "    qnli-electra-base  \n",
    "4. Try with chunks without overlapping; try with token split half half; find max number of tokens for a query and keep the rest for sentence (max number)\n",
    "    \n",
    "    \n",
    "    compare score, roc-auc, accuracy (?) choose 1\n",
    "    \n",
    "5. save to .csv \n",
    "6. have fun :)\n",
    "    1. difference bw scores and label, create dataset with 1 row for each pair, train a model \n",
    "    2. 0.5 (JOINED) difference bw scores and label, create dataset with 1 row for each pair, train a model\n",
    "    3. compare models 1 and 2, select the best one \n",
    "    4. tune parameters for the best model\n",
    "7. compare results for different dataset sizes "
   ]
  },
  {
   "cell_type": "code",
   "execution_count": null,
   "metadata": {
    "colab": {
     "base_uri": "https://localhost:8080/"
    },
    "id": "L_13YOjM4Yv5",
    "outputId": "07604ae0-6f28-4e21-d6ff-12eacd377389"
   },
   "outputs": [],
   "source": [
    "dev_data = 'dev_data.csv'\n",
    "all_docs = 'all_docs.csv'\n",
    "dev_queries = 'dev_queries.csv'\n",
    "test_data = 'test_data.csv'\n",
    "training_data = 'training_data.csv'\n",
    "lucene_data = 'raw_dev_Lucene_retrievals.csv'\n",
    "\n",
    "# pickled train and test files\n",
    "train = 'train_chunks.csv'\n",
    "test = 'test_chunks.csv'\n",
    "\n",
    "split_data = 'split_text_256.csv'\n",
    "encoded_data = 'encoded.csv'"
   ]
  },
  {
   "cell_type": "code",
   "execution_count": null,
   "metadata": {
    "id": "YXNDvwulLG58"
   },
   "outputs": [],
   "source": [
    "df_train = pd.read_csv(train)\n",
    "df_test = pd.read_csv(test)\n",
    "\n",
    "# df_split_text = pd.read_csv(dev_data)"
   ]
  },
  {
   "cell_type": "code",
   "execution_count": null,
   "metadata": {},
   "outputs": [],
   "source": []
  },
  {
   "cell_type": "code",
   "execution_count": null,
   "metadata": {
    "id": "Ro3UThzV4Y2F"
   },
   "outputs": [],
   "source": [
    "model_checkpoint = \"cross-encoder/stsb-TinyBERT-L-4\"\n",
    "batch_size = 8"
   ]
  },
  {
   "cell_type": "code",
   "execution_count": null,
   "metadata": {
    "id": "hrBEU-pb4Y4e"
   },
   "outputs": [],
   "source": [
    "df_train.head()\n",
    "#df_split_text"
   ]
  },
  {
   "cell_type": "code",
   "execution_count": null,
   "metadata": {},
   "outputs": [],
   "source": [
    "df_test.head()"
   ]
  },
  {
   "cell_type": "code",
   "execution_count": null,
   "metadata": {
    "id": "iByJLYznDDF3"
   },
   "outputs": [],
   "source": [
    "sentence1_key = 'doc_text'\n",
    "sentence2_key = 'Query'"
   ]
  },
  {
   "cell_type": "code",
   "execution_count": null,
   "metadata": {
    "colab": {
     "base_uri": "https://localhost:8080/",
     "height": 145,
     "referenced_widgets": [
      "6b8c809550e74b2393e743c25003ce23",
      "baba7578d8464656ae394cb08e2bff2a",
      "f73d7b854a12401ca547fa66e7bf22d2",
      "9eabe94941cd4065a096fbbef4b830fb",
      "073a4ebe70a7499fb50e538efeb1960f",
      "23dc17419b784e3881a6cebdef1a702a",
      "732012c78a96431ea336af875028c932",
      "e43dbde298434a278aacc09e74aa27bb",
      "374dd477474341a0a9242b1243c7cd06",
      "359c24eb64ab4fed9c7b903fa9aa6679",
      "1d2635669a084db79ee20bb273b73500",
      "b4d4e8bb02af4e348f0940975e37e6da",
      "221f1fd4059e48b1869b7ed6645db6b4",
      "79c6ca860e5d4c548769b97e7a1eb16f",
      "297868ad629542bb8effdbcd51e80f8b",
      "d34692ea44e74107842add45c855643b",
      "c2925bd4cea942deb4ab8988d87d0505",
      "cf2ca353a08840fc9e7490b4d1a0a87d",
      "398d9c44d61f4d63bd858486cb6ff5d9",
      "808264f0cdc54737adb9af84fbb8205e",
      "4d8c5f8d33294ee78d0e43e271a4b321",
      "3bebf729e7ff46299f4bd6271021e2fe",
      "30231fa1ee8a48eea66df5708db9aa93",
      "014303d716074912b09b2e167a6915af",
      "7cbe46a1a33f48b08ef0d1d22ad61885",
      "5568b5d8f70d43b5ae26367bd2e94049",
      "583aa4882aa2480ca611295d767a765e",
      "5cba01664c9a49e0ac4f0fffbb52fadd",
      "9e3ae5b5bc4f4b2881bfcb8f59a02222",
      "e4a41196ae564beab6e9caf17c40d38f",
      "20ffc325aa3f4a17bf57d42c2d9bb29a",
      "085314f795ea4e839171ce06140e37b8",
      "9d2a858e3ba742a7b15b482da2e7add1",
      "31a6ef4fa6fc42a99e391b3daa0b1458",
      "45e682e883b546dd8699e9ddd609b416",
      "c294ab08ac1e4553b00580a50fe0f770",
      "9bc017c47d85404990573b945d556b2d",
      "1a14fe0e1d554c49bf3dc5a7ef0ae4f7",
      "a33a2eec3d8b462e8d0a914c01d7ba43",
      "14c779349f67457b824565b1223aa24b",
      "59a468a6cab243b5abc6b2ae67b94cc5",
      "9d2e25af464645a8a2f411b49060dcd3",
      "e28d2548d989492688976d99c2990d1e",
      "b70bc8b0f49543eba4708dd9af17f310"
     ]
    },
    "id": "YX5jGV864Y6w",
    "outputId": "c31f5654-bb6e-489f-c548-dccb3124328b",
    "tags": []
   },
   "outputs": [],
   "source": [
    "tokenizer = AutoTokenizer.from_pretrained(model_checkpoint, use_fast=True)"
   ]
  },
  {
   "cell_type": "code",
   "execution_count": null,
   "metadata": {
    "id": "5fvR-cT-hP91"
   },
   "outputs": [],
   "source": [
    "df_train['label'] = df_train['label'].astype(np.float64)\n",
    "df_test['label'] = df_test['label'].astype(np.float64)\n",
    "\n",
    "df_train['doc_text'] = df_train['doc_text'].astype(str)\n",
    "df_test['doc_text'] = df_test['doc_text'].astype(str)\n",
    "\n",
    "df_train['Query'] = df_train['Query'].astype(str)\n",
    "df_test['Query'] = df_test['Query'].astype(str)\n",
    "# df_split_text['label'] = df_split_text['label'].astype(np.float64)"
   ]
  },
  {
   "cell_type": "markdown",
   "metadata": {},
   "source": [
    "## Top records"
   ]
  },
  {
   "cell_type": "code",
   "execution_count": null,
   "metadata": {},
   "outputs": [],
   "source": [
    "model = CrossEncoder(model_checkpoint)"
   ]
  },
  {
   "cell_type": "code",
   "execution_count": null,
   "metadata": {},
   "outputs": [],
   "source": [
    "scores_train = model.predict(df_train[['Query', 'doc_text']].values.tolist(), show_progress_bar=True)"
   ]
  },
  {
   "cell_type": "code",
   "execution_count": null,
   "metadata": {},
   "outputs": [],
   "source": [
    "scores_test = model.predict(df_test[['Query', 'doc_text']].values.tolist(), show_progress_bar=True)"
   ]
  },
  {
   "cell_type": "code",
   "execution_count": null,
   "metadata": {},
   "outputs": [],
   "source": []
  },
  {
   "cell_type": "code",
   "execution_count": null,
   "metadata": {},
   "outputs": [],
   "source": [
    "print(\"one's share train: \", df_train['label'].mean())\n",
    "print(\"one's share test: \", df_test['label'].mean())"
   ]
  },
  {
   "cell_type": "code",
   "execution_count": null,
   "metadata": {
    "id": "FSZb9ereeM8Q"
   },
   "outputs": [],
   "source": [
    "# df_train = df_train[[\"doc_text\", \"Query\", \"label\"]]\n",
    "# df_test = df_test[[\"doc_text\", \"Query\", \"label\"]]\n",
    "\n",
    "# df_val = df_val[[\"doc_text\", \"query\", \"label\"]]\n",
    "hf_train = datasets.Dataset.from_pandas(df_train)\n",
    "hf_test = datasets.Dataset.from_pandas(df_test)\n",
    "# hf_val = datasets.Dataset.from_pandas(df_val)"
   ]
  },
  {
   "cell_type": "code",
   "execution_count": null,
   "metadata": {
    "id": "OHvAcOZle0Hn"
   },
   "outputs": [],
   "source": [
    "hf = datasets.DatasetDict({\"train\": hf_train,\n",
    "                           \"test\": hf_test})\n",
    "                           #\"val\": hf_val})"
   ]
  },
  {
   "cell_type": "code",
   "execution_count": null,
   "metadata": {
    "colab": {
     "base_uri": "https://localhost:8080/"
    },
    "id": "N4w4G5aVttXW",
    "outputId": "b2bce7c4-62e2-4d55-8568-2d37dc165b29"
   },
   "outputs": [],
   "source": [
    "hf"
   ]
  },
  {
   "cell_type": "code",
   "execution_count": null,
   "metadata": {
    "id": "4dMFGOJvBZCY"
   },
   "outputs": [],
   "source": [
    "def preprocess_function(examples):\n",
    "    return tokenizer(str(examples[sentence1_key]), str(examples[sentence2_key]), truncation=True)"
   ]
  },
  {
   "cell_type": "code",
   "execution_count": null,
   "metadata": {
    "id": "eXGelT5xeNAA"
   },
   "outputs": [],
   "source": [
    "encoded_hf = hf.map(preprocess_function, remove_columns=(\"doc_text\", \"Query\"), batch_size = 512)"
   ]
  },
  {
   "cell_type": "code",
   "execution_count": null,
   "metadata": {
    "colab": {
     "base_uri": "https://localhost:8080/",
     "height": 81,
     "referenced_widgets": [
      "747b593ce960485fa90b26eb93d37e3d",
      "4285a89de94e48c2a0e80639a8b7e92f",
      "fd88d0eda9834f908117f264867bd467",
      "ff1c9a2454ac4e7faaa526a033eb69cd",
      "f05652a73d704d11b1dd88f542aa8309",
      "7b06dd4ad3b74adb89306b91e76cf75b",
      "8f01cdc0454a4aeeaa7f707c5fbd7fbc",
      "1457e6e32940421ba328c1a5b0ce3cd5",
      "d641216dd7864f2f9bdcd2dcc1566091",
      "6ec52af6a66149c090e68485e5afafb5",
      "3e0537a4593d4c57b11e8fecd9fbc77f",
      "8119094c8fc3459294d9aa47054d571e",
      "faaa8db714674e618fed6b0dd2693734",
      "e5900db59b3d49cfa62da219bece3d14",
      "4a27190def9e46628ac9abd5311038ee",
      "6683fe2a59954b79aac70bcdd6936802",
      "a9c1d986e3ee40a8a697cea5d09793b8",
      "196c09e4ac1e4663bf8ae16a70597d22",
      "7df95e32154e4cf18f69733b42000de8",
      "bc9e2adfbdb541e5a7a21dcf3d207f8a",
      "e35977aaf19942f9976e15a8f70aa061",
      "5ec7c88975be424087d386e220a41555"
     ]
    },
    "id": "Gv8hvH-DZWVF",
    "outputId": "0f161031-e115-44bb-e810-cd08554497f9"
   },
   "outputs": [],
   "source": [
    "model = CrossEncoder(model_checkpoint)"
   ]
  },
  {
   "cell_type": "code",
   "execution_count": null,
   "metadata": {},
   "outputs": [],
   "source": [
    "scores_train = model.predict(df_train[['Query', 'doc_text']].values.tolist(), show_progress_bar=True)"
   ]
  },
  {
   "cell_type": "code",
   "execution_count": null,
   "metadata": {},
   "outputs": [],
   "source": [
    "scores_test = model.predict(df_test[['Query', 'doc_text']].values.tolist(), show_progress_bar=True)"
   ]
  },
  {
   "cell_type": "code",
   "execution_count": null,
   "metadata": {},
   "outputs": [],
   "source": [
    "df_train['score'] = scores_train"
   ]
  },
  {
   "cell_type": "code",
   "execution_count": null,
   "metadata": {},
   "outputs": [],
   "source": [
    "df_test['score'] = scores_test"
   ]
  },
  {
   "cell_type": "code",
   "execution_count": null,
   "metadata": {},
   "outputs": [],
   "source": [
    "df_train['difference'] = abs(df_train['label'] - df_train['score'])\n",
    "df_test['difference'] = abs(df_test['label'] - df_test['score'])"
   ]
  },
  {
   "cell_type": "code",
   "execution_count": null,
   "metadata": {},
   "outputs": [],
   "source": [
    "df_train_3 = pd.DataFrame(df_train.sort_values('difference').groupby(['doc_number', 'query_number']).head(3)).reset_index()\n",
    "df_test_3 = pd.DataFrame(df_test.sort_values('difference').groupby(['doc_number', 'query_number']).head(3)).reset_index()"
   ]
  },
  {
   "cell_type": "code",
   "execution_count": null,
   "metadata": {},
   "outputs": [],
   "source": [
    "df_train_1 = pd.DataFrame(df_train.sort_values('difference').groupby(['doc_number', 'query_number']).head(1)).reset_index()\n",
    "df_test_1 = pd.DataFrame(df_test.sort_values('difference').groupby(['doc_number', 'query_number']).head(1)).reset_index()"
   ]
  },
  {
   "cell_type": "code",
   "execution_count": null,
   "metadata": {},
   "outputs": [],
   "source": [
    "df_train[(df_train['query_number'] == 166043) & (df_train['doc_number'] == 31135)]"
   ]
  },
  {
   "cell_type": "code",
   "execution_count": null,
   "metadata": {},
   "outputs": [],
   "source": [
    "df_train_3[(df_train_3['query_number'] == 166043) & (df_train_3['doc_number'] == 31135)]"
   ]
  },
  {
   "cell_type": "code",
   "execution_count": null,
   "metadata": {},
   "outputs": [],
   "source": [
    "df_train_1[(df_train_1['query_number'] == 166043) & (df_train_1['doc_number'] == 31135)]"
   ]
  },
  {
   "cell_type": "code",
   "execution_count": null,
   "metadata": {},
   "outputs": [],
   "source": [
    "print(df_train_1.shape)\n",
    "print(df_train_3.shape)"
   ]
  },
  {
   "cell_type": "code",
   "execution_count": null,
   "metadata": {},
   "outputs": [],
   "source": [
    "df_train_1.to_csv(\"train_top1.csv\")\n",
    "df_test_1.to_csv(\"test_top1.csv\")"
   ]
  },
  {
   "cell_type": "code",
   "execution_count": null,
   "metadata": {},
   "outputs": [],
   "source": [
    "df_train_3.to_csv(\"train_top3.csv\")\n",
    "df_test_3.to_csv(\"test_top3.csv\")"
   ]
  },
  {
   "cell_type": "code",
   "execution_count": null,
   "metadata": {},
   "outputs": [],
   "source": [
    "print(\"one's share train: \", df_train_1['label'].mean())\n",
    "print(\"one's share test: \", df_test_1['label'].mean())"
   ]
  },
  {
   "cell_type": "code",
   "execution_count": null,
   "metadata": {},
   "outputs": [],
   "source": [
    "print(\"one's share train: \", df_train_3['label'].mean())\n",
    "print(\"one's share test: \", df_test_3['label'].mean())"
   ]
  },
  {
   "cell_type": "code",
   "execution_count": null,
   "metadata": {},
   "outputs": [],
   "source": []
  },
  {
   "cell_type": "code",
   "execution_count": null,
   "metadata": {},
   "outputs": [],
   "source": []
  },
  {
   "cell_type": "code",
   "execution_count": null,
   "metadata": {},
   "outputs": [],
   "source": []
  },
  {
   "cell_type": "code",
   "execution_count": null,
   "metadata": {},
   "outputs": [],
   "source": []
  },
  {
   "cell_type": "code",
   "execution_count": null,
   "metadata": {
    "id": "eReBVoMSkwzl"
   },
   "outputs": [],
   "source": [
    "# from sklearn.model_selection import train_test_split\n",
    "\n",
    "# df_train, _ = train_test_split(df_train, test_size=0.8, random_state=42, shuffle=True)\n",
    "# df_test, _ = train_test_split(df_test, test_size=0.2, random_state=42)"
   ]
  }
 ],
 "metadata": {
  "kernelspec": {
   "display_name": "Python 3",
   "language": "python",
   "name": "python3"
  },
  "language_info": {
   "codemirror_mode": {
    "name": "ipython",
    "version": 3
   },
   "file_extension": ".py",
   "mimetype": "text/x-python",
   "name": "python",
   "nbconvert_exporter": "python",
   "pygments_lexer": "ipython3",
   "version": "3.8.3"
  }
 },
 "nbformat": 4,
 "nbformat_minor": 5
}
