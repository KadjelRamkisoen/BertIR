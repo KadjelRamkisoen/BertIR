{
  "nbformat": 4,
  "nbformat_minor": 0,
  "metadata": {
    "colab": {
      "name": "BertIR.ipynb",
      "provenance": [],
      "collapsed_sections": [],
      "toc_visible": true,
      "include_colab_link": true
    },
    "kernelspec": {
      "name": "python3",
      "display_name": "Python 3"
    },
    "language_info": {
      "name": "python"
    }
  },
  "cells": [
    {
      "cell_type": "markdown",
      "metadata": {
        "id": "view-in-github",
        "colab_type": "text"
      },
      "source": [
        "<a href=\"https://colab.research.google.com/github/KadjelRamkisoen/BertIR/blob/main/BertIR.ipynb\" target=\"_parent\"><img src=\"https://colab.research.google.com/assets/colab-badge.svg\" alt=\"Open In Colab\"/></a>"
      ]
    },
    {
      "cell_type": "code",
      "metadata": {
        "id": "71EOoT6ksnc8",
        "colab": {
          "base_uri": "https://localhost:8080/"
        },
        "outputId": "21630a22-6a46-4bec-bc91-e2611a6db760"
      },
      "source": [
        "# Mount google drive\n",
        "from google.colab import drive\n",
        "drive.mount('/content/drive')\n",
        "\n",
        "# Path to data files\n",
        "IR_Path = '/content/drive/MyDrive/UvAntwerpen/2021-2022/Information Retrieval/Assignment 2/'\n",
        "# IR_Path = '/content/drive/MyDrive/Information Retrieval/Assignment 2/'\n",
        "dev_data = 'dev_data.csv'"
      ],
      "execution_count": null,
      "outputs": [
        {
          "output_type": "stream",
          "name": "stdout",
          "text": [
            "Drive already mounted at /content/drive; to attempt to forcibly remount, call drive.mount(\"/content/drive\", force_remount=True).\n"
          ]
        }
      ]
    },
    {
      "cell_type": "code",
      "metadata": {
        "id": "PdlBFViv7ARE"
      },
      "source": [
        "import pandas as pd\n",
        "import numpy as np\n",
        "import seaborn as sns\n",
        "import matplotlib.pyplot as plt"
      ],
      "execution_count": 18,
      "outputs": []
    },
    {
      "cell_type": "code",
      "metadata": {
        "id": "uJ9Ytw389mF9"
      },
      "source": [
        "df = pd.read_csv(IR_Path + dev_data)"
      ],
      "execution_count": 19,
      "outputs": []
    },
    {
      "cell_type": "code",
      "metadata": {
        "colab": {
          "base_uri": "https://localhost:8080/",
          "height": 206
        },
        "id": "5p3ZSouR97S3",
        "outputId": "549091bc-6393-4fca-c2dc-7d8eeedcbd39"
      },
      "source": [
        "df.head()"
      ],
      "execution_count": 20,
      "outputs": [
        {
          "output_type": "execute_result",
          "data": {
            "text/html": [
              "<div>\n",
              "<style scoped>\n",
              "    .dataframe tbody tr th:only-of-type {\n",
              "        vertical-align: middle;\n",
              "    }\n",
              "\n",
              "    .dataframe tbody tr th {\n",
              "        vertical-align: top;\n",
              "    }\n",
              "\n",
              "    .dataframe thead th {\n",
              "        text-align: right;\n",
              "    }\n",
              "</style>\n",
              "<table border=\"1\" class=\"dataframe\">\n",
              "  <thead>\n",
              "    <tr style=\"text-align: right;\">\n",
              "      <th></th>\n",
              "      <th>Query_number</th>\n",
              "      <th>doc_number</th>\n",
              "      <th>Query</th>\n",
              "      <th>doc_text</th>\n",
              "      <th>label</th>\n",
              "    </tr>\n",
              "  </thead>\n",
              "  <tbody>\n",
              "    <tr>\n",
              "      <th>0</th>\n",
              "      <td>1089071</td>\n",
              "      <td>432658</td>\n",
              "      <td>va death benefits contact number</td>\n",
              "      <td>Veteran Benefits in Nebraska Ads You May Be In...</td>\n",
              "      <td>1</td>\n",
              "    </tr>\n",
              "    <tr>\n",
              "      <th>1</th>\n",
              "      <td>1089071</td>\n",
              "      <td>417115</td>\n",
              "      <td>va death benefits contact number</td>\n",
              "      <td>Home › Benefit Library › State / Territory Ben...</td>\n",
              "      <td>1</td>\n",
              "    </tr>\n",
              "    <tr>\n",
              "      <th>2</th>\n",
              "      <td>1089071</td>\n",
              "      <td>429474</td>\n",
              "      <td>va death benefits contact number</td>\n",
              "      <td>VA Burial Benefits Burial Allowances Burial, H...</td>\n",
              "      <td>1</td>\n",
              "    </tr>\n",
              "    <tr>\n",
              "      <th>3</th>\n",
              "      <td>1089071</td>\n",
              "      <td>122086</td>\n",
              "      <td>va death benefits contact number</td>\n",
              "      <td>Home › Benefit Library › Federal Benefits › Bu...</td>\n",
              "      <td>1</td>\n",
              "    </tr>\n",
              "    <tr>\n",
              "      <th>4</th>\n",
              "      <td>1089071</td>\n",
              "      <td>60461</td>\n",
              "      <td>va death benefits contact number</td>\n",
              "      <td>Call Today1-844-VET-LAWS (838-5297)REFER A FRI...</td>\n",
              "      <td>1</td>\n",
              "    </tr>\n",
              "  </tbody>\n",
              "</table>\n",
              "</div>"
            ],
            "text/plain": [
              "   Query_number  ...  label\n",
              "0       1089071  ...      1\n",
              "1       1089071  ...      1\n",
              "2       1089071  ...      1\n",
              "3       1089071  ...      1\n",
              "4       1089071  ...      1\n",
              "\n",
              "[5 rows x 5 columns]"
            ]
          },
          "metadata": {},
          "execution_count": 20
        }
      ]
    },
    {
      "cell_type": "code",
      "metadata": {
        "id": "BQSYxDxm-LsG",
        "colab": {
          "base_uri": "https://localhost:8080/",
          "height": 350
        },
        "outputId": "3eede9ad-d66f-4f2e-c525-18bf1f360c5d"
      },
      "source": [
        "df['doc_len'] = df['doc_text'].apply(lambda words: len(words.split()))\n",
        "# max_seq_len = np.round(df['doc_len'].mean() + df['doc_len'].std()).astype(int)\n",
        "sns.distplot(df['doc_len'], hist=True, kde=True, color='b', label='doc len')\n",
        "# plt.axvline(x=max_seq_len, color='k', linestyle='--', label='max len')\n",
        "plt.title('plot length'); plt.legend()\n",
        "plt.xlim([25, 50])\n",
        "plt.xlim([25, 50])\n",
        "plt.show()"
      ],
      "execution_count": 24,
      "outputs": [
        {
          "output_type": "stream",
          "name": "stderr",
          "text": [
            "/usr/local/lib/python3.7/dist-packages/seaborn/distributions.py:2619: FutureWarning: `distplot` is a deprecated function and will be removed in a future version. Please adapt your code to use either `displot` (a figure-level function with similar flexibility) or `histplot` (an axes-level function for histograms).\n",
            "  warnings.warn(msg, FutureWarning)\n"
          ]
        },
        {
          "output_type": "display_data",
          "data": {
            "image/png": "[encoded data removed]",
            "text/plain": [
              "<Figure size 432x288 with 1 Axes>"
            ]
          },
          "metadata": {
            "needs_background": "light"
          }
        }
      ]
    },
    {
      "cell_type": "code",
      "metadata": {
        "id": "mYnVHuB-xvlK"
      },
      "source": [
        ""
      ],
      "execution_count": null,
      "outputs": []
    }
  ]
}