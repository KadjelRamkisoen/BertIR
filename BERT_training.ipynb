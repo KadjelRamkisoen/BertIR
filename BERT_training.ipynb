{
 "cells": [
  {
   "cell_type": "markdown",
   "metadata": {},
   "source": [
    "## A notebook for training our models\n",
    "\n",
    "We train with:\n",
    "\n",
    "| Training data | Test data | Batch size | Learning rate | Weight decay | \n",
    "| --- | --- | --- |\n",
    "| 20000 | 5000 | 8 | 0.00002 | 0.01 |\n",
    "| 20000 | 5000 | 8 | 0.0003 | 0.01 |\n",
    "| 20000 | 5000 | 16 | 0.0003 | 0.01 |\n",
    "| 20000 | 5000 | 4 |0.0003 | 0.01 |\n",
    "| 20000 | 5000 | 4 | 0.00001 | 0.01 |"
   ]
  },
  {
   "cell_type": "code",
   "execution_count": null,
   "metadata": {
    "colab": {
     "base_uri": "https://localhost:8080/"
    },
    "executionInfo": {
     "elapsed": 38397,
     "status": "ok",
     "timestamp": 1639656555333,
     "user": {
      "displayName": "G Hub",
      "photoUrl": "https://lh3.googleusercontent.com/a/default-user=s64",
      "userId": "10212197918466653741"
     },
     "user_tz": -60
    },
    "id": "YmxGLpql4YtV",
    "jupyter": {
     "outputs_hidden": true
    },
    "outputId": "7ef2cba7-3ab2-4951-b291-87765de931da",
    "tags": []
   },
   "outputs": [],
   "source": [
    "!pip install -U sentence-transformers\n",
    "!pip install -U rank_bm25 bert-tensorflow tensorflow datasets"
   ]
  },
  {
   "cell_type": "code",
   "execution_count": null,
   "metadata": {
    "colab": {
     "base_uri": "https://localhost:8080/",
     "height": 388,
     "referenced_widgets": [
      "061590e12aa74fcbb07c41de6f372e41",
      "a263efc34d884dffbf93d2004fe1c1d6",
      "df89a8fb13e245148f1ee70f646bbc5d",
      "5f0d810b50ad4511ab6b2400e5878d60",
      "9c7fe7233bd64e018e782dd3cdb1b45a",
      "42a52d098bcc4809aa4ec4a73ecf0193",
      "a429ba8bf667404cbe9916e0564c5003",
      "34607c12e03540eba0d6a9c16a41ba6b",
      "7ea7818518bb4d01bd77d20883b744c3",
      "eb9d3ec9e6cb442fb9d6f056c4228cb7",
      "54f43c0ac1cc4c43a3d7e6fd004cb923",
      "ee35f2208d2744f792225424f9dd5186",
      "f475deff32a84004beecd47b92c09970",
      "1534823560d543c6aec5e35b9142fa28",
      "c4dcb09766d942d49076b29139322a52",
      "c483429c90c047f8ae6c50a3cbffdf56",
      "e57a9b1f61ef4523bc16b9bed82c1d1a"
     ]
    },
    "executionInfo": {
     "elapsed": 6194,
     "status": "ok",
     "timestamp": 1639656619569,
     "user": {
      "displayName": "G Hub",
      "photoUrl": "https://lh3.googleusercontent.com/a/default-user=s64",
      "userId": "10212197918466653741"
     },
     "user_tz": -60
    },
    "id": "dzCT8WpiJLPP",
    "outputId": "f9d89a9f-317a-4401-83b8-fc67190cdb16",
    "tags": []
   },
   "outputs": [],
   "source": [
    "from huggingface_hub import notebook_login\n",
    "notebook_login()"
   ]
  },
  {
   "cell_type": "code",
   "execution_count": null,
   "metadata": {
    "colab": {
     "base_uri": "https://localhost:8080/"
    },
    "executionInfo": {
     "elapsed": 5118,
     "status": "ok",
     "timestamp": 1639656633613,
     "user": {
      "displayName": "G Hub",
      "photoUrl": "https://lh3.googleusercontent.com/a/default-user=s64",
      "userId": "10212197918466653741"
     },
     "user_tz": -60
    },
    "id": "k_ONKh4YJLPS",
    "outputId": "562dfa16-9528-44c4-ed32-da9fcdbff796",
    "tags": []
   },
   "outputs": [],
   "source": [
    "!sudo apt-get update"
   ]
  },
  {
   "cell_type": "code",
   "execution_count": null,
   "metadata": {
    "colab": {
     "base_uri": "https://localhost:8080/"
    },
    "executionInfo": {
     "elapsed": 2181,
     "status": "ok",
     "timestamp": 1639656635788,
     "user": {
      "displayName": "G Hub",
      "photoUrl": "https://lh3.googleusercontent.com/a/default-user=s64",
      "userId": "10212197918466653741"
     },
     "user_tz": -60
    },
    "id": "Pbw9pbr4JLPU",
    "outputId": "1fdf354c-82de-4130-cb7c-a527c794250c",
    "tags": []
   },
   "outputs": [],
   "source": [
    "!sudo apt-get -y install curl"
   ]
  },
  {
   "cell_type": "code",
   "execution_count": null,
   "metadata": {
    "colab": {
     "base_uri": "https://localhost:8080/"
    },
    "executionInfo": {
     "elapsed": 10441,
     "status": "ok",
     "timestamp": 1639656646219,
     "user": {
      "displayName": "G Hub",
      "photoUrl": "https://lh3.googleusercontent.com/a/default-user=s64",
      "userId": "10212197918466653741"
     },
     "user_tz": -60
    },
    "id": "_LRMTbeOJLPV",
    "outputId": "6d8edec4-c836-46e8-fc9b-0fe2c0fcd154",
    "tags": []
   },
   "outputs": [],
   "source": [
    "!curl -s https://packagecloud.io/install/repositories/github/git-lfs/script.deb.sh | sudo bash"
   ]
  },
  {
   "cell_type": "code",
   "execution_count": null,
   "metadata": {
    "colab": {
     "base_uri": "https://localhost:8080/"
    },
    "executionInfo": {
     "elapsed": 4339,
     "status": "ok",
     "timestamp": 1639656650538,
     "user": {
      "displayName": "G Hub",
      "photoUrl": "https://lh3.googleusercontent.com/a/default-user=s64",
      "userId": "10212197918466653741"
     },
     "user_tz": -60
    },
    "id": "t-vQutHFJLPW",
    "outputId": "2a3d43f4-8198-4bf6-9a04-5adf88714f71",
    "tags": []
   },
   "outputs": [],
   "source": [
    "!sudo apt-get install git-lfs"
   ]
  },
  {
   "cell_type": "code",
   "execution_count": null,
   "metadata": {
    "colab": {
     "base_uri": "https://localhost:8080/"
    },
    "executionInfo": {
     "elapsed": 34,
     "status": "ok",
     "timestamp": 1639656650539,
     "user": {
      "displayName": "G Hub",
      "photoUrl": "https://lh3.googleusercontent.com/a/default-user=s64",
      "userId": "10212197918466653741"
     },
     "user_tz": -60
    },
    "id": "RryH9xs1JLPY",
    "outputId": "96567ad2-bc9d-4b3b-91d0-4a0b888e6887"
   },
   "outputs": [],
   "source": [
    "!git lfs install"
   ]
  },
  {
   "cell_type": "code",
   "execution_count": null,
   "metadata": {
    "colab": {
     "base_uri": "https://localhost:8080/"
    },
    "executionInfo": {
     "elapsed": 4178,
     "status": "ok",
     "timestamp": 1639656654692,
     "user": {
      "displayName": "G Hub",
      "photoUrl": "https://lh3.googleusercontent.com/a/default-user=s64",
      "userId": "10212197918466653741"
     },
     "user_tz": -60
    },
    "id": "OsjK4Ut5JLPa",
    "outputId": "36dd920e-e218-43c0-b1f3-a2af93f09192",
    "tags": []
   },
   "outputs": [],
   "source": [
    "!pip install tensorflow_hub"
   ]
  },
  {
   "cell_type": "code",
   "execution_count": null,
   "metadata": {
    "executionInfo": {
     "elapsed": 6306,
     "status": "ok",
     "timestamp": 1639656660988,
     "user": {
      "displayName": "G Hub",
      "photoUrl": "https://lh3.googleusercontent.com/a/default-user=s64",
      "userId": "10212197918466653741"
     },
     "user_tz": -60
    },
    "id": "32wo7kcR3xb9"
   },
   "outputs": [],
   "source": [
    "import pandas as pd\n",
    "import numpy as np\n",
    "import seaborn as sns\n",
    "import matplotlib.pyplot as plt\n",
    "import re\n",
    "\n",
    "from sklearn.model_selection import train_test_split\n",
    "from sentence_transformers import losses\n",
    "\n",
    "# Importing BERT modules\n",
    "import bert\n",
    "import tensorflow as tf\n",
    "import tensorflow_hub as hub\n",
    "# from bert import run_classifier\n",
    "from bert import optimization\n",
    "from bert import tokenization\n",
    "\n",
    "from transformers import AutoTokenizer, AutoModelForSequenceClassification\n",
    "from torch.utils.data import DataLoader\n",
    "import torch.optim as optim\n",
    "from sentence_transformers.cross_encoder import CrossEncoder\n",
    "from transformers import TrainingArguments\n",
    "from transformers import Trainer\n",
    "\n",
    "from datasets import load_metric\n",
    "from datasets import load_dataset\n",
    "import datasets\n",
    "import tqdm"
   ]
  },
  {
   "cell_type": "markdown",
   "metadata": {
    "id": "cCprkME5JLPf",
    "jupyter": {
     "outputs_hidden": true
    }
   },
   "source": [
    "## Pre-training"
   ]
  },
  {
   "cell_type": "code",
   "execution_count": null,
   "metadata": {
    "executionInfo": {
     "elapsed": 30,
     "status": "ok",
     "timestamp": 1639658380954,
     "user": {
      "displayName": "G Hub",
      "photoUrl": "https://lh3.googleusercontent.com/a/default-user=s64",
      "userId": "10212197918466653741"
     },
     "user_tz": -60
    },
    "id": "L_13YOjM4Yv5"
   },
   "outputs": [],
   "source": [
    "#Model\n",
    "model_checkpoint = \"cross-encoder/stsb-TinyBERT-L-4\"\n",
    "\n",
    "#Model parameter\n",
    "batch_size = 8\n",
    "\n",
    "#Tokenization parameters\n",
    "sentence1_key = 'doc_text'\n",
    "sentence2_key = 'Query'\n",
    "\n",
    "# Top 3 dataset train and test\n",
    "train = 'train_top3.csv'\n",
    "test = 'test_top3.csv'\n",
    "\n",
    "df_train_full = pd.read_csv(train)\n",
    "df_test_full = pd.read_csv(test)"
   ]
  },
  {
   "cell_type": "code",
   "execution_count": null,
   "metadata": {
    "executionInfo": {
     "elapsed": 6556,
     "status": "ok",
     "timestamp": 1639658387488,
     "user": {
      "displayName": "G Hub",
      "photoUrl": "https://lh3.googleusercontent.com/a/default-user=s64",
      "userId": "10212197918466653741"
     },
     "user_tz": -60
    },
    "id": "YXNDvwulLG58"
   },
   "outputs": [],
   "source": [
    "#Shuffle train set and select 40000\n",
    "df_train_shuffled = df_train_full.sample(frac = 1)\n",
    "df_train = df_train_shuffled[:40000]"
   ]
  },
  {
   "cell_type": "code",
   "execution_count": null,
   "metadata": {
    "executionInfo": {
     "elapsed": 199,
     "status": "ok",
     "timestamp": 1639676340203,
     "user": {
      "displayName": "G Hub",
      "photoUrl": "https://lh3.googleusercontent.com/a/default-user=s64",
      "userId": "10212197918466653741"
     },
     "user_tz": -60
    },
    "id": "Ro3UThzV4Y2F"
   },
   "outputs": [],
   "source": [
    "#Shuffle test set and select 5000\n",
    "df_test_shuffled = df_test_full.sample(frac = 1)\n",
    "df_test = df_test_shuffled[:5000]"
   ]
  },
  {
   "cell_type": "markdown",
   "metadata": {
    "executionInfo": {
     "elapsed": 4,
     "status": "ok",
     "timestamp": 1639676341859,
     "user": {
      "displayName": "G Hub",
      "photoUrl": "https://lh3.googleusercontent.com/a/default-user=s64",
      "userId": "10212197918466653741"
     },
     "user_tz": -60
    },
    "id": "hrBEU-pb4Y4e"
   },
   "source": [
    "## Tokenization"
   ]
  },
  {
   "cell_type": "code",
   "execution_count": null,
   "metadata": {
    "executionInfo": {
     "elapsed": 5,
     "status": "ok",
     "timestamp": 1639676343514,
     "user": {
      "displayName": "G Hub",
      "photoUrl": "https://lh3.googleusercontent.com/a/default-user=s64",
      "userId": "10212197918466653741"
     },
     "user_tz": -60
    },
    "id": "LEimaWuaJLPo"
   },
   "outputs": [],
   "source": [
    "tokenizer = AutoTokenizer.from_pretrained(model_checkpoint, use_fast=True)"
   ]
  },
  {
   "cell_type": "code",
   "execution_count": null,
   "metadata": {
    "colab": {
     "base_uri": "https://localhost:8080/"
    },
    "executionInfo": {
     "elapsed": 196,
     "status": "ok",
     "timestamp": 1639676350264,
     "user": {
      "displayName": "G Hub",
      "photoUrl": "https://lh3.googleusercontent.com/a/default-user=s64",
      "userId": "10212197918466653741"
     },
     "user_tz": -60
    },
    "id": "5fvR-cT-hP91",
    "outputId": "29bca119-19a5-411a-e275-43da9eac1146"
   },
   "outputs": [],
   "source": [
    "df_train['label'] = df_train['label'].astype(np.float64)\n",
    "df_test['label'] = df_test['label'].astype(np.float64)\n",
    "\n",
    "df_train['doc_text'] = df_train['doc_text'].astype(np.str)\n",
    "df_test['doc_text'] = df_test['doc_text'].astype(np.str)\n",
    "\n",
    "df_train['Query'] = df_train['Query'].astype(np.str)\n",
    "df_test['Query'] = df_test['Query'].astype(np.str)\n",
    "\n",
    "df_train = df_train[[\"doc_text\", \"Query\", \"label\"]]\n",
    "df_test = df_test[[\"doc_text\", \"Query\", \"label\"]]"
   ]
  },
  {
   "cell_type": "code",
   "execution_count": null,
   "metadata": {
    "colab": {
     "base_uri": "https://localhost:8080/"
    },
    "executionInfo": {
     "elapsed": 6,
     "status": "ok",
     "timestamp": 1639676350555,
     "user": {
      "displayName": "G Hub",
      "photoUrl": "https://lh3.googleusercontent.com/a/default-user=s64",
      "userId": "10212197918466653741"
     },
     "user_tz": -60
    },
    "id": "GV3u5PR_JLPq",
    "outputId": "e75dab71-2257-43a3-b3b3-4b09ce4e78af"
   },
   "outputs": [],
   "source": [
    "#Create hf dataset\n",
    "hf_train = datasets.Dataset.from_pandas(df_train)\n",
    "hf_test = datasets.Dataset.from_pandas(df_test)\n",
    "\n",
    "hf = datasets.DatasetDict({\"train\": hf_train,\n",
    "                           \"test\": hf_test})"
   ]
  },
  {
   "cell_type": "code",
   "execution_count": null,
   "metadata": {
    "executionInfo": {
     "elapsed": 849,
     "status": "ok",
     "timestamp": 1639676355761,
     "user": {
      "displayName": "G Hub",
      "photoUrl": "https://lh3.googleusercontent.com/a/default-user=s64",
      "userId": "10212197918466653741"
     },
     "user_tz": -60
    },
    "id": "FSZb9ereeM8Q"
   },
   "outputs": [],
   "source": [
    "def preprocess_function(examples):\n",
    "    return tokenizer(str(examples[sentence1_key]), str(examples[sentence2_key]), truncation=True)"
   ]
  },
  {
   "cell_type": "code",
   "execution_count": null,
   "metadata": {
    "executionInfo": {
     "elapsed": 7,
     "status": "ok",
     "timestamp": 1639676355763,
     "user": {
      "displayName": "G Hub",
      "photoUrl": "https://lh3.googleusercontent.com/a/default-user=s64",
      "userId": "10212197918466653741"
     },
     "user_tz": -60
    },
    "id": "OHvAcOZle0Hn"
   },
   "outputs": [],
   "source": [
    "encoded_hf = hf.map(preprocess_function, remove_columns=(\"doc_text\", \"Query\"), batch_size = 512)"
   ]
  },
  {
   "cell_type": "markdown",
   "metadata": {
    "id": "S9nUqfdnJLPt"
   },
   "source": [
    "## Training"
   ]
  },
  {
   "cell_type": "code",
   "execution_count": null,
   "metadata": {
    "colab": {
     "base_uri": "https://localhost:8080/"
    },
    "executionInfo": {
     "elapsed": 1149,
     "status": "ok",
     "timestamp": 1639676674962,
     "user": {
      "displayName": "G Hub",
      "photoUrl": "https://lh3.googleusercontent.com/a/default-user=s64",
      "userId": "10212197918466653741"
     },
     "user_tz": -60
    },
    "id": "ZGmPaxkSJLPu",
    "outputId": "feb50f22-9b21-4c09-947c-2fe326e7aa62",
    "tags": []
   },
   "outputs": [],
   "source": [
    "num_labels = 1\n",
    "model = AutoModelForSequenceClassification.from_pretrained(model_checkpoint, num_labels=num_labels)"
   ]
  },
  {
   "cell_type": "code",
   "execution_count": null,
   "metadata": {
    "colab": {
     "base_uri": "https://localhost:8080/"
    },
    "executionInfo": {
     "elapsed": 17,
     "status": "ok",
     "timestamp": 1639676674962,
     "user": {
      "displayName": "G Hub",
      "photoUrl": "https://lh3.googleusercontent.com/a/default-user=s64",
      "userId": "10212197918466653741"
     },
     "user_tz": -60
    },
    "id": "aoDYi1g-JLPv",
    "outputId": "bc78b448-f7b3-4af4-d1c0-c80ae27a8c4d"
   },
   "outputs": [],
   "source": [
    "from sklearn import metrics\n",
    "metric_name = \"auc\"\n",
    "model_name = model_checkpoint.split(\"/\")[-1]\n",
    "\n",
    "args = TrainingArguments(\n",
    "    f\"{model_name}-finetuned_auc_20000-top3-BCE\",\n",
    "    evaluation_strategy = \"epoch\",\n",
    "    save_strategy = \"epoch\",\n",
    "    learning_rate=2e-5,\n",
    "    per_device_train_batch_size=batch_size,\n",
    "    per_device_eval_batch_size=batch_size,\n",
    "    num_train_epochs=3,\n",
    "    weight_decay=0.1,\n",
    "    load_best_model_at_end=True,\n",
    "    metric_for_best_model=metric_name,\n",
    "    push_to_hub=True,\n",
    "    eval_steps=1,\n",
    ")"
   ]
  },
  {
   "cell_type": "code",
   "execution_count": null,
   "metadata": {
    "executionInfo": {
     "elapsed": 10,
     "status": "ok",
     "timestamp": 1639676674963,
     "user": {
      "displayName": "G Hub",
      "photoUrl": "https://lh3.googleusercontent.com/a/default-user=s64",
      "userId": "10212197918466653741"
     },
     "user_tz": -60
    },
    "id": "g3j4a7vaJLPv"
   },
   "outputs": [],
   "source": [
    "def compute_loss(model, inputs, return_outputs=False):\n",
    "    labels = inputs.get(\"labels\")\n",
    "    outputs = model(**inputs)\n",
    "    logits = outputs.get('logits')\n",
    "\n",
    "    loss_fct = nn.BCELoss()\n",
    "    loss = loss_fct(logits.view(-1, self.model.config.num_labels),labels.float().view(-1, self.model.config.num_labels))\n",
    "    return (loss, outputs) if return_outputs else loss"
   ]
  },
  {
   "cell_type": "code",
   "execution_count": null,
   "metadata": {
    "executionInfo": {
     "elapsed": 11,
     "status": "ok",
     "timestamp": 1639676674964,
     "user": {
      "displayName": "G Hub",
      "photoUrl": "https://lh3.googleusercontent.com/a/default-user=s64",
      "userId": "10212197918466653741"
     },
     "user_tz": -60
    },
    "id": "_TQVWs4vJLPw"
   },
   "outputs": [],
   "source": [
    "def compute_metrics(eval_pred):\n",
    "    predictions, labels = eval_pred\n",
    "    predictions = predictions[:, 0]\n",
    "    # fpr, tpr, thresholds = metrics.roc_curve(labels, predictions, pos_label=2)\n",
    "    return {\"auc\": metrics.roc_auc_score(y_true=labels, y_score=predictions)}"
   ]
  },
  {
   "cell_type": "code",
   "execution_count": null,
   "metadata": {
    "colab": {
     "base_uri": "https://localhost:8080/"
    },
    "executionInfo": {
     "elapsed": 7722,
     "status": "ok",
     "timestamp": 1639676682681,
     "user": {
      "displayName": "G Hub",
      "photoUrl": "https://lh3.googleusercontent.com/a/default-user=s64",
      "userId": "10212197918466653741"
     },
     "user_tz": -60
    },
    "id": "CJLzbsjUJLPx",
    "outputId": "89c872f3-c580-4ead-fbb0-6bafc956fbff",
    "tags": []
   },
   "outputs": [],
   "source": [
    "validation_key = \"validation\"\n",
    "trainer = Trainer(\n",
    "    model,\n",
    "    args,\n",
    "    train_dataset=encoded_hf[\"train\"],\n",
    "    eval_dataset=encoded_hf[\"test\"],\n",
    "    tokenizer=tokenizer,\n",
    "    compute_metrics=compute_metrics\n",
    "#     compute_loss=compute_loss\n",
    ")"
   ]
  },
  {
   "cell_type": "code",
   "execution_count": null,
   "metadata": {
    "colab": {
     "base_uri": "https://localhost:8080/"
    },
    "executionInfo": {
     "elapsed": 20,
     "status": "ok",
     "timestamp": 1639676682683,
     "user": {
      "displayName": "G Hub",
      "photoUrl": "https://lh3.googleusercontent.com/a/default-user=s64",
      "userId": "10212197918466653741"
     },
     "user_tz": -60
    },
    "id": "yto0Lw2ZJLPy",
    "outputId": "c3bfbfb3-d4a9-468c-b4cc-861602ea6533"
   },
   "outputs": [],
   "source": [
    "import torch\n",
    "torch.cuda.is_available()"
   ]
  },
  {
   "cell_type": "code",
   "execution_count": null,
   "metadata": {
    "colab": {
     "base_uri": "https://localhost:8080/",
     "height": 239
    },
    "id": "zUvVaBNxJLPz",
    "outputId": "ce266604-648a-4517-868d-5d8516ac071b"
   },
   "outputs": [],
   "source": [
    "trainer.train()"
   ]
  },
  {
   "cell_type": "markdown",
   "metadata": {},
   "source": [
    "## Evaluation"
   ]
  },
  {
   "cell_type": "code",
   "execution_count": null,
   "metadata": {
    "executionInfo": {
     "elapsed": 2882,
     "status": "ok",
     "timestamp": 1639667537741,
     "user": {
      "displayName": "G Hub",
      "photoUrl": "https://lh3.googleusercontent.com/a/default-user=s64",
      "userId": "10212197918466653741"
     },
     "user_tz": -60
    },
    "id": "S_JxrhVFrJE1"
   },
   "outputs": [],
   "source": [
    "dev_data = 'dev_data.csv'\n",
    "df = pd.read_csv(dev_data)"
   ]
  },
  {
   "cell_type": "code",
   "execution_count": null,
   "metadata": {
    "id": "JIa8G6rWzO15"
   },
   "outputs": [],
   "source": [
    "model_path = \"stsb-TinyBERT-L-4-finetuned_auc_40000-top3-BCE\"\n",
    "model2 = CrossEncoder(model_path)"
   ]
  },
  {
   "cell_type": "code",
   "execution_count": null,
   "metadata": {
    "colab": {
     "base_uri": "https://localhost:8080/",
     "height": 238,
     "referenced_widgets": [
      "a969eb93e3a04497b361491a993dcb0c",
      "6f9130915b8940599f28e1e56e6773a6",
      "99466fe209a5459e80bbd14b944c9ba5",
      "9d4fac95e6584be8b41f58e043d79f36",
      "4522f8d253bd41688d4f5ef2f0ef7597",
      "57043239b88245a182dee87f256714ac",
      "9d20a3bc71914f96a9d1b45ecb0e70ad",
      "b352922d7bbf4ca7b5f24b465dfc7faf",
      "650e614996074fffb8ccf3d9ba0d4106",
      "7b1f8672da9542fd82453ab67ca36de1",
      "041dd56dc7fc41cd94b4b3fb6954f53a"
     ]
    },
    "executionInfo": {
     "elapsed": 198582,
     "status": "ok",
     "timestamp": 1639668021466,
     "user": {
      "displayName": "G Hub",
      "photoUrl": "https://lh3.googleusercontent.com/a/default-user=s64",
      "userId": "10212197918466653741"
     },
     "user_tz": -60
    },
    "id": "PYaWuFdmzTJ9",
    "outputId": "19c87937-7b56-4810-d62d-305fc27a655d"
   },
   "outputs": [],
   "source": [
    "scores_base = model2.predict(df[['Query', 'doc_text']].values.tolist(), show_progress_bar=True)\n",
    "df.head()"
   ]
  },
  {
   "cell_type": "code",
   "execution_count": null,
   "metadata": {
    "colab": {
     "base_uri": "https://localhost:8080/",
     "height": 206
    },
    "executionInfo": {
     "elapsed": 241,
     "status": "ok",
     "timestamp": 1639668247208,
     "user": {
      "displayName": "G Hub",
      "photoUrl": "https://lh3.googleusercontent.com/a/default-user=s64",
      "userId": "10212197918466653741"
     },
     "user_tz": -60
    },
    "id": "i7cvsm7O1jXS",
    "outputId": "e13809d8-1f45-4e97-e932-2aa8e2fa7784"
   },
   "outputs": [],
   "source": [
    "df[\"score_top3\"] = scores_base\n",
    "df.head()"
   ]
  },
  {
   "cell_type": "code",
   "execution_count": null,
   "metadata": {
    "executionInfo": {
     "elapsed": 64313,
     "status": "ok",
     "timestamp": 1639671382542,
     "user": {
      "displayName": "G Hub",
      "photoUrl": "https://lh3.googleusercontent.com/a/default-user=s64",
      "userId": "10212197918466653741"
     },
     "user_tz": -60
    },
    "id": "KydAzuhrsGKR"
   },
   "outputs": [],
   "source": [
    "# Split the long document texts overlapping = 20 \n",
    "def get_split480(text1):\n",
    "    l_total = []\n",
    "    l_parcial = []\n",
    "    if len(text1.split())// 479>0:\n",
    "        n = len(text1.split())//479\n",
    "    else: \n",
    "        n = 1\n",
    "    for w in range(n):\n",
    "        if w == 0:\n",
    "            l_parcial = text1.split()[:479]\n",
    "            l_total.append(\" \".join(l_parcial))\n",
    "        else:\n",
    "            l_parcial = text1.split()[w*459:w*459 + 479]\n",
    "            l_total.append(\" \".join(l_parcial))\n",
    "    return l_total\n",
    "\n",
    "# Split the document text\n",
    "df['text_split1'] = df['doc_text'].apply(get_split480)\n",
    "#df_all_docs.head()\n",
    "\n",
    "docs_l = []\n",
    "label_l = []\n",
    "index_l =[]\n",
    "query_l = []\n",
    "query_n = []\n",
    "doc_n = []\n",
    "score_b = []\n",
    "\n",
    "for idx,row in df.iterrows():\n",
    "    for l in row['text_split1']:\n",
    "        docs_l.append(l)\n",
    "        label_l.append(row['label'])\n",
    "        query_l.append(row['Query'])\n",
    "        doc_n.append(row['doc_number'])\n",
    "        query_n.append(row['Query_number'])\n",
    "        \n",
    "        score_b.append(row['score_top3'])\n",
    "        index_l.append(idx)\n",
    "len(docs_l), len(label_l), len(index_l)\n",
    "\n",
    "# Create a new dataframe with the splitted documents\n",
    "df_chunked = pd.DataFrame({\"doc_text\":docs_l, 'label':label_l, 'Query': query_l, \n",
    "                       \"doc_number\": doc_n, \"query_number\": query_n,\n",
    "                          \"score_top3\": score_b})\n"
   ]
  },
  {
   "cell_type": "code",
   "execution_count": null,
   "metadata": {
    "colab": {
     "base_uri": "https://localhost:8080/",
     "height": 49,
     "referenced_widgets": [
      "08221f9b51934e58993c541406d7d8e0",
      "ad8ef04a0d814815b4ca3c5345551615",
      "cae0f38df4eb49739c9f7a252ce26bbc",
      "b52124dc3ea2400a9e18d5843b946da8",
      "c2e74c3c7a6647f984c56ef3c86e963a",
      "221b32fbce10491ca8f77bb629cc8a14",
      "93c10b0812614eb1aeae86e2bff010d1",
      "4093592454404ec99172121786bd15d8",
      "f065531b399b4d5dbd1622e56d397f22",
      "dc3123942b0443cabd111dfd359ac0fe",
      "391817c4eb254980a7bd5fbb5747c369"
     ]
    },
    "executionInfo": {
     "elapsed": 563523,
     "status": "ok",
     "timestamp": 1639673125497,
     "user": {
      "displayName": "G Hub",
      "photoUrl": "https://lh3.googleusercontent.com/a/default-user=s64",
      "userId": "10212197918466653741"
     },
     "user_tz": -60
    },
    "id": "1izM2Ga6C_M4",
    "outputId": "8db11e2d-5728-45f4-bb40-289eedaa4d76"
   },
   "outputs": [],
   "source": [
    "scores_base2 = model2.predict(df_chunked[['Query', 'doc_text']].values.tolist(), show_progress_bar=True)"
   ]
  },
  {
   "cell_type": "code",
   "execution_count": null,
   "metadata": {
    "colab": {
     "base_uri": "https://localhost:8080/",
     "height": 293
    },
    "executionInfo": {
     "elapsed": 184,
     "status": "ok",
     "timestamp": 1639673144426,
     "user": {
      "displayName": "G Hub",
      "photoUrl": "https://lh3.googleusercontent.com/a/default-user=s64",
      "userId": "10212197918466653741"
     },
     "user_tz": -60
    },
    "id": "cUGwJgrdGXkZ",
    "outputId": "6c292dab-4c9c-44bc-cd7f-f14d2841632a"
   },
   "outputs": [],
   "source": [
    "df_chunked[\"score_top3\"] = scores_base2\n",
    "df.head()"
   ]
  },
  {
   "cell_type": "code",
   "execution_count": null,
   "metadata": {
    "colab": {
     "base_uri": "https://localhost:8080/"
    },
    "executionInfo": {
     "elapsed": 193,
     "status": "ok",
     "timestamp": 1639673155560,
     "user": {
      "displayName": "G Hub",
      "photoUrl": "https://lh3.googleusercontent.com/a/default-user=s64",
      "userId": "10212197918466653741"
     },
     "user_tz": -60
    },
    "id": "nyw5XycEyJuH",
    "outputId": "9325658a-9b46-4e90-ba15-37b537d4246e"
   },
   "outputs": [],
   "source": [
    "grouped = pd.DataFrame(df_chunked.groupby(by=[\"query_number\", \"doc_number\", \"label\"]).max([\"score_top3\"])).reset_index()\n",
    "metrics.roc_auc_score(y_true=grouped['label'], y_score=grouped[\"score_top3\"])"
   ]
  }
 ],
 "metadata": {
  "accelerator": "GPU",
  "colab": {
   "collapsed_sections": [],
   "name": "BERT_top3_training.ipynb",
   "provenance": []
  },
  "kernelspec": {
   "display_name": "Python 3",
   "language": "python",
   "name": "python3"
  },
  "language_info": {
   "codemirror_mode": {
    "name": "ipython",
    "version": 3
   },
   "file_extension": ".py",
   "mimetype": "text/x-python",
   "name": "python",
   "nbconvert_exporter": "python",
   "pygments_lexer": "ipython3",
   "version": "3.8.3"
  },
  "widgets": {
   "application/vnd.jupyter.widget-state+json": {
    "041dd56dc7fc41cd94b4b3fb6954f53a": {
     "model_module": "@jupyter-widgets/base",
     "model_module_version": "1.2.0",
     "model_name": "LayoutModel",
     "state": {
      "_model_module": "@jupyter-widgets/base",
      "_model_module_version": "1.2.0",
      "_model_name": "LayoutModel",
      "_view_count": null,
      "_view_module": "@jupyter-widgets/base",
      "_view_module_version": "1.2.0",
      "_view_name": "LayoutView",
      "align_content": null,
      "align_items": null,
      "align_self": null,
      "border": null,
      "bottom": null,
      "display": null,
      "flex": null,
      "flex_flow": null,
      "grid_area": null,
      "grid_auto_columns": null,
      "grid_auto_flow": null,
      "grid_auto_rows": null,
      "grid_column": null,
      "grid_gap": null,
      "grid_row": null,
      "grid_template_areas": null,
      "grid_template_columns": null,
      "grid_template_rows": null,
      "height": null,
      "justify_content": null,
      "justify_items": null,
      "left": null,
      "margin": null,
      "max_height": null,
      "max_width": null,
      "min_height": null,
      "min_width": null,
      "object_fit": null,
      "object_position": null,
      "order": null,
      "overflow": null,
      "overflow_x": null,
      "overflow_y": null,
      "padding": null,
      "right": null,
      "top": null,
      "visibility": null,
      "width": null
     }
    },
    "061590e12aa74fcbb07c41de6f372e41": {
     "model_module": "@jupyter-widgets/controls",
     "model_module_version": "1.5.0",
     "model_name": "VBoxModel",
     "state": {
      "_dom_classes": [],
      "_model_module": "@jupyter-widgets/controls",
      "_model_module_version": "1.5.0",
      "_model_name": "VBoxModel",
      "_view_count": null,
      "_view_module": "@jupyter-widgets/controls",
      "_view_module_version": "1.5.0",
      "_view_name": "VBoxView",
      "box_style": "",
      "children": [
       "IPY_MODEL_df89a8fb13e245148f1ee70f646bbc5d",
       "IPY_MODEL_5f0d810b50ad4511ab6b2400e5878d60",
       "IPY_MODEL_9c7fe7233bd64e018e782dd3cdb1b45a",
       "IPY_MODEL_42a52d098bcc4809aa4ec4a73ecf0193",
       "IPY_MODEL_a429ba8bf667404cbe9916e0564c5003"
      ],
      "layout": "IPY_MODEL_a263efc34d884dffbf93d2004fe1c1d6"
     }
    },
    "08221f9b51934e58993c541406d7d8e0": {
     "model_module": "@jupyter-widgets/controls",
     "model_module_version": "1.5.0",
     "model_name": "HBoxModel",
     "state": {
      "_dom_classes": [],
      "_model_module": "@jupyter-widgets/controls",
      "_model_module_version": "1.5.0",
      "_model_name": "HBoxModel",
      "_view_count": null,
      "_view_module": "@jupyter-widgets/controls",
      "_view_module_version": "1.5.0",
      "_view_name": "HBoxView",
      "box_style": "",
      "children": [
       "IPY_MODEL_cae0f38df4eb49739c9f7a252ce26bbc",
       "IPY_MODEL_b52124dc3ea2400a9e18d5843b946da8",
       "IPY_MODEL_c2e74c3c7a6647f984c56ef3c86e963a"
      ],
      "layout": "IPY_MODEL_ad8ef04a0d814815b4ca3c5345551615"
     }
    },
    "10c07cfc17ae46f58021ff9a2dfdd1b0": {
     "model_module": "@jupyter-widgets/base",
     "model_module_version": "1.2.0",
     "model_name": "LayoutModel",
     "state": {
      "_model_module": "@jupyter-widgets/base",
      "_model_module_version": "1.2.0",
      "_model_name": "LayoutModel",
      "_view_count": null,
      "_view_module": "@jupyter-widgets/base",
      "_view_module_version": "1.2.0",
      "_view_name": "LayoutView",
      "align_content": null,
      "align_items": null,
      "align_self": null,
      "border": null,
      "bottom": null,
      "display": null,
      "flex": null,
      "flex_flow": null,
      "grid_area": null,
      "grid_auto_columns": null,
      "grid_auto_flow": null,
      "grid_auto_rows": null,
      "grid_column": null,
      "grid_gap": null,
      "grid_row": null,
      "grid_template_areas": null,
      "grid_template_columns": null,
      "grid_template_rows": null,
      "height": null,
      "justify_content": null,
      "justify_items": null,
      "left": null,
      "margin": null,
      "max_height": null,
      "max_width": null,
      "min_height": null,
      "min_width": null,
      "object_fit": null,
      "object_position": null,
      "order": null,
      "overflow": null,
      "overflow_x": null,
      "overflow_y": null,
      "padding": null,
      "right": null,
      "top": null,
      "visibility": null,
      "width": null
     }
    },
    "10e0703efa1d428f9480f19890f65702": {
     "model_module": "@jupyter-widgets/controls",
     "model_module_version": "1.5.0",
     "model_name": "HTMLModel",
     "state": {
      "_dom_classes": [],
      "_model_module": "@jupyter-widgets/controls",
      "_model_module_version": "1.5.0",
      "_model_name": "HTMLModel",
      "_view_count": null,
      "_view_module": "@jupyter-widgets/controls",
      "_view_module_version": "1.5.0",
      "_view_name": "HTMLView",
      "description": "",
      "description_tooltip": null,
      "layout": "IPY_MODEL_5ee174b48bc345f3ae55b0ffcfeb84c3",
      "placeholder": "​",
      "style": "IPY_MODEL_b8a50878c42646018a7b8932dc5b84d3",
      "value": " 5000/5000 [00:11&lt;00:00, 473.23ex/s]"
     }
    },
    "1534823560d543c6aec5e35b9142fa28": {
     "model_module": "@jupyter-widgets/controls",
     "model_module_version": "1.5.0",
     "model_name": "DescriptionStyleModel",
     "state": {
      "_model_module": "@jupyter-widgets/controls",
      "_model_module_version": "1.5.0",
      "_model_name": "DescriptionStyleModel",
      "_view_count": null,
      "_view_module": "@jupyter-widgets/base",
      "_view_module_version": "1.2.0",
      "_view_name": "StyleView",
      "description_width": ""
     }
    },
    "1e8f1184fc9040c9a791206f9b4b4d03": {
     "model_module": "@jupyter-widgets/controls",
     "model_module_version": "1.5.0",
     "model_name": "HTMLModel",
     "state": {
      "_dom_classes": [],
      "_model_module": "@jupyter-widgets/controls",
      "_model_module_version": "1.5.0",
      "_model_name": "HTMLModel",
      "_view_count": null,
      "_view_module": "@jupyter-widgets/controls",
      "_view_module_version": "1.5.0",
      "_view_name": "HTMLView",
      "description": "",
      "description_tooltip": null,
      "layout": "IPY_MODEL_38f747c2775c4bbcbe041e931e062a41",
      "placeholder": "​",
      "style": "IPY_MODEL_2860076e74bb4d158ba3b207ba202f3f",
      "value": "100%"
     }
    },
    "221b32fbce10491ca8f77bb629cc8a14": {
     "model_module": "@jupyter-widgets/controls",
     "model_module_version": "1.5.0",
     "model_name": "DescriptionStyleModel",
     "state": {
      "_model_module": "@jupyter-widgets/controls",
      "_model_module_version": "1.5.0",
      "_model_name": "DescriptionStyleModel",
      "_view_count": null,
      "_view_module": "@jupyter-widgets/base",
      "_view_module_version": "1.2.0",
      "_view_name": "StyleView",
      "description_width": ""
     }
    },
    "2511793e83ca444382116911fe64f3da": {
     "model_module": "@jupyter-widgets/base",
     "model_module_version": "1.2.0",
     "model_name": "LayoutModel",
     "state": {
      "_model_module": "@jupyter-widgets/base",
      "_model_module_version": "1.2.0",
      "_model_name": "LayoutModel",
      "_view_count": null,
      "_view_module": "@jupyter-widgets/base",
      "_view_module_version": "1.2.0",
      "_view_name": "LayoutView",
      "align_content": null,
      "align_items": null,
      "align_self": null,
      "border": null,
      "bottom": null,
      "display": null,
      "flex": null,
      "flex_flow": null,
      "grid_area": null,
      "grid_auto_columns": null,
      "grid_auto_flow": null,
      "grid_auto_rows": null,
      "grid_column": null,
      "grid_gap": null,
      "grid_row": null,
      "grid_template_areas": null,
      "grid_template_columns": null,
      "grid_template_rows": null,
      "height": null,
      "justify_content": null,
      "justify_items": null,
      "left": null,
      "margin": null,
      "max_height": null,
      "max_width": null,
      "min_height": null,
      "min_width": null,
      "object_fit": null,
      "object_position": null,
      "order": null,
      "overflow": null,
      "overflow_x": null,
      "overflow_y": null,
      "padding": null,
      "right": null,
      "top": null,
      "visibility": null,
      "width": null
     }
    },
    "2860076e74bb4d158ba3b207ba202f3f": {
     "model_module": "@jupyter-widgets/controls",
     "model_module_version": "1.5.0",
     "model_name": "DescriptionStyleModel",
     "state": {
      "_model_module": "@jupyter-widgets/controls",
      "_model_module_version": "1.5.0",
      "_model_name": "DescriptionStyleModel",
      "_view_count": null,
      "_view_module": "@jupyter-widgets/base",
      "_view_module_version": "1.2.0",
      "_view_name": "StyleView",
      "description_width": ""
     }
    },
    "34607c12e03540eba0d6a9c16a41ba6b": {
     "model_module": "@jupyter-widgets/controls",
     "model_module_version": "1.5.0",
     "model_name": "DescriptionStyleModel",
     "state": {
      "_model_module": "@jupyter-widgets/controls",
      "_model_module_version": "1.5.0",
      "_model_name": "DescriptionStyleModel",
      "_view_count": null,
      "_view_module": "@jupyter-widgets/base",
      "_view_module_version": "1.2.0",
      "_view_name": "StyleView",
      "description_width": ""
     }
    },
    "38f747c2775c4bbcbe041e931e062a41": {
     "model_module": "@jupyter-widgets/base",
     "model_module_version": "1.2.0",
     "model_name": "LayoutModel",
     "state": {
      "_model_module": "@jupyter-widgets/base",
      "_model_module_version": "1.2.0",
      "_model_name": "LayoutModel",
      "_view_count": null,
      "_view_module": "@jupyter-widgets/base",
      "_view_module_version": "1.2.0",
      "_view_name": "LayoutView",
      "align_content": null,
      "align_items": null,
      "align_self": null,
      "border": null,
      "bottom": null,
      "display": null,
      "flex": null,
      "flex_flow": null,
      "grid_area": null,
      "grid_auto_columns": null,
      "grid_auto_flow": null,
      "grid_auto_rows": null,
      "grid_column": null,
      "grid_gap": null,
      "grid_row": null,
      "grid_template_areas": null,
      "grid_template_columns": null,
      "grid_template_rows": null,
      "height": null,
      "justify_content": null,
      "justify_items": null,
      "left": null,
      "margin": null,
      "max_height": null,
      "max_width": null,
      "min_height": null,
      "min_width": null,
      "object_fit": null,
      "object_position": null,
      "order": null,
      "overflow": null,
      "overflow_x": null,
      "overflow_y": null,
      "padding": null,
      "right": null,
      "top": null,
      "visibility": null,
      "width": null
     }
    },
    "391817c4eb254980a7bd5fbb5747c369": {
     "model_module": "@jupyter-widgets/base",
     "model_module_version": "1.2.0",
     "model_name": "LayoutModel",
     "state": {
      "_model_module": "@jupyter-widgets/base",
      "_model_module_version": "1.2.0",
      "_model_name": "LayoutModel",
      "_view_count": null,
      "_view_module": "@jupyter-widgets/base",
      "_view_module_version": "1.2.0",
      "_view_name": "LayoutView",
      "align_content": null,
      "align_items": null,
      "align_self": null,
      "border": null,
      "bottom": null,
      "display": null,
      "flex": null,
      "flex_flow": null,
      "grid_area": null,
      "grid_auto_columns": null,
      "grid_auto_flow": null,
      "grid_auto_rows": null,
      "grid_column": null,
      "grid_gap": null,
      "grid_row": null,
      "grid_template_areas": null,
      "grid_template_columns": null,
      "grid_template_rows": null,
      "height": null,
      "justify_content": null,
      "justify_items": null,
      "left": null,
      "margin": null,
      "max_height": null,
      "max_width": null,
      "min_height": null,
      "min_width": null,
      "object_fit": null,
      "object_position": null,
      "order": null,
      "overflow": null,
      "overflow_x": null,
      "overflow_y": null,
      "padding": null,
      "right": null,
      "top": null,
      "visibility": null,
      "width": null
     }
    },
    "4093592454404ec99172121786bd15d8": {
     "model_module": "@jupyter-widgets/controls",
     "model_module_version": "1.5.0",
     "model_name": "ProgressStyleModel",
     "state": {
      "_model_module": "@jupyter-widgets/controls",
      "_model_module_version": "1.5.0",
      "_model_name": "ProgressStyleModel",
      "_view_count": null,
      "_view_module": "@jupyter-widgets/base",
      "_view_module_version": "1.2.0",
      "_view_name": "StyleView",
      "bar_color": null,
      "description_width": ""
     }
    },
    "42a52d098bcc4809aa4ec4a73ecf0193": {
     "model_module": "@jupyter-widgets/controls",
     "model_module_version": "1.5.0",
     "model_name": "HTMLModel",
     "state": {
      "_dom_classes": [],
      "_model_module": "@jupyter-widgets/controls",
      "_model_module_version": "1.5.0",
      "_model_name": "HTMLModel",
      "_view_count": null,
      "_view_module": "@jupyter-widgets/controls",
      "_view_module_version": "1.5.0",
      "_view_name": "HTMLView",
      "description": "",
      "description_tooltip": null,
      "layout": "IPY_MODEL_c4dcb09766d942d49076b29139322a52",
      "placeholder": "​",
      "style": "IPY_MODEL_1534823560d543c6aec5e35b9142fa28",
      "value": "\n<b>Pro Tip:</b> If you don't already have one, you can create a dedicated 'notebooks' token with 'write' access, that you can then easily reuse for all notebooks.\n<br>\n<i>Logging in with your username and password is deprecated and won't be possible anymore in the near future. You can still use them for now by clicking below.</i>\n</center>"
     }
    },
    "4522f8d253bd41688d4f5ef2f0ef7597": {
     "model_module": "@jupyter-widgets/controls",
     "model_module_version": "1.5.0",
     "model_name": "HTMLModel",
     "state": {
      "_dom_classes": [],
      "_model_module": "@jupyter-widgets/controls",
      "_model_module_version": "1.5.0",
      "_model_name": "HTMLModel",
      "_view_count": null,
      "_view_module": "@jupyter-widgets/controls",
      "_view_module_version": "1.5.0",
      "_view_name": "HTMLView",
      "description": "",
      "description_tooltip": null,
      "layout": "IPY_MODEL_041dd56dc7fc41cd94b4b3fb6954f53a",
      "placeholder": "​",
      "style": "IPY_MODEL_7b1f8672da9542fd82453ab67ca36de1",
      "value": " 625/625 [03:17&lt;00:00,  3.75it/s]"
     }
    },
    "459d6b9882d2482e8b1eabd5e8c056f3": {
     "model_module": "@jupyter-widgets/controls",
     "model_module_version": "1.5.0",
     "model_name": "HBoxModel",
     "state": {
      "_dom_classes": [],
      "_model_module": "@jupyter-widgets/controls",
      "_model_module_version": "1.5.0",
      "_model_name": "HBoxModel",
      "_view_count": null,
      "_view_module": "@jupyter-widgets/controls",
      "_view_module_version": "1.5.0",
      "_view_name": "HBoxView",
      "box_style": "",
      "children": [
       "IPY_MODEL_821a99b6dd994d1eaa72f217b6e29046",
       "IPY_MODEL_9220a7bf7bb14f0296298ca38f9a43e6",
       "IPY_MODEL_c4ca542e2d854ff6971dfaa454136263"
      ],
      "layout": "IPY_MODEL_fa40c65cf5fe426499b4dc2da6ca306a"
     }
    },
    "4ff7184bde5d4de7ab8ba9d116a5849e": {
     "model_module": "@jupyter-widgets/base",
     "model_module_version": "1.2.0",
     "model_name": "LayoutModel",
     "state": {
      "_model_module": "@jupyter-widgets/base",
      "_model_module_version": "1.2.0",
      "_model_name": "LayoutModel",
      "_view_count": null,
      "_view_module": "@jupyter-widgets/base",
      "_view_module_version": "1.2.0",
      "_view_name": "LayoutView",
      "align_content": null,
      "align_items": null,
      "align_self": null,
      "border": null,
      "bottom": null,
      "display": null,
      "flex": null,
      "flex_flow": null,
      "grid_area": null,
      "grid_auto_columns": null,
      "grid_auto_flow": null,
      "grid_auto_rows": null,
      "grid_column": null,
      "grid_gap": null,
      "grid_row": null,
      "grid_template_areas": null,
      "grid_template_columns": null,
      "grid_template_rows": null,
      "height": null,
      "justify_content": null,
      "justify_items": null,
      "left": null,
      "margin": null,
      "max_height": null,
      "max_width": null,
      "min_height": null,
      "min_width": null,
      "object_fit": null,
      "object_position": null,
      "order": null,
      "overflow": null,
      "overflow_x": null,
      "overflow_y": null,
      "padding": null,
      "right": null,
      "top": null,
      "visibility": null,
      "width": null
     }
    },
    "54f43c0ac1cc4c43a3d7e6fd004cb923": {
     "model_module": "@jupyter-widgets/base",
     "model_module_version": "1.2.0",
     "model_name": "LayoutModel",
     "state": {
      "_model_module": "@jupyter-widgets/base",
      "_model_module_version": "1.2.0",
      "_model_name": "LayoutModel",
      "_view_count": null,
      "_view_module": "@jupyter-widgets/base",
      "_view_module_version": "1.2.0",
      "_view_name": "LayoutView",
      "align_content": null,
      "align_items": null,
      "align_self": null,
      "border": null,
      "bottom": null,
      "display": null,
      "flex": null,
      "flex_flow": null,
      "grid_area": null,
      "grid_auto_columns": null,
      "grid_auto_flow": null,
      "grid_auto_rows": null,
      "grid_column": null,
      "grid_gap": null,
      "grid_row": null,
      "grid_template_areas": null,
      "grid_template_columns": null,
      "grid_template_rows": null,
      "height": null,
      "justify_content": null,
      "justify_items": null,
      "left": null,
      "margin": null,
      "max_height": null,
      "max_width": null,
      "min_height": null,
      "min_width": null,
      "object_fit": null,
      "object_position": null,
      "order": null,
      "overflow": null,
      "overflow_x": null,
      "overflow_y": null,
      "padding": null,
      "right": null,
      "top": null,
      "visibility": null,
      "width": null
     }
    },
    "57043239b88245a182dee87f256714ac": {
     "model_module": "@jupyter-widgets/controls",
     "model_module_version": "1.5.0",
     "model_name": "DescriptionStyleModel",
     "state": {
      "_model_module": "@jupyter-widgets/controls",
      "_model_module_version": "1.5.0",
      "_model_name": "DescriptionStyleModel",
      "_view_count": null,
      "_view_module": "@jupyter-widgets/base",
      "_view_module_version": "1.2.0",
      "_view_name": "StyleView",
      "description_width": ""
     }
    },
    "5ee174b48bc345f3ae55b0ffcfeb84c3": {
     "model_module": "@jupyter-widgets/base",
     "model_module_version": "1.2.0",
     "model_name": "LayoutModel",
     "state": {
      "_model_module": "@jupyter-widgets/base",
      "_model_module_version": "1.2.0",
      "_model_name": "LayoutModel",
      "_view_count": null,
      "_view_module": "@jupyter-widgets/base",
      "_view_module_version": "1.2.0",
      "_view_name": "LayoutView",
      "align_content": null,
      "align_items": null,
      "align_self": null,
      "border": null,
      "bottom": null,
      "display": null,
      "flex": null,
      "flex_flow": null,
      "grid_area": null,
      "grid_auto_columns": null,
      "grid_auto_flow": null,
      "grid_auto_rows": null,
      "grid_column": null,
      "grid_gap": null,
      "grid_row": null,
      "grid_template_areas": null,
      "grid_template_columns": null,
      "grid_template_rows": null,
      "height": null,
      "justify_content": null,
      "justify_items": null,
      "left": null,
      "margin": null,
      "max_height": null,
      "max_width": null,
      "min_height": null,
      "min_width": null,
      "object_fit": null,
      "object_position": null,
      "order": null,
      "overflow": null,
      "overflow_x": null,
      "overflow_y": null,
      "padding": null,
      "right": null,
      "top": null,
      "visibility": null,
      "width": null
     }
    },
    "5f0d810b50ad4511ab6b2400e5878d60": {
     "model_module": "@jupyter-widgets/controls",
     "model_module_version": "1.5.0",
     "model_name": "PasswordModel",
     "state": {
      "_dom_classes": [],
      "_model_module": "@jupyter-widgets/controls",
      "_model_module_version": "1.5.0",
      "_model_name": "PasswordModel",
      "_view_count": null,
      "_view_module": "@jupyter-widgets/controls",
      "_view_module_version": "1.5.0",
      "_view_name": "PasswordView",
      "continuous_update": true,
      "description": "Token:",
      "description_tooltip": null,
      "disabled": false,
      "layout": "IPY_MODEL_54f43c0ac1cc4c43a3d7e6fd004cb923",
      "placeholder": "​",
      "style": "IPY_MODEL_eb9d3ec9e6cb442fb9d6f056c4228cb7",
      "value": ""
     }
    },
    "650e614996074fffb8ccf3d9ba0d4106": {
     "model_module": "@jupyter-widgets/base",
     "model_module_version": "1.2.0",
     "model_name": "LayoutModel",
     "state": {
      "_model_module": "@jupyter-widgets/base",
      "_model_module_version": "1.2.0",
      "_model_name": "LayoutModel",
      "_view_count": null,
      "_view_module": "@jupyter-widgets/base",
      "_view_module_version": "1.2.0",
      "_view_name": "LayoutView",
      "align_content": null,
      "align_items": null,
      "align_self": null,
      "border": null,
      "bottom": null,
      "display": null,
      "flex": null,
      "flex_flow": null,
      "grid_area": null,
      "grid_auto_columns": null,
      "grid_auto_flow": null,
      "grid_auto_rows": null,
      "grid_column": null,
      "grid_gap": null,
      "grid_row": null,
      "grid_template_areas": null,
      "grid_template_columns": null,
      "grid_template_rows": null,
      "height": null,
      "justify_content": null,
      "justify_items": null,
      "left": null,
      "margin": null,
      "max_height": null,
      "max_width": null,
      "min_height": null,
      "min_width": null,
      "object_fit": null,
      "object_position": null,
      "order": null,
      "overflow": null,
      "overflow_x": null,
      "overflow_y": null,
      "padding": null,
      "right": null,
      "top": null,
      "visibility": null,
      "width": null
     }
    },
    "6f9130915b8940599f28e1e56e6773a6": {
     "model_module": "@jupyter-widgets/base",
     "model_module_version": "1.2.0",
     "model_name": "LayoutModel",
     "state": {
      "_model_module": "@jupyter-widgets/base",
      "_model_module_version": "1.2.0",
      "_model_name": "LayoutModel",
      "_view_count": null,
      "_view_module": "@jupyter-widgets/base",
      "_view_module_version": "1.2.0",
      "_view_name": "LayoutView",
      "align_content": null,
      "align_items": null,
      "align_self": null,
      "border": null,
      "bottom": null,
      "display": null,
      "flex": null,
      "flex_flow": null,
      "grid_area": null,
      "grid_auto_columns": null,
      "grid_auto_flow": null,
      "grid_auto_rows": null,
      "grid_column": null,
      "grid_gap": null,
      "grid_row": null,
      "grid_template_areas": null,
      "grid_template_columns": null,
      "grid_template_rows": null,
      "height": null,
      "justify_content": null,
      "justify_items": null,
      "left": null,
      "margin": null,
      "max_height": null,
      "max_width": null,
      "min_height": null,
      "min_width": null,
      "object_fit": null,
      "object_position": null,
      "order": null,
      "overflow": null,
      "overflow_x": null,
      "overflow_y": null,
      "padding": null,
      "right": null,
      "top": null,
      "visibility": null,
      "width": null
     }
    },
    "7a022b708a2542d29c8a903cc003f62b": {
     "model_module": "@jupyter-widgets/controls",
     "model_module_version": "1.5.0",
     "model_name": "HBoxModel",
     "state": {
      "_dom_classes": [],
      "_model_module": "@jupyter-widgets/controls",
      "_model_module_version": "1.5.0",
      "_model_name": "HBoxModel",
      "_view_count": null,
      "_view_module": "@jupyter-widgets/controls",
      "_view_module_version": "1.5.0",
      "_view_name": "HBoxView",
      "box_style": "",
      "children": [
       "IPY_MODEL_1e8f1184fc9040c9a791206f9b4b4d03",
       "IPY_MODEL_ef264a09e64b4d299ac310062361fc3f",
       "IPY_MODEL_10e0703efa1d428f9480f19890f65702"
      ],
      "layout": "IPY_MODEL_4ff7184bde5d4de7ab8ba9d116a5849e"
     }
    },
    "7b1f8672da9542fd82453ab67ca36de1": {
     "model_module": "@jupyter-widgets/controls",
     "model_module_version": "1.5.0",
     "model_name": "DescriptionStyleModel",
     "state": {
      "_model_module": "@jupyter-widgets/controls",
      "_model_module_version": "1.5.0",
      "_model_name": "DescriptionStyleModel",
      "_view_count": null,
      "_view_module": "@jupyter-widgets/base",
      "_view_module_version": "1.2.0",
      "_view_name": "StyleView",
      "description_width": ""
     }
    },
    "7ea7818518bb4d01bd77d20883b744c3": {
     "model_module": "@jupyter-widgets/base",
     "model_module_version": "1.2.0",
     "model_name": "LayoutModel",
     "state": {
      "_model_module": "@jupyter-widgets/base",
      "_model_module_version": "1.2.0",
      "_model_name": "LayoutModel",
      "_view_count": null,
      "_view_module": "@jupyter-widgets/base",
      "_view_module_version": "1.2.0",
      "_view_name": "LayoutView",
      "align_content": null,
      "align_items": null,
      "align_self": null,
      "border": null,
      "bottom": null,
      "display": null,
      "flex": null,
      "flex_flow": null,
      "grid_area": null,
      "grid_auto_columns": null,
      "grid_auto_flow": null,
      "grid_auto_rows": null,
      "grid_column": null,
      "grid_gap": null,
      "grid_row": null,
      "grid_template_areas": null,
      "grid_template_columns": null,
      "grid_template_rows": null,
      "height": null,
      "justify_content": null,
      "justify_items": null,
      "left": null,
      "margin": null,
      "max_height": null,
      "max_width": null,
      "min_height": null,
      "min_width": null,
      "object_fit": null,
      "object_position": null,
      "order": null,
      "overflow": null,
      "overflow_x": null,
      "overflow_y": null,
      "padding": null,
      "right": null,
      "top": null,
      "visibility": null,
      "width": null
     }
    },
    "8032d8b623934921ac2e2265052060f8": {
     "model_module": "@jupyter-widgets/base",
     "model_module_version": "1.2.0",
     "model_name": "LayoutModel",
     "state": {
      "_model_module": "@jupyter-widgets/base",
      "_model_module_version": "1.2.0",
      "_model_name": "LayoutModel",
      "_view_count": null,
      "_view_module": "@jupyter-widgets/base",
      "_view_module_version": "1.2.0",
      "_view_name": "LayoutView",
      "align_content": null,
      "align_items": null,
      "align_self": null,
      "border": null,
      "bottom": null,
      "display": null,
      "flex": null,
      "flex_flow": null,
      "grid_area": null,
      "grid_auto_columns": null,
      "grid_auto_flow": null,
      "grid_auto_rows": null,
      "grid_column": null,
      "grid_gap": null,
      "grid_row": null,
      "grid_template_areas": null,
      "grid_template_columns": null,
      "grid_template_rows": null,
      "height": null,
      "justify_content": null,
      "justify_items": null,
      "left": null,
      "margin": null,
      "max_height": null,
      "max_width": null,
      "min_height": null,
      "min_width": null,
      "object_fit": null,
      "object_position": null,
      "order": null,
      "overflow": null,
      "overflow_x": null,
      "overflow_y": null,
      "padding": null,
      "right": null,
      "top": null,
      "visibility": null,
      "width": null
     }
    },
    "821a99b6dd994d1eaa72f217b6e29046": {
     "model_module": "@jupyter-widgets/controls",
     "model_module_version": "1.5.0",
     "model_name": "HTMLModel",
     "state": {
      "_dom_classes": [],
      "_model_module": "@jupyter-widgets/controls",
      "_model_module_version": "1.5.0",
      "_model_name": "HTMLModel",
      "_view_count": null,
      "_view_module": "@jupyter-widgets/controls",
      "_view_module_version": "1.5.0",
      "_view_name": "HTMLView",
      "description": "",
      "description_tooltip": null,
      "layout": "IPY_MODEL_2511793e83ca444382116911fe64f3da",
      "placeholder": "​",
      "style": "IPY_MODEL_b6c06c9ebf174321a8a3381bd396d87e",
      "value": "100%"
     }
    },
    "9220a7bf7bb14f0296298ca38f9a43e6": {
     "model_module": "@jupyter-widgets/controls",
     "model_module_version": "1.5.0",
     "model_name": "FloatProgressModel",
     "state": {
      "_dom_classes": [],
      "_model_module": "@jupyter-widgets/controls",
      "_model_module_version": "1.5.0",
      "_model_name": "FloatProgressModel",
      "_view_count": null,
      "_view_module": "@jupyter-widgets/controls",
      "_view_module_version": "1.5.0",
      "_view_name": "ProgressView",
      "bar_style": "success",
      "description": "",
      "description_tooltip": null,
      "layout": "IPY_MODEL_8032d8b623934921ac2e2265052060f8",
      "max": 128521,
      "min": 0,
      "orientation": "horizontal",
      "style": "IPY_MODEL_c8ba8dce53e74bf2b6633346333e9c50",
      "value": 128521
     }
    },
    "93c10b0812614eb1aeae86e2bff010d1": {
     "model_module": "@jupyter-widgets/base",
     "model_module_version": "1.2.0",
     "model_name": "LayoutModel",
     "state": {
      "_model_module": "@jupyter-widgets/base",
      "_model_module_version": "1.2.0",
      "_model_name": "LayoutModel",
      "_view_count": null,
      "_view_module": "@jupyter-widgets/base",
      "_view_module_version": "1.2.0",
      "_view_name": "LayoutView",
      "align_content": null,
      "align_items": null,
      "align_self": null,
      "border": null,
      "bottom": null,
      "display": null,
      "flex": null,
      "flex_flow": null,
      "grid_area": null,
      "grid_auto_columns": null,
      "grid_auto_flow": null,
      "grid_auto_rows": null,
      "grid_column": null,
      "grid_gap": null,
      "grid_row": null,
      "grid_template_areas": null,
      "grid_template_columns": null,
      "grid_template_rows": null,
      "height": null,
      "justify_content": null,
      "justify_items": null,
      "left": null,
      "margin": null,
      "max_height": null,
      "max_width": null,
      "min_height": null,
      "min_width": null,
      "object_fit": null,
      "object_position": null,
      "order": null,
      "overflow": null,
      "overflow_x": null,
      "overflow_y": null,
      "padding": null,
      "right": null,
      "top": null,
      "visibility": null,
      "width": null
     }
    },
    "99466fe209a5459e80bbd14b944c9ba5": {
     "model_module": "@jupyter-widgets/controls",
     "model_module_version": "1.5.0",
     "model_name": "HTMLModel",
     "state": {
      "_dom_classes": [],
      "_model_module": "@jupyter-widgets/controls",
      "_model_module_version": "1.5.0",
      "_model_name": "HTMLModel",
      "_view_count": null,
      "_view_module": "@jupyter-widgets/controls",
      "_view_module_version": "1.5.0",
      "_view_name": "HTMLView",
      "description": "",
      "description_tooltip": null,
      "layout": "IPY_MODEL_9d20a3bc71914f96a9d1b45ecb0e70ad",
      "placeholder": "​",
      "style": "IPY_MODEL_57043239b88245a182dee87f256714ac",
      "value": "Batches: 100%"
     }
    },
    "9c7fe7233bd64e018e782dd3cdb1b45a": {
     "model_module": "@jupyter-widgets/controls",
     "model_module_version": "1.5.0",
     "model_name": "ButtonModel",
     "state": {
      "_dom_classes": [],
      "_model_module": "@jupyter-widgets/controls",
      "_model_module_version": "1.5.0",
      "_model_name": "ButtonModel",
      "_view_count": null,
      "_view_module": "@jupyter-widgets/controls",
      "_view_module_version": "1.5.0",
      "_view_name": "ButtonView",
      "button_style": "",
      "description": "Login",
      "disabled": false,
      "icon": "",
      "layout": "IPY_MODEL_f475deff32a84004beecd47b92c09970",
      "style": "IPY_MODEL_ee35f2208d2744f792225424f9dd5186",
      "tooltip": ""
     }
    },
    "9d20a3bc71914f96a9d1b45ecb0e70ad": {
     "model_module": "@jupyter-widgets/base",
     "model_module_version": "1.2.0",
     "model_name": "LayoutModel",
     "state": {
      "_model_module": "@jupyter-widgets/base",
      "_model_module_version": "1.2.0",
      "_model_name": "LayoutModel",
      "_view_count": null,
      "_view_module": "@jupyter-widgets/base",
      "_view_module_version": "1.2.0",
      "_view_name": "LayoutView",
      "align_content": null,
      "align_items": null,
      "align_self": null,
      "border": null,
      "bottom": null,
      "display": null,
      "flex": null,
      "flex_flow": null,
      "grid_area": null,
      "grid_auto_columns": null,
      "grid_auto_flow": null,
      "grid_auto_rows": null,
      "grid_column": null,
      "grid_gap": null,
      "grid_row": null,
      "grid_template_areas": null,
      "grid_template_columns": null,
      "grid_template_rows": null,
      "height": null,
      "justify_content": null,
      "justify_items": null,
      "left": null,
      "margin": null,
      "max_height": null,
      "max_width": null,
      "min_height": null,
      "min_width": null,
      "object_fit": null,
      "object_position": null,
      "order": null,
      "overflow": null,
      "overflow_x": null,
      "overflow_y": null,
      "padding": null,
      "right": null,
      "top": null,
      "visibility": null,
      "width": null
     }
    },
    "9d4fac95e6584be8b41f58e043d79f36": {
     "model_module": "@jupyter-widgets/controls",
     "model_module_version": "1.5.0",
     "model_name": "FloatProgressModel",
     "state": {
      "_dom_classes": [],
      "_model_module": "@jupyter-widgets/controls",
      "_model_module_version": "1.5.0",
      "_model_name": "FloatProgressModel",
      "_view_count": null,
      "_view_module": "@jupyter-widgets/controls",
      "_view_module_version": "1.5.0",
      "_view_name": "ProgressView",
      "bar_style": "success",
      "description": "",
      "description_tooltip": null,
      "layout": "IPY_MODEL_650e614996074fffb8ccf3d9ba0d4106",
      "max": 625,
      "min": 0,
      "orientation": "horizontal",
      "style": "IPY_MODEL_b352922d7bbf4ca7b5f24b465dfc7faf",
      "value": 625
     }
    },
    "a263efc34d884dffbf93d2004fe1c1d6": {
     "model_module": "@jupyter-widgets/base",
     "model_module_version": "1.2.0",
     "model_name": "LayoutModel",
     "state": {
      "_model_module": "@jupyter-widgets/base",
      "_model_module_version": "1.2.0",
      "_model_name": "LayoutModel",
      "_view_count": null,
      "_view_module": "@jupyter-widgets/base",
      "_view_module_version": "1.2.0",
      "_view_name": "LayoutView",
      "align_content": null,
      "align_items": "center",
      "align_self": null,
      "border": null,
      "bottom": null,
      "display": "flex",
      "flex": null,
      "flex_flow": "column",
      "grid_area": null,
      "grid_auto_columns": null,
      "grid_auto_flow": null,
      "grid_auto_rows": null,
      "grid_column": null,
      "grid_gap": null,
      "grid_row": null,
      "grid_template_areas": null,
      "grid_template_columns": null,
      "grid_template_rows": null,
      "height": null,
      "justify_content": null,
      "justify_items": null,
      "left": null,
      "margin": null,
      "max_height": null,
      "max_width": null,
      "min_height": null,
      "min_width": null,
      "object_fit": null,
      "object_position": null,
      "order": null,
      "overflow": null,
      "overflow_x": null,
      "overflow_y": null,
      "padding": null,
      "right": null,
      "top": null,
      "visibility": null,
      "width": "50%"
     }
    },
    "a429ba8bf667404cbe9916e0564c5003": {
     "model_module": "@jupyter-widgets/controls",
     "model_module_version": "1.5.0",
     "model_name": "ButtonModel",
     "state": {
      "_dom_classes": [],
      "_model_module": "@jupyter-widgets/controls",
      "_model_module_version": "1.5.0",
      "_model_name": "ButtonModel",
      "_view_count": null,
      "_view_module": "@jupyter-widgets/controls",
      "_view_module_version": "1.5.0",
      "_view_name": "ButtonView",
      "button_style": "",
      "description": "Use password",
      "disabled": false,
      "icon": "",
      "layout": "IPY_MODEL_e57a9b1f61ef4523bc16b9bed82c1d1a",
      "style": "IPY_MODEL_c483429c90c047f8ae6c50a3cbffdf56",
      "tooltip": ""
     }
    },
    "a969eb93e3a04497b361491a993dcb0c": {
     "model_module": "@jupyter-widgets/controls",
     "model_module_version": "1.5.0",
     "model_name": "HBoxModel",
     "state": {
      "_dom_classes": [],
      "_model_module": "@jupyter-widgets/controls",
      "_model_module_version": "1.5.0",
      "_model_name": "HBoxModel",
      "_view_count": null,
      "_view_module": "@jupyter-widgets/controls",
      "_view_module_version": "1.5.0",
      "_view_name": "HBoxView",
      "box_style": "",
      "children": [
       "IPY_MODEL_99466fe209a5459e80bbd14b944c9ba5",
       "IPY_MODEL_9d4fac95e6584be8b41f58e043d79f36",
       "IPY_MODEL_4522f8d253bd41688d4f5ef2f0ef7597"
      ],
      "layout": "IPY_MODEL_6f9130915b8940599f28e1e56e6773a6"
     }
    },
    "ad107f7bd4fd4eceb03b428081e7d00c": {
     "model_module": "@jupyter-widgets/controls",
     "model_module_version": "1.5.0",
     "model_name": "DescriptionStyleModel",
     "state": {
      "_model_module": "@jupyter-widgets/controls",
      "_model_module_version": "1.5.0",
      "_model_name": "DescriptionStyleModel",
      "_view_count": null,
      "_view_module": "@jupyter-widgets/base",
      "_view_module_version": "1.2.0",
      "_view_name": "StyleView",
      "description_width": ""
     }
    },
    "ad8ef04a0d814815b4ca3c5345551615": {
     "model_module": "@jupyter-widgets/base",
     "model_module_version": "1.2.0",
     "model_name": "LayoutModel",
     "state": {
      "_model_module": "@jupyter-widgets/base",
      "_model_module_version": "1.2.0",
      "_model_name": "LayoutModel",
      "_view_count": null,
      "_view_module": "@jupyter-widgets/base",
      "_view_module_version": "1.2.0",
      "_view_name": "LayoutView",
      "align_content": null,
      "align_items": null,
      "align_self": null,
      "border": null,
      "bottom": null,
      "display": null,
      "flex": null,
      "flex_flow": null,
      "grid_area": null,
      "grid_auto_columns": null,
      "grid_auto_flow": null,
      "grid_auto_rows": null,
      "grid_column": null,
      "grid_gap": null,
      "grid_row": null,
      "grid_template_areas": null,
      "grid_template_columns": null,
      "grid_template_rows": null,
      "height": null,
      "justify_content": null,
      "justify_items": null,
      "left": null,
      "margin": null,
      "max_height": null,
      "max_width": null,
      "min_height": null,
      "min_width": null,
      "object_fit": null,
      "object_position": null,
      "order": null,
      "overflow": null,
      "overflow_x": null,
      "overflow_y": null,
      "padding": null,
      "right": null,
      "top": null,
      "visibility": null,
      "width": null
     }
    },
    "b352922d7bbf4ca7b5f24b465dfc7faf": {
     "model_module": "@jupyter-widgets/controls",
     "model_module_version": "1.5.0",
     "model_name": "ProgressStyleModel",
     "state": {
      "_model_module": "@jupyter-widgets/controls",
      "_model_module_version": "1.5.0",
      "_model_name": "ProgressStyleModel",
      "_view_count": null,
      "_view_module": "@jupyter-widgets/base",
      "_view_module_version": "1.2.0",
      "_view_name": "StyleView",
      "bar_color": null,
      "description_width": ""
     }
    },
    "b52124dc3ea2400a9e18d5843b946da8": {
     "model_module": "@jupyter-widgets/controls",
     "model_module_version": "1.5.0",
     "model_name": "FloatProgressModel",
     "state": {
      "_dom_classes": [],
      "_model_module": "@jupyter-widgets/controls",
      "_model_module_version": "1.5.0",
      "_model_name": "FloatProgressModel",
      "_view_count": null,
      "_view_module": "@jupyter-widgets/controls",
      "_view_module_version": "1.5.0",
      "_view_name": "ProgressView",
      "bar_style": "success",
      "description": "",
      "description_tooltip": null,
      "layout": "IPY_MODEL_f065531b399b4d5dbd1622e56d397f22",
      "max": 2119,
      "min": 0,
      "orientation": "horizontal",
      "style": "IPY_MODEL_4093592454404ec99172121786bd15d8",
      "value": 2119
     }
    },
    "b6c06c9ebf174321a8a3381bd396d87e": {
     "model_module": "@jupyter-widgets/controls",
     "model_module_version": "1.5.0",
     "model_name": "DescriptionStyleModel",
     "state": {
      "_model_module": "@jupyter-widgets/controls",
      "_model_module_version": "1.5.0",
      "_model_name": "DescriptionStyleModel",
      "_view_count": null,
      "_view_module": "@jupyter-widgets/base",
      "_view_module_version": "1.2.0",
      "_view_name": "StyleView",
      "description_width": ""
     }
    },
    "b8a50878c42646018a7b8932dc5b84d3": {
     "model_module": "@jupyter-widgets/controls",
     "model_module_version": "1.5.0",
     "model_name": "DescriptionStyleModel",
     "state": {
      "_model_module": "@jupyter-widgets/controls",
      "_model_module_version": "1.5.0",
      "_model_name": "DescriptionStyleModel",
      "_view_count": null,
      "_view_module": "@jupyter-widgets/base",
      "_view_module_version": "1.2.0",
      "_view_name": "StyleView",
      "description_width": ""
     }
    },
    "bf44b6acbf074aafabf4e23fd2d17532": {
     "model_module": "@jupyter-widgets/controls",
     "model_module_version": "1.5.0",
     "model_name": "ProgressStyleModel",
     "state": {
      "_model_module": "@jupyter-widgets/controls",
      "_model_module_version": "1.5.0",
      "_model_name": "ProgressStyleModel",
      "_view_count": null,
      "_view_module": "@jupyter-widgets/base",
      "_view_module_version": "1.2.0",
      "_view_name": "StyleView",
      "bar_color": null,
      "description_width": ""
     }
    },
    "c2e74c3c7a6647f984c56ef3c86e963a": {
     "model_module": "@jupyter-widgets/controls",
     "model_module_version": "1.5.0",
     "model_name": "HTMLModel",
     "state": {
      "_dom_classes": [],
      "_model_module": "@jupyter-widgets/controls",
      "_model_module_version": "1.5.0",
      "_model_name": "HTMLModel",
      "_view_count": null,
      "_view_module": "@jupyter-widgets/controls",
      "_view_module_version": "1.5.0",
      "_view_name": "HTMLView",
      "description": "",
      "description_tooltip": null,
      "layout": "IPY_MODEL_391817c4eb254980a7bd5fbb5747c369",
      "placeholder": "​",
      "style": "IPY_MODEL_dc3123942b0443cabd111dfd359ac0fe",
      "value": " 2119/2119 [09:21&lt;00:00,  3.78it/s]"
     }
    },
    "c483429c90c047f8ae6c50a3cbffdf56": {
     "model_module": "@jupyter-widgets/controls",
     "model_module_version": "1.5.0",
     "model_name": "ButtonStyleModel",
     "state": {
      "_model_module": "@jupyter-widgets/controls",
      "_model_module_version": "1.5.0",
      "_model_name": "ButtonStyleModel",
      "_view_count": null,
      "_view_module": "@jupyter-widgets/base",
      "_view_module_version": "1.2.0",
      "_view_name": "StyleView",
      "button_color": null,
      "font_weight": ""
     }
    },
    "c4ca542e2d854ff6971dfaa454136263": {
     "model_module": "@jupyter-widgets/controls",
     "model_module_version": "1.5.0",
     "model_name": "HTMLModel",
     "state": {
      "_dom_classes": [],
      "_model_module": "@jupyter-widgets/controls",
      "_model_module_version": "1.5.0",
      "_model_name": "HTMLModel",
      "_view_count": null,
      "_view_module": "@jupyter-widgets/controls",
      "_view_module_version": "1.5.0",
      "_view_name": "HTMLView",
      "description": "",
      "description_tooltip": null,
      "layout": "IPY_MODEL_ed6baffe49ee4cf48cf76581c8706379",
      "placeholder": "​",
      "style": "IPY_MODEL_ad107f7bd4fd4eceb03b428081e7d00c",
      "value": " 128521/128521 [05:00&lt;00:00, 481.53ex/s]"
     }
    },
    "c4dcb09766d942d49076b29139322a52": {
     "model_module": "@jupyter-widgets/base",
     "model_module_version": "1.2.0",
     "model_name": "LayoutModel",
     "state": {
      "_model_module": "@jupyter-widgets/base",
      "_model_module_version": "1.2.0",
      "_model_name": "LayoutModel",
      "_view_count": null,
      "_view_module": "@jupyter-widgets/base",
      "_view_module_version": "1.2.0",
      "_view_name": "LayoutView",
      "align_content": null,
      "align_items": null,
      "align_self": null,
      "border": null,
      "bottom": null,
      "display": null,
      "flex": null,
      "flex_flow": null,
      "grid_area": null,
      "grid_auto_columns": null,
      "grid_auto_flow": null,
      "grid_auto_rows": null,
      "grid_column": null,
      "grid_gap": null,
      "grid_row": null,
      "grid_template_areas": null,
      "grid_template_columns": null,
      "grid_template_rows": null,
      "height": null,
      "justify_content": null,
      "justify_items": null,
      "left": null,
      "margin": null,
      "max_height": null,
      "max_width": null,
      "min_height": null,
      "min_width": null,
      "object_fit": null,
      "object_position": null,
      "order": null,
      "overflow": null,
      "overflow_x": null,
      "overflow_y": null,
      "padding": null,
      "right": null,
      "top": null,
      "visibility": null,
      "width": null
     }
    },
    "c8ba8dce53e74bf2b6633346333e9c50": {
     "model_module": "@jupyter-widgets/controls",
     "model_module_version": "1.5.0",
     "model_name": "ProgressStyleModel",
     "state": {
      "_model_module": "@jupyter-widgets/controls",
      "_model_module_version": "1.5.0",
      "_model_name": "ProgressStyleModel",
      "_view_count": null,
      "_view_module": "@jupyter-widgets/base",
      "_view_module_version": "1.2.0",
      "_view_name": "StyleView",
      "bar_color": null,
      "description_width": ""
     }
    },
    "cae0f38df4eb49739c9f7a252ce26bbc": {
     "model_module": "@jupyter-widgets/controls",
     "model_module_version": "1.5.0",
     "model_name": "HTMLModel",
     "state": {
      "_dom_classes": [],
      "_model_module": "@jupyter-widgets/controls",
      "_model_module_version": "1.5.0",
      "_model_name": "HTMLModel",
      "_view_count": null,
      "_view_module": "@jupyter-widgets/controls",
      "_view_module_version": "1.5.0",
      "_view_name": "HTMLView",
      "description": "",
      "description_tooltip": null,
      "layout": "IPY_MODEL_93c10b0812614eb1aeae86e2bff010d1",
      "placeholder": "​",
      "style": "IPY_MODEL_221b32fbce10491ca8f77bb629cc8a14",
      "value": "Batches: 100%"
     }
    },
    "dc3123942b0443cabd111dfd359ac0fe": {
     "model_module": "@jupyter-widgets/controls",
     "model_module_version": "1.5.0",
     "model_name": "DescriptionStyleModel",
     "state": {
      "_model_module": "@jupyter-widgets/controls",
      "_model_module_version": "1.5.0",
      "_model_name": "DescriptionStyleModel",
      "_view_count": null,
      "_view_module": "@jupyter-widgets/base",
      "_view_module_version": "1.2.0",
      "_view_name": "StyleView",
      "description_width": ""
     }
    },
    "df89a8fb13e245148f1ee70f646bbc5d": {
     "model_module": "@jupyter-widgets/controls",
     "model_module_version": "1.5.0",
     "model_name": "HTMLModel",
     "state": {
      "_dom_classes": [],
      "_model_module": "@jupyter-widgets/controls",
      "_model_module_version": "1.5.0",
      "_model_name": "HTMLModel",
      "_view_count": null,
      "_view_module": "@jupyter-widgets/controls",
      "_view_module_version": "1.5.0",
      "_view_name": "HTMLView",
      "description": "",
      "description_tooltip": null,
      "layout": "IPY_MODEL_7ea7818518bb4d01bd77d20883b744c3",
      "placeholder": "​",
      "style": "IPY_MODEL_34607c12e03540eba0d6a9c16a41ba6b",
      "value": "<center>\n<img src=https://huggingface.co/front/assets/huggingface_logo-noborder.svg alt='Hugging Face'>\n<br>\nCopy a token from <a href=\"https://huggingface.co/settings/token\" target=\"_blank\">your Hugging Face tokens page</a> and paste it below.\n<br>\nImmediately click login after copying your token or it might be stored in plain text in this notebook file.\n</center>"
     }
    },
    "e57a9b1f61ef4523bc16b9bed82c1d1a": {
     "model_module": "@jupyter-widgets/base",
     "model_module_version": "1.2.0",
     "model_name": "LayoutModel",
     "state": {
      "_model_module": "@jupyter-widgets/base",
      "_model_module_version": "1.2.0",
      "_model_name": "LayoutModel",
      "_view_count": null,
      "_view_module": "@jupyter-widgets/base",
      "_view_module_version": "1.2.0",
      "_view_name": "LayoutView",
      "align_content": null,
      "align_items": null,
      "align_self": null,
      "border": null,
      "bottom": null,
      "display": null,
      "flex": null,
      "flex_flow": null,
      "grid_area": null,
      "grid_auto_columns": null,
      "grid_auto_flow": null,
      "grid_auto_rows": null,
      "grid_column": null,
      "grid_gap": null,
      "grid_row": null,
      "grid_template_areas": null,
      "grid_template_columns": null,
      "grid_template_rows": null,
      "height": null,
      "justify_content": null,
      "justify_items": null,
      "left": null,
      "margin": null,
      "max_height": null,
      "max_width": null,
      "min_height": null,
      "min_width": null,
      "object_fit": null,
      "object_position": null,
      "order": null,
      "overflow": null,
      "overflow_x": null,
      "overflow_y": null,
      "padding": null,
      "right": null,
      "top": null,
      "visibility": null,
      "width": null
     }
    },
    "eb9d3ec9e6cb442fb9d6f056c4228cb7": {
     "model_module": "@jupyter-widgets/controls",
     "model_module_version": "1.5.0",
     "model_name": "DescriptionStyleModel",
     "state": {
      "_model_module": "@jupyter-widgets/controls",
      "_model_module_version": "1.5.0",
      "_model_name": "DescriptionStyleModel",
      "_view_count": null,
      "_view_module": "@jupyter-widgets/base",
      "_view_module_version": "1.2.0",
      "_view_name": "StyleView",
      "description_width": ""
     }
    },
    "ed6baffe49ee4cf48cf76581c8706379": {
     "model_module": "@jupyter-widgets/base",
     "model_module_version": "1.2.0",
     "model_name": "LayoutModel",
     "state": {
      "_model_module": "@jupyter-widgets/base",
      "_model_module_version": "1.2.0",
      "_model_name": "LayoutModel",
      "_view_count": null,
      "_view_module": "@jupyter-widgets/base",
      "_view_module_version": "1.2.0",
      "_view_name": "LayoutView",
      "align_content": null,
      "align_items": null,
      "align_self": null,
      "border": null,
      "bottom": null,
      "display": null,
      "flex": null,
      "flex_flow": null,
      "grid_area": null,
      "grid_auto_columns": null,
      "grid_auto_flow": null,
      "grid_auto_rows": null,
      "grid_column": null,
      "grid_gap": null,
      "grid_row": null,
      "grid_template_areas": null,
      "grid_template_columns": null,
      "grid_template_rows": null,
      "height": null,
      "justify_content": null,
      "justify_items": null,
      "left": null,
      "margin": null,
      "max_height": null,
      "max_width": null,
      "min_height": null,
      "min_width": null,
      "object_fit": null,
      "object_position": null,
      "order": null,
      "overflow": null,
      "overflow_x": null,
      "overflow_y": null,
      "padding": null,
      "right": null,
      "top": null,
      "visibility": null,
      "width": null
     }
    },
    "ee35f2208d2744f792225424f9dd5186": {
     "model_module": "@jupyter-widgets/controls",
     "model_module_version": "1.5.0",
     "model_name": "ButtonStyleModel",
     "state": {
      "_model_module": "@jupyter-widgets/controls",
      "_model_module_version": "1.5.0",
      "_model_name": "ButtonStyleModel",
      "_view_count": null,
      "_view_module": "@jupyter-widgets/base",
      "_view_module_version": "1.2.0",
      "_view_name": "StyleView",
      "button_color": null,
      "font_weight": ""
     }
    },
    "ef264a09e64b4d299ac310062361fc3f": {
     "model_module": "@jupyter-widgets/controls",
     "model_module_version": "1.5.0",
     "model_name": "FloatProgressModel",
     "state": {
      "_dom_classes": [],
      "_model_module": "@jupyter-widgets/controls",
      "_model_module_version": "1.5.0",
      "_model_name": "FloatProgressModel",
      "_view_count": null,
      "_view_module": "@jupyter-widgets/controls",
      "_view_module_version": "1.5.0",
      "_view_name": "ProgressView",
      "bar_style": "success",
      "description": "",
      "description_tooltip": null,
      "layout": "IPY_MODEL_10c07cfc17ae46f58021ff9a2dfdd1b0",
      "max": 5000,
      "min": 0,
      "orientation": "horizontal",
      "style": "IPY_MODEL_bf44b6acbf074aafabf4e23fd2d17532",
      "value": 5000
     }
    },
    "f065531b399b4d5dbd1622e56d397f22": {
     "model_module": "@jupyter-widgets/base",
     "model_module_version": "1.2.0",
     "model_name": "LayoutModel",
     "state": {
      "_model_module": "@jupyter-widgets/base",
      "_model_module_version": "1.2.0",
      "_model_name": "LayoutModel",
      "_view_count": null,
      "_view_module": "@jupyter-widgets/base",
      "_view_module_version": "1.2.0",
      "_view_name": "LayoutView",
      "align_content": null,
      "align_items": null,
      "align_self": null,
      "border": null,
      "bottom": null,
      "display": null,
      "flex": null,
      "flex_flow": null,
      "grid_area": null,
      "grid_auto_columns": null,
      "grid_auto_flow": null,
      "grid_auto_rows": null,
      "grid_column": null,
      "grid_gap": null,
      "grid_row": null,
      "grid_template_areas": null,
      "grid_template_columns": null,
      "grid_template_rows": null,
      "height": null,
      "justify_content": null,
      "justify_items": null,
      "left": null,
      "margin": null,
      "max_height": null,
      "max_width": null,
      "min_height": null,
      "min_width": null,
      "object_fit": null,
      "object_position": null,
      "order": null,
      "overflow": null,
      "overflow_x": null,
      "overflow_y": null,
      "padding": null,
      "right": null,
      "top": null,
      "visibility": null,
      "width": null
     }
    },
    "f475deff32a84004beecd47b92c09970": {
     "model_module": "@jupyter-widgets/base",
     "model_module_version": "1.2.0",
     "model_name": "LayoutModel",
     "state": {
      "_model_module": "@jupyter-widgets/base",
      "_model_module_version": "1.2.0",
      "_model_name": "LayoutModel",
      "_view_count": null,
      "_view_module": "@jupyter-widgets/base",
      "_view_module_version": "1.2.0",
      "_view_name": "LayoutView",
      "align_content": null,
      "align_items": null,
      "align_self": null,
      "border": null,
      "bottom": null,
      "display": null,
      "flex": null,
      "flex_flow": null,
      "grid_area": null,
      "grid_auto_columns": null,
      "grid_auto_flow": null,
      "grid_auto_rows": null,
      "grid_column": null,
      "grid_gap": null,
      "grid_row": null,
      "grid_template_areas": null,
      "grid_template_columns": null,
      "grid_template_rows": null,
      "height": null,
      "justify_content": null,
      "justify_items": null,
      "left": null,
      "margin": null,
      "max_height": null,
      "max_width": null,
      "min_height": null,
      "min_width": null,
      "object_fit": null,
      "object_position": null,
      "order": null,
      "overflow": null,
      "overflow_x": null,
      "overflow_y": null,
      "padding": null,
      "right": null,
      "top": null,
      "visibility": null,
      "width": null
     }
    },
    "fa40c65cf5fe426499b4dc2da6ca306a": {
     "model_module": "@jupyter-widgets/base",
     "model_module_version": "1.2.0",
     "model_name": "LayoutModel",
     "state": {
      "_model_module": "@jupyter-widgets/base",
      "_model_module_version": "1.2.0",
      "_model_name": "LayoutModel",
      "_view_count": null,
      "_view_module": "@jupyter-widgets/base",
      "_view_module_version": "1.2.0",
      "_view_name": "LayoutView",
      "align_content": null,
      "align_items": null,
      "align_self": null,
      "border": null,
      "bottom": null,
      "display": null,
      "flex": null,
      "flex_flow": null,
      "grid_area": null,
      "grid_auto_columns": null,
      "grid_auto_flow": null,
      "grid_auto_rows": null,
      "grid_column": null,
      "grid_gap": null,
      "grid_row": null,
      "grid_template_areas": null,
      "grid_template_columns": null,
      "grid_template_rows": null,
      "height": null,
      "justify_content": null,
      "justify_items": null,
      "left": null,
      "margin": null,
      "max_height": null,
      "max_width": null,
      "min_height": null,
      "min_width": null,
      "object_fit": null,
      "object_position": null,
      "order": null,
      "overflow": null,
      "overflow_x": null,
      "overflow_y": null,
      "padding": null,
      "right": null,
      "top": null,
      "visibility": null,
      "width": null
     }
    }
   }
  }
 },
 "nbformat": 4,
 "nbformat_minor": 1
}
