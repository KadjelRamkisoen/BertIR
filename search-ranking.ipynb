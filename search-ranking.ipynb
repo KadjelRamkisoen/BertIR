{
  "nbformat": 4,
  "nbformat_minor": 5,
  "metadata": {
    "kernelspec": {
      "display_name": "Python 3",
      "language": "python",
      "name": "python3"
    },
    "language_info": {
      "codemirror_mode": {
        "name": "ipython",
        "version": 3
      },
      "file_extension": ".py",
      "mimetype": "text/x-python",
      "name": "python",
      "nbconvert_exporter": "python",
      "pygments_lexer": "ipython3",
      "version": "3.7.10"
    },
    "papermill": {
      "default_parameters": {},
      "duration": 520.936088,
      "end_time": "2021-07-05T08:09:57.826683",
      "environment_variables": {},
      "exception": null,
      "input_path": "__notebook__.ipynb",
      "output_path": "__notebook__.ipynb",
      "parameters": {},
      "start_time": "2021-07-05T08:01:16.890595",
      "version": "2.3.3"
    },
    "widgets": {
      "application/vnd.jupyter.widget-state+json": {
        "20c2b14509a24315870ec62b4eecc440": {
          "model_module": "@jupyter-widgets/controls",
          "model_name": "HBoxModel",
          "model_module_version": "1.5.0",
          "state": {
            "_view_name": "HBoxView",
            "_dom_classes": [],
            "_model_name": "HBoxModel",
            "_view_module": "@jupyter-widgets/controls",
            "_model_module_version": "1.5.0",
            "_view_count": null,
            "_view_module_version": "1.5.0",
            "box_style": "",
            "layout": "IPY_MODEL_6fdc64b71c3c48f9a7552f441b2b1512",
            "_model_module": "@jupyter-widgets/controls",
            "children": [
              "IPY_MODEL_cbfa3563d7014e15a733e90bfbe6517d",
              "IPY_MODEL_d9369478aca84527854d8bc67c2fb3b0",
              "IPY_MODEL_aa573162e1dc43f5af3bcb47f52841cc"
            ]
          }
        },
        "6fdc64b71c3c48f9a7552f441b2b1512": {
          "model_module": "@jupyter-widgets/base",
          "model_name": "LayoutModel",
          "model_module_version": "1.2.0",
          "state": {
            "_view_name": "LayoutView",
            "grid_template_rows": null,
            "right": null,
            "justify_content": null,
            "_view_module": "@jupyter-widgets/base",
            "overflow": null,
            "_model_module_version": "1.2.0",
            "_view_count": null,
            "flex_flow": null,
            "width": null,
            "min_width": null,
            "border": null,
            "align_items": null,
            "bottom": null,
            "_model_module": "@jupyter-widgets/base",
            "top": null,
            "grid_column": null,
            "overflow_y": null,
            "overflow_x": null,
            "grid_auto_flow": null,
            "grid_area": null,
            "grid_template_columns": null,
            "flex": null,
            "_model_name": "LayoutModel",
            "justify_items": null,
            "grid_row": null,
            "max_height": null,
            "align_content": null,
            "visibility": null,
            "align_self": null,
            "height": null,
            "min_height": null,
            "padding": null,
            "grid_auto_rows": null,
            "grid_gap": null,
            "max_width": null,
            "order": null,
            "_view_module_version": "1.2.0",
            "grid_template_areas": null,
            "object_position": null,
            "object_fit": null,
            "grid_auto_columns": null,
            "margin": null,
            "display": null,
            "left": null
          }
        },
        "cbfa3563d7014e15a733e90bfbe6517d": {
          "model_module": "@jupyter-widgets/controls",
          "model_name": "HTMLModel",
          "model_module_version": "1.5.0",
          "state": {
            "_view_name": "HTMLView",
            "style": "IPY_MODEL_79408fd187604ef2b34c1c7d4940d7f6",
            "_dom_classes": [],
            "description": "",
            "_model_name": "HTMLModel",
            "placeholder": "​",
            "_view_module": "@jupyter-widgets/controls",
            "_model_module_version": "1.5.0",
            "value": "Downloading: 100%",
            "_view_count": null,
            "_view_module_version": "1.5.0",
            "description_tooltip": null,
            "_model_module": "@jupyter-widgets/controls",
            "layout": "IPY_MODEL_dd8393cb92ad492a9aedb21c66aea89a"
          }
        },
        "d9369478aca84527854d8bc67c2fb3b0": {
          "model_module": "@jupyter-widgets/controls",
          "model_name": "FloatProgressModel",
          "model_module_version": "1.5.0",
          "state": {
            "_view_name": "ProgressView",
            "style": "IPY_MODEL_82c4c0553cf34e1eb93e97550de13a5c",
            "_dom_classes": [],
            "description": "",
            "_model_name": "FloatProgressModel",
            "bar_style": "success",
            "max": 690,
            "_view_module": "@jupyter-widgets/controls",
            "_model_module_version": "1.5.0",
            "value": 690,
            "_view_count": null,
            "_view_module_version": "1.5.0",
            "orientation": "horizontal",
            "min": 0,
            "description_tooltip": null,
            "_model_module": "@jupyter-widgets/controls",
            "layout": "IPY_MODEL_2ac092d597b74e28ba80eefc651b2625"
          }
        },
        "aa573162e1dc43f5af3bcb47f52841cc": {
          "model_module": "@jupyter-widgets/controls",
          "model_name": "HTMLModel",
          "model_module_version": "1.5.0",
          "state": {
            "_view_name": "HTMLView",
            "style": "IPY_MODEL_25e8080dd37a417abf66b9788353dbfb",
            "_dom_classes": [],
            "description": "",
            "_model_name": "HTMLModel",
            "placeholder": "​",
            "_view_module": "@jupyter-widgets/controls",
            "_model_module_version": "1.5.0",
            "value": " 690/690 [00:00&lt;00:00, 11.5kB/s]",
            "_view_count": null,
            "_view_module_version": "1.5.0",
            "description_tooltip": null,
            "_model_module": "@jupyter-widgets/controls",
            "layout": "IPY_MODEL_a6dfbb8da5cd44d1b7a7b022521d0c3b"
          }
        },
        "79408fd187604ef2b34c1c7d4940d7f6": {
          "model_module": "@jupyter-widgets/controls",
          "model_name": "DescriptionStyleModel",
          "model_module_version": "1.5.0",
          "state": {
            "_view_name": "StyleView",
            "_model_name": "DescriptionStyleModel",
            "description_width": "",
            "_view_module": "@jupyter-widgets/base",
            "_model_module_version": "1.5.0",
            "_view_count": null,
            "_view_module_version": "1.2.0",
            "_model_module": "@jupyter-widgets/controls"
          }
        },
        "dd8393cb92ad492a9aedb21c66aea89a": {
          "model_module": "@jupyter-widgets/base",
          "model_name": "LayoutModel",
          "model_module_version": "1.2.0",
          "state": {
            "_view_name": "LayoutView",
            "grid_template_rows": null,
            "right": null,
            "justify_content": null,
            "_view_module": "@jupyter-widgets/base",
            "overflow": null,
            "_model_module_version": "1.2.0",
            "_view_count": null,
            "flex_flow": null,
            "width": null,
            "min_width": null,
            "border": null,
            "align_items": null,
            "bottom": null,
            "_model_module": "@jupyter-widgets/base",
            "top": null,
            "grid_column": null,
            "overflow_y": null,
            "overflow_x": null,
            "grid_auto_flow": null,
            "grid_area": null,
            "grid_template_columns": null,
            "flex": null,
            "_model_name": "LayoutModel",
            "justify_items": null,
            "grid_row": null,
            "max_height": null,
            "align_content": null,
            "visibility": null,
            "align_self": null,
            "height": null,
            "min_height": null,
            "padding": null,
            "grid_auto_rows": null,
            "grid_gap": null,
            "max_width": null,
            "order": null,
            "_view_module_version": "1.2.0",
            "grid_template_areas": null,
            "object_position": null,
            "object_fit": null,
            "grid_auto_columns": null,
            "margin": null,
            "display": null,
            "left": null
          }
        },
        "82c4c0553cf34e1eb93e97550de13a5c": {
          "model_module": "@jupyter-widgets/controls",
          "model_name": "ProgressStyleModel",
          "model_module_version": "1.5.0",
          "state": {
            "_view_name": "StyleView",
            "_model_name": "ProgressStyleModel",
            "description_width": "",
            "_view_module": "@jupyter-widgets/base",
            "_model_module_version": "1.5.0",
            "_view_count": null,
            "_view_module_version": "1.2.0",
            "bar_color": null,
            "_model_module": "@jupyter-widgets/controls"
          }
        },
        "2ac092d597b74e28ba80eefc651b2625": {
          "model_module": "@jupyter-widgets/base",
          "model_name": "LayoutModel",
          "model_module_version": "1.2.0",
          "state": {
            "_view_name": "LayoutView",
            "grid_template_rows": null,
            "right": null,
            "justify_content": null,
            "_view_module": "@jupyter-widgets/base",
            "overflow": null,
            "_model_module_version": "1.2.0",
            "_view_count": null,
            "flex_flow": null,
            "width": null,
            "min_width": null,
            "border": null,
            "align_items": null,
            "bottom": null,
            "_model_module": "@jupyter-widgets/base",
            "top": null,
            "grid_column": null,
            "overflow_y": null,
            "overflow_x": null,
            "grid_auto_flow": null,
            "grid_area": null,
            "grid_template_columns": null,
            "flex": null,
            "_model_name": "LayoutModel",
            "justify_items": null,
            "grid_row": null,
            "max_height": null,
            "align_content": null,
            "visibility": null,
            "align_self": null,
            "height": null,
            "min_height": null,
            "padding": null,
            "grid_auto_rows": null,
            "grid_gap": null,
            "max_width": null,
            "order": null,
            "_view_module_version": "1.2.0",
            "grid_template_areas": null,
            "object_position": null,
            "object_fit": null,
            "grid_auto_columns": null,
            "margin": null,
            "display": null,
            "left": null
          }
        },
        "25e8080dd37a417abf66b9788353dbfb": {
          "model_module": "@jupyter-widgets/controls",
          "model_name": "DescriptionStyleModel",
          "model_module_version": "1.5.0",
          "state": {
            "_view_name": "StyleView",
            "_model_name": "DescriptionStyleModel",
            "description_width": "",
            "_view_module": "@jupyter-widgets/base",
            "_model_module_version": "1.5.0",
            "_view_count": null,
            "_view_module_version": "1.2.0",
            "_model_module": "@jupyter-widgets/controls"
          }
        },
        "a6dfbb8da5cd44d1b7a7b022521d0c3b": {
          "model_module": "@jupyter-widgets/base",
          "model_name": "LayoutModel",
          "model_module_version": "1.2.0",
          "state": {
            "_view_name": "LayoutView",
            "grid_template_rows": null,
            "right": null,
            "justify_content": null,
            "_view_module": "@jupyter-widgets/base",
            "overflow": null,
            "_model_module_version": "1.2.0",
            "_view_count": null,
            "flex_flow": null,
            "width": null,
            "min_width": null,
            "border": null,
            "align_items": null,
            "bottom": null,
            "_model_module": "@jupyter-widgets/base",
            "top": null,
            "grid_column": null,
            "overflow_y": null,
            "overflow_x": null,
            "grid_auto_flow": null,
            "grid_area": null,
            "grid_template_columns": null,
            "flex": null,
            "_model_name": "LayoutModel",
            "justify_items": null,
            "grid_row": null,
            "max_height": null,
            "align_content": null,
            "visibility": null,
            "align_self": null,
            "height": null,
            "min_height": null,
            "padding": null,
            "grid_auto_rows": null,
            "grid_gap": null,
            "max_width": null,
            "order": null,
            "_view_module_version": "1.2.0",
            "grid_template_areas": null,
            "object_position": null,
            "object_fit": null,
            "grid_auto_columns": null,
            "margin": null,
            "display": null,
            "left": null
          }
        },
        "0a5293229b0547a69ddfa6c27d5a249d": {
          "model_module": "@jupyter-widgets/controls",
          "model_name": "HBoxModel",
          "model_module_version": "1.5.0",
          "state": {
            "_view_name": "HBoxView",
            "_dom_classes": [],
            "_model_name": "HBoxModel",
            "_view_module": "@jupyter-widgets/controls",
            "_model_module_version": "1.5.0",
            "_view_count": null,
            "_view_module_version": "1.5.0",
            "box_style": "",
            "layout": "IPY_MODEL_16e2c2815abf4a0a8bd4c885b338de44",
            "_model_module": "@jupyter-widgets/controls",
            "children": [
              "IPY_MODEL_3dfb30827946477f825738c80189f183",
              "IPY_MODEL_0688827561eb49588f0ab90db823ef17",
              "IPY_MODEL_eaffe2d5e9294ca0bf40f12aa6ce7ea9"
            ]
          }
        },
        "16e2c2815abf4a0a8bd4c885b338de44": {
          "model_module": "@jupyter-widgets/base",
          "model_name": "LayoutModel",
          "model_module_version": "1.2.0",
          "state": {
            "_view_name": "LayoutView",
            "grid_template_rows": null,
            "right": null,
            "justify_content": null,
            "_view_module": "@jupyter-widgets/base",
            "overflow": null,
            "_model_module_version": "1.2.0",
            "_view_count": null,
            "flex_flow": null,
            "width": null,
            "min_width": null,
            "border": null,
            "align_items": null,
            "bottom": null,
            "_model_module": "@jupyter-widgets/base",
            "top": null,
            "grid_column": null,
            "overflow_y": null,
            "overflow_x": null,
            "grid_auto_flow": null,
            "grid_area": null,
            "grid_template_columns": null,
            "flex": null,
            "_model_name": "LayoutModel",
            "justify_items": null,
            "grid_row": null,
            "max_height": null,
            "align_content": null,
            "visibility": null,
            "align_self": null,
            "height": null,
            "min_height": null,
            "padding": null,
            "grid_auto_rows": null,
            "grid_gap": null,
            "max_width": null,
            "order": null,
            "_view_module_version": "1.2.0",
            "grid_template_areas": null,
            "object_position": null,
            "object_fit": null,
            "grid_auto_columns": null,
            "margin": null,
            "display": null,
            "left": null
          }
        },
        "3dfb30827946477f825738c80189f183": {
          "model_module": "@jupyter-widgets/controls",
          "model_name": "HTMLModel",
          "model_module_version": "1.5.0",
          "state": {
            "_view_name": "HTMLView",
            "style": "IPY_MODEL_611c53977c36472eb97e42457fb88754",
            "_dom_classes": [],
            "description": "",
            "_model_name": "HTMLModel",
            "placeholder": "​",
            "_view_module": "@jupyter-widgets/controls",
            "_model_module_version": "1.5.0",
            "value": "Downloading: 100%",
            "_view_count": null,
            "_view_module_version": "1.5.0",
            "description_tooltip": null,
            "_model_module": "@jupyter-widgets/controls",
            "layout": "IPY_MODEL_bedb32d40b74452abca7a23dde1e0891"
          }
        },
        "0688827561eb49588f0ab90db823ef17": {
          "model_module": "@jupyter-widgets/controls",
          "model_name": "FloatProgressModel",
          "model_module_version": "1.5.0",
          "state": {
            "_view_name": "ProgressView",
            "style": "IPY_MODEL_fc801da8efee44119ed0cde756b22425",
            "_dom_classes": [],
            "description": "",
            "_model_name": "FloatProgressModel",
            "bar_style": "success",
            "max": 2353,
            "_view_module": "@jupyter-widgets/controls",
            "_model_module_version": "1.5.0",
            "value": 2353,
            "_view_count": null,
            "_view_module_version": "1.5.0",
            "orientation": "horizontal",
            "min": 0,
            "description_tooltip": null,
            "_model_module": "@jupyter-widgets/controls",
            "layout": "IPY_MODEL_986c0459fab847c39023691efb349a57"
          }
        },
        "eaffe2d5e9294ca0bf40f12aa6ce7ea9": {
          "model_module": "@jupyter-widgets/controls",
          "model_name": "HTMLModel",
          "model_module_version": "1.5.0",
          "state": {
            "_view_name": "HTMLView",
            "style": "IPY_MODEL_b5bc054527014ea395d0f5d13907a24b",
            "_dom_classes": [],
            "description": "",
            "_model_name": "HTMLModel",
            "placeholder": "​",
            "_view_module": "@jupyter-widgets/controls",
            "_model_module_version": "1.5.0",
            "value": " 2.35k/2.35k [00:00&lt;00:00, 47.0kB/s]",
            "_view_count": null,
            "_view_module_version": "1.5.0",
            "description_tooltip": null,
            "_model_module": "@jupyter-widgets/controls",
            "layout": "IPY_MODEL_8b0330c546b94d41b40803c2101b63e8"
          }
        },
        "611c53977c36472eb97e42457fb88754": {
          "model_module": "@jupyter-widgets/controls",
          "model_name": "DescriptionStyleModel",
          "model_module_version": "1.5.0",
          "state": {
            "_view_name": "StyleView",
            "_model_name": "DescriptionStyleModel",
            "description_width": "",
            "_view_module": "@jupyter-widgets/base",
            "_model_module_version": "1.5.0",
            "_view_count": null,
            "_view_module_version": "1.2.0",
            "_model_module": "@jupyter-widgets/controls"
          }
        },
        "bedb32d40b74452abca7a23dde1e0891": {
          "model_module": "@jupyter-widgets/base",
          "model_name": "LayoutModel",
          "model_module_version": "1.2.0",
          "state": {
            "_view_name": "LayoutView",
            "grid_template_rows": null,
            "right": null,
            "justify_content": null,
            "_view_module": "@jupyter-widgets/base",
            "overflow": null,
            "_model_module_version": "1.2.0",
            "_view_count": null,
            "flex_flow": null,
            "width": null,
            "min_width": null,
            "border": null,
            "align_items": null,
            "bottom": null,
            "_model_module": "@jupyter-widgets/base",
            "top": null,
            "grid_column": null,
            "overflow_y": null,
            "overflow_x": null,
            "grid_auto_flow": null,
            "grid_area": null,
            "grid_template_columns": null,
            "flex": null,
            "_model_name": "LayoutModel",
            "justify_items": null,
            "grid_row": null,
            "max_height": null,
            "align_content": null,
            "visibility": null,
            "align_self": null,
            "height": null,
            "min_height": null,
            "padding": null,
            "grid_auto_rows": null,
            "grid_gap": null,
            "max_width": null,
            "order": null,
            "_view_module_version": "1.2.0",
            "grid_template_areas": null,
            "object_position": null,
            "object_fit": null,
            "grid_auto_columns": null,
            "margin": null,
            "display": null,
            "left": null
          }
        },
        "fc801da8efee44119ed0cde756b22425": {
          "model_module": "@jupyter-widgets/controls",
          "model_name": "ProgressStyleModel",
          "model_module_version": "1.5.0",
          "state": {
            "_view_name": "StyleView",
            "_model_name": "ProgressStyleModel",
            "description_width": "",
            "_view_module": "@jupyter-widgets/base",
            "_model_module_version": "1.5.0",
            "_view_count": null,
            "_view_module_version": "1.2.0",
            "bar_color": null,
            "_model_module": "@jupyter-widgets/controls"
          }
        },
        "986c0459fab847c39023691efb349a57": {
          "model_module": "@jupyter-widgets/base",
          "model_name": "LayoutModel",
          "model_module_version": "1.2.0",
          "state": {
            "_view_name": "LayoutView",
            "grid_template_rows": null,
            "right": null,
            "justify_content": null,
            "_view_module": "@jupyter-widgets/base",
            "overflow": null,
            "_model_module_version": "1.2.0",
            "_view_count": null,
            "flex_flow": null,
            "width": null,
            "min_width": null,
            "border": null,
            "align_items": null,
            "bottom": null,
            "_model_module": "@jupyter-widgets/base",
            "top": null,
            "grid_column": null,
            "overflow_y": null,
            "overflow_x": null,
            "grid_auto_flow": null,
            "grid_area": null,
            "grid_template_columns": null,
            "flex": null,
            "_model_name": "LayoutModel",
            "justify_items": null,
            "grid_row": null,
            "max_height": null,
            "align_content": null,
            "visibility": null,
            "align_self": null,
            "height": null,
            "min_height": null,
            "padding": null,
            "grid_auto_rows": null,
            "grid_gap": null,
            "max_width": null,
            "order": null,
            "_view_module_version": "1.2.0",
            "grid_template_areas": null,
            "object_position": null,
            "object_fit": null,
            "grid_auto_columns": null,
            "margin": null,
            "display": null,
            "left": null
          }
        },
        "b5bc054527014ea395d0f5d13907a24b": {
          "model_module": "@jupyter-widgets/controls",
          "model_name": "DescriptionStyleModel",
          "model_module_version": "1.5.0",
          "state": {
            "_view_name": "StyleView",
            "_model_name": "DescriptionStyleModel",
            "description_width": "",
            "_view_module": "@jupyter-widgets/base",
            "_model_module_version": "1.5.0",
            "_view_count": null,
            "_view_module_version": "1.2.0",
            "_model_module": "@jupyter-widgets/controls"
          }
        },
        "8b0330c546b94d41b40803c2101b63e8": {
          "model_module": "@jupyter-widgets/base",
          "model_name": "LayoutModel",
          "model_module_version": "1.2.0",
          "state": {
            "_view_name": "LayoutView",
            "grid_template_rows": null,
            "right": null,
            "justify_content": null,
            "_view_module": "@jupyter-widgets/base",
            "overflow": null,
            "_model_module_version": "1.2.0",
            "_view_count": null,
            "flex_flow": null,
            "width": null,
            "min_width": null,
            "border": null,
            "align_items": null,
            "bottom": null,
            "_model_module": "@jupyter-widgets/base",
            "top": null,
            "grid_column": null,
            "overflow_y": null,
            "overflow_x": null,
            "grid_auto_flow": null,
            "grid_area": null,
            "grid_template_columns": null,
            "flex": null,
            "_model_name": "LayoutModel",
            "justify_items": null,
            "grid_row": null,
            "max_height": null,
            "align_content": null,
            "visibility": null,
            "align_self": null,
            "height": null,
            "min_height": null,
            "padding": null,
            "grid_auto_rows": null,
            "grid_gap": null,
            "max_width": null,
            "order": null,
            "_view_module_version": "1.2.0",
            "grid_template_areas": null,
            "object_position": null,
            "object_fit": null,
            "grid_auto_columns": null,
            "margin": null,
            "display": null,
            "left": null
          }
        },
        "39dc686440694683be3ee311fa10739b": {
          "model_module": "@jupyter-widgets/controls",
          "model_name": "HBoxModel",
          "model_module_version": "1.5.0",
          "state": {
            "_view_name": "HBoxView",
            "_dom_classes": [],
            "_model_name": "HBoxModel",
            "_view_module": "@jupyter-widgets/controls",
            "_model_module_version": "1.5.0",
            "_view_count": null,
            "_view_module_version": "1.5.0",
            "box_style": "",
            "layout": "IPY_MODEL_de856689904d424a8842b09ac10e46a7",
            "_model_module": "@jupyter-widgets/controls",
            "children": [
              "IPY_MODEL_431ccd08f61842b2870984c86a436398",
              "IPY_MODEL_43a8ae3c9b834c6ba80e2c78f0e3ee9f",
              "IPY_MODEL_be1b1e308c314559b423a73002b7d57a"
            ]
          }
        },
        "de856689904d424a8842b09ac10e46a7": {
          "model_module": "@jupyter-widgets/base",
          "model_name": "LayoutModel",
          "model_module_version": "1.2.0",
          "state": {
            "_view_name": "LayoutView",
            "grid_template_rows": null,
            "right": null,
            "justify_content": null,
            "_view_module": "@jupyter-widgets/base",
            "overflow": null,
            "_model_module_version": "1.2.0",
            "_view_count": null,
            "flex_flow": null,
            "width": null,
            "min_width": null,
            "border": null,
            "align_items": null,
            "bottom": null,
            "_model_module": "@jupyter-widgets/base",
            "top": null,
            "grid_column": null,
            "overflow_y": null,
            "overflow_x": null,
            "grid_auto_flow": null,
            "grid_area": null,
            "grid_template_columns": null,
            "flex": null,
            "_model_name": "LayoutModel",
            "justify_items": null,
            "grid_row": null,
            "max_height": null,
            "align_content": null,
            "visibility": null,
            "align_self": null,
            "height": null,
            "min_height": null,
            "padding": null,
            "grid_auto_rows": null,
            "grid_gap": null,
            "max_width": null,
            "order": null,
            "_view_module_version": "1.2.0",
            "grid_template_areas": null,
            "object_position": null,
            "object_fit": null,
            "grid_auto_columns": null,
            "margin": null,
            "display": null,
            "left": null
          }
        },
        "431ccd08f61842b2870984c86a436398": {
          "model_module": "@jupyter-widgets/controls",
          "model_name": "HTMLModel",
          "model_module_version": "1.5.0",
          "state": {
            "_view_name": "HTMLView",
            "style": "IPY_MODEL_d8ebd3ac8a9b40e0b20ff8c6b98822b7",
            "_dom_classes": [],
            "description": "",
            "_model_name": "HTMLModel",
            "placeholder": "​",
            "_view_module": "@jupyter-widgets/controls",
            "_model_module_version": "1.5.0",
            "value": "Downloading: 100%",
            "_view_count": null,
            "_view_module_version": "1.5.0",
            "description_tooltip": null,
            "_model_module": "@jupyter-widgets/controls",
            "layout": "IPY_MODEL_93c3531e293d4479b3d41205a332fa31"
          }
        },
        "43a8ae3c9b834c6ba80e2c78f0e3ee9f": {
          "model_module": "@jupyter-widgets/controls",
          "model_name": "FloatProgressModel",
          "model_module_version": "1.5.0",
          "state": {
            "_view_name": "ProgressView",
            "style": "IPY_MODEL_da4a33f1c37f406da0ba0d5a4becdeaf",
            "_dom_classes": [],
            "description": "",
            "_model_name": "FloatProgressModel",
            "bar_style": "success",
            "max": 554,
            "_view_module": "@jupyter-widgets/controls",
            "_model_module_version": "1.5.0",
            "value": 554,
            "_view_count": null,
            "_view_module_version": "1.5.0",
            "orientation": "horizontal",
            "min": 0,
            "description_tooltip": null,
            "_model_module": "@jupyter-widgets/controls",
            "layout": "IPY_MODEL_ed53371815bf44159b70c2f02d0f08b6"
          }
        },
        "be1b1e308c314559b423a73002b7d57a": {
          "model_module": "@jupyter-widgets/controls",
          "model_name": "HTMLModel",
          "model_module_version": "1.5.0",
          "state": {
            "_view_name": "HTMLView",
            "style": "IPY_MODEL_366b9e3e335b4fb390f4d86baeb0f8be",
            "_dom_classes": [],
            "description": "",
            "_model_name": "HTMLModel",
            "placeholder": "​",
            "_view_module": "@jupyter-widgets/controls",
            "_model_module_version": "1.5.0",
            "value": " 554/554 [00:00&lt;00:00, 12.7kB/s]",
            "_view_count": null,
            "_view_module_version": "1.5.0",
            "description_tooltip": null,
            "_model_module": "@jupyter-widgets/controls",
            "layout": "IPY_MODEL_177ec5273efd48afaf690d242832018d"
          }
        },
        "d8ebd3ac8a9b40e0b20ff8c6b98822b7": {
          "model_module": "@jupyter-widgets/controls",
          "model_name": "DescriptionStyleModel",
          "model_module_version": "1.5.0",
          "state": {
            "_view_name": "StyleView",
            "_model_name": "DescriptionStyleModel",
            "description_width": "",
            "_view_module": "@jupyter-widgets/base",
            "_model_module_version": "1.5.0",
            "_view_count": null,
            "_view_module_version": "1.2.0",
            "_model_module": "@jupyter-widgets/controls"
          }
        },
        "93c3531e293d4479b3d41205a332fa31": {
          "model_module": "@jupyter-widgets/base",
          "model_name": "LayoutModel",
          "model_module_version": "1.2.0",
          "state": {
            "_view_name": "LayoutView",
            "grid_template_rows": null,
            "right": null,
            "justify_content": null,
            "_view_module": "@jupyter-widgets/base",
            "overflow": null,
            "_model_module_version": "1.2.0",
            "_view_count": null,
            "flex_flow": null,
            "width": null,
            "min_width": null,
            "border": null,
            "align_items": null,
            "bottom": null,
            "_model_module": "@jupyter-widgets/base",
            "top": null,
            "grid_column": null,
            "overflow_y": null,
            "overflow_x": null,
            "grid_auto_flow": null,
            "grid_area": null,
            "grid_template_columns": null,
            "flex": null,
            "_model_name": "LayoutModel",
            "justify_items": null,
            "grid_row": null,
            "max_height": null,
            "align_content": null,
            "visibility": null,
            "align_self": null,
            "height": null,
            "min_height": null,
            "padding": null,
            "grid_auto_rows": null,
            "grid_gap": null,
            "max_width": null,
            "order": null,
            "_view_module_version": "1.2.0",
            "grid_template_areas": null,
            "object_position": null,
            "object_fit": null,
            "grid_auto_columns": null,
            "margin": null,
            "display": null,
            "left": null
          }
        },
        "da4a33f1c37f406da0ba0d5a4becdeaf": {
          "model_module": "@jupyter-widgets/controls",
          "model_name": "ProgressStyleModel",
          "model_module_version": "1.5.0",
          "state": {
            "_view_name": "StyleView",
            "_model_name": "ProgressStyleModel",
            "description_width": "",
            "_view_module": "@jupyter-widgets/base",
            "_model_module_version": "1.5.0",
            "_view_count": null,
            "_view_module_version": "1.2.0",
            "bar_color": null,
            "_model_module": "@jupyter-widgets/controls"
          }
        },
        "ed53371815bf44159b70c2f02d0f08b6": {
          "model_module": "@jupyter-widgets/base",
          "model_name": "LayoutModel",
          "model_module_version": "1.2.0",
          "state": {
            "_view_name": "LayoutView",
            "grid_template_rows": null,
            "right": null,
            "justify_content": null,
            "_view_module": "@jupyter-widgets/base",
            "overflow": null,
            "_model_module_version": "1.2.0",
            "_view_count": null,
            "flex_flow": null,
            "width": null,
            "min_width": null,
            "border": null,
            "align_items": null,
            "bottom": null,
            "_model_module": "@jupyter-widgets/base",
            "top": null,
            "grid_column": null,
            "overflow_y": null,
            "overflow_x": null,
            "grid_auto_flow": null,
            "grid_area": null,
            "grid_template_columns": null,
            "flex": null,
            "_model_name": "LayoutModel",
            "justify_items": null,
            "grid_row": null,
            "max_height": null,
            "align_content": null,
            "visibility": null,
            "align_self": null,
            "height": null,
            "min_height": null,
            "padding": null,
            "grid_auto_rows": null,
            "grid_gap": null,
            "max_width": null,
            "order": null,
            "_view_module_version": "1.2.0",
            "grid_template_areas": null,
            "object_position": null,
            "object_fit": null,
            "grid_auto_columns": null,
            "margin": null,
            "display": null,
            "left": null
          }
        },
        "366b9e3e335b4fb390f4d86baeb0f8be": {
          "model_module": "@jupyter-widgets/controls",
          "model_name": "DescriptionStyleModel",
          "model_module_version": "1.5.0",
          "state": {
            "_view_name": "StyleView",
            "_model_name": "DescriptionStyleModel",
            "description_width": "",
            "_view_module": "@jupyter-widgets/base",
            "_model_module_version": "1.5.0",
            "_view_count": null,
            "_view_module_version": "1.2.0",
            "_model_module": "@jupyter-widgets/controls"
          }
        },
        "177ec5273efd48afaf690d242832018d": {
          "model_module": "@jupyter-widgets/base",
          "model_name": "LayoutModel",
          "model_module_version": "1.2.0",
          "state": {
            "_view_name": "LayoutView",
            "grid_template_rows": null,
            "right": null,
            "justify_content": null,
            "_view_module": "@jupyter-widgets/base",
            "overflow": null,
            "_model_module_version": "1.2.0",
            "_view_count": null,
            "flex_flow": null,
            "width": null,
            "min_width": null,
            "border": null,
            "align_items": null,
            "bottom": null,
            "_model_module": "@jupyter-widgets/base",
            "top": null,
            "grid_column": null,
            "overflow_y": null,
            "overflow_x": null,
            "grid_auto_flow": null,
            "grid_area": null,
            "grid_template_columns": null,
            "flex": null,
            "_model_name": "LayoutModel",
            "justify_items": null,
            "grid_row": null,
            "max_height": null,
            "align_content": null,
            "visibility": null,
            "align_self": null,
            "height": null,
            "min_height": null,
            "padding": null,
            "grid_auto_rows": null,
            "grid_gap": null,
            "max_width": null,
            "order": null,
            "_view_module_version": "1.2.0",
            "grid_template_areas": null,
            "object_position": null,
            "object_fit": null,
            "grid_auto_columns": null,
            "margin": null,
            "display": null,
            "left": null
          }
        },
        "ca691ea6558443869c6162c056c69638": {
          "model_module": "@jupyter-widgets/controls",
          "model_name": "HBoxModel",
          "model_module_version": "1.5.0",
          "state": {
            "_view_name": "HBoxView",
            "_dom_classes": [],
            "_model_name": "HBoxModel",
            "_view_module": "@jupyter-widgets/controls",
            "_model_module_version": "1.5.0",
            "_view_count": null,
            "_view_module_version": "1.5.0",
            "box_style": "",
            "layout": "IPY_MODEL_e55914a2e4914b1fb00fa86aa8469f98",
            "_model_module": "@jupyter-widgets/controls",
            "children": [
              "IPY_MODEL_0ee35db301d44c148d95b8a5939d4b2f",
              "IPY_MODEL_c2419430789a410a8866824dcbe05274",
              "IPY_MODEL_5d55185114d74c548e17bda88f6e6d0f"
            ]
          }
        },
        "e55914a2e4914b1fb00fa86aa8469f98": {
          "model_module": "@jupyter-widgets/base",
          "model_name": "LayoutModel",
          "model_module_version": "1.2.0",
          "state": {
            "_view_name": "LayoutView",
            "grid_template_rows": null,
            "right": null,
            "justify_content": null,
            "_view_module": "@jupyter-widgets/base",
            "overflow": null,
            "_model_module_version": "1.2.0",
            "_view_count": null,
            "flex_flow": null,
            "width": null,
            "min_width": null,
            "border": null,
            "align_items": null,
            "bottom": null,
            "_model_module": "@jupyter-widgets/base",
            "top": null,
            "grid_column": null,
            "overflow_y": null,
            "overflow_x": null,
            "grid_auto_flow": null,
            "grid_area": null,
            "grid_template_columns": null,
            "flex": null,
            "_model_name": "LayoutModel",
            "justify_items": null,
            "grid_row": null,
            "max_height": null,
            "align_content": null,
            "visibility": null,
            "align_self": null,
            "height": null,
            "min_height": null,
            "padding": null,
            "grid_auto_rows": null,
            "grid_gap": null,
            "max_width": null,
            "order": null,
            "_view_module_version": "1.2.0",
            "grid_template_areas": null,
            "object_position": null,
            "object_fit": null,
            "grid_auto_columns": null,
            "margin": null,
            "display": null,
            "left": null
          }
        },
        "0ee35db301d44c148d95b8a5939d4b2f": {
          "model_module": "@jupyter-widgets/controls",
          "model_name": "HTMLModel",
          "model_module_version": "1.5.0",
          "state": {
            "_view_name": "HTMLView",
            "style": "IPY_MODEL_5ec09bfbc6914c7eb5550c5d72facc9e",
            "_dom_classes": [],
            "description": "",
            "_model_name": "HTMLModel",
            "placeholder": "​",
            "_view_module": "@jupyter-widgets/controls",
            "_model_module_version": "1.5.0",
            "value": "Downloading: 100%",
            "_view_count": null,
            "_view_module_version": "1.5.0",
            "description_tooltip": null,
            "_model_module": "@jupyter-widgets/controls",
            "layout": "IPY_MODEL_be8b0629b8304da191a7b0adef658b26"
          }
        },
        "c2419430789a410a8866824dcbe05274": {
          "model_module": "@jupyter-widgets/controls",
          "model_name": "FloatProgressModel",
          "model_module_version": "1.5.0",
          "state": {
            "_view_name": "ProgressView",
            "style": "IPY_MODEL_da3da104b8fb4b8ea923e211f422e188",
            "_dom_classes": [],
            "description": "",
            "_model_name": "FloatProgressModel",
            "bar_style": "success",
            "max": 122,
            "_view_module": "@jupyter-widgets/controls",
            "_model_module_version": "1.5.0",
            "value": 122,
            "_view_count": null,
            "_view_module_version": "1.5.0",
            "orientation": "horizontal",
            "min": 0,
            "description_tooltip": null,
            "_model_module": "@jupyter-widgets/controls",
            "layout": "IPY_MODEL_797002432bdc46cd82d90fa6ebb88525"
          }
        },
        "5d55185114d74c548e17bda88f6e6d0f": {
          "model_module": "@jupyter-widgets/controls",
          "model_name": "HTMLModel",
          "model_module_version": "1.5.0",
          "state": {
            "_view_name": "HTMLView",
            "style": "IPY_MODEL_49d00f2c7e0b4b0daf9e90d5a18dd2f0",
            "_dom_classes": [],
            "description": "",
            "_model_name": "HTMLModel",
            "placeholder": "​",
            "_view_module": "@jupyter-widgets/controls",
            "_model_module_version": "1.5.0",
            "value": " 122/122 [00:00&lt;00:00, 2.42kB/s]",
            "_view_count": null,
            "_view_module_version": "1.5.0",
            "description_tooltip": null,
            "_model_module": "@jupyter-widgets/controls",
            "layout": "IPY_MODEL_a7c59731f3e44e8087830775f4f0289d"
          }
        },
        "5ec09bfbc6914c7eb5550c5d72facc9e": {
          "model_module": "@jupyter-widgets/controls",
          "model_name": "DescriptionStyleModel",
          "model_module_version": "1.5.0",
          "state": {
            "_view_name": "StyleView",
            "_model_name": "DescriptionStyleModel",
            "description_width": "",
            "_view_module": "@jupyter-widgets/base",
            "_model_module_version": "1.5.0",
            "_view_count": null,
            "_view_module_version": "1.2.0",
            "_model_module": "@jupyter-widgets/controls"
          }
        },
        "be8b0629b8304da191a7b0adef658b26": {
          "model_module": "@jupyter-widgets/base",
          "model_name": "LayoutModel",
          "model_module_version": "1.2.0",
          "state": {
            "_view_name": "LayoutView",
            "grid_template_rows": null,
            "right": null,
            "justify_content": null,
            "_view_module": "@jupyter-widgets/base",
            "overflow": null,
            "_model_module_version": "1.2.0",
            "_view_count": null,
            "flex_flow": null,
            "width": null,
            "min_width": null,
            "border": null,
            "align_items": null,
            "bottom": null,
            "_model_module": "@jupyter-widgets/base",
            "top": null,
            "grid_column": null,
            "overflow_y": null,
            "overflow_x": null,
            "grid_auto_flow": null,
            "grid_area": null,
            "grid_template_columns": null,
            "flex": null,
            "_model_name": "LayoutModel",
            "justify_items": null,
            "grid_row": null,
            "max_height": null,
            "align_content": null,
            "visibility": null,
            "align_self": null,
            "height": null,
            "min_height": null,
            "padding": null,
            "grid_auto_rows": null,
            "grid_gap": null,
            "max_width": null,
            "order": null,
            "_view_module_version": "1.2.0",
            "grid_template_areas": null,
            "object_position": null,
            "object_fit": null,
            "grid_auto_columns": null,
            "margin": null,
            "display": null,
            "left": null
          }
        },
        "da3da104b8fb4b8ea923e211f422e188": {
          "model_module": "@jupyter-widgets/controls",
          "model_name": "ProgressStyleModel",
          "model_module_version": "1.5.0",
          "state": {
            "_view_name": "StyleView",
            "_model_name": "ProgressStyleModel",
            "description_width": "",
            "_view_module": "@jupyter-widgets/base",
            "_model_module_version": "1.5.0",
            "_view_count": null,
            "_view_module_version": "1.2.0",
            "bar_color": null,
            "_model_module": "@jupyter-widgets/controls"
          }
        },
        "797002432bdc46cd82d90fa6ebb88525": {
          "model_module": "@jupyter-widgets/base",
          "model_name": "LayoutModel",
          "model_module_version": "1.2.0",
          "state": {
            "_view_name": "LayoutView",
            "grid_template_rows": null,
            "right": null,
            "justify_content": null,
            "_view_module": "@jupyter-widgets/base",
            "overflow": null,
            "_model_module_version": "1.2.0",
            "_view_count": null,
            "flex_flow": null,
            "width": null,
            "min_width": null,
            "border": null,
            "align_items": null,
            "bottom": null,
            "_model_module": "@jupyter-widgets/base",
            "top": null,
            "grid_column": null,
            "overflow_y": null,
            "overflow_x": null,
            "grid_auto_flow": null,
            "grid_area": null,
            "grid_template_columns": null,
            "flex": null,
            "_model_name": "LayoutModel",
            "justify_items": null,
            "grid_row": null,
            "max_height": null,
            "align_content": null,
            "visibility": null,
            "align_self": null,
            "height": null,
            "min_height": null,
            "padding": null,
            "grid_auto_rows": null,
            "grid_gap": null,
            "max_width": null,
            "order": null,
            "_view_module_version": "1.2.0",
            "grid_template_areas": null,
            "object_position": null,
            "object_fit": null,
            "grid_auto_columns": null,
            "margin": null,
            "display": null,
            "left": null
          }
        },
        "49d00f2c7e0b4b0daf9e90d5a18dd2f0": {
          "model_module": "@jupyter-widgets/controls",
          "model_name": "DescriptionStyleModel",
          "model_module_version": "1.5.0",
          "state": {
            "_view_name": "StyleView",
            "_model_name": "DescriptionStyleModel",
            "description_width": "",
            "_view_module": "@jupyter-widgets/base",
            "_model_module_version": "1.5.0",
            "_view_count": null,
            "_view_module_version": "1.2.0",
            "_model_module": "@jupyter-widgets/controls"
          }
        },
        "a7c59731f3e44e8087830775f4f0289d": {
          "model_module": "@jupyter-widgets/base",
          "model_name": "LayoutModel",
          "model_module_version": "1.2.0",
          "state": {
            "_view_name": "LayoutView",
            "grid_template_rows": null,
            "right": null,
            "justify_content": null,
            "_view_module": "@jupyter-widgets/base",
            "overflow": null,
            "_model_module_version": "1.2.0",
            "_view_count": null,
            "flex_flow": null,
            "width": null,
            "min_width": null,
            "border": null,
            "align_items": null,
            "bottom": null,
            "_model_module": "@jupyter-widgets/base",
            "top": null,
            "grid_column": null,
            "overflow_y": null,
            "overflow_x": null,
            "grid_auto_flow": null,
            "grid_area": null,
            "grid_template_columns": null,
            "flex": null,
            "_model_name": "LayoutModel",
            "justify_items": null,
            "grid_row": null,
            "max_height": null,
            "align_content": null,
            "visibility": null,
            "align_self": null,
            "height": null,
            "min_height": null,
            "padding": null,
            "grid_auto_rows": null,
            "grid_gap": null,
            "max_width": null,
            "order": null,
            "_view_module_version": "1.2.0",
            "grid_template_areas": null,
            "object_position": null,
            "object_fit": null,
            "grid_auto_columns": null,
            "margin": null,
            "display": null,
            "left": null
          }
        },
        "6a0b6eaec079408dae4cb723fa3e9a6f": {
          "model_module": "@jupyter-widgets/controls",
          "model_name": "HBoxModel",
          "model_module_version": "1.5.0",
          "state": {
            "_view_name": "HBoxView",
            "_dom_classes": [],
            "_model_name": "HBoxModel",
            "_view_module": "@jupyter-widgets/controls",
            "_model_module_version": "1.5.0",
            "_view_count": null,
            "_view_module_version": "1.5.0",
            "box_style": "",
            "layout": "IPY_MODEL_234df277e74c44618135f5e58661640a",
            "_model_module": "@jupyter-widgets/controls",
            "children": [
              "IPY_MODEL_b900d34cc0a34ce9a4dd50d62fd1fe67",
              "IPY_MODEL_4f9e4d03b9134bf4b38b527acaf1205d",
              "IPY_MODEL_91ea84de82e44036b1494d6d46de556f"
            ]
          }
        },
        "234df277e74c44618135f5e58661640a": {
          "model_module": "@jupyter-widgets/base",
          "model_name": "LayoutModel",
          "model_module_version": "1.2.0",
          "state": {
            "_view_name": "LayoutView",
            "grid_template_rows": null,
            "right": null,
            "justify_content": null,
            "_view_module": "@jupyter-widgets/base",
            "overflow": null,
            "_model_module_version": "1.2.0",
            "_view_count": null,
            "flex_flow": null,
            "width": null,
            "min_width": null,
            "border": null,
            "align_items": null,
            "bottom": null,
            "_model_module": "@jupyter-widgets/base",
            "top": null,
            "grid_column": null,
            "overflow_y": null,
            "overflow_x": null,
            "grid_auto_flow": null,
            "grid_area": null,
            "grid_template_columns": null,
            "flex": null,
            "_model_name": "LayoutModel",
            "justify_items": null,
            "grid_row": null,
            "max_height": null,
            "align_content": null,
            "visibility": null,
            "align_self": null,
            "height": null,
            "min_height": null,
            "padding": null,
            "grid_auto_rows": null,
            "grid_gap": null,
            "max_width": null,
            "order": null,
            "_view_module_version": "1.2.0",
            "grid_template_areas": null,
            "object_position": null,
            "object_fit": null,
            "grid_auto_columns": null,
            "margin": null,
            "display": null,
            "left": null
          }
        },
        "b900d34cc0a34ce9a4dd50d62fd1fe67": {
          "model_module": "@jupyter-widgets/controls",
          "model_name": "HTMLModel",
          "model_module_version": "1.5.0",
          "state": {
            "_view_name": "HTMLView",
            "style": "IPY_MODEL_311a577a2d274006a4dd37b2f8f228a9",
            "_dom_classes": [],
            "description": "",
            "_model_name": "HTMLModel",
            "placeholder": "​",
            "_view_module": "@jupyter-widgets/controls",
            "_model_module_version": "1.5.0",
            "value": "Downloading: 100%",
            "_view_count": null,
            "_view_module_version": "1.5.0",
            "description_tooltip": null,
            "_model_module": "@jupyter-widgets/controls",
            "layout": "IPY_MODEL_b5368cdbf6754517afc3c220066d9a70"
          }
        },
        "4f9e4d03b9134bf4b38b527acaf1205d": {
          "model_module": "@jupyter-widgets/controls",
          "model_name": "FloatProgressModel",
          "model_module_version": "1.5.0",
          "state": {
            "_view_name": "ProgressView",
            "style": "IPY_MODEL_e83195ec58c248e5b7c521dda98c3322",
            "_dom_classes": [],
            "description": "",
            "_model_name": "FloatProgressModel",
            "bar_style": "success",
            "max": 341,
            "_view_module": "@jupyter-widgets/controls",
            "_model_module_version": "1.5.0",
            "value": 341,
            "_view_count": null,
            "_view_module_version": "1.5.0",
            "orientation": "horizontal",
            "min": 0,
            "description_tooltip": null,
            "_model_module": "@jupyter-widgets/controls",
            "layout": "IPY_MODEL_b65df0d4932d4ee8906461b52029623d"
          }
        },
        "91ea84de82e44036b1494d6d46de556f": {
          "model_module": "@jupyter-widgets/controls",
          "model_name": "HTMLModel",
          "model_module_version": "1.5.0",
          "state": {
            "_view_name": "HTMLView",
            "style": "IPY_MODEL_b9844e5e0f144709b0b6fb5fc39f0506",
            "_dom_classes": [],
            "description": "",
            "_model_name": "HTMLModel",
            "placeholder": "​",
            "_view_module": "@jupyter-widgets/controls",
            "_model_module_version": "1.5.0",
            "value": " 341/341 [00:00&lt;00:00, 8.48kB/s]",
            "_view_count": null,
            "_view_module_version": "1.5.0",
            "description_tooltip": null,
            "_model_module": "@jupyter-widgets/controls",
            "layout": "IPY_MODEL_2fd279164ad142d7a163fbb638fa01e4"
          }
        },
        "311a577a2d274006a4dd37b2f8f228a9": {
          "model_module": "@jupyter-widgets/controls",
          "model_name": "DescriptionStyleModel",
          "model_module_version": "1.5.0",
          "state": {
            "_view_name": "StyleView",
            "_model_name": "DescriptionStyleModel",
            "description_width": "",
            "_view_module": "@jupyter-widgets/base",
            "_model_module_version": "1.5.0",
            "_view_count": null,
            "_view_module_version": "1.2.0",
            "_model_module": "@jupyter-widgets/controls"
          }
        },
        "b5368cdbf6754517afc3c220066d9a70": {
          "model_module": "@jupyter-widgets/base",
          "model_name": "LayoutModel",
          "model_module_version": "1.2.0",
          "state": {
            "_view_name": "LayoutView",
            "grid_template_rows": null,
            "right": null,
            "justify_content": null,
            "_view_module": "@jupyter-widgets/base",
            "overflow": null,
            "_model_module_version": "1.2.0",
            "_view_count": null,
            "flex_flow": null,
            "width": null,
            "min_width": null,
            "border": null,
            "align_items": null,
            "bottom": null,
            "_model_module": "@jupyter-widgets/base",
            "top": null,
            "grid_column": null,
            "overflow_y": null,
            "overflow_x": null,
            "grid_auto_flow": null,
            "grid_area": null,
            "grid_template_columns": null,
            "flex": null,
            "_model_name": "LayoutModel",
            "justify_items": null,
            "grid_row": null,
            "max_height": null,
            "align_content": null,
            "visibility": null,
            "align_self": null,
            "height": null,
            "min_height": null,
            "padding": null,
            "grid_auto_rows": null,
            "grid_gap": null,
            "max_width": null,
            "order": null,
            "_view_module_version": "1.2.0",
            "grid_template_areas": null,
            "object_position": null,
            "object_fit": null,
            "grid_auto_columns": null,
            "margin": null,
            "display": null,
            "left": null
          }
        },
        "e83195ec58c248e5b7c521dda98c3322": {
          "model_module": "@jupyter-widgets/controls",
          "model_name": "ProgressStyleModel",
          "model_module_version": "1.5.0",
          "state": {
            "_view_name": "StyleView",
            "_model_name": "ProgressStyleModel",
            "description_width": "",
            "_view_module": "@jupyter-widgets/base",
            "_model_module_version": "1.5.0",
            "_view_count": null,
            "_view_module_version": "1.2.0",
            "bar_color": null,
            "_model_module": "@jupyter-widgets/controls"
          }
        },
        "b65df0d4932d4ee8906461b52029623d": {
          "model_module": "@jupyter-widgets/base",
          "model_name": "LayoutModel",
          "model_module_version": "1.2.0",
          "state": {
            "_view_name": "LayoutView",
            "grid_template_rows": null,
            "right": null,
            "justify_content": null,
            "_view_module": "@jupyter-widgets/base",
            "overflow": null,
            "_model_module_version": "1.2.0",
            "_view_count": null,
            "flex_flow": null,
            "width": null,
            "min_width": null,
            "border": null,
            "align_items": null,
            "bottom": null,
            "_model_module": "@jupyter-widgets/base",
            "top": null,
            "grid_column": null,
            "overflow_y": null,
            "overflow_x": null,
            "grid_auto_flow": null,
            "grid_area": null,
            "grid_template_columns": null,
            "flex": null,
            "_model_name": "LayoutModel",
            "justify_items": null,
            "grid_row": null,
            "max_height": null,
            "align_content": null,
            "visibility": null,
            "align_self": null,
            "height": null,
            "min_height": null,
            "padding": null,
            "grid_auto_rows": null,
            "grid_gap": null,
            "max_width": null,
            "order": null,
            "_view_module_version": "1.2.0",
            "grid_template_areas": null,
            "object_position": null,
            "object_fit": null,
            "grid_auto_columns": null,
            "margin": null,
            "display": null,
            "left": null
          }
        },
        "b9844e5e0f144709b0b6fb5fc39f0506": {
          "model_module": "@jupyter-widgets/controls",
          "model_name": "DescriptionStyleModel",
          "model_module_version": "1.5.0",
          "state": {
            "_view_name": "StyleView",
            "_model_name": "DescriptionStyleModel",
            "description_width": "",
            "_view_module": "@jupyter-widgets/base",
            "_model_module_version": "1.5.0",
            "_view_count": null,
            "_view_module_version": "1.2.0",
            "_model_module": "@jupyter-widgets/controls"
          }
        },
        "2fd279164ad142d7a163fbb638fa01e4": {
          "model_module": "@jupyter-widgets/base",
          "model_name": "LayoutModel",
          "model_module_version": "1.2.0",
          "state": {
            "_view_name": "LayoutView",
            "grid_template_rows": null,
            "right": null,
            "justify_content": null,
            "_view_module": "@jupyter-widgets/base",
            "overflow": null,
            "_model_module_version": "1.2.0",
            "_view_count": null,
            "flex_flow": null,
            "width": null,
            "min_width": null,
            "border": null,
            "align_items": null,
            "bottom": null,
            "_model_module": "@jupyter-widgets/base",
            "top": null,
            "grid_column": null,
            "overflow_y": null,
            "overflow_x": null,
            "grid_auto_flow": null,
            "grid_area": null,
            "grid_template_columns": null,
            "flex": null,
            "_model_name": "LayoutModel",
            "justify_items": null,
            "grid_row": null,
            "max_height": null,
            "align_content": null,
            "visibility": null,
            "align_self": null,
            "height": null,
            "min_height": null,
            "padding": null,
            "grid_auto_rows": null,
            "grid_gap": null,
            "max_width": null,
            "order": null,
            "_view_module_version": "1.2.0",
            "grid_template_areas": null,
            "object_position": null,
            "object_fit": null,
            "grid_auto_columns": null,
            "margin": null,
            "display": null,
            "left": null
          }
        },
        "0e3393eace9245ed8a2fd0ef9d39ed02": {
          "model_module": "@jupyter-widgets/controls",
          "model_name": "HBoxModel",
          "model_module_version": "1.5.0",
          "state": {
            "_view_name": "HBoxView",
            "_dom_classes": [],
            "_model_name": "HBoxModel",
            "_view_module": "@jupyter-widgets/controls",
            "_model_module_version": "1.5.0",
            "_view_count": null,
            "_view_module_version": "1.5.0",
            "box_style": "",
            "layout": "IPY_MODEL_1ed74817a8044c62b18bb786ec80f57f",
            "_model_module": "@jupyter-widgets/controls",
            "children": [
              "IPY_MODEL_4dce01d7794342edb2d1a1e62c876516",
              "IPY_MODEL_5ac71d52206b4a7081a9fd992bd58d14",
              "IPY_MODEL_c06843b3ffc344c98073a30cd4d140bf"
            ]
          }
        },
        "1ed74817a8044c62b18bb786ec80f57f": {
          "model_module": "@jupyter-widgets/base",
          "model_name": "LayoutModel",
          "model_module_version": "1.2.0",
          "state": {
            "_view_name": "LayoutView",
            "grid_template_rows": null,
            "right": null,
            "justify_content": null,
            "_view_module": "@jupyter-widgets/base",
            "overflow": null,
            "_model_module_version": "1.2.0",
            "_view_count": null,
            "flex_flow": null,
            "width": null,
            "min_width": null,
            "border": null,
            "align_items": null,
            "bottom": null,
            "_model_module": "@jupyter-widgets/base",
            "top": null,
            "grid_column": null,
            "overflow_y": null,
            "overflow_x": null,
            "grid_auto_flow": null,
            "grid_area": null,
            "grid_template_columns": null,
            "flex": null,
            "_model_name": "LayoutModel",
            "justify_items": null,
            "grid_row": null,
            "max_height": null,
            "align_content": null,
            "visibility": null,
            "align_self": null,
            "height": null,
            "min_height": null,
            "padding": null,
            "grid_auto_rows": null,
            "grid_gap": null,
            "max_width": null,
            "order": null,
            "_view_module_version": "1.2.0",
            "grid_template_areas": null,
            "object_position": null,
            "object_fit": null,
            "grid_auto_columns": null,
            "margin": null,
            "display": null,
            "left": null
          }
        },
        "4dce01d7794342edb2d1a1e62c876516": {
          "model_module": "@jupyter-widgets/controls",
          "model_name": "HTMLModel",
          "model_module_version": "1.5.0",
          "state": {
            "_view_name": "HTMLView",
            "style": "IPY_MODEL_6a684d84f26f4b3498a2fdf83ad30218",
            "_dom_classes": [],
            "description": "",
            "_model_name": "HTMLModel",
            "placeholder": "​",
            "_view_module": "@jupyter-widgets/controls",
            "_model_module_version": "1.5.0",
            "value": "Downloading: 100%",
            "_view_count": null,
            "_view_module_version": "1.5.0",
            "description_tooltip": null,
            "_model_module": "@jupyter-widgets/controls",
            "layout": "IPY_MODEL_0b95185a19894318adbed7a11822e22f"
          }
        },
        "5ac71d52206b4a7081a9fd992bd58d14": {
          "model_module": "@jupyter-widgets/controls",
          "model_name": "FloatProgressModel",
          "model_module_version": "1.5.0",
          "state": {
            "_view_name": "ProgressView",
            "style": "IPY_MODEL_54fa8dfe983e4b5c998d74b4562468bd",
            "_dom_classes": [],
            "description": "",
            "_model_name": "FloatProgressModel",
            "bar_style": "success",
            "max": 265486777,
            "_view_module": "@jupyter-widgets/controls",
            "_model_module_version": "1.5.0",
            "value": 265486777,
            "_view_count": null,
            "_view_module_version": "1.5.0",
            "orientation": "horizontal",
            "min": 0,
            "description_tooltip": null,
            "_model_module": "@jupyter-widgets/controls",
            "layout": "IPY_MODEL_1ea52c38c2024ea7a542254548668957"
          }
        },
        "c06843b3ffc344c98073a30cd4d140bf": {
          "model_module": "@jupyter-widgets/controls",
          "model_name": "HTMLModel",
          "model_module_version": "1.5.0",
          "state": {
            "_view_name": "HTMLView",
            "style": "IPY_MODEL_3b49113104504f7587515b98c8904ab7",
            "_dom_classes": [],
            "description": "",
            "_model_name": "HTMLModel",
            "placeholder": "​",
            "_view_module": "@jupyter-widgets/controls",
            "_model_module_version": "1.5.0",
            "value": " 265M/265M [00:09&lt;00:00, 27.3MB/s]",
            "_view_count": null,
            "_view_module_version": "1.5.0",
            "description_tooltip": null,
            "_model_module": "@jupyter-widgets/controls",
            "layout": "IPY_MODEL_b4c5f3ff71f044259f2588e2b3d061f5"
          }
        },
        "6a684d84f26f4b3498a2fdf83ad30218": {
          "model_module": "@jupyter-widgets/controls",
          "model_name": "DescriptionStyleModel",
          "model_module_version": "1.5.0",
          "state": {
            "_view_name": "StyleView",
            "_model_name": "DescriptionStyleModel",
            "description_width": "",
            "_view_module": "@jupyter-widgets/base",
            "_model_module_version": "1.5.0",
            "_view_count": null,
            "_view_module_version": "1.2.0",
            "_model_module": "@jupyter-widgets/controls"
          }
        },
        "0b95185a19894318adbed7a11822e22f": {
          "model_module": "@jupyter-widgets/base",
          "model_name": "LayoutModel",
          "model_module_version": "1.2.0",
          "state": {
            "_view_name": "LayoutView",
            "grid_template_rows": null,
            "right": null,
            "justify_content": null,
            "_view_module": "@jupyter-widgets/base",
            "overflow": null,
            "_model_module_version": "1.2.0",
            "_view_count": null,
            "flex_flow": null,
            "width": null,
            "min_width": null,
            "border": null,
            "align_items": null,
            "bottom": null,
            "_model_module": "@jupyter-widgets/base",
            "top": null,
            "grid_column": null,
            "overflow_y": null,
            "overflow_x": null,
            "grid_auto_flow": null,
            "grid_area": null,
            "grid_template_columns": null,
            "flex": null,
            "_model_name": "LayoutModel",
            "justify_items": null,
            "grid_row": null,
            "max_height": null,
            "align_content": null,
            "visibility": null,
            "align_self": null,
            "height": null,
            "min_height": null,
            "padding": null,
            "grid_auto_rows": null,
            "grid_gap": null,
            "max_width": null,
            "order": null,
            "_view_module_version": "1.2.0",
            "grid_template_areas": null,
            "object_position": null,
            "object_fit": null,
            "grid_auto_columns": null,
            "margin": null,
            "display": null,
            "left": null
          }
        },
        "54fa8dfe983e4b5c998d74b4562468bd": {
          "model_module": "@jupyter-widgets/controls",
          "model_name": "ProgressStyleModel",
          "model_module_version": "1.5.0",
          "state": {
            "_view_name": "StyleView",
            "_model_name": "ProgressStyleModel",
            "description_width": "",
            "_view_module": "@jupyter-widgets/base",
            "_model_module_version": "1.5.0",
            "_view_count": null,
            "_view_module_version": "1.2.0",
            "bar_color": null,
            "_model_module": "@jupyter-widgets/controls"
          }
        },
        "1ea52c38c2024ea7a542254548668957": {
          "model_module": "@jupyter-widgets/base",
          "model_name": "LayoutModel",
          "model_module_version": "1.2.0",
          "state": {
            "_view_name": "LayoutView",
            "grid_template_rows": null,
            "right": null,
            "justify_content": null,
            "_view_module": "@jupyter-widgets/base",
            "overflow": null,
            "_model_module_version": "1.2.0",
            "_view_count": null,
            "flex_flow": null,
            "width": null,
            "min_width": null,
            "border": null,
            "align_items": null,
            "bottom": null,
            "_model_module": "@jupyter-widgets/base",
            "top": null,
            "grid_column": null,
            "overflow_y": null,
            "overflow_x": null,
            "grid_auto_flow": null,
            "grid_area": null,
            "grid_template_columns": null,
            "flex": null,
            "_model_name": "LayoutModel",
            "justify_items": null,
            "grid_row": null,
            "max_height": null,
            "align_content": null,
            "visibility": null,
            "align_self": null,
            "height": null,
            "min_height": null,
            "padding": null,
            "grid_auto_rows": null,
            "grid_gap": null,
            "max_width": null,
            "order": null,
            "_view_module_version": "1.2.0",
            "grid_template_areas": null,
            "object_position": null,
            "object_fit": null,
            "grid_auto_columns": null,
            "margin": null,
            "display": null,
            "left": null
          }
        },
        "3b49113104504f7587515b98c8904ab7": {
          "model_module": "@jupyter-widgets/controls",
          "model_name": "DescriptionStyleModel",
          "model_module_version": "1.5.0",
          "state": {
            "_view_name": "StyleView",
            "_model_name": "DescriptionStyleModel",
            "description_width": "",
            "_view_module": "@jupyter-widgets/base",
            "_model_module_version": "1.5.0",
            "_view_count": null,
            "_view_module_version": "1.2.0",
            "_model_module": "@jupyter-widgets/controls"
          }
        },
        "b4c5f3ff71f044259f2588e2b3d061f5": {
          "model_module": "@jupyter-widgets/base",
          "model_name": "LayoutModel",
          "model_module_version": "1.2.0",
          "state": {
            "_view_name": "LayoutView",
            "grid_template_rows": null,
            "right": null,
            "justify_content": null,
            "_view_module": "@jupyter-widgets/base",
            "overflow": null,
            "_model_module_version": "1.2.0",
            "_view_count": null,
            "flex_flow": null,
            "width": null,
            "min_width": null,
            "border": null,
            "align_items": null,
            "bottom": null,
            "_model_module": "@jupyter-widgets/base",
            "top": null,
            "grid_column": null,
            "overflow_y": null,
            "overflow_x": null,
            "grid_auto_flow": null,
            "grid_area": null,
            "grid_template_columns": null,
            "flex": null,
            "_model_name": "LayoutModel",
            "justify_items": null,
            "grid_row": null,
            "max_height": null,
            "align_content": null,
            "visibility": null,
            "align_self": null,
            "height": null,
            "min_height": null,
            "padding": null,
            "grid_auto_rows": null,
            "grid_gap": null,
            "max_width": null,
            "order": null,
            "_view_module_version": "1.2.0",
            "grid_template_areas": null,
            "object_position": null,
            "object_fit": null,
            "grid_auto_columns": null,
            "margin": null,
            "display": null,
            "left": null
          }
        },
        "1f0f116386ae4414a99959b2f5c5013b": {
          "model_module": "@jupyter-widgets/controls",
          "model_name": "HBoxModel",
          "model_module_version": "1.5.0",
          "state": {
            "_view_name": "HBoxView",
            "_dom_classes": [],
            "_model_name": "HBoxModel",
            "_view_module": "@jupyter-widgets/controls",
            "_model_module_version": "1.5.0",
            "_view_count": null,
            "_view_module_version": "1.5.0",
            "box_style": "",
            "layout": "IPY_MODEL_0281f7d2bf814b76a0f11efd9af6d5a5",
            "_model_module": "@jupyter-widgets/controls",
            "children": [
              "IPY_MODEL_f3ec0ae4b65c4984bbba0f0406f3341a",
              "IPY_MODEL_898d020963d54b7bb3dd1ef60cfd41d7",
              "IPY_MODEL_a650215c5ed540778b1b21b2e95ea1af"
            ]
          }
        },
        "0281f7d2bf814b76a0f11efd9af6d5a5": {
          "model_module": "@jupyter-widgets/base",
          "model_name": "LayoutModel",
          "model_module_version": "1.2.0",
          "state": {
            "_view_name": "LayoutView",
            "grid_template_rows": null,
            "right": null,
            "justify_content": null,
            "_view_module": "@jupyter-widgets/base",
            "overflow": null,
            "_model_module_version": "1.2.0",
            "_view_count": null,
            "flex_flow": null,
            "width": null,
            "min_width": null,
            "border": null,
            "align_items": null,
            "bottom": null,
            "_model_module": "@jupyter-widgets/base",
            "top": null,
            "grid_column": null,
            "overflow_y": null,
            "overflow_x": null,
            "grid_auto_flow": null,
            "grid_area": null,
            "grid_template_columns": null,
            "flex": null,
            "_model_name": "LayoutModel",
            "justify_items": null,
            "grid_row": null,
            "max_height": null,
            "align_content": null,
            "visibility": null,
            "align_self": null,
            "height": null,
            "min_height": null,
            "padding": null,
            "grid_auto_rows": null,
            "grid_gap": null,
            "max_width": null,
            "order": null,
            "_view_module_version": "1.2.0",
            "grid_template_areas": null,
            "object_position": null,
            "object_fit": null,
            "grid_auto_columns": null,
            "margin": null,
            "display": null,
            "left": null
          }
        },
        "f3ec0ae4b65c4984bbba0f0406f3341a": {
          "model_module": "@jupyter-widgets/controls",
          "model_name": "HTMLModel",
          "model_module_version": "1.5.0",
          "state": {
            "_view_name": "HTMLView",
            "style": "IPY_MODEL_9018e63134fc4630815f822dcde46708",
            "_dom_classes": [],
            "description": "",
            "_model_name": "HTMLModel",
            "placeholder": "​",
            "_view_module": "@jupyter-widgets/controls",
            "_model_module_version": "1.5.0",
            "value": "Downloading: 100%",
            "_view_count": null,
            "_view_module_version": "1.5.0",
            "description_tooltip": null,
            "_model_module": "@jupyter-widgets/controls",
            "layout": "IPY_MODEL_73835268ff354f43b291f5bbec0321bb"
          }
        },
        "898d020963d54b7bb3dd1ef60cfd41d7": {
          "model_module": "@jupyter-widgets/controls",
          "model_name": "FloatProgressModel",
          "model_module_version": "1.5.0",
          "state": {
            "_view_name": "ProgressView",
            "style": "IPY_MODEL_c968295adabb42d18e8e62e1e088e839",
            "_dom_classes": [],
            "description": "",
            "_model_name": "FloatProgressModel",
            "bar_style": "success",
            "max": 53,
            "_view_module": "@jupyter-widgets/controls",
            "_model_module_version": "1.5.0",
            "value": 53,
            "_view_count": null,
            "_view_module_version": "1.5.0",
            "orientation": "horizontal",
            "min": 0,
            "description_tooltip": null,
            "_model_module": "@jupyter-widgets/controls",
            "layout": "IPY_MODEL_5fd7647b7ab641a2b540a601f216bda0"
          }
        },
        "a650215c5ed540778b1b21b2e95ea1af": {
          "model_module": "@jupyter-widgets/controls",
          "model_name": "HTMLModel",
          "model_module_version": "1.5.0",
          "state": {
            "_view_name": "HTMLView",
            "style": "IPY_MODEL_45285b10701e43828f8fbf5613830117",
            "_dom_classes": [],
            "description": "",
            "_model_name": "HTMLModel",
            "placeholder": "​",
            "_view_module": "@jupyter-widgets/controls",
            "_model_module_version": "1.5.0",
            "value": " 53.0/53.0 [00:00&lt;00:00, 1.11kB/s]",
            "_view_count": null,
            "_view_module_version": "1.5.0",
            "description_tooltip": null,
            "_model_module": "@jupyter-widgets/controls",
            "layout": "IPY_MODEL_9bad9ebf7afc409a8be7792eacf5795f"
          }
        },
        "9018e63134fc4630815f822dcde46708": {
          "model_module": "@jupyter-widgets/controls",
          "model_name": "DescriptionStyleModel",
          "model_module_version": "1.5.0",
          "state": {
            "_view_name": "StyleView",
            "_model_name": "DescriptionStyleModel",
            "description_width": "",
            "_view_module": "@jupyter-widgets/base",
            "_model_module_version": "1.5.0",
            "_view_count": null,
            "_view_module_version": "1.2.0",
            "_model_module": "@jupyter-widgets/controls"
          }
        },
        "73835268ff354f43b291f5bbec0321bb": {
          "model_module": "@jupyter-widgets/base",
          "model_name": "LayoutModel",
          "model_module_version": "1.2.0",
          "state": {
            "_view_name": "LayoutView",
            "grid_template_rows": null,
            "right": null,
            "justify_content": null,
            "_view_module": "@jupyter-widgets/base",
            "overflow": null,
            "_model_module_version": "1.2.0",
            "_view_count": null,
            "flex_flow": null,
            "width": null,
            "min_width": null,
            "border": null,
            "align_items": null,
            "bottom": null,
            "_model_module": "@jupyter-widgets/base",
            "top": null,
            "grid_column": null,
            "overflow_y": null,
            "overflow_x": null,
            "grid_auto_flow": null,
            "grid_area": null,
            "grid_template_columns": null,
            "flex": null,
            "_model_name": "LayoutModel",
            "justify_items": null,
            "grid_row": null,
            "max_height": null,
            "align_content": null,
            "visibility": null,
            "align_self": null,
            "height": null,
            "min_height": null,
            "padding": null,
            "grid_auto_rows": null,
            "grid_gap": null,
            "max_width": null,
            "order": null,
            "_view_module_version": "1.2.0",
            "grid_template_areas": null,
            "object_position": null,
            "object_fit": null,
            "grid_auto_columns": null,
            "margin": null,
            "display": null,
            "left": null
          }
        },
        "c968295adabb42d18e8e62e1e088e839": {
          "model_module": "@jupyter-widgets/controls",
          "model_name": "ProgressStyleModel",
          "model_module_version": "1.5.0",
          "state": {
            "_view_name": "StyleView",
            "_model_name": "ProgressStyleModel",
            "description_width": "",
            "_view_module": "@jupyter-widgets/base",
            "_model_module_version": "1.5.0",
            "_view_count": null,
            "_view_module_version": "1.2.0",
            "bar_color": null,
            "_model_module": "@jupyter-widgets/controls"
          }
        },
        "5fd7647b7ab641a2b540a601f216bda0": {
          "model_module": "@jupyter-widgets/base",
          "model_name": "LayoutModel",
          "model_module_version": "1.2.0",
          "state": {
            "_view_name": "LayoutView",
            "grid_template_rows": null,
            "right": null,
            "justify_content": null,
            "_view_module": "@jupyter-widgets/base",
            "overflow": null,
            "_model_module_version": "1.2.0",
            "_view_count": null,
            "flex_flow": null,
            "width": null,
            "min_width": null,
            "border": null,
            "align_items": null,
            "bottom": null,
            "_model_module": "@jupyter-widgets/base",
            "top": null,
            "grid_column": null,
            "overflow_y": null,
            "overflow_x": null,
            "grid_auto_flow": null,
            "grid_area": null,
            "grid_template_columns": null,
            "flex": null,
            "_model_name": "LayoutModel",
            "justify_items": null,
            "grid_row": null,
            "max_height": null,
            "align_content": null,
            "visibility": null,
            "align_self": null,
            "height": null,
            "min_height": null,
            "padding": null,
            "grid_auto_rows": null,
            "grid_gap": null,
            "max_width": null,
            "order": null,
            "_view_module_version": "1.2.0",
            "grid_template_areas": null,
            "object_position": null,
            "object_fit": null,
            "grid_auto_columns": null,
            "margin": null,
            "display": null,
            "left": null
          }
        },
        "45285b10701e43828f8fbf5613830117": {
          "model_module": "@jupyter-widgets/controls",
          "model_name": "DescriptionStyleModel",
          "model_module_version": "1.5.0",
          "state": {
            "_view_name": "StyleView",
            "_model_name": "DescriptionStyleModel",
            "description_width": "",
            "_view_module": "@jupyter-widgets/base",
            "_model_module_version": "1.5.0",
            "_view_count": null,
            "_view_module_version": "1.2.0",
            "_model_module": "@jupyter-widgets/controls"
          }
        },
        "9bad9ebf7afc409a8be7792eacf5795f": {
          "model_module": "@jupyter-widgets/base",
          "model_name": "LayoutModel",
          "model_module_version": "1.2.0",
          "state": {
            "_view_name": "LayoutView",
            "grid_template_rows": null,
            "right": null,
            "justify_content": null,
            "_view_module": "@jupyter-widgets/base",
            "overflow": null,
            "_model_module_version": "1.2.0",
            "_view_count": null,
            "flex_flow": null,
            "width": null,
            "min_width": null,
            "border": null,
            "align_items": null,
            "bottom": null,
            "_model_module": "@jupyter-widgets/base",
            "top": null,
            "grid_column": null,
            "overflow_y": null,
            "overflow_x": null,
            "grid_auto_flow": null,
            "grid_area": null,
            "grid_template_columns": null,
            "flex": null,
            "_model_name": "LayoutModel",
            "justify_items": null,
            "grid_row": null,
            "max_height": null,
            "align_content": null,
            "visibility": null,
            "align_self": null,
            "height": null,
            "min_height": null,
            "padding": null,
            "grid_auto_rows": null,
            "grid_gap": null,
            "max_width": null,
            "order": null,
            "_view_module_version": "1.2.0",
            "grid_template_areas": null,
            "object_position": null,
            "object_fit": null,
            "grid_auto_columns": null,
            "margin": null,
            "display": null,
            "left": null
          }
        },
        "08d40a7035264789ac73632cbc55edf8": {
          "model_module": "@jupyter-widgets/controls",
          "model_name": "HBoxModel",
          "model_module_version": "1.5.0",
          "state": {
            "_view_name": "HBoxView",
            "_dom_classes": [],
            "_model_name": "HBoxModel",
            "_view_module": "@jupyter-widgets/controls",
            "_model_module_version": "1.5.0",
            "_view_count": null,
            "_view_module_version": "1.5.0",
            "box_style": "",
            "layout": "IPY_MODEL_f0416469ff684c488553411cb2c6de42",
            "_model_module": "@jupyter-widgets/controls",
            "children": [
              "IPY_MODEL_b6f406cf3eb745c89ed31535fd1b04a1",
              "IPY_MODEL_2324f0ddeedd453da00e5168b82b760d",
              "IPY_MODEL_8dcae4c834fa4527a7d375f186426d0d"
            ]
          }
        },
        "f0416469ff684c488553411cb2c6de42": {
          "model_module": "@jupyter-widgets/base",
          "model_name": "LayoutModel",
          "model_module_version": "1.2.0",
          "state": {
            "_view_name": "LayoutView",
            "grid_template_rows": null,
            "right": null,
            "justify_content": null,
            "_view_module": "@jupyter-widgets/base",
            "overflow": null,
            "_model_module_version": "1.2.0",
            "_view_count": null,
            "flex_flow": null,
            "width": null,
            "min_width": null,
            "border": null,
            "align_items": null,
            "bottom": null,
            "_model_module": "@jupyter-widgets/base",
            "top": null,
            "grid_column": null,
            "overflow_y": null,
            "overflow_x": null,
            "grid_auto_flow": null,
            "grid_area": null,
            "grid_template_columns": null,
            "flex": null,
            "_model_name": "LayoutModel",
            "justify_items": null,
            "grid_row": null,
            "max_height": null,
            "align_content": null,
            "visibility": null,
            "align_self": null,
            "height": null,
            "min_height": null,
            "padding": null,
            "grid_auto_rows": null,
            "grid_gap": null,
            "max_width": null,
            "order": null,
            "_view_module_version": "1.2.0",
            "grid_template_areas": null,
            "object_position": null,
            "object_fit": null,
            "grid_auto_columns": null,
            "margin": null,
            "display": null,
            "left": null
          }
        },
        "b6f406cf3eb745c89ed31535fd1b04a1": {
          "model_module": "@jupyter-widgets/controls",
          "model_name": "HTMLModel",
          "model_module_version": "1.5.0",
          "state": {
            "_view_name": "HTMLView",
            "style": "IPY_MODEL_e7d91e7c396d416baa46f33466dd6179",
            "_dom_classes": [],
            "description": "",
            "_model_name": "HTMLModel",
            "placeholder": "​",
            "_view_module": "@jupyter-widgets/controls",
            "_model_module_version": "1.5.0",
            "value": "Downloading: 100%",
            "_view_count": null,
            "_view_module_version": "1.5.0",
            "description_tooltip": null,
            "_model_module": "@jupyter-widgets/controls",
            "layout": "IPY_MODEL_69da6f259e24462b8c135376adc07d8d"
          }
        },
        "2324f0ddeedd453da00e5168b82b760d": {
          "model_module": "@jupyter-widgets/controls",
          "model_name": "FloatProgressModel",
          "model_module_version": "1.5.0",
          "state": {
            "_view_name": "ProgressView",
            "style": "IPY_MODEL_a5ffa8f3131e4e5ab244c940a0fedd2a",
            "_dom_classes": [],
            "description": "",
            "_model_name": "FloatProgressModel",
            "bar_style": "success",
            "max": 112,
            "_view_module": "@jupyter-widgets/controls",
            "_model_module_version": "1.5.0",
            "value": 112,
            "_view_count": null,
            "_view_module_version": "1.5.0",
            "orientation": "horizontal",
            "min": 0,
            "description_tooltip": null,
            "_model_module": "@jupyter-widgets/controls",
            "layout": "IPY_MODEL_fb8851f145334b8f9be2d3070660d747"
          }
        },
        "8dcae4c834fa4527a7d375f186426d0d": {
          "model_module": "@jupyter-widgets/controls",
          "model_name": "HTMLModel",
          "model_module_version": "1.5.0",
          "state": {
            "_view_name": "HTMLView",
            "style": "IPY_MODEL_39b87b2ae64e494b91402c87d89123e5",
            "_dom_classes": [],
            "description": "",
            "_model_name": "HTMLModel",
            "placeholder": "​",
            "_view_module": "@jupyter-widgets/controls",
            "_model_module_version": "1.5.0",
            "value": " 112/112 [00:00&lt;00:00, 2.17kB/s]",
            "_view_count": null,
            "_view_module_version": "1.5.0",
            "description_tooltip": null,
            "_model_module": "@jupyter-widgets/controls",
            "layout": "IPY_MODEL_7121d2bfd0b2404f99d9c605a3b5a6ff"
          }
        },
        "e7d91e7c396d416baa46f33466dd6179": {
          "model_module": "@jupyter-widgets/controls",
          "model_name": "DescriptionStyleModel",
          "model_module_version": "1.5.0",
          "state": {
            "_view_name": "StyleView",
            "_model_name": "DescriptionStyleModel",
            "description_width": "",
            "_view_module": "@jupyter-widgets/base",
            "_model_module_version": "1.5.0",
            "_view_count": null,
            "_view_module_version": "1.2.0",
            "_model_module": "@jupyter-widgets/controls"
          }
        },
        "69da6f259e24462b8c135376adc07d8d": {
          "model_module": "@jupyter-widgets/base",
          "model_name": "LayoutModel",
          "model_module_version": "1.2.0",
          "state": {
            "_view_name": "LayoutView",
            "grid_template_rows": null,
            "right": null,
            "justify_content": null,
            "_view_module": "@jupyter-widgets/base",
            "overflow": null,
            "_model_module_version": "1.2.0",
            "_view_count": null,
            "flex_flow": null,
            "width": null,
            "min_width": null,
            "border": null,
            "align_items": null,
            "bottom": null,
            "_model_module": "@jupyter-widgets/base",
            "top": null,
            "grid_column": null,
            "overflow_y": null,
            "overflow_x": null,
            "grid_auto_flow": null,
            "grid_area": null,
            "grid_template_columns": null,
            "flex": null,
            "_model_name": "LayoutModel",
            "justify_items": null,
            "grid_row": null,
            "max_height": null,
            "align_content": null,
            "visibility": null,
            "align_self": null,
            "height": null,
            "min_height": null,
            "padding": null,
            "grid_auto_rows": null,
            "grid_gap": null,
            "max_width": null,
            "order": null,
            "_view_module_version": "1.2.0",
            "grid_template_areas": null,
            "object_position": null,
            "object_fit": null,
            "grid_auto_columns": null,
            "margin": null,
            "display": null,
            "left": null
          }
        },
        "a5ffa8f3131e4e5ab244c940a0fedd2a": {
          "model_module": "@jupyter-widgets/controls",
          "model_name": "ProgressStyleModel",
          "model_module_version": "1.5.0",
          "state": {
            "_view_name": "StyleView",
            "_model_name": "ProgressStyleModel",
            "description_width": "",
            "_view_module": "@jupyter-widgets/base",
            "_model_module_version": "1.5.0",
            "_view_count": null,
            "_view_module_version": "1.2.0",
            "bar_color": null,
            "_model_module": "@jupyter-widgets/controls"
          }
        },
        "fb8851f145334b8f9be2d3070660d747": {
          "model_module": "@jupyter-widgets/base",
          "model_name": "LayoutModel",
          "model_module_version": "1.2.0",
          "state": {
            "_view_name": "LayoutView",
            "grid_template_rows": null,
            "right": null,
            "justify_content": null,
            "_view_module": "@jupyter-widgets/base",
            "overflow": null,
            "_model_module_version": "1.2.0",
            "_view_count": null,
            "flex_flow": null,
            "width": null,
            "min_width": null,
            "border": null,
            "align_items": null,
            "bottom": null,
            "_model_module": "@jupyter-widgets/base",
            "top": null,
            "grid_column": null,
            "overflow_y": null,
            "overflow_x": null,
            "grid_auto_flow": null,
            "grid_area": null,
            "grid_template_columns": null,
            "flex": null,
            "_model_name": "LayoutModel",
            "justify_items": null,
            "grid_row": null,
            "max_height": null,
            "align_content": null,
            "visibility": null,
            "align_self": null,
            "height": null,
            "min_height": null,
            "padding": null,
            "grid_auto_rows": null,
            "grid_gap": null,
            "max_width": null,
            "order": null,
            "_view_module_version": "1.2.0",
            "grid_template_areas": null,
            "object_position": null,
            "object_fit": null,
            "grid_auto_columns": null,
            "margin": null,
            "display": null,
            "left": null
          }
        },
        "39b87b2ae64e494b91402c87d89123e5": {
          "model_module": "@jupyter-widgets/controls",
          "model_name": "DescriptionStyleModel",
          "model_module_version": "1.5.0",
          "state": {
            "_view_name": "StyleView",
            "_model_name": "DescriptionStyleModel",
            "description_width": "",
            "_view_module": "@jupyter-widgets/base",
            "_model_module_version": "1.5.0",
            "_view_count": null,
            "_view_module_version": "1.2.0",
            "_model_module": "@jupyter-widgets/controls"
          }
        },
        "7121d2bfd0b2404f99d9c605a3b5a6ff": {
          "model_module": "@jupyter-widgets/base",
          "model_name": "LayoutModel",
          "model_module_version": "1.2.0",
          "state": {
            "_view_name": "LayoutView",
            "grid_template_rows": null,
            "right": null,
            "justify_content": null,
            "_view_module": "@jupyter-widgets/base",
            "overflow": null,
            "_model_module_version": "1.2.0",
            "_view_count": null,
            "flex_flow": null,
            "width": null,
            "min_width": null,
            "border": null,
            "align_items": null,
            "bottom": null,
            "_model_module": "@jupyter-widgets/base",
            "top": null,
            "grid_column": null,
            "overflow_y": null,
            "overflow_x": null,
            "grid_auto_flow": null,
            "grid_area": null,
            "grid_template_columns": null,
            "flex": null,
            "_model_name": "LayoutModel",
            "justify_items": null,
            "grid_row": null,
            "max_height": null,
            "align_content": null,
            "visibility": null,
            "align_self": null,
            "height": null,
            "min_height": null,
            "padding": null,
            "grid_auto_rows": null,
            "grid_gap": null,
            "max_width": null,
            "order": null,
            "_view_module_version": "1.2.0",
            "grid_template_areas": null,
            "object_position": null,
            "object_fit": null,
            "grid_auto_columns": null,
            "margin": null,
            "display": null,
            "left": null
          }
        },
        "cdac8deffc154687adf58a6a4237370f": {
          "model_module": "@jupyter-widgets/controls",
          "model_name": "HBoxModel",
          "model_module_version": "1.5.0",
          "state": {
            "_view_name": "HBoxView",
            "_dom_classes": [],
            "_model_name": "HBoxModel",
            "_view_module": "@jupyter-widgets/controls",
            "_model_module_version": "1.5.0",
            "_view_count": null,
            "_view_module_version": "1.5.0",
            "box_style": "",
            "layout": "IPY_MODEL_81775db377064264a6d14354f21bc942",
            "_model_module": "@jupyter-widgets/controls",
            "children": [
              "IPY_MODEL_d39eea405ef94a30bf9d8bc0c37d0af3",
              "IPY_MODEL_863620684ea14fac97c533adca34e78a",
              "IPY_MODEL_aeca2fa943d9412990261d9c4eb895e0"
            ]
          }
        },
        "81775db377064264a6d14354f21bc942": {
          "model_module": "@jupyter-widgets/base",
          "model_name": "LayoutModel",
          "model_module_version": "1.2.0",
          "state": {
            "_view_name": "LayoutView",
            "grid_template_rows": null,
            "right": null,
            "justify_content": null,
            "_view_module": "@jupyter-widgets/base",
            "overflow": null,
            "_model_module_version": "1.2.0",
            "_view_count": null,
            "flex_flow": null,
            "width": null,
            "min_width": null,
            "border": null,
            "align_items": null,
            "bottom": null,
            "_model_module": "@jupyter-widgets/base",
            "top": null,
            "grid_column": null,
            "overflow_y": null,
            "overflow_x": null,
            "grid_auto_flow": null,
            "grid_area": null,
            "grid_template_columns": null,
            "flex": null,
            "_model_name": "LayoutModel",
            "justify_items": null,
            "grid_row": null,
            "max_height": null,
            "align_content": null,
            "visibility": null,
            "align_self": null,
            "height": null,
            "min_height": null,
            "padding": null,
            "grid_auto_rows": null,
            "grid_gap": null,
            "max_width": null,
            "order": null,
            "_view_module_version": "1.2.0",
            "grid_template_areas": null,
            "object_position": null,
            "object_fit": null,
            "grid_auto_columns": null,
            "margin": null,
            "display": null,
            "left": null
          }
        },
        "d39eea405ef94a30bf9d8bc0c37d0af3": {
          "model_module": "@jupyter-widgets/controls",
          "model_name": "HTMLModel",
          "model_module_version": "1.5.0",
          "state": {
            "_view_name": "HTMLView",
            "style": "IPY_MODEL_6f31990e083d42d2b6a5cc359cd57636",
            "_dom_classes": [],
            "description": "",
            "_model_name": "HTMLModel",
            "placeholder": "​",
            "_view_module": "@jupyter-widgets/controls",
            "_model_module_version": "1.5.0",
            "value": "Downloading: 100%",
            "_view_count": null,
            "_view_module_version": "1.5.0",
            "description_tooltip": null,
            "_model_module": "@jupyter-widgets/controls",
            "layout": "IPY_MODEL_ed64754bb5764b10975f3b5f36046a4d"
          }
        },
        "863620684ea14fac97c533adca34e78a": {
          "model_module": "@jupyter-widgets/controls",
          "model_name": "FloatProgressModel",
          "model_module_version": "1.5.0",
          "state": {
            "_view_name": "ProgressView",
            "style": "IPY_MODEL_a3abd16326b54a4a8008a3eca88c1ab0",
            "_dom_classes": [],
            "description": "",
            "_model_name": "FloatProgressModel",
            "bar_style": "success",
            "max": 466081,
            "_view_module": "@jupyter-widgets/controls",
            "_model_module_version": "1.5.0",
            "value": 466081,
            "_view_count": null,
            "_view_module_version": "1.5.0",
            "orientation": "horizontal",
            "min": 0,
            "description_tooltip": null,
            "_model_module": "@jupyter-widgets/controls",
            "layout": "IPY_MODEL_de9a9c097f5d4701a17efb4be4a2db96"
          }
        },
        "aeca2fa943d9412990261d9c4eb895e0": {
          "model_module": "@jupyter-widgets/controls",
          "model_name": "HTMLModel",
          "model_module_version": "1.5.0",
          "state": {
            "_view_name": "HTMLView",
            "style": "IPY_MODEL_6df397d767a04ed1860e584780369559",
            "_dom_classes": [],
            "description": "",
            "_model_name": "HTMLModel",
            "placeholder": "​",
            "_view_module": "@jupyter-widgets/controls",
            "_model_module_version": "1.5.0",
            "value": " 466k/466k [00:00&lt;00:00, 1.36MB/s]",
            "_view_count": null,
            "_view_module_version": "1.5.0",
            "description_tooltip": null,
            "_model_module": "@jupyter-widgets/controls",
            "layout": "IPY_MODEL_c2289d3dbb204fb599b69e0c3cee632e"
          }
        },
        "6f31990e083d42d2b6a5cc359cd57636": {
          "model_module": "@jupyter-widgets/controls",
          "model_name": "DescriptionStyleModel",
          "model_module_version": "1.5.0",
          "state": {
            "_view_name": "StyleView",
            "_model_name": "DescriptionStyleModel",
            "description_width": "",
            "_view_module": "@jupyter-widgets/base",
            "_model_module_version": "1.5.0",
            "_view_count": null,
            "_view_module_version": "1.2.0",
            "_model_module": "@jupyter-widgets/controls"
          }
        },
        "ed64754bb5764b10975f3b5f36046a4d": {
          "model_module": "@jupyter-widgets/base",
          "model_name": "LayoutModel",
          "model_module_version": "1.2.0",
          "state": {
            "_view_name": "LayoutView",
            "grid_template_rows": null,
            "right": null,
            "justify_content": null,
            "_view_module": "@jupyter-widgets/base",
            "overflow": null,
            "_model_module_version": "1.2.0",
            "_view_count": null,
            "flex_flow": null,
            "width": null,
            "min_width": null,
            "border": null,
            "align_items": null,
            "bottom": null,
            "_model_module": "@jupyter-widgets/base",
            "top": null,
            "grid_column": null,
            "overflow_y": null,
            "overflow_x": null,
            "grid_auto_flow": null,
            "grid_area": null,
            "grid_template_columns": null,
            "flex": null,
            "_model_name": "LayoutModel",
            "justify_items": null,
            "grid_row": null,
            "max_height": null,
            "align_content": null,
            "visibility": null,
            "align_self": null,
            "height": null,
            "min_height": null,
            "padding": null,
            "grid_auto_rows": null,
            "grid_gap": null,
            "max_width": null,
            "order": null,
            "_view_module_version": "1.2.0",
            "grid_template_areas": null,
            "object_position": null,
            "object_fit": null,
            "grid_auto_columns": null,
            "margin": null,
            "display": null,
            "left": null
          }
        },
        "a3abd16326b54a4a8008a3eca88c1ab0": {
          "model_module": "@jupyter-widgets/controls",
          "model_name": "ProgressStyleModel",
          "model_module_version": "1.5.0",
          "state": {
            "_view_name": "StyleView",
            "_model_name": "ProgressStyleModel",
            "description_width": "",
            "_view_module": "@jupyter-widgets/base",
            "_model_module_version": "1.5.0",
            "_view_count": null,
            "_view_module_version": "1.2.0",
            "bar_color": null,
            "_model_module": "@jupyter-widgets/controls"
          }
        },
        "de9a9c097f5d4701a17efb4be4a2db96": {
          "model_module": "@jupyter-widgets/base",
          "model_name": "LayoutModel",
          "model_module_version": "1.2.0",
          "state": {
            "_view_name": "LayoutView",
            "grid_template_rows": null,
            "right": null,
            "justify_content": null,
            "_view_module": "@jupyter-widgets/base",
            "overflow": null,
            "_model_module_version": "1.2.0",
            "_view_count": null,
            "flex_flow": null,
            "width": null,
            "min_width": null,
            "border": null,
            "align_items": null,
            "bottom": null,
            "_model_module": "@jupyter-widgets/base",
            "top": null,
            "grid_column": null,
            "overflow_y": null,
            "overflow_x": null,
            "grid_auto_flow": null,
            "grid_area": null,
            "grid_template_columns": null,
            "flex": null,
            "_model_name": "LayoutModel",
            "justify_items": null,
            "grid_row": null,
            "max_height": null,
            "align_content": null,
            "visibility": null,
            "align_self": null,
            "height": null,
            "min_height": null,
            "padding": null,
            "grid_auto_rows": null,
            "grid_gap": null,
            "max_width": null,
            "order": null,
            "_view_module_version": "1.2.0",
            "grid_template_areas": null,
            "object_position": null,
            "object_fit": null,
            "grid_auto_columns": null,
            "margin": null,
            "display": null,
            "left": null
          }
        },
        "6df397d767a04ed1860e584780369559": {
          "model_module": "@jupyter-widgets/controls",
          "model_name": "DescriptionStyleModel",
          "model_module_version": "1.5.0",
          "state": {
            "_view_name": "StyleView",
            "_model_name": "DescriptionStyleModel",
            "description_width": "",
            "_view_module": "@jupyter-widgets/base",
            "_model_module_version": "1.5.0",
            "_view_count": null,
            "_view_module_version": "1.2.0",
            "_model_module": "@jupyter-widgets/controls"
          }
        },
        "c2289d3dbb204fb599b69e0c3cee632e": {
          "model_module": "@jupyter-widgets/base",
          "model_name": "LayoutModel",
          "model_module_version": "1.2.0",
          "state": {
            "_view_name": "LayoutView",
            "grid_template_rows": null,
            "right": null,
            "justify_content": null,
            "_view_module": "@jupyter-widgets/base",
            "overflow": null,
            "_model_module_version": "1.2.0",
            "_view_count": null,
            "flex_flow": null,
            "width": null,
            "min_width": null,
            "border": null,
            "align_items": null,
            "bottom": null,
            "_model_module": "@jupyter-widgets/base",
            "top": null,
            "grid_column": null,
            "overflow_y": null,
            "overflow_x": null,
            "grid_auto_flow": null,
            "grid_area": null,
            "grid_template_columns": null,
            "flex": null,
            "_model_name": "LayoutModel",
            "justify_items": null,
            "grid_row": null,
            "max_height": null,
            "align_content": null,
            "visibility": null,
            "align_self": null,
            "height": null,
            "min_height": null,
            "padding": null,
            "grid_auto_rows": null,
            "grid_gap": null,
            "max_width": null,
            "order": null,
            "_view_module_version": "1.2.0",
            "grid_template_areas": null,
            "object_position": null,
            "object_fit": null,
            "grid_auto_columns": null,
            "margin": null,
            "display": null,
            "left": null
          }
        },
        "74408ac1b0b3408cb9f2b31b2c688ef8": {
          "model_module": "@jupyter-widgets/controls",
          "model_name": "HBoxModel",
          "model_module_version": "1.5.0",
          "state": {
            "_view_name": "HBoxView",
            "_dom_classes": [],
            "_model_name": "HBoxModel",
            "_view_module": "@jupyter-widgets/controls",
            "_model_module_version": "1.5.0",
            "_view_count": null,
            "_view_module_version": "1.5.0",
            "box_style": "",
            "layout": "IPY_MODEL_c294e73b25a74b73ba080dca46de9e4a",
            "_model_module": "@jupyter-widgets/controls",
            "children": [
              "IPY_MODEL_c5a471b01ad84bd791a78dee0f733713",
              "IPY_MODEL_a935cd134ab14034b2666933e0d95ce5",
              "IPY_MODEL_18e9c3dda7074e848f2a20fa5ca53f24"
            ]
          }
        },
        "c294e73b25a74b73ba080dca46de9e4a": {
          "model_module": "@jupyter-widgets/base",
          "model_name": "LayoutModel",
          "model_module_version": "1.2.0",
          "state": {
            "_view_name": "LayoutView",
            "grid_template_rows": null,
            "right": null,
            "justify_content": null,
            "_view_module": "@jupyter-widgets/base",
            "overflow": null,
            "_model_module_version": "1.2.0",
            "_view_count": null,
            "flex_flow": null,
            "width": null,
            "min_width": null,
            "border": null,
            "align_items": null,
            "bottom": null,
            "_model_module": "@jupyter-widgets/base",
            "top": null,
            "grid_column": null,
            "overflow_y": null,
            "overflow_x": null,
            "grid_auto_flow": null,
            "grid_area": null,
            "grid_template_columns": null,
            "flex": null,
            "_model_name": "LayoutModel",
            "justify_items": null,
            "grid_row": null,
            "max_height": null,
            "align_content": null,
            "visibility": null,
            "align_self": null,
            "height": null,
            "min_height": null,
            "padding": null,
            "grid_auto_rows": null,
            "grid_gap": null,
            "max_width": null,
            "order": null,
            "_view_module_version": "1.2.0",
            "grid_template_areas": null,
            "object_position": null,
            "object_fit": null,
            "grid_auto_columns": null,
            "margin": null,
            "display": null,
            "left": null
          }
        },
        "c5a471b01ad84bd791a78dee0f733713": {
          "model_module": "@jupyter-widgets/controls",
          "model_name": "HTMLModel",
          "model_module_version": "1.5.0",
          "state": {
            "_view_name": "HTMLView",
            "style": "IPY_MODEL_f818e9a6a51b4b6b867b0fb04993c38d",
            "_dom_classes": [],
            "description": "",
            "_model_name": "HTMLModel",
            "placeholder": "​",
            "_view_module": "@jupyter-widgets/controls",
            "_model_module_version": "1.5.0",
            "value": "Downloading: 100%",
            "_view_count": null,
            "_view_module_version": "1.5.0",
            "description_tooltip": null,
            "_model_module": "@jupyter-widgets/controls",
            "layout": "IPY_MODEL_af85d35a76cc4f6fb2dd966e3d4b146d"
          }
        },
        "a935cd134ab14034b2666933e0d95ce5": {
          "model_module": "@jupyter-widgets/controls",
          "model_name": "FloatProgressModel",
          "model_module_version": "1.5.0",
          "state": {
            "_view_name": "ProgressView",
            "style": "IPY_MODEL_ee2630d52a0148a2ad68522012f425ee",
            "_dom_classes": [],
            "description": "",
            "_model_name": "FloatProgressModel",
            "bar_style": "success",
            "max": 376,
            "_view_module": "@jupyter-widgets/controls",
            "_model_module_version": "1.5.0",
            "value": 376,
            "_view_count": null,
            "_view_module_version": "1.5.0",
            "orientation": "horizontal",
            "min": 0,
            "description_tooltip": null,
            "_model_module": "@jupyter-widgets/controls",
            "layout": "IPY_MODEL_e8753e6c341b4390b6db67d8312c2f50"
          }
        },
        "18e9c3dda7074e848f2a20fa5ca53f24": {
          "model_module": "@jupyter-widgets/controls",
          "model_name": "HTMLModel",
          "model_module_version": "1.5.0",
          "state": {
            "_view_name": "HTMLView",
            "style": "IPY_MODEL_952b13a896ed4dcc8717686b2fb5bea3",
            "_dom_classes": [],
            "description": "",
            "_model_name": "HTMLModel",
            "placeholder": "​",
            "_view_module": "@jupyter-widgets/controls",
            "_model_module_version": "1.5.0",
            "value": " 376/376 [00:00&lt;00:00, 7.86kB/s]",
            "_view_count": null,
            "_view_module_version": "1.5.0",
            "description_tooltip": null,
            "_model_module": "@jupyter-widgets/controls",
            "layout": "IPY_MODEL_c5605cf8a3f8486596cf44e6a178a511"
          }
        },
        "f818e9a6a51b4b6b867b0fb04993c38d": {
          "model_module": "@jupyter-widgets/controls",
          "model_name": "DescriptionStyleModel",
          "model_module_version": "1.5.0",
          "state": {
            "_view_name": "StyleView",
            "_model_name": "DescriptionStyleModel",
            "description_width": "",
            "_view_module": "@jupyter-widgets/base",
            "_model_module_version": "1.5.0",
            "_view_count": null,
            "_view_module_version": "1.2.0",
            "_model_module": "@jupyter-widgets/controls"
          }
        },
        "af85d35a76cc4f6fb2dd966e3d4b146d": {
          "model_module": "@jupyter-widgets/base",
          "model_name": "LayoutModel",
          "model_module_version": "1.2.0",
          "state": {
            "_view_name": "LayoutView",
            "grid_template_rows": null,
            "right": null,
            "justify_content": null,
            "_view_module": "@jupyter-widgets/base",
            "overflow": null,
            "_model_module_version": "1.2.0",
            "_view_count": null,
            "flex_flow": null,
            "width": null,
            "min_width": null,
            "border": null,
            "align_items": null,
            "bottom": null,
            "_model_module": "@jupyter-widgets/base",
            "top": null,
            "grid_column": null,
            "overflow_y": null,
            "overflow_x": null,
            "grid_auto_flow": null,
            "grid_area": null,
            "grid_template_columns": null,
            "flex": null,
            "_model_name": "LayoutModel",
            "justify_items": null,
            "grid_row": null,
            "max_height": null,
            "align_content": null,
            "visibility": null,
            "align_self": null,
            "height": null,
            "min_height": null,
            "padding": null,
            "grid_auto_rows": null,
            "grid_gap": null,
            "max_width": null,
            "order": null,
            "_view_module_version": "1.2.0",
            "grid_template_areas": null,
            "object_position": null,
            "object_fit": null,
            "grid_auto_columns": null,
            "margin": null,
            "display": null,
            "left": null
          }
        },
        "ee2630d52a0148a2ad68522012f425ee": {
          "model_module": "@jupyter-widgets/controls",
          "model_name": "ProgressStyleModel",
          "model_module_version": "1.5.0",
          "state": {
            "_view_name": "StyleView",
            "_model_name": "ProgressStyleModel",
            "description_width": "",
            "_view_module": "@jupyter-widgets/base",
            "_model_module_version": "1.5.0",
            "_view_count": null,
            "_view_module_version": "1.2.0",
            "bar_color": null,
            "_model_module": "@jupyter-widgets/controls"
          }
        },
        "e8753e6c341b4390b6db67d8312c2f50": {
          "model_module": "@jupyter-widgets/base",
          "model_name": "LayoutModel",
          "model_module_version": "1.2.0",
          "state": {
            "_view_name": "LayoutView",
            "grid_template_rows": null,
            "right": null,
            "justify_content": null,
            "_view_module": "@jupyter-widgets/base",
            "overflow": null,
            "_model_module_version": "1.2.0",
            "_view_count": null,
            "flex_flow": null,
            "width": null,
            "min_width": null,
            "border": null,
            "align_items": null,
            "bottom": null,
            "_model_module": "@jupyter-widgets/base",
            "top": null,
            "grid_column": null,
            "overflow_y": null,
            "overflow_x": null,
            "grid_auto_flow": null,
            "grid_area": null,
            "grid_template_columns": null,
            "flex": null,
            "_model_name": "LayoutModel",
            "justify_items": null,
            "grid_row": null,
            "max_height": null,
            "align_content": null,
            "visibility": null,
            "align_self": null,
            "height": null,
            "min_height": null,
            "padding": null,
            "grid_auto_rows": null,
            "grid_gap": null,
            "max_width": null,
            "order": null,
            "_view_module_version": "1.2.0",
            "grid_template_areas": null,
            "object_position": null,
            "object_fit": null,
            "grid_auto_columns": null,
            "margin": null,
            "display": null,
            "left": null
          }
        },
        "952b13a896ed4dcc8717686b2fb5bea3": {
          "model_module": "@jupyter-widgets/controls",
          "model_name": "DescriptionStyleModel",
          "model_module_version": "1.5.0",
          "state": {
            "_view_name": "StyleView",
            "_model_name": "DescriptionStyleModel",
            "description_width": "",
            "_view_module": "@jupyter-widgets/base",
            "_model_module_version": "1.5.0",
            "_view_count": null,
            "_view_module_version": "1.2.0",
            "_model_module": "@jupyter-widgets/controls"
          }
        },
        "c5605cf8a3f8486596cf44e6a178a511": {
          "model_module": "@jupyter-widgets/base",
          "model_name": "LayoutModel",
          "model_module_version": "1.2.0",
          "state": {
            "_view_name": "LayoutView",
            "grid_template_rows": null,
            "right": null,
            "justify_content": null,
            "_view_module": "@jupyter-widgets/base",
            "overflow": null,
            "_model_module_version": "1.2.0",
            "_view_count": null,
            "flex_flow": null,
            "width": null,
            "min_width": null,
            "border": null,
            "align_items": null,
            "bottom": null,
            "_model_module": "@jupyter-widgets/base",
            "top": null,
            "grid_column": null,
            "overflow_y": null,
            "overflow_x": null,
            "grid_auto_flow": null,
            "grid_area": null,
            "grid_template_columns": null,
            "flex": null,
            "_model_name": "LayoutModel",
            "justify_items": null,
            "grid_row": null,
            "max_height": null,
            "align_content": null,
            "visibility": null,
            "align_self": null,
            "height": null,
            "min_height": null,
            "padding": null,
            "grid_auto_rows": null,
            "grid_gap": null,
            "max_width": null,
            "order": null,
            "_view_module_version": "1.2.0",
            "grid_template_areas": null,
            "object_position": null,
            "object_fit": null,
            "grid_auto_columns": null,
            "margin": null,
            "display": null,
            "left": null
          }
        },
        "ef5e6fe6d90046ee8421daa6d849c73f": {
          "model_module": "@jupyter-widgets/controls",
          "model_name": "HBoxModel",
          "model_module_version": "1.5.0",
          "state": {
            "_view_name": "HBoxView",
            "_dom_classes": [],
            "_model_name": "HBoxModel",
            "_view_module": "@jupyter-widgets/controls",
            "_model_module_version": "1.5.0",
            "_view_count": null,
            "_view_module_version": "1.5.0",
            "box_style": "",
            "layout": "IPY_MODEL_1983645ec1ba43ca91e8919e72aa2970",
            "_model_module": "@jupyter-widgets/controls",
            "children": [
              "IPY_MODEL_8f9f38d66cca435bb2452bdfd3ff2015",
              "IPY_MODEL_4d33b5b451854787bfd99a81b43ea745",
              "IPY_MODEL_d6d8e235f7b64e12ae829ae96b54e7a7"
            ]
          }
        },
        "1983645ec1ba43ca91e8919e72aa2970": {
          "model_module": "@jupyter-widgets/base",
          "model_name": "LayoutModel",
          "model_module_version": "1.2.0",
          "state": {
            "_view_name": "LayoutView",
            "grid_template_rows": null,
            "right": null,
            "justify_content": null,
            "_view_module": "@jupyter-widgets/base",
            "overflow": null,
            "_model_module_version": "1.2.0",
            "_view_count": null,
            "flex_flow": null,
            "width": null,
            "min_width": null,
            "border": null,
            "align_items": null,
            "bottom": null,
            "_model_module": "@jupyter-widgets/base",
            "top": null,
            "grid_column": null,
            "overflow_y": null,
            "overflow_x": null,
            "grid_auto_flow": null,
            "grid_area": null,
            "grid_template_columns": null,
            "flex": null,
            "_model_name": "LayoutModel",
            "justify_items": null,
            "grid_row": null,
            "max_height": null,
            "align_content": null,
            "visibility": null,
            "align_self": null,
            "height": null,
            "min_height": null,
            "padding": null,
            "grid_auto_rows": null,
            "grid_gap": null,
            "max_width": null,
            "order": null,
            "_view_module_version": "1.2.0",
            "grid_template_areas": null,
            "object_position": null,
            "object_fit": null,
            "grid_auto_columns": null,
            "margin": null,
            "display": null,
            "left": null
          }
        },
        "8f9f38d66cca435bb2452bdfd3ff2015": {
          "model_module": "@jupyter-widgets/controls",
          "model_name": "HTMLModel",
          "model_module_version": "1.5.0",
          "state": {
            "_view_name": "HTMLView",
            "style": "IPY_MODEL_b2b65ebe08b34871b7c2173d4435f6ef",
            "_dom_classes": [],
            "description": "",
            "_model_name": "HTMLModel",
            "placeholder": "​",
            "_view_module": "@jupyter-widgets/controls",
            "_model_module_version": "1.5.0",
            "value": "Downloading: 100%",
            "_view_count": null,
            "_view_module_version": "1.5.0",
            "description_tooltip": null,
            "_model_module": "@jupyter-widgets/controls",
            "layout": "IPY_MODEL_85f61bfb5ce240529f7e8619b3e40c25"
          }
        },
        "4d33b5b451854787bfd99a81b43ea745": {
          "model_module": "@jupyter-widgets/controls",
          "model_name": "FloatProgressModel",
          "model_module_version": "1.5.0",
          "state": {
            "_view_name": "ProgressView",
            "style": "IPY_MODEL_f06269172a0a4eaab8cf854ff39f234e",
            "_dom_classes": [],
            "description": "",
            "_model_name": "FloatProgressModel",
            "bar_style": "success",
            "max": 231508,
            "_view_module": "@jupyter-widgets/controls",
            "_model_module_version": "1.5.0",
            "value": 231508,
            "_view_count": null,
            "_view_module_version": "1.5.0",
            "orientation": "horizontal",
            "min": 0,
            "description_tooltip": null,
            "_model_module": "@jupyter-widgets/controls",
            "layout": "IPY_MODEL_84c7bc51097e4471a93387490ba04ac1"
          }
        },
        "d6d8e235f7b64e12ae829ae96b54e7a7": {
          "model_module": "@jupyter-widgets/controls",
          "model_name": "HTMLModel",
          "model_module_version": "1.5.0",
          "state": {
            "_view_name": "HTMLView",
            "style": "IPY_MODEL_52015815c2834b4db3a983e1394d8dbe",
            "_dom_classes": [],
            "description": "",
            "_model_name": "HTMLModel",
            "placeholder": "​",
            "_view_module": "@jupyter-widgets/controls",
            "_model_module_version": "1.5.0",
            "value": " 232k/232k [00:00&lt;00:00, 1.10MB/s]",
            "_view_count": null,
            "_view_module_version": "1.5.0",
            "description_tooltip": null,
            "_model_module": "@jupyter-widgets/controls",
            "layout": "IPY_MODEL_9ba5c6e784e34aeda49074410f30d86b"
          }
        },
        "b2b65ebe08b34871b7c2173d4435f6ef": {
          "model_module": "@jupyter-widgets/controls",
          "model_name": "DescriptionStyleModel",
          "model_module_version": "1.5.0",
          "state": {
            "_view_name": "StyleView",
            "_model_name": "DescriptionStyleModel",
            "description_width": "",
            "_view_module": "@jupyter-widgets/base",
            "_model_module_version": "1.5.0",
            "_view_count": null,
            "_view_module_version": "1.2.0",
            "_model_module": "@jupyter-widgets/controls"
          }
        },
        "85f61bfb5ce240529f7e8619b3e40c25": {
          "model_module": "@jupyter-widgets/base",
          "model_name": "LayoutModel",
          "model_module_version": "1.2.0",
          "state": {
            "_view_name": "LayoutView",
            "grid_template_rows": null,
            "right": null,
            "justify_content": null,
            "_view_module": "@jupyter-widgets/base",
            "overflow": null,
            "_model_module_version": "1.2.0",
            "_view_count": null,
            "flex_flow": null,
            "width": null,
            "min_width": null,
            "border": null,
            "align_items": null,
            "bottom": null,
            "_model_module": "@jupyter-widgets/base",
            "top": null,
            "grid_column": null,
            "overflow_y": null,
            "overflow_x": null,
            "grid_auto_flow": null,
            "grid_area": null,
            "grid_template_columns": null,
            "flex": null,
            "_model_name": "LayoutModel",
            "justify_items": null,
            "grid_row": null,
            "max_height": null,
            "align_content": null,
            "visibility": null,
            "align_self": null,
            "height": null,
            "min_height": null,
            "padding": null,
            "grid_auto_rows": null,
            "grid_gap": null,
            "max_width": null,
            "order": null,
            "_view_module_version": "1.2.0",
            "grid_template_areas": null,
            "object_position": null,
            "object_fit": null,
            "grid_auto_columns": null,
            "margin": null,
            "display": null,
            "left": null
          }
        },
        "f06269172a0a4eaab8cf854ff39f234e": {
          "model_module": "@jupyter-widgets/controls",
          "model_name": "ProgressStyleModel",
          "model_module_version": "1.5.0",
          "state": {
            "_view_name": "StyleView",
            "_model_name": "ProgressStyleModel",
            "description_width": "",
            "_view_module": "@jupyter-widgets/base",
            "_model_module_version": "1.5.0",
            "_view_count": null,
            "_view_module_version": "1.2.0",
            "bar_color": null,
            "_model_module": "@jupyter-widgets/controls"
          }
        },
        "84c7bc51097e4471a93387490ba04ac1": {
          "model_module": "@jupyter-widgets/base",
          "model_name": "LayoutModel",
          "model_module_version": "1.2.0",
          "state": {
            "_view_name": "LayoutView",
            "grid_template_rows": null,
            "right": null,
            "justify_content": null,
            "_view_module": "@jupyter-widgets/base",
            "overflow": null,
            "_model_module_version": "1.2.0",
            "_view_count": null,
            "flex_flow": null,
            "width": null,
            "min_width": null,
            "border": null,
            "align_items": null,
            "bottom": null,
            "_model_module": "@jupyter-widgets/base",
            "top": null,
            "grid_column": null,
            "overflow_y": null,
            "overflow_x": null,
            "grid_auto_flow": null,
            "grid_area": null,
            "grid_template_columns": null,
            "flex": null,
            "_model_name": "LayoutModel",
            "justify_items": null,
            "grid_row": null,
            "max_height": null,
            "align_content": null,
            "visibility": null,
            "align_self": null,
            "height": null,
            "min_height": null,
            "padding": null,
            "grid_auto_rows": null,
            "grid_gap": null,
            "max_width": null,
            "order": null,
            "_view_module_version": "1.2.0",
            "grid_template_areas": null,
            "object_position": null,
            "object_fit": null,
            "grid_auto_columns": null,
            "margin": null,
            "display": null,
            "left": null
          }
        },
        "52015815c2834b4db3a983e1394d8dbe": {
          "model_module": "@jupyter-widgets/controls",
          "model_name": "DescriptionStyleModel",
          "model_module_version": "1.5.0",
          "state": {
            "_view_name": "StyleView",
            "_model_name": "DescriptionStyleModel",
            "description_width": "",
            "_view_module": "@jupyter-widgets/base",
            "_model_module_version": "1.5.0",
            "_view_count": null,
            "_view_module_version": "1.2.0",
            "_model_module": "@jupyter-widgets/controls"
          }
        },
        "9ba5c6e784e34aeda49074410f30d86b": {
          "model_module": "@jupyter-widgets/base",
          "model_name": "LayoutModel",
          "model_module_version": "1.2.0",
          "state": {
            "_view_name": "LayoutView",
            "grid_template_rows": null,
            "right": null,
            "justify_content": null,
            "_view_module": "@jupyter-widgets/base",
            "overflow": null,
            "_model_module_version": "1.2.0",
            "_view_count": null,
            "flex_flow": null,
            "width": null,
            "min_width": null,
            "border": null,
            "align_items": null,
            "bottom": null,
            "_model_module": "@jupyter-widgets/base",
            "top": null,
            "grid_column": null,
            "overflow_y": null,
            "overflow_x": null,
            "grid_auto_flow": null,
            "grid_area": null,
            "grid_template_columns": null,
            "flex": null,
            "_model_name": "LayoutModel",
            "justify_items": null,
            "grid_row": null,
            "max_height": null,
            "align_content": null,
            "visibility": null,
            "align_self": null,
            "height": null,
            "min_height": null,
            "padding": null,
            "grid_auto_rows": null,
            "grid_gap": null,
            "max_width": null,
            "order": null,
            "_view_module_version": "1.2.0",
            "grid_template_areas": null,
            "object_position": null,
            "object_fit": null,
            "grid_auto_columns": null,
            "margin": null,
            "display": null,
            "left": null
          }
        },
        "a1d75fcb2bfe4afea5dcdb57c21efa8e": {
          "model_module": "@jupyter-widgets/controls",
          "model_name": "HBoxModel",
          "model_module_version": "1.5.0",
          "state": {
            "_view_name": "HBoxView",
            "_dom_classes": [],
            "_model_name": "HBoxModel",
            "_view_module": "@jupyter-widgets/controls",
            "_model_module_version": "1.5.0",
            "_view_count": null,
            "_view_module_version": "1.5.0",
            "box_style": "",
            "layout": "IPY_MODEL_a0d60cac3b55420685fe8b9d4e67e99f",
            "_model_module": "@jupyter-widgets/controls",
            "children": [
              "IPY_MODEL_9925d411330b481c8288ae7aa0041e18",
              "IPY_MODEL_9ab4a50002ec4bcf893aaf09fa480f78",
              "IPY_MODEL_6eabcdbc56d149c58a78336cfe2cc4cd"
            ]
          }
        },
        "a0d60cac3b55420685fe8b9d4e67e99f": {
          "model_module": "@jupyter-widgets/base",
          "model_name": "LayoutModel",
          "model_module_version": "1.2.0",
          "state": {
            "_view_name": "LayoutView",
            "grid_template_rows": null,
            "right": null,
            "justify_content": null,
            "_view_module": "@jupyter-widgets/base",
            "overflow": null,
            "_model_module_version": "1.2.0",
            "_view_count": null,
            "flex_flow": null,
            "width": null,
            "min_width": null,
            "border": null,
            "align_items": null,
            "bottom": null,
            "_model_module": "@jupyter-widgets/base",
            "top": null,
            "grid_column": null,
            "overflow_y": null,
            "overflow_x": null,
            "grid_auto_flow": null,
            "grid_area": null,
            "grid_template_columns": null,
            "flex": null,
            "_model_name": "LayoutModel",
            "justify_items": null,
            "grid_row": null,
            "max_height": null,
            "align_content": null,
            "visibility": null,
            "align_self": null,
            "height": null,
            "min_height": null,
            "padding": null,
            "grid_auto_rows": null,
            "grid_gap": null,
            "max_width": null,
            "order": null,
            "_view_module_version": "1.2.0",
            "grid_template_areas": null,
            "object_position": null,
            "object_fit": null,
            "grid_auto_columns": null,
            "margin": null,
            "display": null,
            "left": null
          }
        },
        "9925d411330b481c8288ae7aa0041e18": {
          "model_module": "@jupyter-widgets/controls",
          "model_name": "HTMLModel",
          "model_module_version": "1.5.0",
          "state": {
            "_view_name": "HTMLView",
            "style": "IPY_MODEL_f5ba9aae024e4e028009bd1fb0402c49",
            "_dom_classes": [],
            "description": "",
            "_model_name": "HTMLModel",
            "placeholder": "​",
            "_view_module": "@jupyter-widgets/controls",
            "_model_module_version": "1.5.0",
            "value": "Downloading: 100%",
            "_view_count": null,
            "_view_module_version": "1.5.0",
            "description_tooltip": null,
            "_model_module": "@jupyter-widgets/controls",
            "layout": "IPY_MODEL_1806746296c6489a802bfcf5b09f6914"
          }
        },
        "9ab4a50002ec4bcf893aaf09fa480f78": {
          "model_module": "@jupyter-widgets/controls",
          "model_name": "FloatProgressModel",
          "model_module_version": "1.5.0",
          "state": {
            "_view_name": "ProgressView",
            "style": "IPY_MODEL_d9facd92e87d4b42976c18fa86fd1992",
            "_dom_classes": [],
            "description": "",
            "_model_name": "FloatProgressModel",
            "bar_style": "success",
            "max": 190,
            "_view_module": "@jupyter-widgets/controls",
            "_model_module_version": "1.5.0",
            "value": 190,
            "_view_count": null,
            "_view_module_version": "1.5.0",
            "orientation": "horizontal",
            "min": 0,
            "description_tooltip": null,
            "_model_module": "@jupyter-widgets/controls",
            "layout": "IPY_MODEL_7b335219dd394c56bf3a7a358ab26aa0"
          }
        },
        "6eabcdbc56d149c58a78336cfe2cc4cd": {
          "model_module": "@jupyter-widgets/controls",
          "model_name": "HTMLModel",
          "model_module_version": "1.5.0",
          "state": {
            "_view_name": "HTMLView",
            "style": "IPY_MODEL_bbb76ba9800844978e77bc888209efb3",
            "_dom_classes": [],
            "description": "",
            "_model_name": "HTMLModel",
            "placeholder": "​",
            "_view_module": "@jupyter-widgets/controls",
            "_model_module_version": "1.5.0",
            "value": " 190/190 [00:00&lt;00:00, 4.63kB/s]",
            "_view_count": null,
            "_view_module_version": "1.5.0",
            "description_tooltip": null,
            "_model_module": "@jupyter-widgets/controls",
            "layout": "IPY_MODEL_e2cc29f388a342f292d7069031d7bebd"
          }
        },
        "f5ba9aae024e4e028009bd1fb0402c49": {
          "model_module": "@jupyter-widgets/controls",
          "model_name": "DescriptionStyleModel",
          "model_module_version": "1.5.0",
          "state": {
            "_view_name": "StyleView",
            "_model_name": "DescriptionStyleModel",
            "description_width": "",
            "_view_module": "@jupyter-widgets/base",
            "_model_module_version": "1.5.0",
            "_view_count": null,
            "_view_module_version": "1.2.0",
            "_model_module": "@jupyter-widgets/controls"
          }
        },
        "1806746296c6489a802bfcf5b09f6914": {
          "model_module": "@jupyter-widgets/base",
          "model_name": "LayoutModel",
          "model_module_version": "1.2.0",
          "state": {
            "_view_name": "LayoutView",
            "grid_template_rows": null,
            "right": null,
            "justify_content": null,
            "_view_module": "@jupyter-widgets/base",
            "overflow": null,
            "_model_module_version": "1.2.0",
            "_view_count": null,
            "flex_flow": null,
            "width": null,
            "min_width": null,
            "border": null,
            "align_items": null,
            "bottom": null,
            "_model_module": "@jupyter-widgets/base",
            "top": null,
            "grid_column": null,
            "overflow_y": null,
            "overflow_x": null,
            "grid_auto_flow": null,
            "grid_area": null,
            "grid_template_columns": null,
            "flex": null,
            "_model_name": "LayoutModel",
            "justify_items": null,
            "grid_row": null,
            "max_height": null,
            "align_content": null,
            "visibility": null,
            "align_self": null,
            "height": null,
            "min_height": null,
            "padding": null,
            "grid_auto_rows": null,
            "grid_gap": null,
            "max_width": null,
            "order": null,
            "_view_module_version": "1.2.0",
            "grid_template_areas": null,
            "object_position": null,
            "object_fit": null,
            "grid_auto_columns": null,
            "margin": null,
            "display": null,
            "left": null
          }
        },
        "d9facd92e87d4b42976c18fa86fd1992": {
          "model_module": "@jupyter-widgets/controls",
          "model_name": "ProgressStyleModel",
          "model_module_version": "1.5.0",
          "state": {
            "_view_name": "StyleView",
            "_model_name": "ProgressStyleModel",
            "description_width": "",
            "_view_module": "@jupyter-widgets/base",
            "_model_module_version": "1.5.0",
            "_view_count": null,
            "_view_module_version": "1.2.0",
            "bar_color": null,
            "_model_module": "@jupyter-widgets/controls"
          }
        },
        "7b335219dd394c56bf3a7a358ab26aa0": {
          "model_module": "@jupyter-widgets/base",
          "model_name": "LayoutModel",
          "model_module_version": "1.2.0",
          "state": {
            "_view_name": "LayoutView",
            "grid_template_rows": null,
            "right": null,
            "justify_content": null,
            "_view_module": "@jupyter-widgets/base",
            "overflow": null,
            "_model_module_version": "1.2.0",
            "_view_count": null,
            "flex_flow": null,
            "width": null,
            "min_width": null,
            "border": null,
            "align_items": null,
            "bottom": null,
            "_model_module": "@jupyter-widgets/base",
            "top": null,
            "grid_column": null,
            "overflow_y": null,
            "overflow_x": null,
            "grid_auto_flow": null,
            "grid_area": null,
            "grid_template_columns": null,
            "flex": null,
            "_model_name": "LayoutModel",
            "justify_items": null,
            "grid_row": null,
            "max_height": null,
            "align_content": null,
            "visibility": null,
            "align_self": null,
            "height": null,
            "min_height": null,
            "padding": null,
            "grid_auto_rows": null,
            "grid_gap": null,
            "max_width": null,
            "order": null,
            "_view_module_version": "1.2.0",
            "grid_template_areas": null,
            "object_position": null,
            "object_fit": null,
            "grid_auto_columns": null,
            "margin": null,
            "display": null,
            "left": null
          }
        },
        "bbb76ba9800844978e77bc888209efb3": {
          "model_module": "@jupyter-widgets/controls",
          "model_name": "DescriptionStyleModel",
          "model_module_version": "1.5.0",
          "state": {
            "_view_name": "StyleView",
            "_model_name": "DescriptionStyleModel",
            "description_width": "",
            "_view_module": "@jupyter-widgets/base",
            "_model_module_version": "1.5.0",
            "_view_count": null,
            "_view_module_version": "1.2.0",
            "_model_module": "@jupyter-widgets/controls"
          }
        },
        "e2cc29f388a342f292d7069031d7bebd": {
          "model_module": "@jupyter-widgets/base",
          "model_name": "LayoutModel",
          "model_module_version": "1.2.0",
          "state": {
            "_view_name": "LayoutView",
            "grid_template_rows": null,
            "right": null,
            "justify_content": null,
            "_view_module": "@jupyter-widgets/base",
            "overflow": null,
            "_model_module_version": "1.2.0",
            "_view_count": null,
            "flex_flow": null,
            "width": null,
            "min_width": null,
            "border": null,
            "align_items": null,
            "bottom": null,
            "_model_module": "@jupyter-widgets/base",
            "top": null,
            "grid_column": null,
            "overflow_y": null,
            "overflow_x": null,
            "grid_auto_flow": null,
            "grid_area": null,
            "grid_template_columns": null,
            "flex": null,
            "_model_name": "LayoutModel",
            "justify_items": null,
            "grid_row": null,
            "max_height": null,
            "align_content": null,
            "visibility": null,
            "align_self": null,
            "height": null,
            "min_height": null,
            "padding": null,
            "grid_auto_rows": null,
            "grid_gap": null,
            "max_width": null,
            "order": null,
            "_view_module_version": "1.2.0",
            "grid_template_areas": null,
            "object_position": null,
            "object_fit": null,
            "grid_auto_columns": null,
            "margin": null,
            "display": null,
            "left": null
          }
        },
        "e80359d8b72d4d4ba7f94748d8c6e0ea": {
          "model_module": "@jupyter-widgets/controls",
          "model_name": "HBoxModel",
          "model_module_version": "1.5.0",
          "state": {
            "_view_name": "HBoxView",
            "_dom_classes": [],
            "_model_name": "HBoxModel",
            "_view_module": "@jupyter-widgets/controls",
            "_model_module_version": "1.5.0",
            "_view_count": null,
            "_view_module_version": "1.5.0",
            "box_style": "",
            "layout": "IPY_MODEL_6619615e1b434af29365e94a23cfe1a4",
            "_model_module": "@jupyter-widgets/controls",
            "children": [
              "IPY_MODEL_b8808e4991134832a45395d3a379bab1",
              "IPY_MODEL_0dcedc6a72bc499cb0f7f40fd9bc51ed",
              "IPY_MODEL_4b42522667d94dc4a5c4da0f6dcfaf8c"
            ]
          }
        },
        "6619615e1b434af29365e94a23cfe1a4": {
          "model_module": "@jupyter-widgets/base",
          "model_name": "LayoutModel",
          "model_module_version": "1.2.0",
          "state": {
            "_view_name": "LayoutView",
            "grid_template_rows": null,
            "right": null,
            "justify_content": null,
            "_view_module": "@jupyter-widgets/base",
            "overflow": null,
            "_model_module_version": "1.2.0",
            "_view_count": null,
            "flex_flow": null,
            "width": null,
            "min_width": null,
            "border": null,
            "align_items": null,
            "bottom": null,
            "_model_module": "@jupyter-widgets/base",
            "top": null,
            "grid_column": null,
            "overflow_y": null,
            "overflow_x": null,
            "grid_auto_flow": null,
            "grid_area": null,
            "grid_template_columns": null,
            "flex": null,
            "_model_name": "LayoutModel",
            "justify_items": null,
            "grid_row": null,
            "max_height": null,
            "align_content": null,
            "visibility": null,
            "align_self": null,
            "height": null,
            "min_height": null,
            "padding": null,
            "grid_auto_rows": null,
            "grid_gap": null,
            "max_width": null,
            "order": null,
            "_view_module_version": "1.2.0",
            "grid_template_areas": null,
            "object_position": null,
            "object_fit": null,
            "grid_auto_columns": null,
            "margin": null,
            "display": null,
            "left": null
          }
        },
        "b8808e4991134832a45395d3a379bab1": {
          "model_module": "@jupyter-widgets/controls",
          "model_name": "HTMLModel",
          "model_module_version": "1.5.0",
          "state": {
            "_view_name": "HTMLView",
            "style": "IPY_MODEL_4af6109fae40439580226dd98f806ccc",
            "_dom_classes": [],
            "description": "",
            "_model_name": "HTMLModel",
            "placeholder": "​",
            "_view_module": "@jupyter-widgets/controls",
            "_model_module_version": "1.5.0",
            "value": "Downloading: 100%",
            "_view_count": null,
            "_view_module_version": "1.5.0",
            "description_tooltip": null,
            "_model_module": "@jupyter-widgets/controls",
            "layout": "IPY_MODEL_2fbd9b236f4849efaa7578bd56a6458a"
          }
        },
        "0dcedc6a72bc499cb0f7f40fd9bc51ed": {
          "model_module": "@jupyter-widgets/controls",
          "model_name": "FloatProgressModel",
          "model_module_version": "1.5.0",
          "state": {
            "_view_name": "ProgressView",
            "style": "IPY_MODEL_ff5c41c240cf45f385b09b877f0155d6",
            "_dom_classes": [],
            "description": "",
            "_model_name": "FloatProgressModel",
            "bar_style": "success",
            "max": 115,
            "_view_module": "@jupyter-widgets/controls",
            "_model_module_version": "1.5.0",
            "value": 115,
            "_view_count": null,
            "_view_module_version": "1.5.0",
            "orientation": "horizontal",
            "min": 0,
            "description_tooltip": null,
            "_model_module": "@jupyter-widgets/controls",
            "layout": "IPY_MODEL_168b701702b2442292c139df05e366b6"
          }
        },
        "4b42522667d94dc4a5c4da0f6dcfaf8c": {
          "model_module": "@jupyter-widgets/controls",
          "model_name": "HTMLModel",
          "model_module_version": "1.5.0",
          "state": {
            "_view_name": "HTMLView",
            "style": "IPY_MODEL_15efeea2f10b4b2ebd4addf6dd80c8f4",
            "_dom_classes": [],
            "description": "",
            "_model_name": "HTMLModel",
            "placeholder": "​",
            "_view_module": "@jupyter-widgets/controls",
            "_model_module_version": "1.5.0",
            "value": " 115/115 [00:00&lt;00:00, 1.90kB/s]",
            "_view_count": null,
            "_view_module_version": "1.5.0",
            "description_tooltip": null,
            "_model_module": "@jupyter-widgets/controls",
            "layout": "IPY_MODEL_41352ecbd4fe4fa1a5a7f41f062e3feb"
          }
        },
        "4af6109fae40439580226dd98f806ccc": {
          "model_module": "@jupyter-widgets/controls",
          "model_name": "DescriptionStyleModel",
          "model_module_version": "1.5.0",
          "state": {
            "_view_name": "StyleView",
            "_model_name": "DescriptionStyleModel",
            "description_width": "",
            "_view_module": "@jupyter-widgets/base",
            "_model_module_version": "1.5.0",
            "_view_count": null,
            "_view_module_version": "1.2.0",
            "_model_module": "@jupyter-widgets/controls"
          }
        },
        "2fbd9b236f4849efaa7578bd56a6458a": {
          "model_module": "@jupyter-widgets/base",
          "model_name": "LayoutModel",
          "model_module_version": "1.2.0",
          "state": {
            "_view_name": "LayoutView",
            "grid_template_rows": null,
            "right": null,
            "justify_content": null,
            "_view_module": "@jupyter-widgets/base",
            "overflow": null,
            "_model_module_version": "1.2.0",
            "_view_count": null,
            "flex_flow": null,
            "width": null,
            "min_width": null,
            "border": null,
            "align_items": null,
            "bottom": null,
            "_model_module": "@jupyter-widgets/base",
            "top": null,
            "grid_column": null,
            "overflow_y": null,
            "overflow_x": null,
            "grid_auto_flow": null,
            "grid_area": null,
            "grid_template_columns": null,
            "flex": null,
            "_model_name": "LayoutModel",
            "justify_items": null,
            "grid_row": null,
            "max_height": null,
            "align_content": null,
            "visibility": null,
            "align_self": null,
            "height": null,
            "min_height": null,
            "padding": null,
            "grid_auto_rows": null,
            "grid_gap": null,
            "max_width": null,
            "order": null,
            "_view_module_version": "1.2.0",
            "grid_template_areas": null,
            "object_position": null,
            "object_fit": null,
            "grid_auto_columns": null,
            "margin": null,
            "display": null,
            "left": null
          }
        },
        "ff5c41c240cf45f385b09b877f0155d6": {
          "model_module": "@jupyter-widgets/controls",
          "model_name": "ProgressStyleModel",
          "model_module_version": "1.5.0",
          "state": {
            "_view_name": "StyleView",
            "_model_name": "ProgressStyleModel",
            "description_width": "",
            "_view_module": "@jupyter-widgets/base",
            "_model_module_version": "1.5.0",
            "_view_count": null,
            "_view_module_version": "1.2.0",
            "bar_color": null,
            "_model_module": "@jupyter-widgets/controls"
          }
        },
        "168b701702b2442292c139df05e366b6": {
          "model_module": "@jupyter-widgets/base",
          "model_name": "LayoutModel",
          "model_module_version": "1.2.0",
          "state": {
            "_view_name": "LayoutView",
            "grid_template_rows": null,
            "right": null,
            "justify_content": null,
            "_view_module": "@jupyter-widgets/base",
            "overflow": null,
            "_model_module_version": "1.2.0",
            "_view_count": null,
            "flex_flow": null,
            "width": null,
            "min_width": null,
            "border": null,
            "align_items": null,
            "bottom": null,
            "_model_module": "@jupyter-widgets/base",
            "top": null,
            "grid_column": null,
            "overflow_y": null,
            "overflow_x": null,
            "grid_auto_flow": null,
            "grid_area": null,
            "grid_template_columns": null,
            "flex": null,
            "_model_name": "LayoutModel",
            "justify_items": null,
            "grid_row": null,
            "max_height": null,
            "align_content": null,
            "visibility": null,
            "align_self": null,
            "height": null,
            "min_height": null,
            "padding": null,
            "grid_auto_rows": null,
            "grid_gap": null,
            "max_width": null,
            "order": null,
            "_view_module_version": "1.2.0",
            "grid_template_areas": null,
            "object_position": null,
            "object_fit": null,
            "grid_auto_columns": null,
            "margin": null,
            "display": null,
            "left": null
          }
        },
        "15efeea2f10b4b2ebd4addf6dd80c8f4": {
          "model_module": "@jupyter-widgets/controls",
          "model_name": "DescriptionStyleModel",
          "model_module_version": "1.5.0",
          "state": {
            "_view_name": "StyleView",
            "_model_name": "DescriptionStyleModel",
            "description_width": "",
            "_view_module": "@jupyter-widgets/base",
            "_model_module_version": "1.5.0",
            "_view_count": null,
            "_view_module_version": "1.2.0",
            "_model_module": "@jupyter-widgets/controls"
          }
        },
        "41352ecbd4fe4fa1a5a7f41f062e3feb": {
          "model_module": "@jupyter-widgets/base",
          "model_name": "LayoutModel",
          "model_module_version": "1.2.0",
          "state": {
            "_view_name": "LayoutView",
            "grid_template_rows": null,
            "right": null,
            "justify_content": null,
            "_view_module": "@jupyter-widgets/base",
            "overflow": null,
            "_model_module_version": "1.2.0",
            "_view_count": null,
            "flex_flow": null,
            "width": null,
            "min_width": null,
            "border": null,
            "align_items": null,
            "bottom": null,
            "_model_module": "@jupyter-widgets/base",
            "top": null,
            "grid_column": null,
            "overflow_y": null,
            "overflow_x": null,
            "grid_auto_flow": null,
            "grid_area": null,
            "grid_template_columns": null,
            "flex": null,
            "_model_name": "LayoutModel",
            "justify_items": null,
            "grid_row": null,
            "max_height": null,
            "align_content": null,
            "visibility": null,
            "align_self": null,
            "height": null,
            "min_height": null,
            "padding": null,
            "grid_auto_rows": null,
            "grid_gap": null,
            "max_width": null,
            "order": null,
            "_view_module_version": "1.2.0",
            "grid_template_areas": null,
            "object_position": null,
            "object_fit": null,
            "grid_auto_columns": null,
            "margin": null,
            "display": null,
            "left": null
          }
        },
        "56cee5c0deaf4d6b853aca13ad80ffc3": {
          "model_module": "@jupyter-widgets/controls",
          "model_name": "HBoxModel",
          "model_module_version": "1.5.0",
          "state": {
            "_view_name": "HBoxView",
            "_dom_classes": [],
            "_model_name": "HBoxModel",
            "_view_module": "@jupyter-widgets/controls",
            "_model_module_version": "1.5.0",
            "_view_count": null,
            "_view_module_version": "1.5.0",
            "box_style": "",
            "layout": "IPY_MODEL_f6d9d841bce9442fbf92942633bd1964",
            "_model_module": "@jupyter-widgets/controls",
            "children": [
              "IPY_MODEL_ab33ee9c26814a89823a33e69f4fe150",
              "IPY_MODEL_bdbe52d752b944fc989ca6fef2721d44",
              "IPY_MODEL_6592dc3bdb2b4124b2182033be040b21"
            ]
          }
        },
        "f6d9d841bce9442fbf92942633bd1964": {
          "model_module": "@jupyter-widgets/base",
          "model_name": "LayoutModel",
          "model_module_version": "1.2.0",
          "state": {
            "_view_name": "LayoutView",
            "grid_template_rows": null,
            "right": null,
            "justify_content": null,
            "_view_module": "@jupyter-widgets/base",
            "overflow": null,
            "_model_module_version": "1.2.0",
            "_view_count": null,
            "flex_flow": null,
            "width": null,
            "min_width": null,
            "border": null,
            "align_items": null,
            "bottom": null,
            "_model_module": "@jupyter-widgets/base",
            "top": null,
            "grid_column": null,
            "overflow_y": null,
            "overflow_x": null,
            "grid_auto_flow": null,
            "grid_area": null,
            "grid_template_columns": null,
            "flex": null,
            "_model_name": "LayoutModel",
            "justify_items": null,
            "grid_row": null,
            "max_height": null,
            "align_content": null,
            "visibility": null,
            "align_self": null,
            "height": null,
            "min_height": null,
            "padding": null,
            "grid_auto_rows": null,
            "grid_gap": null,
            "max_width": null,
            "order": null,
            "_view_module_version": "1.2.0",
            "grid_template_areas": null,
            "object_position": null,
            "object_fit": null,
            "grid_auto_columns": null,
            "margin": null,
            "display": null,
            "left": null
          }
        },
        "ab33ee9c26814a89823a33e69f4fe150": {
          "model_module": "@jupyter-widgets/controls",
          "model_name": "HTMLModel",
          "model_module_version": "1.5.0",
          "state": {
            "_view_name": "HTMLView",
            "style": "IPY_MODEL_21aac74944ce4d5687acedf62a8ecb3c",
            "_dom_classes": [],
            "description": "",
            "_model_name": "HTMLModel",
            "placeholder": "​",
            "_view_module": "@jupyter-widgets/controls",
            "_model_module_version": "1.5.0",
            "value": "Downloading: 100%",
            "_view_count": null,
            "_view_module_version": "1.5.0",
            "description_tooltip": null,
            "_model_module": "@jupyter-widgets/controls",
            "layout": "IPY_MODEL_3d7adda0acba44dda3ffb084b7fccef6"
          }
        },
        "bdbe52d752b944fc989ca6fef2721d44": {
          "model_module": "@jupyter-widgets/controls",
          "model_name": "FloatProgressModel",
          "model_module_version": "1.5.0",
          "state": {
            "_view_name": "ProgressView",
            "style": "IPY_MODEL_c7f61ca083ba47a5b3cb635ae37b3f14",
            "_dom_classes": [],
            "description": "",
            "_model_name": "FloatProgressModel",
            "bar_style": "success",
            "max": 2360171,
            "_view_module": "@jupyter-widgets/controls",
            "_model_module_version": "1.5.0",
            "value": 2360171,
            "_view_count": null,
            "_view_module_version": "1.5.0",
            "orientation": "horizontal",
            "min": 0,
            "description_tooltip": null,
            "_model_module": "@jupyter-widgets/controls",
            "layout": "IPY_MODEL_38273ce770774f25ba909f98f38766ac"
          }
        },
        "6592dc3bdb2b4124b2182033be040b21": {
          "model_module": "@jupyter-widgets/controls",
          "model_name": "HTMLModel",
          "model_module_version": "1.5.0",
          "state": {
            "_view_name": "HTMLView",
            "style": "IPY_MODEL_04c5db9bd7bb4c869f694987250e34b8",
            "_dom_classes": [],
            "description": "",
            "_model_name": "HTMLModel",
            "placeholder": "​",
            "_view_module": "@jupyter-widgets/controls",
            "_model_module_version": "1.5.0",
            "value": " 2.36M/2.36M [00:00&lt;00:00, 2.85MB/s]",
            "_view_count": null,
            "_view_module_version": "1.5.0",
            "description_tooltip": null,
            "_model_module": "@jupyter-widgets/controls",
            "layout": "IPY_MODEL_023e1688fbf745b1856a9b21ff1f1f82"
          }
        },
        "21aac74944ce4d5687acedf62a8ecb3c": {
          "model_module": "@jupyter-widgets/controls",
          "model_name": "DescriptionStyleModel",
          "model_module_version": "1.5.0",
          "state": {
            "_view_name": "StyleView",
            "_model_name": "DescriptionStyleModel",
            "description_width": "",
            "_view_module": "@jupyter-widgets/base",
            "_model_module_version": "1.5.0",
            "_view_count": null,
            "_view_module_version": "1.2.0",
            "_model_module": "@jupyter-widgets/controls"
          }
        },
        "3d7adda0acba44dda3ffb084b7fccef6": {
          "model_module": "@jupyter-widgets/base",
          "model_name": "LayoutModel",
          "model_module_version": "1.2.0",
          "state": {
            "_view_name": "LayoutView",
            "grid_template_rows": null,
            "right": null,
            "justify_content": null,
            "_view_module": "@jupyter-widgets/base",
            "overflow": null,
            "_model_module_version": "1.2.0",
            "_view_count": null,
            "flex_flow": null,
            "width": null,
            "min_width": null,
            "border": null,
            "align_items": null,
            "bottom": null,
            "_model_module": "@jupyter-widgets/base",
            "top": null,
            "grid_column": null,
            "overflow_y": null,
            "overflow_x": null,
            "grid_auto_flow": null,
            "grid_area": null,
            "grid_template_columns": null,
            "flex": null,
            "_model_name": "LayoutModel",
            "justify_items": null,
            "grid_row": null,
            "max_height": null,
            "align_content": null,
            "visibility": null,
            "align_self": null,
            "height": null,
            "min_height": null,
            "padding": null,
            "grid_auto_rows": null,
            "grid_gap": null,
            "max_width": null,
            "order": null,
            "_view_module_version": "1.2.0",
            "grid_template_areas": null,
            "object_position": null,
            "object_fit": null,
            "grid_auto_columns": null,
            "margin": null,
            "display": null,
            "left": null
          }
        },
        "c7f61ca083ba47a5b3cb635ae37b3f14": {
          "model_module": "@jupyter-widgets/controls",
          "model_name": "ProgressStyleModel",
          "model_module_version": "1.5.0",
          "state": {
            "_view_name": "StyleView",
            "_model_name": "ProgressStyleModel",
            "description_width": "",
            "_view_module": "@jupyter-widgets/base",
            "_model_module_version": "1.5.0",
            "_view_count": null,
            "_view_module_version": "1.2.0",
            "bar_color": null,
            "_model_module": "@jupyter-widgets/controls"
          }
        },
        "38273ce770774f25ba909f98f38766ac": {
          "model_module": "@jupyter-widgets/base",
          "model_name": "LayoutModel",
          "model_module_version": "1.2.0",
          "state": {
            "_view_name": "LayoutView",
            "grid_template_rows": null,
            "right": null,
            "justify_content": null,
            "_view_module": "@jupyter-widgets/base",
            "overflow": null,
            "_model_module_version": "1.2.0",
            "_view_count": null,
            "flex_flow": null,
            "width": null,
            "min_width": null,
            "border": null,
            "align_items": null,
            "bottom": null,
            "_model_module": "@jupyter-widgets/base",
            "top": null,
            "grid_column": null,
            "overflow_y": null,
            "overflow_x": null,
            "grid_auto_flow": null,
            "grid_area": null,
            "grid_template_columns": null,
            "flex": null,
            "_model_name": "LayoutModel",
            "justify_items": null,
            "grid_row": null,
            "max_height": null,
            "align_content": null,
            "visibility": null,
            "align_self": null,
            "height": null,
            "min_height": null,
            "padding": null,
            "grid_auto_rows": null,
            "grid_gap": null,
            "max_width": null,
            "order": null,
            "_view_module_version": "1.2.0",
            "grid_template_areas": null,
            "object_position": null,
            "object_fit": null,
            "grid_auto_columns": null,
            "margin": null,
            "display": null,
            "left": null
          }
        },
        "04c5db9bd7bb4c869f694987250e34b8": {
          "model_module": "@jupyter-widgets/controls",
          "model_name": "DescriptionStyleModel",
          "model_module_version": "1.5.0",
          "state": {
            "_view_name": "StyleView",
            "_model_name": "DescriptionStyleModel",
            "description_width": "",
            "_view_module": "@jupyter-widgets/base",
            "_model_module_version": "1.5.0",
            "_view_count": null,
            "_view_module_version": "1.2.0",
            "_model_module": "@jupyter-widgets/controls"
          }
        },
        "023e1688fbf745b1856a9b21ff1f1f82": {
          "model_module": "@jupyter-widgets/base",
          "model_name": "LayoutModel",
          "model_module_version": "1.2.0",
          "state": {
            "_view_name": "LayoutView",
            "grid_template_rows": null,
            "right": null,
            "justify_content": null,
            "_view_module": "@jupyter-widgets/base",
            "overflow": null,
            "_model_module_version": "1.2.0",
            "_view_count": null,
            "flex_flow": null,
            "width": null,
            "min_width": null,
            "border": null,
            "align_items": null,
            "bottom": null,
            "_model_module": "@jupyter-widgets/base",
            "top": null,
            "grid_column": null,
            "overflow_y": null,
            "overflow_x": null,
            "grid_auto_flow": null,
            "grid_area": null,
            "grid_template_columns": null,
            "flex": null,
            "_model_name": "LayoutModel",
            "justify_items": null,
            "grid_row": null,
            "max_height": null,
            "align_content": null,
            "visibility": null,
            "align_self": null,
            "height": null,
            "min_height": null,
            "padding": null,
            "grid_auto_rows": null,
            "grid_gap": null,
            "max_width": null,
            "order": null,
            "_view_module_version": "1.2.0",
            "grid_template_areas": null,
            "object_position": null,
            "object_fit": null,
            "grid_auto_columns": null,
            "margin": null,
            "display": null,
            "left": null
          }
        }
      }
    },
    "colab": {
      "name": "search-ranking.ipynb",
      "provenance": [],
      "include_colab_link": true
    },
    "accelerator": "GPU"
  },
  "cells": [
    {
      "cell_type": "markdown",
      "metadata": {
        "id": "view-in-github",
        "colab_type": "text"
      },
      "source": [
        "<a href=\"https://colab.research.google.com/github/KadjelRamkisoen/BertIR/blob/main_kate/search-ranking.ipynb\" target=\"_parent\"><img src=\"https://colab.research.google.com/assets/colab-badge.svg\" alt=\"Open In Colab\"/></a>"
      ]
    },
    {
      "cell_type": "raw",
      "metadata": {
        "_cell_guid": "b1076dfc-b9ad-4769-8c92-a6c4dae69d19",
        "_uuid": "8f2839f25d086af736a60e9eeb907d3b93b6e0e5",
        "papermill": {
          "duration": 0.0321,
          "end_time": "2021-07-05T08:01:23.506531",
          "exception": false,
          "start_time": "2021-07-05T08:01:23.474431",
          "status": "completed"
        },
        "tags": [],
        "id": "respiratory-convenience"
      },
      "source": [
        "# This Python 3 environment comes with many helpful analytics libraries installed\n",
        "# It is defined by the kaggle/python Docker image: https://github.com/kaggle/docker-python\n",
        "# For example, here's several helpful packages to load\n",
        "\n",
        "import numpy as np # linear algebra\n",
        "import pandas as pd # data processing, CSV file I/O (e.g. pd.read_csv)\n",
        "\n",
        "# Input data files are available in the read-only \"../input/\" directory\n",
        "# For example, running this (by clicking run or pressing Shift+Enter) will list all files under the input directory\n",
        "\n",
        "import os\n",
        "for dirname, _, filenames in os.walk('/kaggle/input'):\n",
        "    for filename in filenames:\n",
        "        print(os.path.join(dirname, filename))\n",
        "\n",
        "# You can write up to 20GB to the current directory (/kaggle/working/) that gets preserved as output when you create a version using \"Save & Run All\" \n",
        "# You can also write temporary files to /kaggle/temp/, but they won't be saved outside of the current session"
      ],
      "id": "respiratory-convenience"
    },
    {
      "cell_type": "code",
      "metadata": {
        "execution": {
          "iopub.execute_input": "2021-07-05T08:01:23.578384Z",
          "iopub.status.busy": "2021-07-05T08:01:23.577807Z",
          "iopub.status.idle": "2021-07-05T08:01:38.490001Z",
          "shell.execute_reply": "2021-07-05T08:01:38.490601Z",
          "shell.execute_reply.started": "2021-07-05T07:49:35.592823Z"
        },
        "papermill": {
          "duration": 14.953279,
          "end_time": "2021-07-05T08:01:38.490929",
          "exception": false,
          "start_time": "2021-07-05T08:01:23.537650",
          "status": "completed"
        },
        "tags": [],
        "id": "vietnamese-device",
        "outputId": "f6f3cd5f-b8ce-45cb-ba57-24b7f9f619d8",
        "colab": {
          "base_uri": "https://localhost:8080/"
        }
      },
      "source": [
        "!pip install sentence-transformers"
      ],
      "id": "vietnamese-device",
      "execution_count": 2,
      "outputs": [
        {
          "output_type": "stream",
          "name": "stdout",
          "text": [
            "Collecting sentence-transformers\n",
            "  Downloading sentence-transformers-2.1.0.tar.gz (78 kB)\n",
            "\u001b[K     |████████████████████████████████| 78 kB 3.6 MB/s \n",
            "\u001b[?25hCollecting transformers<5.0.0,>=4.6.0\n",
            "  Downloading transformers-4.12.5-py3-none-any.whl (3.1 MB)\n",
            "\u001b[K     |████████████████████████████████| 3.1 MB 11.3 MB/s \n",
            "\u001b[?25hCollecting tokenizers>=0.10.3\n",
            "  Downloading tokenizers-0.10.3-cp37-cp37m-manylinux_2_5_x86_64.manylinux1_x86_64.manylinux_2_12_x86_64.manylinux2010_x86_64.whl (3.3 MB)\n",
            "\u001b[K     |████████████████████████████████| 3.3 MB 37.1 MB/s \n",
            "\u001b[?25hRequirement already satisfied: tqdm in /usr/local/lib/python3.7/dist-packages (from sentence-transformers) (4.62.3)\n",
            "Requirement already satisfied: torch>=1.6.0 in /usr/local/lib/python3.7/dist-packages (from sentence-transformers) (1.10.0+cu111)\n",
            "Requirement already satisfied: torchvision in /usr/local/lib/python3.7/dist-packages (from sentence-transformers) (0.11.1+cu111)\n",
            "Requirement already satisfied: numpy in /usr/local/lib/python3.7/dist-packages (from sentence-transformers) (1.19.5)\n",
            "Requirement already satisfied: scikit-learn in /usr/local/lib/python3.7/dist-packages (from sentence-transformers) (1.0.1)\n",
            "Requirement already satisfied: scipy in /usr/local/lib/python3.7/dist-packages (from sentence-transformers) (1.4.1)\n",
            "Requirement already satisfied: nltk in /usr/local/lib/python3.7/dist-packages (from sentence-transformers) (3.2.5)\n",
            "Collecting sentencepiece\n",
            "  Downloading sentencepiece-0.1.96-cp37-cp37m-manylinux_2_17_x86_64.manylinux2014_x86_64.whl (1.2 MB)\n",
            "\u001b[K     |████████████████████████████████| 1.2 MB 37.3 MB/s \n",
            "\u001b[?25hCollecting huggingface-hub\n",
            "  Downloading huggingface_hub-0.1.2-py3-none-any.whl (59 kB)\n",
            "\u001b[K     |████████████████████████████████| 59 kB 6.6 MB/s \n",
            "\u001b[?25hRequirement already satisfied: typing-extensions in /usr/local/lib/python3.7/dist-packages (from torch>=1.6.0->sentence-transformers) (3.10.0.2)\n",
            "Requirement already satisfied: packaging>=20.0 in /usr/local/lib/python3.7/dist-packages (from transformers<5.0.0,>=4.6.0->sentence-transformers) (21.3)\n",
            "Collecting sacremoses\n",
            "  Downloading sacremoses-0.0.46-py3-none-any.whl (895 kB)\n",
            "\u001b[K     |████████████████████████████████| 895 kB 49.5 MB/s \n",
            "\u001b[?25hRequirement already satisfied: importlib-metadata in /usr/local/lib/python3.7/dist-packages (from transformers<5.0.0,>=4.6.0->sentence-transformers) (4.8.2)\n",
            "Collecting pyyaml>=5.1\n",
            "  Downloading PyYAML-6.0-cp37-cp37m-manylinux_2_5_x86_64.manylinux1_x86_64.manylinux_2_12_x86_64.manylinux2010_x86_64.whl (596 kB)\n",
            "\u001b[K     |████████████████████████████████| 596 kB 31.4 MB/s \n",
            "\u001b[?25hRequirement already satisfied: requests in /usr/local/lib/python3.7/dist-packages (from transformers<5.0.0,>=4.6.0->sentence-transformers) (2.23.0)\n",
            "Requirement already satisfied: filelock in /usr/local/lib/python3.7/dist-packages (from transformers<5.0.0,>=4.6.0->sentence-transformers) (3.4.0)\n",
            "Requirement already satisfied: regex!=2019.12.17 in /usr/local/lib/python3.7/dist-packages (from transformers<5.0.0,>=4.6.0->sentence-transformers) (2019.12.20)\n",
            "Requirement already satisfied: pyparsing!=3.0.5,>=2.0.2 in /usr/local/lib/python3.7/dist-packages (from packaging>=20.0->transformers<5.0.0,>=4.6.0->sentence-transformers) (3.0.6)\n",
            "Requirement already satisfied: zipp>=0.5 in /usr/local/lib/python3.7/dist-packages (from importlib-metadata->transformers<5.0.0,>=4.6.0->sentence-transformers) (3.6.0)\n",
            "Requirement already satisfied: six in /usr/local/lib/python3.7/dist-packages (from nltk->sentence-transformers) (1.15.0)\n",
            "Requirement already satisfied: idna<3,>=2.5 in /usr/local/lib/python3.7/dist-packages (from requests->transformers<5.0.0,>=4.6.0->sentence-transformers) (2.10)\n",
            "Requirement already satisfied: certifi>=2017.4.17 in /usr/local/lib/python3.7/dist-packages (from requests->transformers<5.0.0,>=4.6.0->sentence-transformers) (2021.10.8)\n",
            "Requirement already satisfied: chardet<4,>=3.0.2 in /usr/local/lib/python3.7/dist-packages (from requests->transformers<5.0.0,>=4.6.0->sentence-transformers) (3.0.4)\n",
            "Requirement already satisfied: urllib3!=1.25.0,!=1.25.1,<1.26,>=1.21.1 in /usr/local/lib/python3.7/dist-packages (from requests->transformers<5.0.0,>=4.6.0->sentence-transformers) (1.24.3)\n",
            "Requirement already satisfied: joblib in /usr/local/lib/python3.7/dist-packages (from sacremoses->transformers<5.0.0,>=4.6.0->sentence-transformers) (1.1.0)\n",
            "Requirement already satisfied: click in /usr/local/lib/python3.7/dist-packages (from sacremoses->transformers<5.0.0,>=4.6.0->sentence-transformers) (7.1.2)\n",
            "Requirement already satisfied: threadpoolctl>=2.0.0 in /usr/local/lib/python3.7/dist-packages (from scikit-learn->sentence-transformers) (3.0.0)\n",
            "Requirement already satisfied: pillow!=8.3.0,>=5.3.0 in /usr/local/lib/python3.7/dist-packages (from torchvision->sentence-transformers) (7.1.2)\n",
            "Building wheels for collected packages: sentence-transformers\n",
            "  Building wheel for sentence-transformers (setup.py) ... \u001b[?25l\u001b[?25hdone\n",
            "  Created wheel for sentence-transformers: filename=sentence_transformers-2.1.0-py3-none-any.whl size=121000 sha256=2a57b4634c3185929810ed113e6918354c828600372cd372591f66c600a21668\n",
            "  Stored in directory: /root/.cache/pip/wheels/90/f0/bb/ed1add84da70092ea526466eadc2bfb197c4bcb8d4fa5f7bad\n",
            "Successfully built sentence-transformers\n",
            "Installing collected packages: pyyaml, tokenizers, sacremoses, huggingface-hub, transformers, sentencepiece, sentence-transformers\n",
            "  Attempting uninstall: pyyaml\n",
            "    Found existing installation: PyYAML 3.13\n",
            "    Uninstalling PyYAML-3.13:\n",
            "      Successfully uninstalled PyYAML-3.13\n",
            "Successfully installed huggingface-hub-0.1.2 pyyaml-6.0 sacremoses-0.0.46 sentence-transformers-2.1.0 sentencepiece-0.1.96 tokenizers-0.10.3 transformers-4.12.5\n"
          ]
        }
      ]
    },
    {
      "cell_type": "code",
      "metadata": {
        "execution": {
          "iopub.execute_input": "2021-07-05T08:01:38.650379Z",
          "iopub.status.busy": "2021-07-05T08:01:38.649341Z",
          "iopub.status.idle": "2021-07-05T08:01:39.402595Z",
          "shell.execute_reply": "2021-07-05T08:01:39.402123Z",
          "shell.execute_reply.started": "2021-07-05T07:49:48.652988Z"
        },
        "papermill": {
          "duration": 0.836705,
          "end_time": "2021-07-05T08:01:39.402730",
          "exception": false,
          "start_time": "2021-07-05T08:01:38.566025",
          "status": "completed"
        },
        "tags": [],
        "id": "typical-quality",
        "outputId": "4504884a-a323-4e88-b930-0229a4fdd26f",
        "colab": {
          "base_uri": "https://localhost:8080/"
        }
      },
      "source": [
        "!nvidia-smi "
      ],
      "id": "typical-quality",
      "execution_count": 3,
      "outputs": [
        {
          "output_type": "stream",
          "name": "stdout",
          "text": [
            "Fri Nov 26 11:22:37 2021       \n",
            "+-----------------------------------------------------------------------------+\n",
            "| NVIDIA-SMI 495.44       Driver Version: 460.32.03    CUDA Version: 11.2     |\n",
            "|-------------------------------+----------------------+----------------------+\n",
            "| GPU  Name        Persistence-M| Bus-Id        Disp.A | Volatile Uncorr. ECC |\n",
            "| Fan  Temp  Perf  Pwr:Usage/Cap|         Memory-Usage | GPU-Util  Compute M. |\n",
            "|                               |                      |               MIG M. |\n",
            "|===============================+======================+======================|\n",
            "|   0  Tesla K80           Off  | 00000000:00:04.0 Off |                    0 |\n",
            "| N/A   32C    P8    29W / 149W |      0MiB / 11441MiB |      0%      Default |\n",
            "|                               |                      |                  N/A |\n",
            "+-------------------------------+----------------------+----------------------+\n",
            "                                                                               \n",
            "+-----------------------------------------------------------------------------+\n",
            "| Processes:                                                                  |\n",
            "|  GPU   GI   CI        PID   Type   Process name                  GPU Memory |\n",
            "|        ID   ID                                                   Usage      |\n",
            "|=============================================================================|\n",
            "|  No running processes found                                                 |\n",
            "+-----------------------------------------------------------------------------+\n"
          ]
        }
      ]
    },
    {
      "cell_type": "code",
      "metadata": {
        "execution": {
          "iopub.execute_input": "2021-07-05T08:01:39.504299Z",
          "iopub.status.busy": "2021-07-05T08:01:39.503429Z",
          "iopub.status.idle": "2021-07-05T08:02:27.110264Z",
          "shell.execute_reply": "2021-07-05T08:02:27.110676Z",
          "shell.execute_reply.started": "2021-07-05T07:49:49.323911Z"
        },
        "papermill": {
          "duration": 47.659742,
          "end_time": "2021-07-05T08:02:27.110838",
          "exception": false,
          "start_time": "2021-07-05T08:01:39.451096",
          "status": "completed"
        },
        "tags": [],
        "id": "geographic-transcript",
        "outputId": "9c9b3130-9e7e-4bbc-91a8-b2a346c58a27",
        "colab": {
          "base_uri": "https://localhost:8080/",
          "height": 465,
          "referenced_widgets": [
            "20c2b14509a24315870ec62b4eecc440",
            "6fdc64b71c3c48f9a7552f441b2b1512",
            "cbfa3563d7014e15a733e90bfbe6517d",
            "d9369478aca84527854d8bc67c2fb3b0",
            "aa573162e1dc43f5af3bcb47f52841cc",
            "79408fd187604ef2b34c1c7d4940d7f6",
            "dd8393cb92ad492a9aedb21c66aea89a",
            "82c4c0553cf34e1eb93e97550de13a5c",
            "2ac092d597b74e28ba80eefc651b2625",
            "25e8080dd37a417abf66b9788353dbfb",
            "a6dfbb8da5cd44d1b7a7b022521d0c3b",
            "0a5293229b0547a69ddfa6c27d5a249d",
            "16e2c2815abf4a0a8bd4c885b338de44",
            "3dfb30827946477f825738c80189f183",
            "0688827561eb49588f0ab90db823ef17",
            "eaffe2d5e9294ca0bf40f12aa6ce7ea9",
            "611c53977c36472eb97e42457fb88754",
            "bedb32d40b74452abca7a23dde1e0891",
            "fc801da8efee44119ed0cde756b22425",
            "986c0459fab847c39023691efb349a57",
            "b5bc054527014ea395d0f5d13907a24b",
            "8b0330c546b94d41b40803c2101b63e8",
            "39dc686440694683be3ee311fa10739b",
            "de856689904d424a8842b09ac10e46a7",
            "431ccd08f61842b2870984c86a436398",
            "43a8ae3c9b834c6ba80e2c78f0e3ee9f",
            "be1b1e308c314559b423a73002b7d57a",
            "d8ebd3ac8a9b40e0b20ff8c6b98822b7",
            "93c3531e293d4479b3d41205a332fa31",
            "da4a33f1c37f406da0ba0d5a4becdeaf",
            "ed53371815bf44159b70c2f02d0f08b6",
            "366b9e3e335b4fb390f4d86baeb0f8be",
            "177ec5273efd48afaf690d242832018d",
            "ca691ea6558443869c6162c056c69638",
            "e55914a2e4914b1fb00fa86aa8469f98",
            "0ee35db301d44c148d95b8a5939d4b2f",
            "c2419430789a410a8866824dcbe05274",
            "5d55185114d74c548e17bda88f6e6d0f",
            "5ec09bfbc6914c7eb5550c5d72facc9e",
            "be8b0629b8304da191a7b0adef658b26",
            "da3da104b8fb4b8ea923e211f422e188",
            "797002432bdc46cd82d90fa6ebb88525",
            "49d00f2c7e0b4b0daf9e90d5a18dd2f0",
            "a7c59731f3e44e8087830775f4f0289d",
            "6a0b6eaec079408dae4cb723fa3e9a6f",
            "234df277e74c44618135f5e58661640a",
            "b900d34cc0a34ce9a4dd50d62fd1fe67",
            "4f9e4d03b9134bf4b38b527acaf1205d",
            "91ea84de82e44036b1494d6d46de556f",
            "311a577a2d274006a4dd37b2f8f228a9",
            "b5368cdbf6754517afc3c220066d9a70",
            "e83195ec58c248e5b7c521dda98c3322",
            "b65df0d4932d4ee8906461b52029623d",
            "b9844e5e0f144709b0b6fb5fc39f0506",
            "2fd279164ad142d7a163fbb638fa01e4",
            "0e3393eace9245ed8a2fd0ef9d39ed02",
            "1ed74817a8044c62b18bb786ec80f57f",
            "4dce01d7794342edb2d1a1e62c876516",
            "5ac71d52206b4a7081a9fd992bd58d14",
            "c06843b3ffc344c98073a30cd4d140bf",
            "6a684d84f26f4b3498a2fdf83ad30218",
            "0b95185a19894318adbed7a11822e22f",
            "54fa8dfe983e4b5c998d74b4562468bd",
            "1ea52c38c2024ea7a542254548668957",
            "3b49113104504f7587515b98c8904ab7",
            "b4c5f3ff71f044259f2588e2b3d061f5",
            "1f0f116386ae4414a99959b2f5c5013b",
            "0281f7d2bf814b76a0f11efd9af6d5a5",
            "f3ec0ae4b65c4984bbba0f0406f3341a",
            "898d020963d54b7bb3dd1ef60cfd41d7",
            "a650215c5ed540778b1b21b2e95ea1af",
            "9018e63134fc4630815f822dcde46708",
            "73835268ff354f43b291f5bbec0321bb",
            "c968295adabb42d18e8e62e1e088e839",
            "5fd7647b7ab641a2b540a601f216bda0",
            "45285b10701e43828f8fbf5613830117",
            "9bad9ebf7afc409a8be7792eacf5795f",
            "08d40a7035264789ac73632cbc55edf8",
            "f0416469ff684c488553411cb2c6de42",
            "b6f406cf3eb745c89ed31535fd1b04a1",
            "2324f0ddeedd453da00e5168b82b760d",
            "8dcae4c834fa4527a7d375f186426d0d",
            "e7d91e7c396d416baa46f33466dd6179",
            "69da6f259e24462b8c135376adc07d8d",
            "a5ffa8f3131e4e5ab244c940a0fedd2a",
            "fb8851f145334b8f9be2d3070660d747",
            "39b87b2ae64e494b91402c87d89123e5",
            "7121d2bfd0b2404f99d9c605a3b5a6ff",
            "cdac8deffc154687adf58a6a4237370f",
            "81775db377064264a6d14354f21bc942",
            "d39eea405ef94a30bf9d8bc0c37d0af3",
            "863620684ea14fac97c533adca34e78a",
            "aeca2fa943d9412990261d9c4eb895e0",
            "6f31990e083d42d2b6a5cc359cd57636",
            "ed64754bb5764b10975f3b5f36046a4d",
            "a3abd16326b54a4a8008a3eca88c1ab0",
            "de9a9c097f5d4701a17efb4be4a2db96",
            "6df397d767a04ed1860e584780369559",
            "c2289d3dbb204fb599b69e0c3cee632e",
            "74408ac1b0b3408cb9f2b31b2c688ef8",
            "c294e73b25a74b73ba080dca46de9e4a",
            "c5a471b01ad84bd791a78dee0f733713",
            "a935cd134ab14034b2666933e0d95ce5",
            "18e9c3dda7074e848f2a20fa5ca53f24",
            "f818e9a6a51b4b6b867b0fb04993c38d",
            "af85d35a76cc4f6fb2dd966e3d4b146d",
            "ee2630d52a0148a2ad68522012f425ee",
            "e8753e6c341b4390b6db67d8312c2f50",
            "952b13a896ed4dcc8717686b2fb5bea3",
            "c5605cf8a3f8486596cf44e6a178a511",
            "ef5e6fe6d90046ee8421daa6d849c73f",
            "1983645ec1ba43ca91e8919e72aa2970",
            "8f9f38d66cca435bb2452bdfd3ff2015",
            "4d33b5b451854787bfd99a81b43ea745",
            "d6d8e235f7b64e12ae829ae96b54e7a7",
            "b2b65ebe08b34871b7c2173d4435f6ef",
            "85f61bfb5ce240529f7e8619b3e40c25",
            "f06269172a0a4eaab8cf854ff39f234e",
            "84c7bc51097e4471a93387490ba04ac1",
            "52015815c2834b4db3a983e1394d8dbe",
            "9ba5c6e784e34aeda49074410f30d86b",
            "a1d75fcb2bfe4afea5dcdb57c21efa8e",
            "a0d60cac3b55420685fe8b9d4e67e99f",
            "9925d411330b481c8288ae7aa0041e18",
            "9ab4a50002ec4bcf893aaf09fa480f78",
            "6eabcdbc56d149c58a78336cfe2cc4cd",
            "f5ba9aae024e4e028009bd1fb0402c49",
            "1806746296c6489a802bfcf5b09f6914",
            "d9facd92e87d4b42976c18fa86fd1992",
            "7b335219dd394c56bf3a7a358ab26aa0",
            "bbb76ba9800844978e77bc888209efb3",
            "e2cc29f388a342f292d7069031d7bebd",
            "e80359d8b72d4d4ba7f94748d8c6e0ea",
            "6619615e1b434af29365e94a23cfe1a4",
            "b8808e4991134832a45395d3a379bab1",
            "0dcedc6a72bc499cb0f7f40fd9bc51ed",
            "4b42522667d94dc4a5c4da0f6dcfaf8c",
            "4af6109fae40439580226dd98f806ccc",
            "2fbd9b236f4849efaa7578bd56a6458a",
            "ff5c41c240cf45f385b09b877f0155d6",
            "168b701702b2442292c139df05e366b6",
            "15efeea2f10b4b2ebd4addf6dd80c8f4",
            "41352ecbd4fe4fa1a5a7f41f062e3feb",
            "56cee5c0deaf4d6b853aca13ad80ffc3",
            "f6d9d841bce9442fbf92942633bd1964",
            "ab33ee9c26814a89823a33e69f4fe150",
            "bdbe52d752b944fc989ca6fef2721d44",
            "6592dc3bdb2b4124b2182033be040b21",
            "21aac74944ce4d5687acedf62a8ecb3c",
            "3d7adda0acba44dda3ffb084b7fccef6",
            "c7f61ca083ba47a5b3cb635ae37b3f14",
            "38273ce770774f25ba909f98f38766ac",
            "04c5db9bd7bb4c869f694987250e34b8",
            "023e1688fbf745b1856a9b21ff1f1f82"
          ]
        }
      },
      "source": [
        "import pandas as pd\n",
        "import time\n",
        "from tqdm import tqdm\n",
        "import seaborn as sns\n",
        "import numpy as np\n",
        "from textblob import TextBlob\n",
        "import matplotlib.pyplot as plt\n",
        "from sentence_transformers import SentenceTransformer\n",
        "model = SentenceTransformer('msmarco-distilbert-base-dot-prod-v3')"
      ],
      "id": "geographic-transcript",
      "execution_count": 4,
      "outputs": [
        {
          "output_type": "display_data",
          "data": {
            "application/vnd.jupyter.widget-view+json": {
              "model_id": "20c2b14509a24315870ec62b4eecc440",
              "version_minor": 0,
              "version_major": 2
            },
            "text/plain": [
              "Downloading:   0%|          | 0.00/690 [00:00<?, ?B/s]"
            ]
          },
          "metadata": {}
        },
        {
          "output_type": "display_data",
          "data": {
            "application/vnd.jupyter.widget-view+json": {
              "model_id": "0a5293229b0547a69ddfa6c27d5a249d",
              "version_minor": 0,
              "version_major": 2
            },
            "text/plain": [
              "Downloading:   0%|          | 0.00/2.35k [00:00<?, ?B/s]"
            ]
          },
          "metadata": {}
        },
        {
          "output_type": "display_data",
          "data": {
            "application/vnd.jupyter.widget-view+json": {
              "model_id": "39dc686440694683be3ee311fa10739b",
              "version_minor": 0,
              "version_major": 2
            },
            "text/plain": [
              "Downloading:   0%|          | 0.00/554 [00:00<?, ?B/s]"
            ]
          },
          "metadata": {}
        },
        {
          "output_type": "display_data",
          "data": {
            "application/vnd.jupyter.widget-view+json": {
              "model_id": "ca691ea6558443869c6162c056c69638",
              "version_minor": 0,
              "version_major": 2
            },
            "text/plain": [
              "Downloading:   0%|          | 0.00/122 [00:00<?, ?B/s]"
            ]
          },
          "metadata": {}
        },
        {
          "output_type": "display_data",
          "data": {
            "application/vnd.jupyter.widget-view+json": {
              "model_id": "6a0b6eaec079408dae4cb723fa3e9a6f",
              "version_minor": 0,
              "version_major": 2
            },
            "text/plain": [
              "Downloading:   0%|          | 0.00/341 [00:00<?, ?B/s]"
            ]
          },
          "metadata": {}
        },
        {
          "output_type": "display_data",
          "data": {
            "application/vnd.jupyter.widget-view+json": {
              "model_id": "0e3393eace9245ed8a2fd0ef9d39ed02",
              "version_minor": 0,
              "version_major": 2
            },
            "text/plain": [
              "Downloading:   0%|          | 0.00/265M [00:00<?, ?B/s]"
            ]
          },
          "metadata": {}
        },
        {
          "output_type": "display_data",
          "data": {
            "application/vnd.jupyter.widget-view+json": {
              "model_id": "1f0f116386ae4414a99959b2f5c5013b",
              "version_minor": 0,
              "version_major": 2
            },
            "text/plain": [
              "Downloading:   0%|          | 0.00/53.0 [00:00<?, ?B/s]"
            ]
          },
          "metadata": {}
        },
        {
          "output_type": "display_data",
          "data": {
            "application/vnd.jupyter.widget-view+json": {
              "model_id": "08d40a7035264789ac73632cbc55edf8",
              "version_minor": 0,
              "version_major": 2
            },
            "text/plain": [
              "Downloading:   0%|          | 0.00/112 [00:00<?, ?B/s]"
            ]
          },
          "metadata": {}
        },
        {
          "output_type": "display_data",
          "data": {
            "application/vnd.jupyter.widget-view+json": {
              "model_id": "cdac8deffc154687adf58a6a4237370f",
              "version_minor": 0,
              "version_major": 2
            },
            "text/plain": [
              "Downloading:   0%|          | 0.00/466k [00:00<?, ?B/s]"
            ]
          },
          "metadata": {}
        },
        {
          "output_type": "display_data",
          "data": {
            "application/vnd.jupyter.widget-view+json": {
              "model_id": "74408ac1b0b3408cb9f2b31b2c688ef8",
              "version_minor": 0,
              "version_major": 2
            },
            "text/plain": [
              "Downloading:   0%|          | 0.00/376 [00:00<?, ?B/s]"
            ]
          },
          "metadata": {}
        },
        {
          "output_type": "display_data",
          "data": {
            "application/vnd.jupyter.widget-view+json": {
              "model_id": "ef5e6fe6d90046ee8421daa6d849c73f",
              "version_minor": 0,
              "version_major": 2
            },
            "text/plain": [
              "Downloading:   0%|          | 0.00/232k [00:00<?, ?B/s]"
            ]
          },
          "metadata": {}
        },
        {
          "output_type": "display_data",
          "data": {
            "application/vnd.jupyter.widget-view+json": {
              "model_id": "a1d75fcb2bfe4afea5dcdb57c21efa8e",
              "version_minor": 0,
              "version_major": 2
            },
            "text/plain": [
              "Downloading:   0%|          | 0.00/190 [00:00<?, ?B/s]"
            ]
          },
          "metadata": {}
        },
        {
          "output_type": "display_data",
          "data": {
            "application/vnd.jupyter.widget-view+json": {
              "model_id": "e80359d8b72d4d4ba7f94748d8c6e0ea",
              "version_minor": 0,
              "version_major": 2
            },
            "text/plain": [
              "Downloading:   0%|          | 0.00/115 [00:00<?, ?B/s]"
            ]
          },
          "metadata": {}
        },
        {
          "output_type": "display_data",
          "data": {
            "application/vnd.jupyter.widget-view+json": {
              "model_id": "56cee5c0deaf4d6b853aca13ad80ffc3",
              "version_minor": 0,
              "version_major": 2
            },
            "text/plain": [
              "Downloading:   0%|          | 0.00/2.36M [00:00<?, ?B/s]"
            ]
          },
          "metadata": {}
        }
      ]
    },
    {
      "cell_type": "code",
      "metadata": {
        "execution": {
          "iopub.execute_input": "2021-07-05T08:02:27.215271Z",
          "iopub.status.busy": "2021-07-05T08:02:27.214499Z",
          "iopub.status.idle": "2021-07-05T08:02:27.217198Z",
          "shell.execute_reply": "2021-07-05T08:02:27.216785Z",
          "shell.execute_reply.started": "2021-07-05T07:50:14.208670Z"
        },
        "papermill": {
          "duration": 0.057221,
          "end_time": "2021-07-05T08:02:27.217309",
          "exception": false,
          "start_time": "2021-07-05T08:02:27.160088",
          "status": "completed"
        },
        "tags": [],
        "id": "subjective-project"
      },
      "source": [
        "def fetch_movie_info(dataframe_idx):\n",
        "    info = df.iloc[dataframe_idx]\n",
        "    meta_dict = {}\n",
        "    meta_dict['Title'] = info['Title']\n",
        "    meta_dict['Plot'] = info['Plot'][:500]\n",
        "    return meta_dict\n",
        "    \n",
        "def search(query, top_k, index, model):\n",
        "    t=time.time()\n",
        "    query_vector = model.encode([query])\n",
        "    top_k = index.search(query_vector, top_k)\n",
        "    print('>>>> Results in Total Time: {}'.format(time.time()-t))\n",
        "    top_k_ids = top_k[1].tolist()[0]\n",
        "    top_k_ids = list(np.unique(top_k_ids))\n",
        "    results =  [fetch_movie_info(idx) for idx in top_k_ids]\n",
        "    return results"
      ],
      "id": "subjective-project",
      "execution_count": 5,
      "outputs": []
    },
    {
      "cell_type": "code",
      "metadata": {
        "execution": {
          "iopub.execute_input": "2021-07-05T08:02:27.326621Z",
          "iopub.status.busy": "2021-07-05T08:02:27.326090Z",
          "iopub.status.idle": "2021-07-05T08:02:29.006663Z",
          "shell.execute_reply": "2021-07-05T08:02:29.007313Z",
          "shell.execute_reply.started": "2021-07-05T07:50:14.218012Z"
        },
        "papermill": {
          "duration": 1.741742,
          "end_time": "2021-07-05T08:02:29.007504",
          "exception": false,
          "start_time": "2021-07-05T08:02:27.265762",
          "status": "completed"
        },
        "tags": [],
        "id": "neither-durham",
        "outputId": "b7a73711-55fc-4034-8990-f8f95fff2284",
        "colab": {
          "base_uri": "https://localhost:8080/"
        }
      },
      "source": [
        "data = pd.read_csv('wiki_movie_plots_deduped.csv',memory_map=True, engine=\"python\", error_bad_lines=False )\n",
        "data.info()"
      ],
      "id": "neither-durham",
      "execution_count": 8,
      "outputs": [
        {
          "output_type": "stream",
          "name": "stdout",
          "text": [
            "<class 'pandas.core.frame.DataFrame'>\n",
            "RangeIndex: 34886 entries, 0 to 34885\n",
            "Data columns (total 8 columns):\n",
            " #   Column            Non-Null Count  Dtype \n",
            "---  ------            --------------  ----- \n",
            " 0   Release Year      34886 non-null  int64 \n",
            " 1   Title             34886 non-null  object\n",
            " 2   Origin/Ethnicity  34886 non-null  object\n",
            " 3   Director          34886 non-null  object\n",
            " 4   Cast              33464 non-null  object\n",
            " 5   Genre             34886 non-null  object\n",
            " 6   Wiki Page         34886 non-null  object\n",
            " 7   Plot              34886 non-null  object\n",
            "dtypes: int64(1), object(7)\n",
            "memory usage: 2.1+ MB\n"
          ]
        }
      ]
    },
    {
      "cell_type": "markdown",
      "metadata": {
        "id": "mChgMAizLV3J"
      },
      "source": [
        ""
      ],
      "id": "mChgMAizLV3J"
    },
    {
      "cell_type": "code",
      "metadata": {
        "id": "NwvrcY6LLWNz"
      },
      "source": [
        ""
      ],
      "id": "NwvrcY6LLWNz",
      "execution_count": 6,
      "outputs": []
    },
    {
      "cell_type": "code",
      "metadata": {
        "execution": {
          "iopub.execute_input": "2021-07-05T08:02:29.125608Z",
          "iopub.status.busy": "2021-07-05T08:02:29.124637Z",
          "iopub.status.idle": "2021-07-05T08:02:29.135130Z",
          "shell.execute_reply": "2021-07-05T08:02:29.135648Z",
          "shell.execute_reply.started": "2021-07-05T07:50:15.876550Z"
        },
        "papermill": {
          "duration": 0.074147,
          "end_time": "2021-07-05T08:02:29.135801",
          "exception": false,
          "start_time": "2021-07-05T08:02:29.061654",
          "status": "completed"
        },
        "tags": [],
        "id": "indirect-titanium",
        "outputId": "deb1552e-88f7-4177-cb34-d6db89fbc4dc",
        "colab": {
          "base_uri": "https://localhost:8080/",
          "height": 501
        }
      },
      "source": [
        "data.head()"
      ],
      "id": "indirect-titanium",
      "execution_count": 9,
      "outputs": [
        {
          "output_type": "execute_result",
          "data": {
            "text/html": [
              "<div>\n",
              "<style scoped>\n",
              "    .dataframe tbody tr th:only-of-type {\n",
              "        vertical-align: middle;\n",
              "    }\n",
              "\n",
              "    .dataframe tbody tr th {\n",
              "        vertical-align: top;\n",
              "    }\n",
              "\n",
              "    .dataframe thead th {\n",
              "        text-align: right;\n",
              "    }\n",
              "</style>\n",
              "<table border=\"1\" class=\"dataframe\">\n",
              "  <thead>\n",
              "    <tr style=\"text-align: right;\">\n",
              "      <th></th>\n",
              "      <th>Release Year</th>\n",
              "      <th>Title</th>\n",
              "      <th>Origin/Ethnicity</th>\n",
              "      <th>Director</th>\n",
              "      <th>Cast</th>\n",
              "      <th>Genre</th>\n",
              "      <th>Wiki Page</th>\n",
              "      <th>Plot</th>\n",
              "    </tr>\n",
              "  </thead>\n",
              "  <tbody>\n",
              "    <tr>\n",
              "      <th>0</th>\n",
              "      <td>1901</td>\n",
              "      <td>Kansas Saloon Smashers</td>\n",
              "      <td>American</td>\n",
              "      <td>Unknown</td>\n",
              "      <td>NaN</td>\n",
              "      <td>unknown</td>\n",
              "      <td>https://en.wikipedia.org/wiki/Kansas_Saloon_Sm...</td>\n",
              "      <td>A bartender is working at a saloon, serving dr...</td>\n",
              "    </tr>\n",
              "    <tr>\n",
              "      <th>1</th>\n",
              "      <td>1901</td>\n",
              "      <td>Love by the Light of the Moon</td>\n",
              "      <td>American</td>\n",
              "      <td>Unknown</td>\n",
              "      <td>NaN</td>\n",
              "      <td>unknown</td>\n",
              "      <td>https://en.wikipedia.org/wiki/Love_by_the_Ligh...</td>\n",
              "      <td>The moon, painted with a smiling face hangs ov...</td>\n",
              "    </tr>\n",
              "    <tr>\n",
              "      <th>2</th>\n",
              "      <td>1901</td>\n",
              "      <td>The Martyred Presidents</td>\n",
              "      <td>American</td>\n",
              "      <td>Unknown</td>\n",
              "      <td>NaN</td>\n",
              "      <td>unknown</td>\n",
              "      <td>https://en.wikipedia.org/wiki/The_Martyred_Pre...</td>\n",
              "      <td>The film, just over a minute long, is composed...</td>\n",
              "    </tr>\n",
              "    <tr>\n",
              "      <th>3</th>\n",
              "      <td>1901</td>\n",
              "      <td>Terrible Teddy, the Grizzly King</td>\n",
              "      <td>American</td>\n",
              "      <td>Unknown</td>\n",
              "      <td>NaN</td>\n",
              "      <td>unknown</td>\n",
              "      <td>https://en.wikipedia.org/wiki/Terrible_Teddy,_...</td>\n",
              "      <td>Lasting just 61 seconds and consisting of two ...</td>\n",
              "    </tr>\n",
              "    <tr>\n",
              "      <th>4</th>\n",
              "      <td>1902</td>\n",
              "      <td>Jack and the Beanstalk</td>\n",
              "      <td>American</td>\n",
              "      <td>George S. Fleming, Edwin S. Porter</td>\n",
              "      <td>NaN</td>\n",
              "      <td>unknown</td>\n",
              "      <td>https://en.wikipedia.org/wiki/Jack_and_the_Bea...</td>\n",
              "      <td>The earliest known adaptation of the classic f...</td>\n",
              "    </tr>\n",
              "  </tbody>\n",
              "</table>\n",
              "</div>"
            ],
            "text/plain": [
              "   Release Year  ...                                               Plot\n",
              "0          1901  ...  A bartender is working at a saloon, serving dr...\n",
              "1          1901  ...  The moon, painted with a smiling face hangs ov...\n",
              "2          1901  ...  The film, just over a minute long, is composed...\n",
              "3          1901  ...  Lasting just 61 seconds and consisting of two ...\n",
              "4          1902  ...  The earliest known adaptation of the classic f...\n",
              "\n",
              "[5 rows x 8 columns]"
            ]
          },
          "metadata": {},
          "execution_count": 9
        }
      ]
    },
    {
      "cell_type": "code",
      "metadata": {
        "execution": {
          "iopub.execute_input": "2021-07-05T08:02:29.243525Z",
          "iopub.status.busy": "2021-07-05T08:02:29.242784Z",
          "iopub.status.idle": "2021-07-05T08:02:29.247351Z",
          "shell.execute_reply": "2021-07-05T08:02:29.246911Z",
          "shell.execute_reply.started": "2021-07-05T07:50:15.898878Z"
        },
        "papermill": {
          "duration": 0.057776,
          "end_time": "2021-07-05T08:02:29.247456",
          "exception": false,
          "start_time": "2021-07-05T08:02:29.189680",
          "status": "completed"
        },
        "tags": [],
        "id": "departmental-mumbai"
      },
      "source": [
        "import gc\n",
        "df = data[['Title','Plot']]\n"
      ],
      "id": "departmental-mumbai",
      "execution_count": 10,
      "outputs": []
    },
    {
      "cell_type": "code",
      "metadata": {
        "execution": {
          "iopub.execute_input": "2021-07-05T08:02:29.357285Z",
          "iopub.status.busy": "2021-07-05T08:02:29.356689Z",
          "iopub.status.idle": "2021-07-05T08:02:29.610596Z",
          "shell.execute_reply": "2021-07-05T08:02:29.611258Z",
          "shell.execute_reply.started": "2021-07-05T07:50:15.909413Z"
        },
        "papermill": {
          "duration": 0.315046,
          "end_time": "2021-07-05T08:02:29.611499",
          "exception": false,
          "start_time": "2021-07-05T08:02:29.296453",
          "status": "completed"
        },
        "tags": [],
        "id": "continental-jewel",
        "outputId": "7ca038fd-f4a5-41d3-b511-8372f691d24e",
        "colab": {
          "base_uri": "https://localhost:8080/"
        }
      },
      "source": [
        "df.dropna(inplace=True)\n",
        "df.drop_duplicates(subset=['Plot'],inplace=True)"
      ],
      "id": "continental-jewel",
      "execution_count": 11,
      "outputs": [
        {
          "output_type": "stream",
          "name": "stderr",
          "text": [
            "/usr/local/lib/python3.7/dist-packages/ipykernel_launcher.py:1: SettingWithCopyWarning: \n",
            "A value is trying to be set on a copy of a slice from a DataFrame\n",
            "\n",
            "See the caveats in the documentation: https://pandas.pydata.org/pandas-docs/stable/user_guide/indexing.html#returning-a-view-versus-a-copy\n",
            "  \"\"\"Entry point for launching an IPython kernel.\n",
            "/usr/local/lib/python3.7/dist-packages/ipykernel_launcher.py:2: SettingWithCopyWarning: \n",
            "A value is trying to be set on a copy of a slice from a DataFrame\n",
            "\n",
            "See the caveats in the documentation: https://pandas.pydata.org/pandas-docs/stable/user_guide/indexing.html#returning-a-view-versus-a-copy\n",
            "  \n"
          ]
        }
      ]
    },
    {
      "cell_type": "code",
      "metadata": {
        "execution": {
          "iopub.execute_input": "2021-07-05T08:02:29.803408Z",
          "iopub.status.busy": "2021-07-05T08:02:29.802238Z",
          "iopub.status.idle": "2021-07-05T08:02:50.031224Z",
          "shell.execute_reply": "2021-07-05T08:02:50.030766Z",
          "shell.execute_reply.started": "2021-07-05T07:50:16.140114Z"
        },
        "papermill": {
          "duration": 20.334097,
          "end_time": "2021-07-05T08:02:50.031356",
          "exception": false,
          "start_time": "2021-07-05T08:02:29.697259",
          "status": "completed"
        },
        "tags": [],
        "id": "narrow-cookbook",
        "outputId": "019ff9f9-68ee-4e79-c00a-1f6b3c26fdae",
        "colab": {
          "base_uri": "https://localhost:8080/"
        }
      },
      "source": [
        "!pip install faiss-gpu"
      ],
      "id": "narrow-cookbook",
      "execution_count": 13,
      "outputs": [
        {
          "output_type": "stream",
          "name": "stdout",
          "text": [
            "Collecting faiss-gpu\n",
            "  Downloading faiss_gpu-1.7.1.post2-cp37-cp37m-manylinux_2_17_x86_64.manylinux2014_x86_64.whl (89.7 MB)\n",
            "\u001b[K     |████████████████████████████████| 89.7 MB 26 kB/s \n",
            "\u001b[?25hInstalling collected packages: faiss-gpu\n",
            "Successfully installed faiss-gpu-1.7.1.post2\n"
          ]
        }
      ]
    },
    {
      "cell_type": "code",
      "metadata": {
        "execution": {
          "iopub.execute_input": "2021-07-05T08:02:50.266409Z",
          "iopub.status.busy": "2021-07-05T08:02:50.265645Z",
          "iopub.status.idle": "2021-07-05T08:06:58.936849Z",
          "shell.execute_reply": "2021-07-05T08:06:58.936281Z",
          "shell.execute_reply.started": "2021-07-05T07:50:29.773664Z"
        },
        "papermill": {
          "duration": 248.789424,
          "end_time": "2021-07-05T08:06:58.936990",
          "exception": false,
          "start_time": "2021-07-05T08:02:50.147566",
          "status": "completed"
        },
        "tags": [],
        "id": "duplicate-alfred"
      },
      "source": [
        "import faiss\n",
        "encoded_data = model.encode(df.Plot.tolist())\n",
        "encoded_data = np.asarray(encoded_data.astype('float32'))\n",
        "index = faiss.IndexIDMap(faiss.IndexFlatIP(768))\n",
        "index.add_with_ids(encoded_data, np.array(range(0, len(df))))\n",
        "faiss.write_index(index, 'movie_plot.index')"
      ],
      "id": "duplicate-alfred",
      "execution_count": null,
      "outputs": []
    },
    {
      "cell_type": "code",
      "metadata": {
        "execution": {
          "iopub.execute_input": "2021-07-05T08:06:59.181831Z",
          "iopub.status.busy": "2021-07-05T08:06:59.181031Z",
          "iopub.status.idle": "2021-07-05T08:06:59.279324Z",
          "shell.execute_reply": "2021-07-05T08:06:59.278819Z",
          "shell.execute_reply.started": "2021-07-05T07:54:42.301338Z"
        },
        "papermill": {
          "duration": 0.221785,
          "end_time": "2021-07-05T08:06:59.279458",
          "exception": false,
          "start_time": "2021-07-05T08:06:59.057673",
          "status": "completed"
        },
        "tags": [],
        "id": "direct-compound"
      },
      "source": [
        "from pprint import pprint\n",
        "\n",
        "query=\"Artificial Intelligence based action movie\"\n",
        "results=search(query, top_k=5, index=index, model=model)\n",
        "\n",
        "print(\"\\n\")\n",
        "for result in results:\n",
        "    print('\\t',pprint(result))"
      ],
      "id": "direct-compound",
      "execution_count": null,
      "outputs": []
    },
    {
      "cell_type": "markdown",
      "metadata": {
        "papermill": {
          "duration": 0.11837,
          "end_time": "2021-07-05T08:06:59.515553",
          "exception": false,
          "start_time": "2021-07-05T08:06:59.397183",
          "status": "completed"
        },
        "tags": [],
        "id": "challenging-efficiency"
      },
      "source": [
        "# Re-Ranker: Cross-Encoder\n",
        "\n",
        "The retriever has to be efficient for large document collections with millions of entries. However, it might return irrelevant candidates.\n",
        "\n",
        "A re-ranker based on a Cross-Encoder can substantially improve the final results for the user. The query and a possible document is passed simultaneously to transformer network, which then outputs a single score between 0 and 1 indicating how relevant the document is for the given query.\n",
        "\n",
        "The advantage of Cross-Encoders is the higher performance, as they perform attention across the query and the document.\n",
        "\n",
        "Scoring thousands or millions of (query, document)-pairs would be rather slow. Hence, we use the retriever to create a set of e.g. 100 possible candidates which are then re-ranked by the Cross-Encoder.\n"
      ],
      "id": "challenging-efficiency"
    },
    {
      "cell_type": "code",
      "metadata": {
        "execution": {
          "iopub.execute_input": "2021-07-05T08:06:59.778044Z",
          "iopub.status.busy": "2021-07-05T08:06:59.777442Z",
          "iopub.status.idle": "2021-07-05T08:07:25.004118Z",
          "shell.execute_reply": "2021-07-05T08:07:25.004589Z",
          "shell.execute_reply.started": "2021-07-05T07:54:42.404110Z"
        },
        "papermill": {
          "duration": 25.357843,
          "end_time": "2021-07-05T08:07:25.004775",
          "exception": false,
          "start_time": "2021-07-05T08:06:59.646932",
          "status": "completed"
        },
        "tags": [],
        "id": "reflected-serial",
        "outputId": "06c6655f-97e3-410b-d058-c2df90155956",
        "colab": {
          "referenced_widgets": [
            "c429c17b2c6a43d7bfe9de8f18e863b5",
            "46c84bbbbaf84d348a9180679be6488b",
            "0282f4de24704a628d98f53a719dbe2a",
            "9596667cf08c4664b41a157a56bc14aa",
            "fc1fa8dae26745ae853c472aed5ca98f"
          ]
        }
      },
      "source": [
        "## Load our cross-encoder. Use fast tokenizer to speed up the tokenization\n",
        "from sentence_transformers import CrossEncoder\n",
        "cross_model = CrossEncoder('cross-encoder/ms-marco-TinyBERT-L-6', max_length=512)"
      ],
      "id": "reflected-serial",
      "execution_count": null,
      "outputs": [
        {
          "data": {
            "application/vnd.jupyter.widget-view+json": {
              "model_id": "c429c17b2c6a43d7bfe9de8f18e863b5",
              "version_major": 2,
              "version_minor": 0
            },
            "text/plain": [
              "Downloading:   0%|          | 0.00/612 [00:00<?, ?B/s]"
            ]
          },
          "metadata": {},
          "output_type": "display_data"
        },
        {
          "data": {
            "application/vnd.jupyter.widget-view+json": {
              "model_id": "46c84bbbbaf84d348a9180679be6488b",
              "version_major": 2,
              "version_minor": 0
            },
            "text/plain": [
              "Downloading:   0%|          | 0.00/268M [00:00<?, ?B/s]"
            ]
          },
          "metadata": {},
          "output_type": "display_data"
        },
        {
          "data": {
            "application/vnd.jupyter.widget-view+json": {
              "model_id": "0282f4de24704a628d98f53a719dbe2a",
              "version_major": 2,
              "version_minor": 0
            },
            "text/plain": [
              "Downloading:   0%|          | 0.00/541 [00:00<?, ?B/s]"
            ]
          },
          "metadata": {},
          "output_type": "display_data"
        },
        {
          "data": {
            "application/vnd.jupyter.widget-view+json": {
              "model_id": "9596667cf08c4664b41a157a56bc14aa",
              "version_major": 2,
              "version_minor": 0
            },
            "text/plain": [
              "Downloading:   0%|          | 0.00/232k [00:00<?, ?B/s]"
            ]
          },
          "metadata": {},
          "output_type": "display_data"
        },
        {
          "data": {
            "application/vnd.jupyter.widget-view+json": {
              "model_id": "fc1fa8dae26745ae853c472aed5ca98f",
              "version_major": 2,
              "version_minor": 0
            },
            "text/plain": [
              "Downloading:   0%|          | 0.00/112 [00:00<?, ?B/s]"
            ]
          },
          "metadata": {},
          "output_type": "display_data"
        }
      ]
    },
    {
      "cell_type": "code",
      "metadata": {
        "execution": {
          "iopub.execute_input": "2021-07-05T08:07:25.282977Z",
          "iopub.status.busy": "2021-07-05T08:07:25.282139Z",
          "iopub.status.idle": "2021-07-05T08:07:25.397870Z",
          "shell.execute_reply": "2021-07-05T08:07:25.397392Z",
          "shell.execute_reply.started": "2021-07-05T07:54:54.346203Z"
        },
        "papermill": {
          "duration": 0.260803,
          "end_time": "2021-07-05T08:07:25.397997",
          "exception": false,
          "start_time": "2021-07-05T08:07:25.137194",
          "status": "completed"
        },
        "tags": [],
        "id": "celtic-recycling",
        "outputId": "9ecd6567-d7a2-488e-a017-dc7489d6cb67",
        "colab": {
          "referenced_widgets": [
            "dff1a767dfea444f86a87ccf9640682a"
          ]
        }
      },
      "source": [
        "\n",
        "def cross_score(model_inputs):\n",
        "    scores = cross_model.predict(model_inputs)\n",
        "    return scores\n",
        "\n",
        "model_inputs = [[query,item['Plot']] for item in results]\n",
        "scores = cross_score(model_inputs)\n",
        "#Sort the scores in decreasing order\n",
        "ranked_results = [{'Title': inp['Title'], 'Score': score} for inp, score in zip(results, scores)]\n",
        "ranked_results = sorted(ranked_results, key=lambda x: x['Score'], reverse=True)\n"
      ],
      "id": "celtic-recycling",
      "execution_count": null,
      "outputs": [
        {
          "data": {
            "application/vnd.jupyter.widget-view+json": {
              "model_id": "dff1a767dfea444f86a87ccf9640682a",
              "version_major": 2,
              "version_minor": 0
            },
            "text/plain": [
              "Batches:   0%|          | 0/1 [00:00<?, ?it/s]"
            ]
          },
          "metadata": {},
          "output_type": "display_data"
        }
      ]
    },
    {
      "cell_type": "code",
      "metadata": {
        "execution": {
          "iopub.execute_input": "2021-07-05T08:07:25.651414Z",
          "iopub.status.busy": "2021-07-05T08:07:25.650582Z",
          "iopub.status.idle": "2021-07-05T08:07:25.656220Z",
          "shell.execute_reply": "2021-07-05T08:07:25.655510Z",
          "shell.execute_reply.started": "2021-07-05T07:54:54.480220Z"
        },
        "papermill": {
          "duration": 0.125042,
          "end_time": "2021-07-05T08:07:25.656383",
          "exception": false,
          "start_time": "2021-07-05T08:07:25.531341",
          "status": "completed"
        },
        "tags": [],
        "id": "liquid-constant",
        "outputId": "c6d188e8-a50c-4084-ef49-7e2ee8398f9e"
      },
      "source": [
        "print(\"\\n\")\n",
        "for result in ranked_results:\n",
        "    print('\\t',pprint(result))"
      ],
      "id": "liquid-constant",
      "execution_count": null,
      "outputs": [
        {
          "name": "stdout",
          "output_type": "stream",
          "text": [
            "\n",
            "\n",
            "{'Score': 0.0013189373, 'Title': 'Armed Response'}\n",
            "\t None\n",
            "{'Score': 0.00021016104, 'Title': 'The Cape Canaveral Monsters'}\n",
            "\t None\n",
            "{'Score': 0.00016477783, 'Title': 'Chappie'}\n",
            "\t None\n",
            "{'Score': 0.00016433487,\n",
            " 'Title': 'Galactic Armored Fleet Majestic Prince: Genetic Awakening'}\n",
            "\t None\n",
            "{'Score': 0.00016109987, 'Title': 'Small Soldiers'}\n",
            "\t None\n"
          ]
        }
      ]
    },
    {
      "cell_type": "code",
      "metadata": {
        "execution": {
          "iopub.execute_input": "2021-07-05T08:07:25.917047Z",
          "iopub.status.busy": "2021-07-05T08:07:25.891509Z",
          "iopub.status.idle": "2021-07-05T08:07:33.211362Z",
          "shell.execute_reply": "2021-07-05T08:07:33.209832Z",
          "shell.execute_reply.started": "2021-07-05T07:54:54.602785Z"
        },
        "papermill": {
          "duration": 7.438488,
          "end_time": "2021-07-05T08:07:33.211538",
          "exception": false,
          "start_time": "2021-07-05T08:07:25.773050",
          "status": "completed"
        },
        "tags": [],
        "id": "paperback-corrections",
        "outputId": "6cd8da1f-edbd-491e-d0de-9586a97e878a"
      },
      "source": [
        "!pip install bert-score"
      ],
      "id": "paperback-corrections",
      "execution_count": null,
      "outputs": [
        {
          "name": "stdout",
          "output_type": "stream",
          "text": [
            "Collecting bert-score\r\n",
            "  Downloading bert_score-0.3.9-py3-none-any.whl (59 kB)\r\n",
            "\u001b[K     |████████████████████████████████| 59 kB 305 kB/s \r\n",
            "\u001b[?25hRequirement already satisfied: pandas>=1.0.1 in /opt/conda/lib/python3.7/site-packages (from bert-score) (1.1.5)\r\n",
            "Requirement already satisfied: requests in /opt/conda/lib/python3.7/site-packages (from bert-score) (2.25.1)\r\n",
            "Requirement already satisfied: torch>=1.0.0 in /opt/conda/lib/python3.7/site-packages (from bert-score) (1.7.0)\r\n",
            "Requirement already satisfied: tqdm>=4.31.1 in /opt/conda/lib/python3.7/site-packages (from bert-score) (4.59.0)\r\n",
            "Requirement already satisfied: matplotlib in /opt/conda/lib/python3.7/site-packages (from bert-score) (3.4.1)\r\n",
            "Requirement already satisfied: transformers>=3.0.0 in /opt/conda/lib/python3.7/site-packages (from bert-score) (4.8.2)\r\n",
            "Requirement already satisfied: numpy in /opt/conda/lib/python3.7/site-packages (from bert-score) (1.19.5)\r\n",
            "Requirement already satisfied: python-dateutil>=2.7.3 in /opt/conda/lib/python3.7/site-packages (from pandas>=1.0.1->bert-score) (2.8.1)\r\n",
            "Requirement already satisfied: pytz>=2017.2 in /opt/conda/lib/python3.7/site-packages (from pandas>=1.0.1->bert-score) (2021.1)\r\n",
            "Requirement already satisfied: six>=1.5 in /opt/conda/lib/python3.7/site-packages (from python-dateutil>=2.7.3->pandas>=1.0.1->bert-score) (1.15.0)\r\n",
            "Requirement already satisfied: future in /opt/conda/lib/python3.7/site-packages (from torch>=1.0.0->bert-score) (0.18.2)\r\n",
            "Requirement already satisfied: typing_extensions in /opt/conda/lib/python3.7/site-packages (from torch>=1.0.0->bert-score) (3.7.4.3)\r\n",
            "Requirement already satisfied: dataclasses in /opt/conda/lib/python3.7/site-packages (from torch>=1.0.0->bert-score) (0.6)\r\n",
            "Requirement already satisfied: regex!=2019.12.17 in /opt/conda/lib/python3.7/site-packages (from transformers>=3.0.0->bert-score) (2021.3.17)\r\n",
            "Requirement already satisfied: pyyaml in /opt/conda/lib/python3.7/site-packages (from transformers>=3.0.0->bert-score) (5.3.1)\r\n",
            "Requirement already satisfied: filelock in /opt/conda/lib/python3.7/site-packages (from transformers>=3.0.0->bert-score) (3.0.12)\r\n",
            "Requirement already satisfied: packaging in /opt/conda/lib/python3.7/site-packages (from transformers>=3.0.0->bert-score) (20.9)\r\n",
            "Requirement already satisfied: tokenizers<0.11,>=0.10.1 in /opt/conda/lib/python3.7/site-packages (from transformers>=3.0.0->bert-score) (0.10.2)\r\n",
            "Requirement already satisfied: importlib-metadata in /opt/conda/lib/python3.7/site-packages (from transformers>=3.0.0->bert-score) (3.4.0)\r\n",
            "Requirement already satisfied: huggingface-hub==0.0.12 in /opt/conda/lib/python3.7/site-packages (from transformers>=3.0.0->bert-score) (0.0.12)\r\n",
            "Requirement already satisfied: sacremoses in /opt/conda/lib/python3.7/site-packages (from transformers>=3.0.0->bert-score) (0.0.45)\r\n",
            "Requirement already satisfied: pyparsing>=2.0.2 in /opt/conda/lib/python3.7/site-packages (from packaging->transformers>=3.0.0->bert-score) (2.4.7)\r\n",
            "Requirement already satisfied: zipp>=0.5 in /opt/conda/lib/python3.7/site-packages (from importlib-metadata->transformers>=3.0.0->bert-score) (3.4.1)\r\n",
            "Requirement already satisfied: cycler>=0.10 in /opt/conda/lib/python3.7/site-packages (from matplotlib->bert-score) (0.10.0)\r\n",
            "Requirement already satisfied: kiwisolver>=1.0.1 in /opt/conda/lib/python3.7/site-packages (from matplotlib->bert-score) (1.3.1)\r\n",
            "Requirement already satisfied: pillow>=6.2.0 in /opt/conda/lib/python3.7/site-packages (from matplotlib->bert-score) (7.2.0)\r\n",
            "Requirement already satisfied: chardet<5,>=3.0.2 in /opt/conda/lib/python3.7/site-packages (from requests->bert-score) (4.0.0)\r\n",
            "Requirement already satisfied: urllib3<1.27,>=1.21.1 in /opt/conda/lib/python3.7/site-packages (from requests->bert-score) (1.26.4)\r\n",
            "Requirement already satisfied: certifi>=2017.4.17 in /opt/conda/lib/python3.7/site-packages (from requests->bert-score) (2020.12.5)\r\n",
            "Requirement already satisfied: idna<3,>=2.5 in /opt/conda/lib/python3.7/site-packages (from requests->bert-score) (2.10)\r\n",
            "Requirement already satisfied: joblib in /opt/conda/lib/python3.7/site-packages (from sacremoses->transformers>=3.0.0->bert-score) (1.0.1)\r\n",
            "Requirement already satisfied: click in /opt/conda/lib/python3.7/site-packages (from sacremoses->transformers>=3.0.0->bert-score) (7.1.2)\r\n",
            "Installing collected packages: bert-score\r\n",
            "Successfully installed bert-score-0.3.9\r\n"
          ]
        }
      ]
    },
    {
      "cell_type": "code",
      "metadata": {
        "execution": {
          "iopub.execute_input": "2021-07-05T08:07:33.623633Z",
          "iopub.status.busy": "2021-07-05T08:07:33.622797Z",
          "iopub.status.idle": "2021-07-05T08:07:33.642212Z",
          "shell.execute_reply": "2021-07-05T08:07:33.643201Z",
          "shell.execute_reply.started": "2021-07-05T07:55:02.286550Z"
        },
        "papermill": {
          "duration": 0.225859,
          "end_time": "2021-07-05T08:07:33.643396",
          "exception": false,
          "start_time": "2021-07-05T08:07:33.417537",
          "status": "completed"
        },
        "tags": [],
        "id": "radio-average",
        "outputId": "fdd87b6b-f4c7-4847-a7fe-80d265440ad7"
      },
      "source": [
        "\n",
        "# check your installation\n",
        "import bert_score\n",
        "bert_score.__version__"
      ],
      "id": "radio-average",
      "execution_count": null,
      "outputs": [
        {
          "data": {
            "text/plain": [
              "'0.3.9'"
            ]
          },
          "execution_count": 16,
          "metadata": {},
          "output_type": "execute_result"
        }
      ]
    },
    {
      "cell_type": "code",
      "metadata": {
        "execution": {
          "iopub.execute_input": "2021-07-05T08:07:34.050634Z",
          "iopub.status.busy": "2021-07-05T08:07:34.049223Z",
          "iopub.status.idle": "2021-07-05T08:07:34.052238Z",
          "shell.execute_reply": "2021-07-05T08:07:34.051739Z",
          "shell.execute_reply.started": "2021-07-05T07:55:02.311496Z"
        },
        "papermill": {
          "duration": 0.192942,
          "end_time": "2021-07-05T08:07:34.052360",
          "exception": false,
          "start_time": "2021-07-05T08:07:33.859418",
          "status": "completed"
        },
        "tags": [],
        "id": "incident-bubble"
      },
      "source": [
        "from bert_score import score"
      ],
      "id": "incident-bubble",
      "execution_count": null,
      "outputs": []
    },
    {
      "cell_type": "code",
      "metadata": {
        "execution": {
          "iopub.execute_input": "2021-07-05T08:07:34.303815Z",
          "iopub.status.busy": "2021-07-05T08:07:34.303044Z",
          "iopub.status.idle": "2021-07-05T08:07:34.305889Z",
          "shell.execute_reply": "2021-07-05T08:07:34.305469Z",
          "shell.execute_reply.started": "2021-07-05T07:55:02.317742Z"
        },
        "papermill": {
          "duration": 0.129079,
          "end_time": "2021-07-05T08:07:34.306092",
          "exception": false,
          "start_time": "2021-07-05T08:07:34.177013",
          "status": "completed"
        },
        "tags": [],
        "id": "necessary-rider"
      },
      "source": [
        "ref=[\"Artificial Intelligence based action movie\"]"
      ],
      "id": "necessary-rider",
      "execution_count": null,
      "outputs": []
    },
    {
      "cell_type": "code",
      "metadata": {
        "execution": {
          "iopub.execute_input": "2021-07-05T08:07:34.561926Z",
          "iopub.status.busy": "2021-07-05T08:07:34.561412Z",
          "iopub.status.idle": "2021-07-05T08:09:46.830602Z",
          "shell.execute_reply": "2021-07-05T08:09:46.829647Z",
          "shell.execute_reply.started": "2021-07-05T07:55:02.326460Z"
        },
        "papermill": {
          "duration": 132.399062,
          "end_time": "2021-07-05T08:09:46.830784",
          "exception": false,
          "start_time": "2021-07-05T08:07:34.431722",
          "status": "completed"
        },
        "tags": [],
        "id": "silver-proxy",
        "outputId": "1eb2bf4e-48bf-445f-c2a9-cb6c4b9522e1",
        "colab": {
          "referenced_widgets": [
            "bb28e93ef1b04590b22e91eaeec6c926",
            "a06a4f42d81d45f88e5207a53851bab8",
            "c8f7e65a73034baca34f6c357e369060",
            "c896ac93fe754bfdb564d3a9163103cb",
            "1116e60da9c648cdbe021f1b22576f87"
          ]
        }
      },
      "source": [
        "ranked_results_bert = []\n",
        "\n",
        "for cand in results:\n",
        "    P, R, F1 = score([cand['Plot']], ref, lang='en')\n",
        "    ranked_results_bert.append({'Title': cand['Title'], 'Score': F1.numpy()[0]})\n",
        "    "
      ],
      "id": "silver-proxy",
      "execution_count": null,
      "outputs": [
        {
          "data": {
            "application/vnd.jupyter.widget-view+json": {
              "model_id": "bb28e93ef1b04590b22e91eaeec6c926",
              "version_major": 2,
              "version_minor": 0
            },
            "text/plain": [
              "Downloading:   0%|          | 0.00/482 [00:00<?, ?B/s]"
            ]
          },
          "metadata": {},
          "output_type": "display_data"
        },
        {
          "data": {
            "application/vnd.jupyter.widget-view+json": {
              "model_id": "a06a4f42d81d45f88e5207a53851bab8",
              "version_major": 2,
              "version_minor": 0
            },
            "text/plain": [
              "Downloading:   0%|          | 0.00/899k [00:00<?, ?B/s]"
            ]
          },
          "metadata": {},
          "output_type": "display_data"
        },
        {
          "data": {
            "application/vnd.jupyter.widget-view+json": {
              "model_id": "c8f7e65a73034baca34f6c357e369060",
              "version_major": 2,
              "version_minor": 0
            },
            "text/plain": [
              "Downloading:   0%|          | 0.00/456k [00:00<?, ?B/s]"
            ]
          },
          "metadata": {},
          "output_type": "display_data"
        },
        {
          "data": {
            "application/vnd.jupyter.widget-view+json": {
              "model_id": "c896ac93fe754bfdb564d3a9163103cb",
              "version_major": 2,
              "version_minor": 0
            },
            "text/plain": [
              "Downloading:   0%|          | 0.00/1.36M [00:00<?, ?B/s]"
            ]
          },
          "metadata": {},
          "output_type": "display_data"
        },
        {
          "data": {
            "application/vnd.jupyter.widget-view+json": {
              "model_id": "1116e60da9c648cdbe021f1b22576f87",
              "version_major": 2,
              "version_minor": 0
            },
            "text/plain": [
              "Downloading:   0%|          | 0.00/1.43G [00:00<?, ?B/s]"
            ]
          },
          "metadata": {},
          "output_type": "display_data"
        },
        {
          "name": "stderr",
          "output_type": "stream",
          "text": [
            "Some weights of the model checkpoint at roberta-large were not used when initializing RobertaModel: ['lm_head.layer_norm.weight', 'lm_head.decoder.weight', 'lm_head.dense.bias', 'lm_head.dense.weight', 'lm_head.layer_norm.bias', 'lm_head.bias']\n",
            "- This IS expected if you are initializing RobertaModel from the checkpoint of a model trained on another task or with another architecture (e.g. initializing a BertForSequenceClassification model from a BertForPreTraining model).\n",
            "- This IS NOT expected if you are initializing RobertaModel from the checkpoint of a model that you expect to be exactly identical (initializing a BertForSequenceClassification model from a BertForSequenceClassification model).\n",
            "Some weights of the model checkpoint at roberta-large were not used when initializing RobertaModel: ['lm_head.layer_norm.weight', 'lm_head.decoder.weight', 'lm_head.dense.bias', 'lm_head.dense.weight', 'lm_head.layer_norm.bias', 'lm_head.bias']\n",
            "- This IS expected if you are initializing RobertaModel from the checkpoint of a model trained on another task or with another architecture (e.g. initializing a BertForSequenceClassification model from a BertForPreTraining model).\n",
            "- This IS NOT expected if you are initializing RobertaModel from the checkpoint of a model that you expect to be exactly identical (initializing a BertForSequenceClassification model from a BertForSequenceClassification model).\n",
            "Some weights of the model checkpoint at roberta-large were not used when initializing RobertaModel: ['lm_head.layer_norm.weight', 'lm_head.decoder.weight', 'lm_head.dense.bias', 'lm_head.dense.weight', 'lm_head.layer_norm.bias', 'lm_head.bias']\n",
            "- This IS expected if you are initializing RobertaModel from the checkpoint of a model trained on another task or with another architecture (e.g. initializing a BertForSequenceClassification model from a BertForPreTraining model).\n",
            "- This IS NOT expected if you are initializing RobertaModel from the checkpoint of a model that you expect to be exactly identical (initializing a BertForSequenceClassification model from a BertForSequenceClassification model).\n",
            "Some weights of the model checkpoint at roberta-large were not used when initializing RobertaModel: ['lm_head.layer_norm.weight', 'lm_head.decoder.weight', 'lm_head.dense.bias', 'lm_head.dense.weight', 'lm_head.layer_norm.bias', 'lm_head.bias']\n",
            "- This IS expected if you are initializing RobertaModel from the checkpoint of a model trained on another task or with another architecture (e.g. initializing a BertForSequenceClassification model from a BertForPreTraining model).\n",
            "- This IS NOT expected if you are initializing RobertaModel from the checkpoint of a model that you expect to be exactly identical (initializing a BertForSequenceClassification model from a BertForSequenceClassification model).\n",
            "Some weights of the model checkpoint at roberta-large were not used when initializing RobertaModel: ['lm_head.layer_norm.weight', 'lm_head.decoder.weight', 'lm_head.dense.bias', 'lm_head.dense.weight', 'lm_head.layer_norm.bias', 'lm_head.bias']\n",
            "- This IS expected if you are initializing RobertaModel from the checkpoint of a model trained on another task or with another architecture (e.g. initializing a BertForSequenceClassification model from a BertForPreTraining model).\n",
            "- This IS NOT expected if you are initializing RobertaModel from the checkpoint of a model that you expect to be exactly identical (initializing a BertForSequenceClassification model from a BertForSequenceClassification model).\n"
          ]
        }
      ]
    },
    {
      "cell_type": "code",
      "metadata": {
        "execution": {
          "iopub.execute_input": "2021-07-05T08:09:47.246568Z",
          "iopub.status.busy": "2021-07-05T08:09:47.245759Z",
          "iopub.status.idle": "2021-07-05T08:09:47.253000Z",
          "shell.execute_reply": "2021-07-05T08:09:47.252420Z",
          "shell.execute_reply.started": "2021-07-05T07:56:16.375215Z"
        },
        "papermill": {
          "duration": 0.219395,
          "end_time": "2021-07-05T08:09:47.253163",
          "exception": false,
          "start_time": "2021-07-05T08:09:47.033768",
          "status": "completed"
        },
        "tags": [],
        "id": "alpine-conditions",
        "outputId": "f6f08283-8534-4671-c82c-0fb51ad44f56"
      },
      "source": [
        "#Sort the scores in decreasing order\n",
        "ranked_results_bert = sorted(ranked_results_bert, key=lambda x: x['Score'], reverse=True)\n",
        "print(\"\\n\")\n",
        "for result in ranked_results_bert:\n",
        "    print('\\t',pprint(result))"
      ],
      "id": "alpine-conditions",
      "execution_count": null,
      "outputs": [
        {
          "name": "stdout",
          "output_type": "stream",
          "text": [
            "\n",
            "\n",
            "{'Score': 0.84168386, 'Title': 'Armed Response'}\n",
            "\t None\n",
            "{'Score': 0.8134777, 'Title': 'Chappie'}\n",
            "\t None\n",
            "{'Score': 0.8057887, 'Title': 'Small Soldiers'}\n",
            "\t None\n",
            "{'Score': 0.8001482,\n",
            " 'Title': 'Galactic Armored Fleet Majestic Prince: Genetic Awakening'}\n",
            "\t None\n",
            "{'Score': 0.7998567, 'Title': 'The Cape Canaveral Monsters'}\n",
            "\t None\n"
          ]
        }
      ]
    },
    {
      "cell_type": "code",
      "metadata": {
        "execution": {
          "iopub.execute_input": "2021-07-05T08:09:47.535805Z",
          "iopub.status.busy": "2021-07-05T08:09:47.534509Z",
          "iopub.status.idle": "2021-07-05T08:09:47.536854Z",
          "shell.execute_reply": "2021-07-05T08:09:47.537272Z",
          "shell.execute_reply.started": "2021-07-05T07:56:16.385285Z"
        },
        "papermill": {
          "duration": 0.132428,
          "end_time": "2021-07-05T08:09:47.537400",
          "exception": false,
          "start_time": "2021-07-05T08:09:47.404972",
          "status": "completed"
        },
        "tags": [],
        "id": "understood-beijing"
      },
      "source": [
        "final_results = pd.DataFrame()\n",
        "final_results['faiss_ranking'] = [item['Title'] for item in results]\n",
        "final_results['cross_encoder'] = [item['Title'] for item in ranked_results]\n",
        "final_results['bert_score'] = [item['Title'] for item in ranked_results_bert]\n"
      ],
      "id": "understood-beijing",
      "execution_count": null,
      "outputs": []
    },
    {
      "cell_type": "code",
      "metadata": {
        "execution": {
          "iopub.execute_input": "2021-07-05T08:09:47.789932Z",
          "iopub.status.busy": "2021-07-05T08:09:47.789127Z",
          "iopub.status.idle": "2021-07-05T08:09:47.793647Z",
          "shell.execute_reply": "2021-07-05T08:09:47.793232Z",
          "shell.execute_reply.started": "2021-07-05T07:56:16.397679Z"
        },
        "papermill": {
          "duration": 0.135151,
          "end_time": "2021-07-05T08:09:47.793750",
          "exception": false,
          "start_time": "2021-07-05T08:09:47.658599",
          "status": "completed"
        },
        "tags": [],
        "id": "breathing-depth",
        "outputId": "6b1a987e-c455-443c-8cca-1cf08b3f5475"
      },
      "source": [
        "final_results.head()"
      ],
      "id": "breathing-depth",
      "execution_count": null,
      "outputs": [
        {
          "data": {
            "text/html": [
              "<div>\n",
              "<style scoped>\n",
              "    .dataframe tbody tr th:only-of-type {\n",
              "        vertical-align: middle;\n",
              "    }\n",
              "\n",
              "    .dataframe tbody tr th {\n",
              "        vertical-align: top;\n",
              "    }\n",
              "\n",
              "    .dataframe thead th {\n",
              "        text-align: right;\n",
              "    }\n",
              "</style>\n",
              "<table border=\"1\" class=\"dataframe\">\n",
              "  <thead>\n",
              "    <tr style=\"text-align: right;\">\n",
              "      <th></th>\n",
              "      <th>faiss_ranking</th>\n",
              "      <th>cross_encoder</th>\n",
              "      <th>bert_score</th>\n",
              "    </tr>\n",
              "  </thead>\n",
              "  <tbody>\n",
              "    <tr>\n",
              "      <th>0</th>\n",
              "      <td>The Cape Canaveral Monsters</td>\n",
              "      <td>Armed Response</td>\n",
              "      <td>Armed Response</td>\n",
              "    </tr>\n",
              "    <tr>\n",
              "      <th>1</th>\n",
              "      <td>Small Soldiers</td>\n",
              "      <td>The Cape Canaveral Monsters</td>\n",
              "      <td>Chappie</td>\n",
              "    </tr>\n",
              "    <tr>\n",
              "      <th>2</th>\n",
              "      <td>Chappie</td>\n",
              "      <td>Chappie</td>\n",
              "      <td>Small Soldiers</td>\n",
              "    </tr>\n",
              "    <tr>\n",
              "      <th>3</th>\n",
              "      <td>Armed Response</td>\n",
              "      <td>Galactic Armored Fleet Majestic Prince: Geneti...</td>\n",
              "      <td>Galactic Armored Fleet Majestic Prince: Geneti...</td>\n",
              "    </tr>\n",
              "    <tr>\n",
              "      <th>4</th>\n",
              "      <td>Galactic Armored Fleet Majestic Prince: Geneti...</td>\n",
              "      <td>Small Soldiers</td>\n",
              "      <td>The Cape Canaveral Monsters</td>\n",
              "    </tr>\n",
              "  </tbody>\n",
              "</table>\n",
              "</div>"
            ],
            "text/plain": [
              "                                       faiss_ranking  \\\n",
              "0                        The Cape Canaveral Monsters   \n",
              "1                                     Small Soldiers   \n",
              "2                                            Chappie   \n",
              "3                                     Armed Response   \n",
              "4  Galactic Armored Fleet Majestic Prince: Geneti...   \n",
              "\n",
              "                                       cross_encoder  \\\n",
              "0                                     Armed Response   \n",
              "1                        The Cape Canaveral Monsters   \n",
              "2                                            Chappie   \n",
              "3  Galactic Armored Fleet Majestic Prince: Geneti...   \n",
              "4                                     Small Soldiers   \n",
              "\n",
              "                                          bert_score  \n",
              "0                                     Armed Response  \n",
              "1                                            Chappie  \n",
              "2                                     Small Soldiers  \n",
              "3  Galactic Armored Fleet Majestic Prince: Geneti...  \n",
              "4                        The Cape Canaveral Monsters  "
            ]
          },
          "execution_count": 22,
          "metadata": {},
          "output_type": "execute_result"
        }
      ]
    },
    {
      "cell_type": "code",
      "metadata": {
        "execution": {
          "iopub.execute_input": "2021-07-05T08:09:48.044247Z",
          "iopub.status.busy": "2021-07-05T08:09:48.043577Z",
          "iopub.status.idle": "2021-07-05T08:09:48.174144Z",
          "shell.execute_reply": "2021-07-05T08:09:48.173711Z",
          "shell.execute_reply.started": "2021-07-05T07:56:16.416843Z"
        },
        "papermill": {
          "duration": 0.258556,
          "end_time": "2021-07-05T08:09:48.174303",
          "exception": false,
          "start_time": "2021-07-05T08:09:47.915747",
          "status": "completed"
        },
        "tags": [],
        "id": "regional-contemporary"
      },
      "source": [
        "\n",
        "from sklearn.decomposition import PCA\n",
        "from sklearn.manifold import TSNE\n",
        "%matplotlib inline\n",
        "import matplotlib.pyplot as plt\n",
        "from mpl_toolkits.mplot3d import Axes3D\n",
        "import seaborn as sns"
      ],
      "id": "regional-contemporary",
      "execution_count": null,
      "outputs": []
    },
    {
      "cell_type": "code",
      "metadata": {
        "execution": {
          "iopub.execute_input": "2021-07-05T08:09:48.465798Z",
          "iopub.status.busy": "2021-07-05T08:09:48.464705Z",
          "iopub.status.idle": "2021-07-05T08:09:48.592779Z",
          "shell.execute_reply": "2021-07-05T08:09:48.592355Z",
          "shell.execute_reply.started": "2021-07-05T07:56:16.593061Z"
        },
        "papermill": {
          "duration": 0.257379,
          "end_time": "2021-07-05T08:09:48.592887",
          "exception": false,
          "start_time": "2021-07-05T08:09:48.335508",
          "status": "completed"
        },
        "tags": [],
        "id": "seven-contest",
        "outputId": "911c0c6f-073b-455f-8ed0-7d1f3d169d5a",
        "colab": {
          "referenced_widgets": [
            "1df9b80283e54fcb9c84962fa03e63f0",
            "31434531873a467faad1b5b86936c310",
            "9b56024f70344c349a981a1e8b917d76"
          ]
        }
      },
      "source": [
        "item_i = model.encode(['action'])\n",
        "item_i = np.asarray(item_i.astype('float32'))\n",
        "\n",
        "item_j = model.encode(['drama'])\n",
        "item_j = np.asarray(item_j.astype('float32'))\n",
        "\n",
        "item_k = model.encode(['romance'])\n",
        "item_k = np.asarray(item_k.astype('float32'))"
      ],
      "id": "seven-contest",
      "execution_count": null,
      "outputs": [
        {
          "data": {
            "application/vnd.jupyter.widget-view+json": {
              "model_id": "1df9b80283e54fcb9c84962fa03e63f0",
              "version_major": 2,
              "version_minor": 0
            },
            "text/plain": [
              "Batches:   0%|          | 0/1 [00:00<?, ?it/s]"
            ]
          },
          "metadata": {},
          "output_type": "display_data"
        },
        {
          "data": {
            "application/vnd.jupyter.widget-view+json": {
              "model_id": "31434531873a467faad1b5b86936c310",
              "version_major": 2,
              "version_minor": 0
            },
            "text/plain": [
              "Batches:   0%|          | 0/1 [00:00<?, ?it/s]"
            ]
          },
          "metadata": {},
          "output_type": "display_data"
        },
        {
          "data": {
            "application/vnd.jupyter.widget-view+json": {
              "model_id": "9b56024f70344c349a981a1e8b917d76",
              "version_major": 2,
              "version_minor": 0
            },
            "text/plain": [
              "Batches:   0%|          | 0/1 [00:00<?, ?it/s]"
            ]
          },
          "metadata": {},
          "output_type": "display_data"
        }
      ]
    },
    {
      "cell_type": "code",
      "metadata": {
        "execution": {
          "iopub.execute_input": "2021-07-05T08:09:48.844568Z",
          "iopub.status.busy": "2021-07-05T08:09:48.843864Z",
          "iopub.status.idle": "2021-07-05T08:09:48.846666Z",
          "shell.execute_reply": "2021-07-05T08:09:48.846241Z",
          "shell.execute_reply.started": "2021-07-05T07:56:16.739473Z"
        },
        "papermill": {
          "duration": 0.13078,
          "end_time": "2021-07-05T08:09:48.846789",
          "exception": false,
          "start_time": "2021-07-05T08:09:48.716009",
          "status": "completed"
        },
        "tags": [],
        "id": "level-buying"
      },
      "source": [
        "data = np.asarray([item_i, item_j, item_k])"
      ],
      "id": "level-buying",
      "execution_count": null,
      "outputs": []
    },
    {
      "cell_type": "code",
      "metadata": {
        "execution": {
          "iopub.execute_input": "2021-07-05T08:09:49.097579Z",
          "iopub.status.busy": "2021-07-05T08:09:49.096798Z",
          "iopub.status.idle": "2021-07-05T08:09:49.099455Z",
          "shell.execute_reply": "2021-07-05T08:09:49.099027Z",
          "shell.execute_reply.started": "2021-07-05T07:56:16.745564Z"
        },
        "papermill": {
          "duration": 0.130102,
          "end_time": "2021-07-05T08:09:49.099565",
          "exception": false,
          "start_time": "2021-07-05T08:09:48.969463",
          "status": "completed"
        },
        "tags": [],
        "id": "lucky-astronomy"
      },
      "source": [
        "data = data.reshape((3,768))"
      ],
      "id": "lucky-astronomy",
      "execution_count": null,
      "outputs": []
    },
    {
      "cell_type": "code",
      "metadata": {
        "execution": {
          "iopub.execute_input": "2021-07-05T08:09:49.352179Z",
          "iopub.status.busy": "2021-07-05T08:09:49.351394Z",
          "iopub.status.idle": "2021-07-05T08:09:49.427611Z",
          "shell.execute_reply": "2021-07-05T08:09:49.428088Z",
          "shell.execute_reply.started": "2021-07-05T07:56:16.755037Z"
        },
        "papermill": {
          "duration": 0.206106,
          "end_time": "2021-07-05T08:09:49.428267",
          "exception": false,
          "start_time": "2021-07-05T08:09:49.222161",
          "status": "completed"
        },
        "tags": [],
        "id": "remarkable-consensus"
      },
      "source": [
        "tsne = TSNE(n_components=2)\n",
        "tsne_results = tsne.fit_transform(data)"
      ],
      "id": "remarkable-consensus",
      "execution_count": null,
      "outputs": []
    },
    {
      "cell_type": "code",
      "metadata": {
        "execution": {
          "iopub.execute_input": "2021-07-05T08:09:49.686037Z",
          "iopub.status.busy": "2021-07-05T08:09:49.685240Z",
          "iopub.status.idle": "2021-07-05T08:09:49.688363Z",
          "shell.execute_reply": "2021-07-05T08:09:49.688791Z",
          "shell.execute_reply.started": "2021-07-05T07:56:16.833846Z"
        },
        "papermill": {
          "duration": 0.130575,
          "end_time": "2021-07-05T08:09:49.688932",
          "exception": false,
          "start_time": "2021-07-05T08:09:49.558357",
          "status": "completed"
        },
        "tags": [],
        "id": "rapid-battery",
        "outputId": "233f94f2-73d7-4ac1-b7b5-d9b10a62fdd2"
      },
      "source": [
        "tsne_results.shape"
      ],
      "id": "rapid-battery",
      "execution_count": null,
      "outputs": [
        {
          "data": {
            "text/plain": [
              "(3, 2)"
            ]
          },
          "execution_count": 28,
          "metadata": {},
          "output_type": "execute_result"
        }
      ]
    },
    {
      "cell_type": "code",
      "metadata": {
        "execution": {
          "iopub.execute_input": "2021-07-05T08:09:49.941444Z",
          "iopub.status.busy": "2021-07-05T08:09:49.940758Z",
          "iopub.status.idle": "2021-07-05T08:09:49.943575Z",
          "shell.execute_reply": "2021-07-05T08:09:49.943110Z",
          "shell.execute_reply.started": "2021-07-05T07:56:16.840357Z"
        },
        "papermill": {
          "duration": 0.131739,
          "end_time": "2021-07-05T08:09:49.943691",
          "exception": false,
          "start_time": "2021-07-05T08:09:49.811952",
          "status": "completed"
        },
        "tags": [],
        "id": "instant-vehicle"
      },
      "source": [
        "pca_df = pd.DataFrame()\n",
        "pca_df['x'] = tsne_results[:,0]\n",
        "pca_df['y'] = tsne_results[:,1]"
      ],
      "id": "instant-vehicle",
      "execution_count": null,
      "outputs": []
    },
    {
      "cell_type": "code",
      "metadata": {
        "execution": {
          "iopub.execute_input": "2021-07-05T08:09:50.211127Z",
          "iopub.status.busy": "2021-07-05T08:09:50.210328Z",
          "iopub.status.idle": "2021-07-05T08:09:50.433971Z",
          "shell.execute_reply": "2021-07-05T08:09:50.434388Z",
          "shell.execute_reply.started": "2021-07-05T07:56:16.852119Z"
        },
        "papermill": {
          "duration": 0.368313,
          "end_time": "2021-07-05T08:09:50.434535",
          "exception": false,
          "start_time": "2021-07-05T08:09:50.066222",
          "status": "completed"
        },
        "tags": [],
        "id": "featured-brazilian",
        "outputId": "c90e05dc-7b3a-49fc-bb55-85e4866a8922"
      },
      "source": [
        "plt.figure(figsize=(8,8))\n",
        "sns.scatterplot(\n",
        "    x=\"x\", y=\"y\",\n",
        "    hue=['action','drama','romance'],\n",
        "    palette=sns.color_palette(\"hls\", 3),\n",
        "    data=pca_df,\n",
        "    legend=\"full\",\n",
        "    alpha=0.8\n",
        ")"
      ],
      "id": "featured-brazilian",
      "execution_count": null,
      "outputs": [
        {
          "data": {
            "text/plain": [
              "<AxesSubplot:xlabel='x', ylabel='y'>"
            ]
          },
          "execution_count": 30,
          "metadata": {},
          "output_type": "execute_result"
        },
        {
          "data": {
            "image/png": "[encoded data removed]",
            "text/plain": [
              "<Figure size 576x576 with 1 Axes>"
            ]
          },
          "metadata": {
            "needs_background": "light"
          },
          "output_type": "display_data"
        }
      ]
    },
    {
      "cell_type": "code",
      "metadata": {
        "execution": {
          "iopub.execute_input": "2021-07-05T08:09:50.688901Z",
          "iopub.status.busy": "2021-07-05T08:09:50.688151Z",
          "iopub.status.idle": "2021-07-05T08:09:50.690943Z",
          "shell.execute_reply": "2021-07-05T08:09:50.690501Z",
          "shell.execute_reply.started": "2021-07-05T07:56:17.121900Z"
        },
        "papermill": {
          "duration": 0.132244,
          "end_time": "2021-07-05T08:09:50.691051",
          "exception": false,
          "start_time": "2021-07-05T08:09:50.558807",
          "status": "completed"
        },
        "tags": [],
        "id": "faced-ontario"
      },
      "source": [
        "# generate random integer values\n",
        "from random import seed\n",
        "from random import randint\n",
        "# seed random number generator\n",
        "seed(1)\n",
        "\n",
        "action_movie_scores=[]\n",
        "drama_movie_scores=[]\n",
        "romance_movie_scores=[]\n",
        "# generate some integers\n",
        "for _ in range(10):\n",
        "    action_movie_score = randint(0, 10)\n",
        "    drama_movie_score = randint(0, 10)\n",
        "    romance_movie_score = randint(0, 10)\n",
        "    action_movie_scores.append(action_movie_score)\n",
        "    drama_movie_scores.append(drama_movie_score)\n",
        "    romance_movie_scores.append(romance_movie_score)"
      ],
      "id": "faced-ontario",
      "execution_count": null,
      "outputs": []
    },
    {
      "cell_type": "code",
      "metadata": {
        "execution": {
          "iopub.execute_input": "2021-07-05T08:09:50.946380Z",
          "iopub.status.busy": "2021-07-05T08:09:50.945647Z",
          "iopub.status.idle": "2021-07-05T08:09:50.948337Z",
          "shell.execute_reply": "2021-07-05T08:09:50.947891Z",
          "shell.execute_reply.started": "2021-07-05T07:56:17.133483Z"
        },
        "papermill": {
          "duration": 0.133024,
          "end_time": "2021-07-05T08:09:50.948460",
          "exception": false,
          "start_time": "2021-07-05T08:09:50.815436",
          "status": "completed"
        },
        "tags": [],
        "id": "rubber-communist"
      },
      "source": [
        "user_watch_hist = pd.DataFrame()\n",
        "user_watch_hist['action_movie'] = action_movie_scores\n",
        "user_watch_hist['drama_movie'] = drama_movie_scores\n",
        "user_watch_hist['romance_movie'] = romance_movie_scores"
      ],
      "id": "rubber-communist",
      "execution_count": null,
      "outputs": []
    },
    {
      "cell_type": "code",
      "metadata": {
        "execution": {
          "iopub.execute_input": "2021-07-05T08:09:51.202232Z",
          "iopub.status.busy": "2021-07-05T08:09:51.201616Z",
          "iopub.status.idle": "2021-07-05T08:09:51.423885Z",
          "shell.execute_reply": "2021-07-05T08:09:51.423443Z",
          "shell.execute_reply.started": "2021-07-05T07:56:17.145341Z"
        },
        "papermill": {
          "duration": 0.350362,
          "end_time": "2021-07-05T08:09:51.423999",
          "exception": false,
          "start_time": "2021-07-05T08:09:51.073637",
          "status": "completed"
        },
        "tags": [],
        "id": "interesting-intermediate",
        "outputId": "72fa6968-61a8-40da-e2bb-4de79a6ec204"
      },
      "source": [
        "\n",
        "user_watch_hist.plot(kind='bar',figsize=(16,10))"
      ],
      "id": "interesting-intermediate",
      "execution_count": null,
      "outputs": [
        {
          "data": {
            "text/plain": [
              "<AxesSubplot:>"
            ]
          },
          "execution_count": 33,
          "metadata": {},
          "output_type": "execute_result"
        },
        {
          "data": {
            "image/png": "[encoded data removed]",
            "text/plain": [
              "<Figure size 1152x720 with 1 Axes>"
            ]
          },
          "metadata": {
            "needs_background": "light"
          },
          "output_type": "display_data"
        }
      ]
    },
    {
      "cell_type": "code",
      "metadata": {
        "execution": {
          "iopub.execute_input": "2021-07-05T08:09:51.683290Z",
          "iopub.status.busy": "2021-07-05T08:09:51.682507Z",
          "iopub.status.idle": "2021-07-05T08:09:51.686093Z",
          "shell.execute_reply": "2021-07-05T08:09:51.685703Z",
          "shell.execute_reply.started": "2021-07-05T07:56:17.377769Z"
        },
        "papermill": {
          "duration": 0.13569,
          "end_time": "2021-07-05T08:09:51.686226",
          "exception": false,
          "start_time": "2021-07-05T08:09:51.550536",
          "status": "completed"
        },
        "tags": [],
        "id": "worldwide-watershed",
        "outputId": "d901f433-3421-4860-a11e-99507200dc92"
      },
      "source": [
        "user_watch_hist"
      ],
      "id": "worldwide-watershed",
      "execution_count": null,
      "outputs": [
        {
          "data": {
            "text/html": [
              "<div>\n",
              "<style scoped>\n",
              "    .dataframe tbody tr th:only-of-type {\n",
              "        vertical-align: middle;\n",
              "    }\n",
              "\n",
              "    .dataframe tbody tr th {\n",
              "        vertical-align: top;\n",
              "    }\n",
              "\n",
              "    .dataframe thead th {\n",
              "        text-align: right;\n",
              "    }\n",
              "</style>\n",
              "<table border=\"1\" class=\"dataframe\">\n",
              "  <thead>\n",
              "    <tr style=\"text-align: right;\">\n",
              "      <th></th>\n",
              "      <th>action_movie</th>\n",
              "      <th>drama_movie</th>\n",
              "      <th>romance_movie</th>\n",
              "    </tr>\n",
              "  </thead>\n",
              "  <tbody>\n",
              "    <tr>\n",
              "      <th>0</th>\n",
              "      <td>2</td>\n",
              "      <td>9</td>\n",
              "      <td>1</td>\n",
              "    </tr>\n",
              "    <tr>\n",
              "      <th>1</th>\n",
              "      <td>4</td>\n",
              "      <td>1</td>\n",
              "      <td>7</td>\n",
              "    </tr>\n",
              "    <tr>\n",
              "      <th>2</th>\n",
              "      <td>7</td>\n",
              "      <td>7</td>\n",
              "      <td>10</td>\n",
              "    </tr>\n",
              "    <tr>\n",
              "      <th>3</th>\n",
              "      <td>6</td>\n",
              "      <td>3</td>\n",
              "      <td>1</td>\n",
              "    </tr>\n",
              "    <tr>\n",
              "      <th>4</th>\n",
              "      <td>7</td>\n",
              "      <td>0</td>\n",
              "      <td>6</td>\n",
              "    </tr>\n",
              "    <tr>\n",
              "      <th>5</th>\n",
              "      <td>6</td>\n",
              "      <td>9</td>\n",
              "      <td>0</td>\n",
              "    </tr>\n",
              "    <tr>\n",
              "      <th>6</th>\n",
              "      <td>7</td>\n",
              "      <td>4</td>\n",
              "      <td>3</td>\n",
              "    </tr>\n",
              "    <tr>\n",
              "      <th>7</th>\n",
              "      <td>9</td>\n",
              "      <td>1</td>\n",
              "      <td>5</td>\n",
              "    </tr>\n",
              "    <tr>\n",
              "      <th>8</th>\n",
              "      <td>0</td>\n",
              "      <td>0</td>\n",
              "      <td>0</td>\n",
              "    </tr>\n",
              "    <tr>\n",
              "      <th>9</th>\n",
              "      <td>10</td>\n",
              "      <td>8</td>\n",
              "      <td>0</td>\n",
              "    </tr>\n",
              "  </tbody>\n",
              "</table>\n",
              "</div>"
            ],
            "text/plain": [
              "   action_movie  drama_movie  romance_movie\n",
              "0             2            9              1\n",
              "1             4            1              7\n",
              "2             7            7             10\n",
              "3             6            3              1\n",
              "4             7            0              6\n",
              "5             6            9              0\n",
              "6             7            4              3\n",
              "7             9            1              5\n",
              "8             0            0              0\n",
              "9            10            8              0"
            ]
          },
          "execution_count": 34,
          "metadata": {},
          "output_type": "execute_result"
        }
      ]
    },
    {
      "cell_type": "code",
      "metadata": {
        "execution": {
          "iopub.execute_input": "2021-07-05T08:09:51.960226Z",
          "iopub.status.busy": "2021-07-05T08:09:51.959428Z",
          "iopub.status.idle": "2021-07-05T08:09:51.961628Z",
          "shell.execute_reply": "2021-07-05T08:09:51.962022Z",
          "shell.execute_reply.started": "2021-07-05T07:56:17.388276Z"
        },
        "papermill": {
          "duration": 0.150242,
          "end_time": "2021-07-05T08:09:51.962148",
          "exception": false,
          "start_time": "2021-07-05T08:09:51.811906",
          "status": "completed"
        },
        "tags": [],
        "id": "committed-spring"
      },
      "source": [
        "import scipy.stats as stats"
      ],
      "id": "committed-spring",
      "execution_count": null,
      "outputs": []
    },
    {
      "cell_type": "code",
      "metadata": {
        "execution": {
          "iopub.execute_input": "2021-07-05T08:09:52.221821Z",
          "iopub.status.busy": "2021-07-05T08:09:52.220907Z",
          "iopub.status.idle": "2021-07-05T08:09:52.223156Z",
          "shell.execute_reply": "2021-07-05T08:09:52.223544Z",
          "shell.execute_reply.started": "2021-07-05T07:56:17.396732Z"
        },
        "papermill": {
          "duration": 0.133987,
          "end_time": "2021-07-05T08:09:52.223678",
          "exception": false,
          "start_time": "2021-07-05T08:09:52.089691",
          "status": "completed"
        },
        "tags": [],
        "id": "international-clerk"
      },
      "source": [
        "action_movie_zscore =   stats.zscore(user_watch_hist['action_movie'])[-1]\n",
        "drama_movie_zscore = stats.zscore(user_watch_hist['drama_movie'])[-1]\n",
        "romance_movie_zscore = stats.zscore(user_watch_hist['romance_movie'])[-1]"
      ],
      "id": "international-clerk",
      "execution_count": null,
      "outputs": []
    },
    {
      "cell_type": "code",
      "metadata": {
        "execution": {
          "iopub.execute_input": "2021-07-05T08:09:52.481463Z",
          "iopub.status.busy": "2021-07-05T08:09:52.480661Z",
          "iopub.status.idle": "2021-07-05T08:09:52.482967Z",
          "shell.execute_reply": "2021-07-05T08:09:52.483378Z",
          "shell.execute_reply.started": "2021-07-05T07:56:17.407048Z"
        },
        "papermill": {
          "duration": 0.135059,
          "end_time": "2021-07-05T08:09:52.483513",
          "exception": false,
          "start_time": "2021-07-05T08:09:52.348454",
          "status": "completed"
        },
        "tags": [],
        "id": "aging-junction"
      },
      "source": [
        "def weight(i):\n",
        "    alpha = 0.5\n",
        "    return alpha*pow((1-alpha),10-i)"
      ],
      "id": "aging-junction",
      "execution_count": null,
      "outputs": []
    },
    {
      "cell_type": "code",
      "metadata": {
        "execution": {
          "iopub.execute_input": "2021-07-05T08:09:52.744624Z",
          "iopub.status.busy": "2021-07-05T08:09:52.743850Z",
          "iopub.status.idle": "2021-07-05T08:09:52.746579Z",
          "shell.execute_reply": "2021-07-05T08:09:52.746154Z",
          "shell.execute_reply.started": "2021-07-05T07:56:17.415239Z"
        },
        "papermill": {
          "duration": 0.137125,
          "end_time": "2021-07-05T08:09:52.746697",
          "exception": false,
          "start_time": "2021-07-05T08:09:52.609572",
          "status": "completed"
        },
        "tags": [],
        "id": "different-norway"
      },
      "source": [
        "def softmax(x):\n",
        "    \"\"\"Compute softmax values for each sets of scores in x.\"\"\"\n",
        "    e_x = np.exp(x - np.max(x))\n",
        "    return e_x / e_x.sum()"
      ],
      "id": "different-norway",
      "execution_count": null,
      "outputs": []
    },
    {
      "cell_type": "code",
      "metadata": {
        "execution": {
          "iopub.execute_input": "2021-07-05T08:09:53.002013Z",
          "iopub.status.busy": "2021-07-05T08:09:53.001297Z",
          "iopub.status.idle": "2021-07-05T08:09:53.003909Z",
          "shell.execute_reply": "2021-07-05T08:09:53.003521Z",
          "shell.execute_reply.started": "2021-07-05T07:56:17.424947Z"
        },
        "papermill": {
          "duration": 0.131809,
          "end_time": "2021-07-05T08:09:53.004016",
          "exception": false,
          "start_time": "2021-07-05T08:09:52.872207",
          "status": "completed"
        },
        "tags": [],
        "id": "further-controversy"
      },
      "source": [
        "x = np.asarray([action_movie_zscore, drama_movie_zscore, romance_movie_zscore])\n",
        "genre_weights = softmax(x)"
      ],
      "id": "further-controversy",
      "execution_count": null,
      "outputs": []
    },
    {
      "cell_type": "code",
      "metadata": {
        "execution": {
          "iopub.execute_input": "2021-07-05T08:09:53.259164Z",
          "iopub.status.busy": "2021-07-05T08:09:53.258411Z",
          "iopub.status.idle": "2021-07-05T08:09:53.261151Z",
          "shell.execute_reply": "2021-07-05T08:09:53.260759Z",
          "shell.execute_reply.started": "2021-07-05T07:56:17.435020Z"
        },
        "papermill": {
          "duration": 0.132153,
          "end_time": "2021-07-05T08:09:53.261295",
          "exception": false,
          "start_time": "2021-07-05T08:09:53.129142",
          "status": "completed"
        },
        "tags": [],
        "id": "fitting-arena"
      },
      "source": [
        "user_encoded_vector = np.asarray([item_i*genre_weights[0]+ item_j*genre_weights[1] +item_k*genre_weights[2]])\n",
        "user_encoded_vector = user_encoded_vector.reshape((1,768))"
      ],
      "id": "fitting-arena",
      "execution_count": null,
      "outputs": []
    },
    {
      "cell_type": "code",
      "metadata": {
        "execution": {
          "iopub.execute_input": "2021-07-05T08:09:53.555735Z",
          "iopub.status.busy": "2021-07-05T08:09:53.554522Z",
          "iopub.status.idle": "2021-07-05T08:09:53.689208Z",
          "shell.execute_reply": "2021-07-05T08:09:53.687739Z",
          "shell.execute_reply.started": "2021-07-05T07:56:17.444070Z"
        },
        "papermill": {
          "duration": 0.303213,
          "end_time": "2021-07-05T08:09:53.689374",
          "exception": false,
          "start_time": "2021-07-05T08:09:53.386161",
          "status": "completed"
        },
        "tags": [],
        "id": "ongoing-publisher",
        "outputId": "5f7b5017-72e0-4528-c72e-d722984b421d",
        "colab": {
          "referenced_widgets": [
            "e09835d247fc4e548531dbba839d2800"
          ]
        }
      },
      "source": [
        "from pprint import pprint\n",
        "\n",
        "query=\"Artificial Intelligence based action movie\"\n",
        "results=search(query, top_k=5, index=index, model=model)\n",
        "\n",
        "\n",
        "print(\"\\n\")\n",
        "for result in results:\n",
        "    print('\\t',pprint(result))"
      ],
      "id": "ongoing-publisher",
      "execution_count": null,
      "outputs": [
        {
          "data": {
            "application/vnd.jupyter.widget-view+json": {
              "model_id": "e09835d247fc4e548531dbba839d2800",
              "version_major": 2,
              "version_minor": 0
            },
            "text/plain": [
              "Batches:   0%|          | 0/1 [00:00<?, ?it/s]"
            ]
          },
          "metadata": {},
          "output_type": "display_data"
        },
        {
          "name": "stdout",
          "output_type": "stream",
          "text": [
            ">>>> Results in Total Time: 0.11491727828979492\n",
            "\n",
            "\n",
            "{'Plot': 'As the film opens, two mysterious white circles are moving about on '\n",
            "         \"a solid black background. As they move, a woman's voice says they \"\n",
            "         'must obtain human bodies to carry out their mission.\\r\\n'\n",
            "         'Live action then begins with a man and woman leaving a beach near '\n",
            "         'Cape Canaveral, Florida. The circles descend on them, causing their '\n",
            "         'car to crash. Both are killed. But their bodies suddenly jerk back '\n",
            "         \"to life as they're taken over by the white circles, which are \"\n",
            "         \"actually extraterrestrials. The woman's face is b\",\n",
            " 'Title': 'The Cape Canaveral Monsters'}\n",
            "\t None\n",
            "{'Plot': 'Top defense contractor GloboTech Industries acquires the Heartland '\n",
            "         'Toy Company and as part of the move, Globotech CEO Gil Mars tells '\n",
            "         'Heartland toy designers Larry Benson and Irwin Wayfair to develop '\n",
            "         'actual live-action toys capable of \"playing back\". Mars selects '\n",
            "         \"Larry's antagonistic, action figures, the Commando Elite, for the \"\n",
            "         \"project and Irwin's protagonistic, educational toys, the Gorgonites, \"\n",
            "         'for their enemies, with the toy line expected to hit the market in '\n",
            "         'three months. Faced with such a tig',\n",
            " 'Title': 'Small Soldiers'}\n",
            "\t None\n",
            "{'Plot': 'A skyrocketing crime rate leads the city of Johannesburg, South '\n",
            "         'Africa to buy a squadron of scouts—state-of-the-art armour-plated '\n",
            "         'attack robots—from weapons manufacturer Tetravaal. These autonomous '\n",
            "         'androids are developed by British scientist Deon Wilson and largely '\n",
            "         'supplant the overwhelmed human police force. A competing project '\n",
            "         'within the company is the remotely controlled MOOSE, developed by '\n",
            "         'Australian soldier-turned-engineer Vincent Moore. Deon is praised '\n",
            "         \"for Tetravaal's success but Vincent g\",\n",
            " 'Title': 'Chappie'}\n",
            "\t None\n",
            "{'Plot': 'A team of trained operatives find themselves trapped inside an '\n",
            "         'isolated military compound after its artificial intelligence is '\n",
            "         'suddenly shut down. There, they begin to experience strange and '\n",
            "         'horrific phenomena as they attempt to uncover what killed the '\n",
            "         'previous team.',\n",
            " 'Title': 'Armed Response'}\n",
            "\t None\n",
            "{'Plot': 'In the year 2110, humanity has expanded its frontier into space in '\n",
            "         'its drive for new resources. Advances in genetic engineering '\n",
            "         'research led to the establishment of the MJP (Military Junior '\n",
            "         'Pre-Academy) project, which saw the creation of genetically enhanced '\n",
            "         'humans known as the Evolved Children, developed with the intention '\n",
            "         'of allowing humans to adapt to the new frontier. However, when Earth '\n",
            "         'finds itself under threat by an alien race called the Wulgaru, human '\n",
            "         'forces decide to have the evolved ch',\n",
            " 'Title': 'Galactic Armored Fleet Majestic Prince: Genetic Awakening'}\n",
            "\t None\n"
          ]
        }
      ]
    },
    {
      "cell_type": "code",
      "metadata": {
        "execution": {
          "iopub.execute_input": "2021-07-05T08:09:54.079577Z",
          "iopub.status.busy": "2021-07-05T08:09:54.078049Z",
          "iopub.status.idle": "2021-07-05T08:09:54.080416Z",
          "shell.execute_reply": "2021-07-05T08:09:54.080887Z",
          "shell.execute_reply.started": "2021-07-05T07:56:17.543102Z"
        },
        "papermill": {
          "duration": 0.175356,
          "end_time": "2021-07-05T08:09:54.081032",
          "exception": false,
          "start_time": "2021-07-05T08:09:53.905676",
          "status": "completed"
        },
        "tags": [],
        "id": "infinite-supervision"
      },
      "source": [
        "candidate_plots = [x['Plot'] for x in results]"
      ],
      "id": "infinite-supervision",
      "execution_count": null,
      "outputs": []
    },
    {
      "cell_type": "code",
      "metadata": {
        "execution": {
          "iopub.execute_input": "2021-07-05T08:09:54.339861Z",
          "iopub.status.busy": "2021-07-05T08:09:54.339038Z",
          "iopub.status.idle": "2021-07-05T08:09:54.422767Z",
          "shell.execute_reply": "2021-07-05T08:09:54.422274Z",
          "shell.execute_reply.started": "2021-07-05T07:56:17.550358Z"
        },
        "papermill": {
          "duration": 0.215207,
          "end_time": "2021-07-05T08:09:54.422878",
          "exception": false,
          "start_time": "2021-07-05T08:09:54.207671",
          "status": "completed"
        },
        "tags": [],
        "id": "announced-express",
        "outputId": "69153f86-2506-4582-f35c-c52455477f95",
        "colab": {
          "referenced_widgets": [
            "68b665f36ccf49559956d134e01e5748"
          ]
        }
      },
      "source": [
        "from sentence_transformers import SentenceTransformer, util\n",
        "\n",
        "#Compute embeddings\n",
        "embeddings = model.encode(candidate_plots)\n",
        "\n",
        "#Compute cosine-similarities for each sentence with each other sentence\n",
        "cosine_scores = util.pytorch_cos_sim(user_encoded_vector, embeddings)\n",
        "\n",
        "#Find the pairs with the highest cosine similarity scores\n",
        "titles = [x['Title'] for x in results]\n",
        "\n",
        "ranked_user_behaviour = [{'Title':x ,'Score': y} for x,y in zip(titles,cosine_scores.numpy()[0])]\n",
        "ranked_user_behaviour = sorted(ranked_user_behaviour, key=lambda x: x['Score'], reverse=True)"
      ],
      "id": "announced-express",
      "execution_count": null,
      "outputs": [
        {
          "data": {
            "application/vnd.jupyter.widget-view+json": {
              "model_id": "68b665f36ccf49559956d134e01e5748",
              "version_major": 2,
              "version_minor": 0
            },
            "text/plain": [
              "Batches:   0%|          | 0/1 [00:00<?, ?it/s]"
            ]
          },
          "metadata": {},
          "output_type": "display_data"
        }
      ]
    },
    {
      "cell_type": "code",
      "metadata": {
        "execution": {
          "iopub.execute_input": "2021-07-05T08:09:54.686606Z",
          "iopub.status.busy": "2021-07-05T08:09:54.685921Z",
          "iopub.status.idle": "2021-07-05T08:09:54.688970Z",
          "shell.execute_reply": "2021-07-05T08:09:54.689351Z",
          "shell.execute_reply.started": "2021-07-05T07:56:17.644178Z"
        },
        "papermill": {
          "duration": 0.137183,
          "end_time": "2021-07-05T08:09:54.689484",
          "exception": false,
          "start_time": "2021-07-05T08:09:54.552301",
          "status": "completed"
        },
        "tags": [],
        "id": "adjusted-musician"
      },
      "source": [
        "final_results = pd.DataFrame()\n",
        "final_results['faiss_ranking'] = [item['Title'] for item in results]\n",
        "final_results['cross_encoder'] = [item['Title'] for item in ranked_results]\n",
        "final_results['bert_score'] = [item['Title'] for item in ranked_results_bert]\n",
        "final_results['user_interaction_ranking'] = [item['Title'] for item in ranked_user_behaviour]"
      ],
      "id": "adjusted-musician",
      "execution_count": null,
      "outputs": []
    },
    {
      "cell_type": "code",
      "metadata": {
        "execution": {
          "iopub.execute_input": "2021-07-05T08:09:54.951581Z",
          "iopub.status.busy": "2021-07-05T08:09:54.951023Z",
          "iopub.status.idle": "2021-07-05T08:09:54.954284Z",
          "shell.execute_reply": "2021-07-05T08:09:54.954684Z",
          "shell.execute_reply.started": "2021-07-05T07:56:17.654117Z"
        },
        "papermill": {
          "duration": 0.13938,
          "end_time": "2021-07-05T08:09:54.954811",
          "exception": false,
          "start_time": "2021-07-05T08:09:54.815431",
          "status": "completed"
        },
        "tags": [],
        "id": "developing-player",
        "outputId": "ff614f92-8f21-48fa-df79-8f8b19ad5721"
      },
      "source": [
        "final_results"
      ],
      "id": "developing-player",
      "execution_count": null,
      "outputs": [
        {
          "data": {
            "text/html": [
              "<div>\n",
              "<style scoped>\n",
              "    .dataframe tbody tr th:only-of-type {\n",
              "        vertical-align: middle;\n",
              "    }\n",
              "\n",
              "    .dataframe tbody tr th {\n",
              "        vertical-align: top;\n",
              "    }\n",
              "\n",
              "    .dataframe thead th {\n",
              "        text-align: right;\n",
              "    }\n",
              "</style>\n",
              "<table border=\"1\" class=\"dataframe\">\n",
              "  <thead>\n",
              "    <tr style=\"text-align: right;\">\n",
              "      <th></th>\n",
              "      <th>faiss_ranking</th>\n",
              "      <th>cross_encoder</th>\n",
              "      <th>bert_score</th>\n",
              "      <th>user_interaction_ranking</th>\n",
              "    </tr>\n",
              "  </thead>\n",
              "  <tbody>\n",
              "    <tr>\n",
              "      <th>0</th>\n",
              "      <td>The Cape Canaveral Monsters</td>\n",
              "      <td>Armed Response</td>\n",
              "      <td>Armed Response</td>\n",
              "      <td>The Cape Canaveral Monsters</td>\n",
              "    </tr>\n",
              "    <tr>\n",
              "      <th>1</th>\n",
              "      <td>Small Soldiers</td>\n",
              "      <td>The Cape Canaveral Monsters</td>\n",
              "      <td>Chappie</td>\n",
              "      <td>Armed Response</td>\n",
              "    </tr>\n",
              "    <tr>\n",
              "      <th>2</th>\n",
              "      <td>Chappie</td>\n",
              "      <td>Chappie</td>\n",
              "      <td>Small Soldiers</td>\n",
              "      <td>Chappie</td>\n",
              "    </tr>\n",
              "    <tr>\n",
              "      <th>3</th>\n",
              "      <td>Armed Response</td>\n",
              "      <td>Galactic Armored Fleet Majestic Prince: Geneti...</td>\n",
              "      <td>Galactic Armored Fleet Majestic Prince: Geneti...</td>\n",
              "      <td>Small Soldiers</td>\n",
              "    </tr>\n",
              "    <tr>\n",
              "      <th>4</th>\n",
              "      <td>Galactic Armored Fleet Majestic Prince: Geneti...</td>\n",
              "      <td>Small Soldiers</td>\n",
              "      <td>The Cape Canaveral Monsters</td>\n",
              "      <td>Galactic Armored Fleet Majestic Prince: Geneti...</td>\n",
              "    </tr>\n",
              "  </tbody>\n",
              "</table>\n",
              "</div>"
            ],
            "text/plain": [
              "                                       faiss_ranking  \\\n",
              "0                        The Cape Canaveral Monsters   \n",
              "1                                     Small Soldiers   \n",
              "2                                            Chappie   \n",
              "3                                     Armed Response   \n",
              "4  Galactic Armored Fleet Majestic Prince: Geneti...   \n",
              "\n",
              "                                       cross_encoder  \\\n",
              "0                                     Armed Response   \n",
              "1                        The Cape Canaveral Monsters   \n",
              "2                                            Chappie   \n",
              "3  Galactic Armored Fleet Majestic Prince: Geneti...   \n",
              "4                                     Small Soldiers   \n",
              "\n",
              "                                          bert_score  \\\n",
              "0                                     Armed Response   \n",
              "1                                            Chappie   \n",
              "2                                     Small Soldiers   \n",
              "3  Galactic Armored Fleet Majestic Prince: Geneti...   \n",
              "4                        The Cape Canaveral Monsters   \n",
              "\n",
              "                            user_interaction_ranking  \n",
              "0                        The Cape Canaveral Monsters  \n",
              "1                                     Armed Response  \n",
              "2                                            Chappie  \n",
              "3                                     Small Soldiers  \n",
              "4  Galactic Armored Fleet Majestic Prince: Geneti...  "
            ]
          },
          "execution_count": 45,
          "metadata": {},
          "output_type": "execute_result"
        }
      ]
    },
    {
      "cell_type": "code",
      "metadata": {
        "execution": {
          "iopub.execute_input": "2021-07-05T08:09:55.216164Z",
          "iopub.status.busy": "2021-07-05T08:09:55.215404Z",
          "iopub.status.idle": "2021-07-05T08:09:55.257226Z",
          "shell.execute_reply": "2021-07-05T08:09:55.257796Z",
          "shell.execute_reply.started": "2021-07-05T08:00:56.891615Z"
        },
        "papermill": {
          "duration": 0.175644,
          "end_time": "2021-07-05T08:09:55.257964",
          "exception": false,
          "start_time": "2021-07-05T08:09:55.082320",
          "status": "completed"
        },
        "tags": [],
        "id": "solar-invite",
        "outputId": "2a3ad0f4-de08-4ec5-ee37-1c8a17ec4b32"
      },
      "source": [
        "def fetch_movie_info(dataframe_idx):\n",
        "    info = df.iloc[dataframe_idx]\n",
        "    meta_dict = {}\n",
        "    meta_dict['Title'] = info['Title']\n",
        "    return meta_dict\n",
        "    \n",
        "\n",
        "t=time.time()\n",
        "query_vector = user_encoded_vector\n",
        "top_k = index.search(query_vector, 20)\n",
        "print('>>>> Recommendation Results in Total Time: {}'.format(time.time()-t))\n",
        "top_k_ids = top_k[1].tolist()[0]\n",
        "top_k_ids = list(np.unique(top_k_ids))\n",
        "[fetch_movie_info(idx) for idx in top_k_ids]\n"
      ],
      "id": "solar-invite",
      "execution_count": null,
      "outputs": [
        {
          "name": "stdout",
          "output_type": "stream",
          "text": [
            ">>>> Recommendation Results in Total Time: 0.03316307067871094\n"
          ]
        },
        {
          "data": {
            "text/plain": [
              "[{'Title': 'Key Witness'},\n",
              " {'Title': 'The Good Mother'},\n",
              " {'Title': 'Fire on the Amazon'},\n",
              " {'Title': 'Bang'},\n",
              " {'Title': 'How to Make a Monster'},\n",
              " {'Title': 'Hammers Over the Anvil'},\n",
              " {'Title': 'The Nursemaid Who Disappeared'},\n",
              " {'Title': 'Third Person'},\n",
              " {'Title': 'You Were Never Really Here'},\n",
              " {'Title': 'Shadow Dancing'},\n",
              " {'Title': 'Remembrance'},\n",
              " {'Title': 'Small Town Murder Songs'},\n",
              " {'Title': 'Eadweard'},\n",
              " {'Title': 'Caught in the Web'},\n",
              " {'Title': 'Bounty Hunters'},\n",
              " {'Title': 'Fulltime Killer'},\n",
              " {'Title': 'Amar'},\n",
              " {'Title': 'SMS'},\n",
              " {'Title': 'JAKQ Dengeki Tai'},\n",
              " {'Title': 'Gekijō-ban Tiger & Bunny -The Beginning'}]"
            ]
          },
          "execution_count": 46,
          "metadata": {},
          "output_type": "execute_result"
        }
      ]
    },
    {
      "cell_type": "code",
      "metadata": {
        "papermill": {
          "duration": 0.137403,
          "end_time": "2021-07-05T08:09:55.522491",
          "exception": false,
          "start_time": "2021-07-05T08:09:55.385088",
          "status": "completed"
        },
        "tags": [],
        "id": "treated-commerce"
      },
      "source": [
        ""
      ],
      "id": "treated-commerce",
      "execution_count": null,
      "outputs": []
    }
  ]
}