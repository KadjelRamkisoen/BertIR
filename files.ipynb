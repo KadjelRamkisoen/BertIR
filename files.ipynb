{
  "nbformat": 4,
  "nbformat_minor": 0,
  "metadata": {
    "colab": {
      "name": "Copy of BertIR.ipynb",
      "provenance": [],
      "collapsed_sections": [],
      "include_colab_link": true
    },
    "kernelspec": {
      "name": "python3",
      "display_name": "Python 3"
    },
    "language_info": {
      "name": "python"
    }
  },
  "cells": [
    {
      "cell_type": "markdown",
      "metadata": {
        "id": "view-in-github",
        "colab_type": "text"
      },
      "source": [
        "<a href=\"https://colab.research.google.com/github/KadjelRamkisoen/BertIR/blob/main_kate/files.ipynb\" target=\"_parent\"><img src=\"https://colab.research.google.com/assets/colab-badge.svg\" alt=\"Open In Colab\"/></a>"
      ]
    },
    {
      "cell_type": "code",
      "metadata": {
        "id": "71EOoT6ksnc8",
        "colab": {
          "base_uri": "https://localhost:8080/"
        },
        "outputId": "f51b6067-81c4-488e-b967-50abe52e0e12"
      },
      "source": [
        "# Mount google drive\n",
        "from google.colab import drive\n",
        "drive.mount('/content/drive')\n",
        "\n",
        "# Path to data files\n",
        "# IR_Path = '/content/drive/MyDrive/UvAntwerpen/2021-2022/Information Retrieval/Assignment 2/'\n",
        "IR_Path = '/content/drive/MyDrive/Information Retrieval/Assignment 2/'\n",
        "\n"
      ],
      "execution_count": 1,
      "outputs": [
        {
          "output_type": "stream",
          "name": "stdout",
          "text": [
            "Mounted at /content/drive\n"
          ]
        }
      ]
    },
    {
      "cell_type": "code",
      "metadata": {
        "id": "1x5-SaNjEDLg"
      },
      "source": [
        "dev_data = 'dev_data.csv'\n",
        "all_docs = 'all_docs.csv'\n",
        "dev_queries = 'dev_queries.csv'\n",
        "test_data = 'test_data.csv'\n",
        "training_data = 'training_data.csv'\n",
        "lucene_data = 'raw_dev_Lucene_retrievals.csv'"
      ],
      "execution_count": 2,
      "outputs": []
    },
    {
      "cell_type": "code",
      "metadata": {
        "id": "PdlBFViv7ARE"
      },
      "source": [
        "import pandas as pd\n",
        "import numpy as np\n",
        "import seaborn as sns\n",
        "import matplotlib.pyplot as plt"
      ],
      "execution_count": 4,
      "outputs": []
    },
    {
      "cell_type": "code",
      "metadata": {
        "id": "uJ9Ytw389mF9"
      },
      "source": [
        "df = pd.read_csv(IR_Path + training_data)"
      ],
      "execution_count": null,
      "outputs": []
    },
    {
      "cell_type": "code",
      "metadata": {
        "colab": {
          "base_uri": "https://localhost:8080/",
          "height": 206
        },
        "id": "5p3ZSouR97S3",
        "outputId": "19ea26a1-b4d1-4b56-d457-57030939f45d"
      },
      "source": [
        "# df.head() # - all docs "
      ],
      "execution_count": null,
      "outputs": [
        {
          "output_type": "execute_result",
          "data": {
            "text/html": [
              "<div>\n",
              "<style scoped>\n",
              "    .dataframe tbody tr th:only-of-type {\n",
              "        vertical-align: middle;\n",
              "    }\n",
              "\n",
              "    .dataframe tbody tr th {\n",
              "        vertical-align: top;\n",
              "    }\n",
              "\n",
              "    .dataframe thead th {\n",
              "        text-align: right;\n",
              "    }\n",
              "</style>\n",
              "<table border=\"1\" class=\"dataframe\">\n",
              "  <thead>\n",
              "    <tr style=\"text-align: right;\">\n",
              "      <th></th>\n",
              "      <th>doc_number</th>\n",
              "      <th>doc_text</th>\n",
              "    </tr>\n",
              "  </thead>\n",
              "  <tbody>\n",
              "    <tr>\n",
              "      <th>0</th>\n",
              "      <td>31135</td>\n",
              "      <td>Estrogen patch types Common Questions and Answ...</td>\n",
              "    </tr>\n",
              "    <tr>\n",
              "      <th>1</th>\n",
              "      <td>317907</td>\n",
              "      <td>Answers.com ® Wiki Answers ® Categories Cars &amp;...</td>\n",
              "    </tr>\n",
              "    <tr>\n",
              "      <th>2</th>\n",
              "      <td>188074</td>\n",
              "      <td>Vodka Tonic (7)Recipe by newspapergal“I couldn...</td>\n",
              "    </tr>\n",
              "    <tr>\n",
              "      <th>3</th>\n",
              "      <td>313468</td>\n",
              "      <td>From Wikipedia, the free encyclopedia (Redirec...</td>\n",
              "    </tr>\n",
              "    <tr>\n",
              "      <th>4</th>\n",
              "      <td>33071</td>\n",
              "      <td>1. Biogenic elements. Qualitative reaction for...</td>\n",
              "    </tr>\n",
              "  </tbody>\n",
              "</table>\n",
              "</div>"
            ],
            "text/plain": [
              "   doc_number                                           doc_text\n",
              "0       31135  Estrogen patch types Common Questions and Answ...\n",
              "1      317907  Answers.com ® Wiki Answers ® Categories Cars &...\n",
              "2      188074  Vodka Tonic (7)Recipe by newspapergal“I couldn...\n",
              "3      313468  From Wikipedia, the free encyclopedia (Redirec...\n",
              "4       33071  1. Biogenic elements. Qualitative reaction for..."
            ]
          },
          "metadata": {},
          "execution_count": 5
        }
      ]
    },
    {
      "cell_type": "code",
      "metadata": {
        "id": "y7GTbu4ER3_v",
        "colab": {
          "base_uri": "https://localhost:8080/",
          "height": 206
        },
        "outputId": "2e66cd1b-dcf6-4b64-8192-56d91094e2fa"
      },
      "source": [
        "df.head(50) # - training_data"
      ],
      "execution_count": null,
      "outputs": [
        {
          "output_type": "execute_result",
          "data": {
            "text/html": [
              "<div>\n",
              "<style scoped>\n",
              "    .dataframe tbody tr th:only-of-type {\n",
              "        vertical-align: middle;\n",
              "    }\n",
              "\n",
              "    .dataframe tbody tr th {\n",
              "        vertical-align: top;\n",
              "    }\n",
              "\n",
              "    .dataframe thead th {\n",
              "        text-align: right;\n",
              "    }\n",
              "</style>\n",
              "<table border=\"1\" class=\"dataframe\">\n",
              "  <thead>\n",
              "    <tr style=\"text-align: right;\">\n",
              "      <th></th>\n",
              "      <th>Query_number</th>\n",
              "      <th>Query</th>\n",
              "      <th>doc_text</th>\n",
              "      <th>doc_number</th>\n",
              "      <th>index</th>\n",
              "      <th>label</th>\n",
              "    </tr>\n",
              "  </thead>\n",
              "  <tbody>\n",
              "    <tr>\n",
              "      <th>0</th>\n",
              "      <td>166043</td>\n",
              "      <td>does estrogen make me start my period</td>\n",
              "      <td>Estrogen patch types Common Questions and Answ...</td>\n",
              "      <td>31135</td>\n",
              "      <td>23076</td>\n",
              "      <td>1</td>\n",
              "    </tr>\n",
              "    <tr>\n",
              "      <th>1</th>\n",
              "      <td>284072</td>\n",
              "      <td>how many gallons is liters</td>\n",
              "      <td>Answers.com ® Wiki Answers ® Categories Cars &amp;...</td>\n",
              "      <td>317907</td>\n",
              "      <td>27572</td>\n",
              "      <td>1</td>\n",
              "    </tr>\n",
              "    <tr>\n",
              "      <th>2</th>\n",
              "      <td>277737</td>\n",
              "      <td>how many calories in skyy vodka</td>\n",
              "      <td>Vodka Tonic (7)Recipe by newspapergal“I couldn...</td>\n",
              "      <td>188074</td>\n",
              "      <td>79593</td>\n",
              "      <td>1</td>\n",
              "    </tr>\n",
              "    <tr>\n",
              "      <th>3</th>\n",
              "      <td>1059801</td>\n",
              "      <td>whos the third president of usa</td>\n",
              "      <td>From Wikipedia, the free encyclopedia (Redirec...</td>\n",
              "      <td>313468</td>\n",
              "      <td>74658</td>\n",
              "      <td>1</td>\n",
              "    </tr>\n",
              "    <tr>\n",
              "      <th>4</th>\n",
              "      <td>237561</td>\n",
              "      <td>how is the element magnesium used</td>\n",
              "      <td>1. Biogenic elements. Qualitative reaction for...</td>\n",
              "      <td>33071</td>\n",
              "      <td>28572</td>\n",
              "      <td>1</td>\n",
              "    </tr>\n",
              "  </tbody>\n",
              "</table>\n",
              "</div>"
            ],
            "text/plain": [
              "   Query_number                                  Query  ...  index  label\n",
              "0        166043  does estrogen make me start my period  ...  23076      1\n",
              "1        284072             how many gallons is liters  ...  27572      1\n",
              "2        277737        how many calories in skyy vodka  ...  79593      1\n",
              "3       1059801        whos the third president of usa  ...  74658      1\n",
              "4        237561      how is the element magnesium used  ...  28572      1\n",
              "\n",
              "[5 rows x 6 columns]"
            ]
          },
          "metadata": {},
          "execution_count": 26
        }
      ]
    },
    {
      "cell_type": "code",
      "metadata": {
        "id": "c84XNkWZS-ce",
        "colab": {
          "base_uri": "https://localhost:8080/"
        },
        "outputId": "ddf733ae-862f-4d40-96eb-f5ac1ef68023"
      },
      "source": [
        "df[df.Query_number == 290830].shape"
      ],
      "execution_count": null,
      "outputs": [
        {
          "output_type": "execute_result",
          "data": {
            "text/plain": [
              "(29, 6)"
            ]
          },
          "metadata": {},
          "execution_count": 18
        }
      ]
    },
    {
      "cell_type": "code",
      "metadata": {
        "id": "uDhHaCOtTWFv",
        "colab": {
          "base_uri": "https://localhost:8080/"
        },
        "outputId": "55462c9b-3620-460d-8a6c-8c1cf780a068"
      },
      "source": [
        "df[\"Query_number\"].unique().shape"
      ],
      "execution_count": null,
      "outputs": [
        {
          "output_type": "execute_result",
          "data": {
            "text/plain": [
              "(4490,)"
            ]
          },
          "metadata": {},
          "execution_count": 22
        }
      ]
    },
    {
      "cell_type": "code",
      "metadata": {
        "id": "LAAPB_ebSHlq",
        "colab": {
          "base_uri": "https://localhost:8080/",
          "height": 143
        },
        "outputId": "7d721d12-1c09-4a47-e5e4-357c2dd13635"
      },
      "source": [
        "df.groupby(\"label\").count()"
      ],
      "execution_count": null,
      "outputs": [
        {
          "output_type": "execute_result",
          "data": {
            "text/html": [
              "<div>\n",
              "<style scoped>\n",
              "    .dataframe tbody tr th:only-of-type {\n",
              "        vertical-align: middle;\n",
              "    }\n",
              "\n",
              "    .dataframe tbody tr th {\n",
              "        vertical-align: top;\n",
              "    }\n",
              "\n",
              "    .dataframe thead th {\n",
              "        text-align: right;\n",
              "    }\n",
              "</style>\n",
              "<table border=\"1\" class=\"dataframe\">\n",
              "  <thead>\n",
              "    <tr style=\"text-align: right;\">\n",
              "      <th></th>\n",
              "      <th>Query_number</th>\n",
              "      <th>Query</th>\n",
              "      <th>doc_text</th>\n",
              "      <th>doc_number</th>\n",
              "      <th>index</th>\n",
              "    </tr>\n",
              "    <tr>\n",
              "      <th>label</th>\n",
              "      <th></th>\n",
              "      <th></th>\n",
              "      <th></th>\n",
              "      <th></th>\n",
              "      <th></th>\n",
              "    </tr>\n",
              "  </thead>\n",
              "  <tbody>\n",
              "    <tr>\n",
              "      <th>0</th>\n",
              "      <td>70390</td>\n",
              "      <td>70390</td>\n",
              "      <td>70390</td>\n",
              "      <td>70390</td>\n",
              "      <td>70390</td>\n",
              "    </tr>\n",
              "    <tr>\n",
              "      <th>1</th>\n",
              "      <td>69610</td>\n",
              "      <td>69610</td>\n",
              "      <td>69606</td>\n",
              "      <td>69610</td>\n",
              "      <td>69610</td>\n",
              "    </tr>\n",
              "  </tbody>\n",
              "</table>\n",
              "</div>"
            ],
            "text/plain": [
              "       Query_number  Query  doc_text  doc_number  index\n",
              "label                                                  \n",
              "0             70390  70390     70390       70390  70390\n",
              "1             69610  69610     69606       69610  69610"
            ]
          },
          "metadata": {},
          "execution_count": 10
        }
      ]
    },
    {
      "cell_type": "code",
      "metadata": {
        "id": "OmAz8L7ITpBi",
        "colab": {
          "base_uri": "https://localhost:8080/"
        },
        "outputId": "b80ef271-c21b-4523-8499-821d9ec8fa38"
      },
      "source": [
        "print(df.head())\n",
        "print(\"total shape: \", df.shape)\n",
        "print(\"unique query number: \", df['Query_number'].unique().shape)\n",
        "print(\"unique document number: \", df['doc_number'].unique().shape)"
      ],
      "execution_count": null,
      "outputs": [
        {
          "output_type": "stream",
          "name": "stdout",
          "text": [
            "   Query_number                                  Query  ...  index  label\n",
            "0        166043  does estrogen make me start my period  ...  23076      1\n",
            "1        284072             how many gallons is liters  ...  27572      1\n",
            "2        277737        how many calories in skyy vodka  ...  79593      1\n",
            "3       1059801        whos the third president of usa  ...  74658      1\n",
            "4        237561      how is the element magnesium used  ...  28572      1\n",
            "\n",
            "[5 rows x 6 columns]\n",
            "total shape:  (140000, 6)\n",
            "unique query number:  (4490,)\n",
            "unique document number:  (105981,)\n"
          ]
        }
      ]
    },
    {
      "cell_type": "code",
      "metadata": {
        "id": "2wwpY10ETpDz"
      },
      "source": [
        "df_lucene = pd.read_csv(IR_Path + lucene_data)"
      ],
      "execution_count": null,
      "outputs": []
    },
    {
      "cell_type": "code",
      "metadata": {
        "id": "bE-MKt8CUEMn",
        "colab": {
          "base_uri": "https://localhost:8080/"
        },
        "outputId": "4834bc9a-6d16-4df5-eb7b-0f8ac2c8f192"
      },
      "source": [
        "print(df_lucene.head())\n",
        "print(\"total shape: \", df_lucene.shape)\n",
        "print(\"unique query number: \", df_lucene['Query_number'].unique().shape)\n",
        "print(\"unique document number: \", df_lucene['doc_number'].unique().shape)"
      ],
      "execution_count": null,
      "outputs": [
        {
          "output_type": "stream",
          "name": "stdout",
          "text": [
            "   Query_number  doc_number\n",
            "0       1089071      476602\n",
            "1       1089071      432658\n",
            "2       1089071      429474\n",
            "3       1089071      346632\n",
            "4       1089071      122086\n",
            "total shape:  (20003, 2)\n",
            "unique query number:  (644,)\n",
            "unique document number:  (18434,)\n"
          ]
        }
      ]
    },
    {
      "cell_type": "code",
      "metadata": {
        "id": "gkutIb1sTpHD"
      },
      "source": [
        "df_queried = pd.read_csv(IR_Path + dev_queries)"
      ],
      "execution_count": null,
      "outputs": []
    },
    {
      "cell_type": "code",
      "metadata": {
        "id": "0LEx44ezTpJK",
        "colab": {
          "base_uri": "https://localhost:8080/"
        },
        "outputId": "84ca5db9-f767-4c5d-8e40-a38416e9e20b"
      },
      "source": [
        "print(\"unique query number in queries file: \", df_queried.shape)"
      ],
      "execution_count": null,
      "outputs": [
        {
          "output_type": "stream",
          "name": "stdout",
          "text": [
            "unique query number in queries file:  (644, 2)\n"
          ]
        }
      ]
    },
    {
      "cell_type": "code",
      "metadata": {
        "id": "fclb-aqNUqn6",
        "colab": {
          "base_uri": "https://localhost:8080/"
        },
        "outputId": "66c02b62-bb91-40ec-9957-2b45529ce4ad"
      },
      "source": [
        "# training dataset\n",
        "print(df.head())\n",
        "print(\"total shape: \", df.shape)\n",
        "print(\"unique query number: \", df['Query_number'].unique().shape)\n",
        "print(\"unique document number: \", df['doc_number'].unique().shape)"
      ],
      "execution_count": null,
      "outputs": [
        {
          "output_type": "stream",
          "name": "stdout",
          "text": [
            "   Query_number                                  Query  ...  index  label\n",
            "0        166043  does estrogen make me start my period  ...  23076      1\n",
            "1        284072             how many gallons is liters  ...  27572      1\n",
            "2        277737        how many calories in skyy vodka  ...  79593      1\n",
            "3       1059801        whos the third president of usa  ...  74658      1\n",
            "4        237561      how is the element magnesium used  ...  28572      1\n",
            "\n",
            "[5 rows x 6 columns]\n",
            "total shape:  (140000, 6)\n",
            "unique query number:  (4490,)\n",
            "unique document number:  (105981,)\n"
          ]
        }
      ]
    },
    {
      "cell_type": "code",
      "metadata": {
        "id": "6mp1VBucTpKu"
      },
      "source": [
        "df_test = pd.read_csv(IR_Path + test_data)"
      ],
      "execution_count": null,
      "outputs": []
    },
    {
      "cell_type": "code",
      "metadata": {
        "id": "j_ww3ouXU6wj",
        "colab": {
          "base_uri": "https://localhost:8080/",
          "height": 206
        },
        "outputId": "98fd0c2d-4f75-49e4-a4fc-1a3c2bbedf6b"
      },
      "source": [
        "df_test.head()"
      ],
      "execution_count": null,
      "outputs": [
        {
          "output_type": "execute_result",
          "data": {
            "text/html": [
              "<div>\n",
              "<style scoped>\n",
              "    .dataframe tbody tr th:only-of-type {\n",
              "        vertical-align: middle;\n",
              "    }\n",
              "\n",
              "    .dataframe tbody tr th {\n",
              "        vertical-align: top;\n",
              "    }\n",
              "\n",
              "    .dataframe thead th {\n",
              "        text-align: right;\n",
              "    }\n",
              "</style>\n",
              "<table border=\"1\" class=\"dataframe\">\n",
              "  <thead>\n",
              "    <tr style=\"text-align: right;\">\n",
              "      <th></th>\n",
              "      <th>Query_number</th>\n",
              "      <th>Query</th>\n",
              "      <th>doc_number</th>\n",
              "      <th>doc_text</th>\n",
              "    </tr>\n",
              "  </thead>\n",
              "  <tbody>\n",
              "    <tr>\n",
              "      <th>0</th>\n",
              "      <td>1101131</td>\n",
              "      <td>door knocker definition</td>\n",
              "      <td>23104</td>\n",
              "      <td>areola Also found in: Thesaurus, Medical, Ency...</td>\n",
              "    </tr>\n",
              "    <tr>\n",
              "      <th>1</th>\n",
              "      <td>1101131</td>\n",
              "      <td>door knocker definition</td>\n",
              "      <td>134530</td>\n",
              "      <td>Cars &amp; Transportation Maintenance &amp; Repairs My...</td>\n",
              "    </tr>\n",
              "    <tr>\n",
              "      <th>2</th>\n",
              "      <td>1101131</td>\n",
              "      <td>door knocker definition</td>\n",
              "      <td>143130</td>\n",
              "      <td>1963-1982 Corvette Rear Bearing and U-Joint Ov...</td>\n",
              "    </tr>\n",
              "    <tr>\n",
              "      <th>3</th>\n",
              "      <td>1101131</td>\n",
              "      <td>door knocker definition</td>\n",
              "      <td>198957</td>\n",
              "      <td>KTweet Page 1Kto Kumquats KTo see the letter \"...</td>\n",
              "    </tr>\n",
              "    <tr>\n",
              "      <th>4</th>\n",
              "      <td>1101131</td>\n",
              "      <td>door knocker definition</td>\n",
              "      <td>224008</td>\n",
              "      <td>Cars &amp; Transportation Maintenance &amp; Repairs Ho...</td>\n",
              "    </tr>\n",
              "  </tbody>\n",
              "</table>\n",
              "</div>"
            ],
            "text/plain": [
              "   Query_number  ...                                           doc_text\n",
              "0       1101131  ...  areola Also found in: Thesaurus, Medical, Ency...\n",
              "1       1101131  ...  Cars & Transportation Maintenance & Repairs My...\n",
              "2       1101131  ...  1963-1982 Corvette Rear Bearing and U-Joint Ov...\n",
              "3       1101131  ...  KTweet Page 1Kto Kumquats KTo see the letter \"...\n",
              "4       1101131  ...  Cars & Transportation Maintenance & Repairs Ho...\n",
              "\n",
              "[5 rows x 4 columns]"
            ]
          },
          "metadata": {},
          "execution_count": 35
        }
      ]
    },
    {
      "cell_type": "code",
      "metadata": {
        "id": "Ptv4TRJLU6yw",
        "colab": {
          "base_uri": "https://localhost:8080/"
        },
        "outputId": "a1962238-400a-4f79-bc80-c8ab02527ea1"
      },
      "source": [
        "# testing dataset\n",
        "print(\"total shape: \", df_test.shape)\n",
        "print(\"unique query number: \", df_test['Query_number'].unique().shape)\n",
        "print(\"unique document number: \", df_test['doc_number'].unique().shape)"
      ],
      "execution_count": null,
      "outputs": [
        {
          "output_type": "stream",
          "name": "stdout",
          "text": [
            "total shape:  (1813, 4)\n",
            "unique query number:  (60,)\n",
            "unique document number:  (1799,)\n"
          ]
        }
      ]
    },
    {
      "cell_type": "code",
      "metadata": {
        "id": "S9eIsPMdU61I"
      },
      "source": [
        "df_dev = pd.read_csv(IR_Path + dev_data)"
      ],
      "execution_count": null,
      "outputs": []
    },
    {
      "cell_type": "code",
      "metadata": {
        "id": "eHRuRPIsVLui",
        "colab": {
          "base_uri": "https://localhost:8080/",
          "height": 206
        },
        "outputId": "6ccd141a-6625-4216-ecb9-f8823d4d1f98"
      },
      "source": [
        "df_dev.head(5)"
      ],
      "execution_count": null,
      "outputs": [
        {
          "output_type": "execute_result",
          "data": {
            "text/html": [
              "<div>\n",
              "<style scoped>\n",
              "    .dataframe tbody tr th:only-of-type {\n",
              "        vertical-align: middle;\n",
              "    }\n",
              "\n",
              "    .dataframe tbody tr th {\n",
              "        vertical-align: top;\n",
              "    }\n",
              "\n",
              "    .dataframe thead th {\n",
              "        text-align: right;\n",
              "    }\n",
              "</style>\n",
              "<table border=\"1\" class=\"dataframe\">\n",
              "  <thead>\n",
              "    <tr style=\"text-align: right;\">\n",
              "      <th></th>\n",
              "      <th>Query_number</th>\n",
              "      <th>doc_number</th>\n",
              "      <th>Query</th>\n",
              "      <th>doc_text</th>\n",
              "      <th>label</th>\n",
              "    </tr>\n",
              "  </thead>\n",
              "  <tbody>\n",
              "    <tr>\n",
              "      <th>0</th>\n",
              "      <td>1089071</td>\n",
              "      <td>432658</td>\n",
              "      <td>va death benefits contact number</td>\n",
              "      <td>Veteran Benefits in Nebraska Ads You May Be In...</td>\n",
              "      <td>1</td>\n",
              "    </tr>\n",
              "    <tr>\n",
              "      <th>1</th>\n",
              "      <td>1089071</td>\n",
              "      <td>417115</td>\n",
              "      <td>va death benefits contact number</td>\n",
              "      <td>Home › Benefit Library › State / Territory Ben...</td>\n",
              "      <td>1</td>\n",
              "    </tr>\n",
              "    <tr>\n",
              "      <th>2</th>\n",
              "      <td>1089071</td>\n",
              "      <td>429474</td>\n",
              "      <td>va death benefits contact number</td>\n",
              "      <td>VA Burial Benefits Burial Allowances Burial, H...</td>\n",
              "      <td>1</td>\n",
              "    </tr>\n",
              "    <tr>\n",
              "      <th>3</th>\n",
              "      <td>1089071</td>\n",
              "      <td>122086</td>\n",
              "      <td>va death benefits contact number</td>\n",
              "      <td>Home › Benefit Library › Federal Benefits › Bu...</td>\n",
              "      <td>1</td>\n",
              "    </tr>\n",
              "    <tr>\n",
              "      <th>4</th>\n",
              "      <td>1089071</td>\n",
              "      <td>60461</td>\n",
              "      <td>va death benefits contact number</td>\n",
              "      <td>Call Today1-844-VET-LAWS (838-5297)REFER A FRI...</td>\n",
              "      <td>1</td>\n",
              "    </tr>\n",
              "  </tbody>\n",
              "</table>\n",
              "</div>"
            ],
            "text/plain": [
              "   Query_number  ...  label\n",
              "0       1089071  ...      1\n",
              "1       1089071  ...      1\n",
              "2       1089071  ...      1\n",
              "3       1089071  ...      1\n",
              "4       1089071  ...      1\n",
              "\n",
              "[5 rows x 5 columns]"
            ]
          },
          "metadata": {},
          "execution_count": 40
        }
      ]
    },
    {
      "cell_type": "code",
      "metadata": {
        "id": "uoHUqWKPVLwz",
        "colab": {
          "base_uri": "https://localhost:8080/"
        },
        "outputId": "6d772294-3471-4d17-b358-bfc33e062efd"
      },
      "source": [
        "# dev dataset\n",
        "print(\"total shape: \", df_dev.shape)\n",
        "print(\"unique query number: \", df_dev['Query_number'].unique().shape)\n",
        "print(\"unique document number: \", df_dev['doc_number'].unique().shape)"
      ],
      "execution_count": null,
      "outputs": [
        {
          "output_type": "stream",
          "name": "stdout",
          "text": [
            "total shape:  (19992, 5)\n",
            "unique query number:  (644,)\n",
            "unique document number:  (18423,)\n"
          ]
        }
      ]
    },
    {
      "cell_type": "code",
      "metadata": {
        "id": "HOg9C-x6VLy5"
      },
      "source": [
        "df_docs = pd.read_csv(IR_Path + all_docs)"
      ],
      "execution_count": null,
      "outputs": []
    },
    {
      "cell_type": "code",
      "metadata": {
        "id": "woMYx2xPV-qt",
        "colab": {
          "base_uri": "https://localhost:8080/",
          "height": 206
        },
        "outputId": "4fac282c-9615-412c-aa9c-9dbda36bae66"
      },
      "source": [
        "df_docs.head()"
      ],
      "execution_count": null,
      "outputs": [
        {
          "output_type": "execute_result",
          "data": {
            "text/html": [
              "<div>\n",
              "<style scoped>\n",
              "    .dataframe tbody tr th:only-of-type {\n",
              "        vertical-align: middle;\n",
              "    }\n",
              "\n",
              "    .dataframe tbody tr th {\n",
              "        vertical-align: top;\n",
              "    }\n",
              "\n",
              "    .dataframe thead th {\n",
              "        text-align: right;\n",
              "    }\n",
              "</style>\n",
              "<table border=\"1\" class=\"dataframe\">\n",
              "  <thead>\n",
              "    <tr style=\"text-align: right;\">\n",
              "      <th></th>\n",
              "      <th>doc_number</th>\n",
              "      <th>doc_text</th>\n",
              "    </tr>\n",
              "  </thead>\n",
              "  <tbody>\n",
              "    <tr>\n",
              "      <th>0</th>\n",
              "      <td>31135</td>\n",
              "      <td>Estrogen patch types Common Questions and Answ...</td>\n",
              "    </tr>\n",
              "    <tr>\n",
              "      <th>1</th>\n",
              "      <td>317907</td>\n",
              "      <td>Answers.com ® Wiki Answers ® Categories Cars &amp;...</td>\n",
              "    </tr>\n",
              "    <tr>\n",
              "      <th>2</th>\n",
              "      <td>188074</td>\n",
              "      <td>Vodka Tonic (7)Recipe by newspapergal“I couldn...</td>\n",
              "    </tr>\n",
              "    <tr>\n",
              "      <th>3</th>\n",
              "      <td>313468</td>\n",
              "      <td>From Wikipedia, the free encyclopedia (Redirec...</td>\n",
              "    </tr>\n",
              "    <tr>\n",
              "      <th>4</th>\n",
              "      <td>33071</td>\n",
              "      <td>1. Biogenic elements. Qualitative reaction for...</td>\n",
              "    </tr>\n",
              "  </tbody>\n",
              "</table>\n",
              "</div>"
            ],
            "text/plain": [
              "   doc_number                                           doc_text\n",
              "0       31135  Estrogen patch types Common Questions and Answ...\n",
              "1      317907  Answers.com ® Wiki Answers ® Categories Cars &...\n",
              "2      188074  Vodka Tonic (7)Recipe by newspapergal“I couldn...\n",
              "3      313468  From Wikipedia, the free encyclopedia (Redirec...\n",
              "4       33071  1. Biogenic elements. Qualitative reaction for..."
            ]
          },
          "metadata": {},
          "execution_count": 43
        }
      ]
    },
    {
      "cell_type": "code",
      "metadata": {
        "id": "yOZ8PJ_pVL1I",
        "colab": {
          "base_uri": "https://localhost:8080/"
        },
        "outputId": "62e1675b-7ff5-4d19-b4cf-ad8dbf8062ed"
      },
      "source": [
        "# documents\n",
        "print(\"total shape: \", df_docs.shape)\n",
        "print(\"unique document number: \", df_docs['doc_number'].unique().shape)"
      ],
      "execution_count": null,
      "outputs": [
        {
          "output_type": "stream",
          "name": "stdout",
          "text": [
            "total shape:  (126203, 2)\n",
            "unique document number:  (118837,)\n"
          ]
        }
      ]
    },
    {
      "cell_type": "code",
      "metadata": {
        "id": "74aSOtUBVL2_",
        "colab": {
          "base_uri": "https://localhost:8080/",
          "height": 206
        },
        "outputId": "24e80765-6ad1-476e-ee14-8489d9f01e00"
      },
      "source": [
        "df_dev.head()"
      ],
      "execution_count": null,
      "outputs": [
        {
          "output_type": "execute_result",
          "data": {
            "text/html": [
              "<div>\n",
              "<style scoped>\n",
              "    .dataframe tbody tr th:only-of-type {\n",
              "        vertical-align: middle;\n",
              "    }\n",
              "\n",
              "    .dataframe tbody tr th {\n",
              "        vertical-align: top;\n",
              "    }\n",
              "\n",
              "    .dataframe thead th {\n",
              "        text-align: right;\n",
              "    }\n",
              "</style>\n",
              "<table border=\"1\" class=\"dataframe\">\n",
              "  <thead>\n",
              "    <tr style=\"text-align: right;\">\n",
              "      <th></th>\n",
              "      <th>Query_number</th>\n",
              "      <th>doc_number</th>\n",
              "      <th>Query</th>\n",
              "      <th>doc_text</th>\n",
              "      <th>label</th>\n",
              "    </tr>\n",
              "  </thead>\n",
              "  <tbody>\n",
              "    <tr>\n",
              "      <th>0</th>\n",
              "      <td>1089071</td>\n",
              "      <td>432658</td>\n",
              "      <td>va death benefits contact number</td>\n",
              "      <td>Veteran Benefits in Nebraska Ads You May Be In...</td>\n",
              "      <td>1</td>\n",
              "    </tr>\n",
              "    <tr>\n",
              "      <th>1</th>\n",
              "      <td>1089071</td>\n",
              "      <td>417115</td>\n",
              "      <td>va death benefits contact number</td>\n",
              "      <td>Home › Benefit Library › State / Territory Ben...</td>\n",
              "      <td>1</td>\n",
              "    </tr>\n",
              "    <tr>\n",
              "      <th>2</th>\n",
              "      <td>1089071</td>\n",
              "      <td>429474</td>\n",
              "      <td>va death benefits contact number</td>\n",
              "      <td>VA Burial Benefits Burial Allowances Burial, H...</td>\n",
              "      <td>1</td>\n",
              "    </tr>\n",
              "    <tr>\n",
              "      <th>3</th>\n",
              "      <td>1089071</td>\n",
              "      <td>122086</td>\n",
              "      <td>va death benefits contact number</td>\n",
              "      <td>Home › Benefit Library › Federal Benefits › Bu...</td>\n",
              "      <td>1</td>\n",
              "    </tr>\n",
              "    <tr>\n",
              "      <th>4</th>\n",
              "      <td>1089071</td>\n",
              "      <td>60461</td>\n",
              "      <td>va death benefits contact number</td>\n",
              "      <td>Call Today1-844-VET-LAWS (838-5297)REFER A FRI...</td>\n",
              "      <td>1</td>\n",
              "    </tr>\n",
              "  </tbody>\n",
              "</table>\n",
              "</div>"
            ],
            "text/plain": [
              "   Query_number  ...  label\n",
              "0       1089071  ...      1\n",
              "1       1089071  ...      1\n",
              "2       1089071  ...      1\n",
              "3       1089071  ...      1\n",
              "4       1089071  ...      1\n",
              "\n",
              "[5 rows x 5 columns]"
            ]
          },
          "metadata": {},
          "execution_count": 46
        }
      ]
    },
    {
      "cell_type": "code",
      "metadata": {
        "id": "vfkErQCiU63M"
      },
      "source": [
        "df_dev['rank'] = df_dev.groupby(['Query_number']).cumcount()+1 "
      ],
      "execution_count": null,
      "outputs": []
    },
    {
      "cell_type": "code",
      "metadata": {
        "id": "fex78f9QX8X-",
        "colab": {
          "base_uri": "https://localhost:8080/",
          "height": 1000
        },
        "outputId": "bbdf729c-bb0d-4053-fb2c-17700ca17f6f"
      },
      "source": [
        "df_dev.head(60)"
      ],
      "execution_count": null,
      "outputs": [
        {
          "output_type": "execute_result",
          "data": {
            "text/html": [
              "<div>\n",
              "<style scoped>\n",
              "    .dataframe tbody tr th:only-of-type {\n",
              "        vertical-align: middle;\n",
              "    }\n",
              "\n",
              "    .dataframe tbody tr th {\n",
              "        vertical-align: top;\n",
              "    }\n",
              "\n",
              "    .dataframe thead th {\n",
              "        text-align: right;\n",
              "    }\n",
              "</style>\n",
              "<table border=\"1\" class=\"dataframe\">\n",
              "  <thead>\n",
              "    <tr style=\"text-align: right;\">\n",
              "      <th></th>\n",
              "      <th>Query_number</th>\n",
              "      <th>doc_number</th>\n",
              "      <th>Query</th>\n",
              "      <th>doc_text</th>\n",
              "      <th>label</th>\n",
              "      <th>rank</th>\n",
              "    </tr>\n",
              "  </thead>\n",
              "  <tbody>\n",
              "    <tr>\n",
              "      <th>0</th>\n",
              "      <td>1089071</td>\n",
              "      <td>432658</td>\n",
              "      <td>va death benefits contact number</td>\n",
              "      <td>Veteran Benefits in Nebraska Ads You May Be In...</td>\n",
              "      <td>1</td>\n",
              "      <td>1</td>\n",
              "    </tr>\n",
              "    <tr>\n",
              "      <th>1</th>\n",
              "      <td>1089071</td>\n",
              "      <td>417115</td>\n",
              "      <td>va death benefits contact number</td>\n",
              "      <td>Home › Benefit Library › State / Territory Ben...</td>\n",
              "      <td>1</td>\n",
              "      <td>2</td>\n",
              "    </tr>\n",
              "    <tr>\n",
              "      <th>2</th>\n",
              "      <td>1089071</td>\n",
              "      <td>429474</td>\n",
              "      <td>va death benefits contact number</td>\n",
              "      <td>VA Burial Benefits Burial Allowances Burial, H...</td>\n",
              "      <td>1</td>\n",
              "      <td>3</td>\n",
              "    </tr>\n",
              "    <tr>\n",
              "      <th>3</th>\n",
              "      <td>1089071</td>\n",
              "      <td>122086</td>\n",
              "      <td>va death benefits contact number</td>\n",
              "      <td>Home › Benefit Library › Federal Benefits › Bu...</td>\n",
              "      <td>1</td>\n",
              "      <td>4</td>\n",
              "    </tr>\n",
              "    <tr>\n",
              "      <th>4</th>\n",
              "      <td>1089071</td>\n",
              "      <td>60461</td>\n",
              "      <td>va death benefits contact number</td>\n",
              "      <td>Call Today1-844-VET-LAWS (838-5297)REFER A FRI...</td>\n",
              "      <td>1</td>\n",
              "      <td>5</td>\n",
              "    </tr>\n",
              "    <tr>\n",
              "      <th>5</th>\n",
              "      <td>1089071</td>\n",
              "      <td>476602</td>\n",
              "      <td>va death benefits contact number</td>\n",
              "      <td>Death after Retirement Non Service-Connected D...</td>\n",
              "      <td>1</td>\n",
              "      <td>6</td>\n",
              "    </tr>\n",
              "    <tr>\n",
              "      <th>6</th>\n",
              "      <td>1089071</td>\n",
              "      <td>362869</td>\n",
              "      <td>va death benefits contact number</td>\n",
              "      <td>Veteran Benefits In Arkansas Ads You May Be In...</td>\n",
              "      <td>1</td>\n",
              "      <td>7</td>\n",
              "    </tr>\n",
              "    <tr>\n",
              "      <th>7</th>\n",
              "      <td>1089071</td>\n",
              "      <td>128382</td>\n",
              "      <td>va death benefits contact number</td>\n",
              "      <td>V. A. Burial Benefits Find Out What Burial Cos...</td>\n",
              "      <td>1</td>\n",
              "      <td>8</td>\n",
              "    </tr>\n",
              "    <tr>\n",
              "      <th>8</th>\n",
              "      <td>1089071</td>\n",
              "      <td>346632</td>\n",
              "      <td>va death benefits contact number</td>\n",
              "      <td>What GAO Found The number of older veterans re...</td>\n",
              "      <td>0</td>\n",
              "      <td>9</td>\n",
              "    </tr>\n",
              "    <tr>\n",
              "      <th>9</th>\n",
              "      <td>1089071</td>\n",
              "      <td>29215</td>\n",
              "      <td>va death benefits contact number</td>\n",
              "      <td>TRICAREPublished January 05, 2016PRINT | E-MAI...</td>\n",
              "      <td>0</td>\n",
              "      <td>10</td>\n",
              "    </tr>\n",
              "    <tr>\n",
              "      <th>10</th>\n",
              "      <td>1089071</td>\n",
              "      <td>467667</td>\n",
              "      <td>va death benefits contact number</td>\n",
              "      <td>Home &gt; Student Services &gt; Admissions &amp; Records...</td>\n",
              "      <td>0</td>\n",
              "      <td>11</td>\n",
              "    </tr>\n",
              "    <tr>\n",
              "      <th>11</th>\n",
              "      <td>1089071</td>\n",
              "      <td>501419</td>\n",
              "      <td>va death benefits contact number</td>\n",
              "      <td>VA Mortgage Loan Checklist Posted on: June 18,...</td>\n",
              "      <td>0</td>\n",
              "      <td>12</td>\n",
              "    </tr>\n",
              "    <tr>\n",
              "      <th>12</th>\n",
              "      <td>1089071</td>\n",
              "      <td>429264</td>\n",
              "      <td>va death benefits contact number</td>\n",
              "      <td>Sleep Apnea in Veterans – VA Benefits Are Avai...</td>\n",
              "      <td>0</td>\n",
              "      <td>13</td>\n",
              "    </tr>\n",
              "    <tr>\n",
              "      <th>13</th>\n",
              "      <td>1089071</td>\n",
              "      <td>495110</td>\n",
              "      <td>va death benefits contact number</td>\n",
              "      <td>Veterans Long Term Care Benefitsby Thomas Day ...</td>\n",
              "      <td>0</td>\n",
              "      <td>14</td>\n",
              "    </tr>\n",
              "    <tr>\n",
              "      <th>14</th>\n",
              "      <td>1089071</td>\n",
              "      <td>179867</td>\n",
              "      <td>va death benefits contact number</td>\n",
              "      <td>VA Benefits and Medicare: What You Need to Kno...</td>\n",
              "      <td>0</td>\n",
              "      <td>15</td>\n",
              "    </tr>\n",
              "    <tr>\n",
              "      <th>15</th>\n",
              "      <td>1089071</td>\n",
              "      <td>485663</td>\n",
              "      <td>va death benefits contact number</td>\n",
              "      <td>Veterans’ Spouses, Dependents, and Survivors B...</td>\n",
              "      <td>0</td>\n",
              "      <td>16</td>\n",
              "    </tr>\n",
              "    <tr>\n",
              "      <th>16</th>\n",
              "      <td>1089071</td>\n",
              "      <td>290962</td>\n",
              "      <td>va death benefits contact number</td>\n",
              "      <td>Appointments Schedule a VA Appointment There a...</td>\n",
              "      <td>0</td>\n",
              "      <td>17</td>\n",
              "    </tr>\n",
              "    <tr>\n",
              "      <th>17</th>\n",
              "      <td>1089071</td>\n",
              "      <td>368513</td>\n",
              "      <td>va death benefits contact number</td>\n",
              "      <td>Previous Next Vets First Q&amp;A: How Much of My V...</td>\n",
              "      <td>0</td>\n",
              "      <td>18</td>\n",
              "    </tr>\n",
              "    <tr>\n",
              "      <th>18</th>\n",
              "      <td>1089071</td>\n",
              "      <td>380769</td>\n",
              "      <td>va death benefits contact number</td>\n",
              "      <td>Contact the VA Palo Alto Health Care System VA...</td>\n",
              "      <td>0</td>\n",
              "      <td>19</td>\n",
              "    </tr>\n",
              "    <tr>\n",
              "      <th>19</th>\n",
              "      <td>1089071</td>\n",
              "      <td>167997</td>\n",
              "      <td>va death benefits contact number</td>\n",
              "      <td>Benefit Description Recipients may qualify to ...</td>\n",
              "      <td>0</td>\n",
              "      <td>20</td>\n",
              "    </tr>\n",
              "    <tr>\n",
              "      <th>20</th>\n",
              "      <td>1089071</td>\n",
              "      <td>59460</td>\n",
              "      <td>va death benefits contact number</td>\n",
              "      <td>So you’re interested in a VA loan, but you’re ...</td>\n",
              "      <td>0</td>\n",
              "      <td>21</td>\n",
              "    </tr>\n",
              "    <tr>\n",
              "      <th>21</th>\n",
              "      <td>1089071</td>\n",
              "      <td>354986</td>\n",
              "      <td>va death benefits contact number</td>\n",
              "      <td>Contact the VA North Texas Health Care System ...</td>\n",
              "      <td>0</td>\n",
              "      <td>22</td>\n",
              "    </tr>\n",
              "    <tr>\n",
              "      <th>22</th>\n",
              "      <td>1089071</td>\n",
              "      <td>298022</td>\n",
              "      <td>va death benefits contact number</td>\n",
              "      <td>4 Examples of Non-Combat PTSDPosted by Jon Cor...</td>\n",
              "      <td>0</td>\n",
              "      <td>23</td>\n",
              "    </tr>\n",
              "    <tr>\n",
              "      <th>23</th>\n",
              "      <td>1089071</td>\n",
              "      <td>216641</td>\n",
              "      <td>va death benefits contact number</td>\n",
              "      <td>by Amanda Pallay October 23, 2013 Home Buying,...</td>\n",
              "      <td>0</td>\n",
              "      <td>24</td>\n",
              "    </tr>\n",
              "    <tr>\n",
              "      <th>24</th>\n",
              "      <td>1089071</td>\n",
              "      <td>141153</td>\n",
              "      <td>va death benefits contact number</td>\n",
              "      <td>Fiduciary How to Apply To become a fiduciary f...</td>\n",
              "      <td>0</td>\n",
              "      <td>25</td>\n",
              "    </tr>\n",
              "    <tr>\n",
              "      <th>25</th>\n",
              "      <td>1089085</td>\n",
              "      <td>408240</td>\n",
              "      <td>usf admissions office phone number</td>\n",
              "      <td>Visit Admissions Office Usf on the Given Addre...</td>\n",
              "      <td>1</td>\n",
              "      <td>1</td>\n",
              "    </tr>\n",
              "    <tr>\n",
              "      <th>26</th>\n",
              "      <td>1089085</td>\n",
              "      <td>430821</td>\n",
              "      <td>usf admissions office phone number</td>\n",
              "      <td>|Back | Nursing Program Listing | Catalog Tabl...</td>\n",
              "      <td>1</td>\n",
              "      <td>2</td>\n",
              "    </tr>\n",
              "    <tr>\n",
              "      <th>27</th>\n",
              "      <td>1089085</td>\n",
              "      <td>316625</td>\n",
              "      <td>usf admissions office phone number</td>\n",
              "      <td>Your Future Starts Here Why Choose USF? Top-ra...</td>\n",
              "      <td>1</td>\n",
              "      <td>3</td>\n",
              "    </tr>\n",
              "    <tr>\n",
              "      <th>28</th>\n",
              "      <td>1089085</td>\n",
              "      <td>131285</td>\n",
              "      <td>usf admissions office phone number</td>\n",
              "      <td>Admissions Freshman Freshman Admissions Majors...</td>\n",
              "      <td>1</td>\n",
              "      <td>4</td>\n",
              "    </tr>\n",
              "    <tr>\n",
              "      <th>29</th>\n",
              "      <td>1089085</td>\n",
              "      <td>501118</td>\n",
              "      <td>usf admissions office phone number</td>\n",
              "      <td>Admissions Test Information (Also refer to the...</td>\n",
              "      <td>1</td>\n",
              "      <td>5</td>\n",
              "    </tr>\n",
              "    <tr>\n",
              "      <th>30</th>\n",
              "      <td>1089085</td>\n",
              "      <td>13154</td>\n",
              "      <td>usf admissions office phone number</td>\n",
              "      <td>Costs The cost of attendance for International...</td>\n",
              "      <td>1</td>\n",
              "      <td>6</td>\n",
              "    </tr>\n",
              "    <tr>\n",
              "      <th>31</th>\n",
              "      <td>1089085</td>\n",
              "      <td>123721</td>\n",
              "      <td>usf admissions office phone number</td>\n",
              "      <td>Scholarship Award/Benefits GPA &amp; Test Scores I...</td>\n",
              "      <td>1</td>\n",
              "      <td>7</td>\n",
              "    </tr>\n",
              "    <tr>\n",
              "      <th>32</th>\n",
              "      <td>1089085</td>\n",
              "      <td>310143</td>\n",
              "      <td>usf admissions office phone number</td>\n",
              "      <td>Proof of Enrollment The National Student Clear...</td>\n",
              "      <td>1</td>\n",
              "      <td>8</td>\n",
              "    </tr>\n",
              "    <tr>\n",
              "      <th>33</th>\n",
              "      <td>1089085</td>\n",
              "      <td>31044</td>\n",
              "      <td>usf admissions office phone number</td>\n",
              "      <td>Colleges That Superscore ACT: Complete List Po...</td>\n",
              "      <td>1</td>\n",
              "      <td>9</td>\n",
              "    </tr>\n",
              "    <tr>\n",
              "      <th>34</th>\n",
              "      <td>1089085</td>\n",
              "      <td>387331</td>\n",
              "      <td>usf admissions office phone number</td>\n",
              "      <td>San Francisco Advantages Business &amp; Technology...</td>\n",
              "      <td>1</td>\n",
              "      <td>10</td>\n",
              "    </tr>\n",
              "    <tr>\n",
              "      <th>35</th>\n",
              "      <td>1089085</td>\n",
              "      <td>386679</td>\n",
              "      <td>usf admissions office phone number</td>\n",
              "      <td>The Best Online Master’s in Education Programs...</td>\n",
              "      <td>1</td>\n",
              "      <td>11</td>\n",
              "    </tr>\n",
              "    <tr>\n",
              "      <th>36</th>\n",
              "      <td>1089085</td>\n",
              "      <td>132776</td>\n",
              "      <td>usf admissions office phone number</td>\n",
              "      <td>Tweet US &gt; Georgia &gt; Franklin (County)Listen F...</td>\n",
              "      <td>1</td>\n",
              "      <td>12</td>\n",
              "    </tr>\n",
              "    <tr>\n",
              "      <th>37</th>\n",
              "      <td>1089085</td>\n",
              "      <td>343035</td>\n",
              "      <td>usf admissions office phone number</td>\n",
              "      <td>Understanding the Common Area Factor: Rentable...</td>\n",
              "      <td>1</td>\n",
              "      <td>13</td>\n",
              "    </tr>\n",
              "    <tr>\n",
              "      <th>38</th>\n",
              "      <td>1089085</td>\n",
              "      <td>209037</td>\n",
              "      <td>usf admissions office phone number</td>\n",
              "      <td>Office Team Customer Service Phone Number Phon...</td>\n",
              "      <td>1</td>\n",
              "      <td>14</td>\n",
              "    </tr>\n",
              "    <tr>\n",
              "      <th>39</th>\n",
              "      <td>1089085</td>\n",
              "      <td>130386</td>\n",
              "      <td>usf admissions office phone number</td>\n",
              "      <td>Tuition &amp; Fees Schedule for Academic Year 2018...</td>\n",
              "      <td>0</td>\n",
              "      <td>15</td>\n",
              "    </tr>\n",
              "    <tr>\n",
              "      <th>40</th>\n",
              "      <td>1089085</td>\n",
              "      <td>329467</td>\n",
              "      <td>usf admissions office phone number</td>\n",
              "      <td>Duo Authentication What is Duo? USF is impleme...</td>\n",
              "      <td>0</td>\n",
              "      <td>16</td>\n",
              "    </tr>\n",
              "    <tr>\n",
              "      <th>41</th>\n",
              "      <td>1089085</td>\n",
              "      <td>358832</td>\n",
              "      <td>usf admissions office phone number</td>\n",
              "      <td>Education in Human Research Protection Program...</td>\n",
              "      <td>0</td>\n",
              "      <td>17</td>\n",
              "    </tr>\n",
              "    <tr>\n",
              "      <th>42</th>\n",
              "      <td>1089085</td>\n",
              "      <td>195159</td>\n",
              "      <td>usf admissions office phone number</td>\n",
              "      <td>Font Size: Larger / Smaller Welcome to the Adm...</td>\n",
              "      <td>0</td>\n",
              "      <td>18</td>\n",
              "    </tr>\n",
              "    <tr>\n",
              "      <th>43</th>\n",
              "      <td>1089085</td>\n",
              "      <td>295893</td>\n",
              "      <td>usf admissions office phone number</td>\n",
              "      <td>Hiring the right admissions counselor in today...</td>\n",
              "      <td>0</td>\n",
              "      <td>19</td>\n",
              "    </tr>\n",
              "    <tr>\n",
              "      <th>44</th>\n",
              "      <td>1089085</td>\n",
              "      <td>469691</td>\n",
              "      <td>usf admissions office phone number</td>\n",
              "      <td>GRADUATEHow to Apply You are a domestic gradua...</td>\n",
              "      <td>0</td>\n",
              "      <td>20</td>\n",
              "    </tr>\n",
              "    <tr>\n",
              "      <th>45</th>\n",
              "      <td>1089085</td>\n",
              "      <td>168816</td>\n",
              "      <td>usf admissions office phone number</td>\n",
              "      <td>Tuition and Fees KC is the best educational va...</td>\n",
              "      <td>0</td>\n",
              "      <td>21</td>\n",
              "    </tr>\n",
              "    <tr>\n",
              "      <th>46</th>\n",
              "      <td>1089085</td>\n",
              "      <td>402173</td>\n",
              "      <td>usf admissions office phone number</td>\n",
              "      <td>About MPC » Campus Information Contact Us Prin...</td>\n",
              "      <td>0</td>\n",
              "      <td>22</td>\n",
              "    </tr>\n",
              "    <tr>\n",
              "      <th>47</th>\n",
              "      <td>1089085</td>\n",
              "      <td>250366</td>\n",
              "      <td>usf admissions office phone number</td>\n",
              "      <td>Transcripts and Enrollment Certification IPFW....</td>\n",
              "      <td>0</td>\n",
              "      <td>23</td>\n",
              "    </tr>\n",
              "    <tr>\n",
              "      <th>48</th>\n",
              "      <td>1089085</td>\n",
              "      <td>51753</td>\n",
              "      <td>usf admissions office phone number</td>\n",
              "      <td>We've contacted the admissions office at Liber...</td>\n",
              "      <td>0</td>\n",
              "      <td>24</td>\n",
              "    </tr>\n",
              "    <tr>\n",
              "      <th>49</th>\n",
              "      <td>1089085</td>\n",
              "      <td>404856</td>\n",
              "      <td>usf admissions office phone number</td>\n",
              "      <td>admit me, already! why haven't i received a de...</td>\n",
              "      <td>0</td>\n",
              "      <td>25</td>\n",
              "    </tr>\n",
              "    <tr>\n",
              "      <th>50</th>\n",
              "      <td>1089085</td>\n",
              "      <td>284429</td>\n",
              "      <td>usf admissions office phone number</td>\n",
              "      <td>Enrolling Participants This chapter describes ...</td>\n",
              "      <td>0</td>\n",
              "      <td>26</td>\n",
              "    </tr>\n",
              "    <tr>\n",
              "      <th>51</th>\n",
              "      <td>1089085</td>\n",
              "      <td>24175</td>\n",
              "      <td>usf admissions office phone number</td>\n",
              "      <td>University Of Notre Dame Room And Board Notre ...</td>\n",
              "      <td>0</td>\n",
              "      <td>27</td>\n",
              "    </tr>\n",
              "    <tr>\n",
              "      <th>52</th>\n",
              "      <td>1089085</td>\n",
              "      <td>159344</td>\n",
              "      <td>usf admissions office phone number</td>\n",
              "      <td>BSN Frequently Asked Questions What is a compe...</td>\n",
              "      <td>0</td>\n",
              "      <td>28</td>\n",
              "    </tr>\n",
              "    <tr>\n",
              "      <th>53</th>\n",
              "      <td>1089085</td>\n",
              "      <td>119495</td>\n",
              "      <td>usf admissions office phone number</td>\n",
              "      <td>Caribbean Plastic Surgeons at Trinidad Institu...</td>\n",
              "      <td>0</td>\n",
              "      <td>29</td>\n",
              "    </tr>\n",
              "    <tr>\n",
              "      <th>54</th>\n",
              "      <td>1089085</td>\n",
              "      <td>295065</td>\n",
              "      <td>usf admissions office phone number</td>\n",
              "      <td>Get in Touch with Us Reach out to us anytime a...</td>\n",
              "      <td>0</td>\n",
              "      <td>30</td>\n",
              "    </tr>\n",
              "    <tr>\n",
              "      <th>55</th>\n",
              "      <td>1089085</td>\n",
              "      <td>342543</td>\n",
              "      <td>usf admissions office phone number</td>\n",
              "      <td>New York University New York, New York Private...</td>\n",
              "      <td>0</td>\n",
              "      <td>31</td>\n",
              "    </tr>\n",
              "    <tr>\n",
              "      <th>56</th>\n",
              "      <td>1089085</td>\n",
              "      <td>208376</td>\n",
              "      <td>usf admissions office phone number</td>\n",
              "      <td>Admission Requirements Admission Requirements ...</td>\n",
              "      <td>0</td>\n",
              "      <td>32</td>\n",
              "    </tr>\n",
              "    <tr>\n",
              "      <th>57</th>\n",
              "      <td>1089093</td>\n",
              "      <td>127232</td>\n",
              "      <td>usb host controller functions</td>\n",
              "      <td>From Wikipedia, the free encyclopedianavigatio...</td>\n",
              "      <td>1</td>\n",
              "      <td>1</td>\n",
              "    </tr>\n",
              "    <tr>\n",
              "      <th>58</th>\n",
              "      <td>1089093</td>\n",
              "      <td>222018</td>\n",
              "      <td>usb host controller functions</td>\n",
              "      <td>Docs Windows Hardware Windows Drivers Device a...</td>\n",
              "      <td>1</td>\n",
              "      <td>2</td>\n",
              "    </tr>\n",
              "    <tr>\n",
              "      <th>59</th>\n",
              "      <td>1089093</td>\n",
              "      <td>310193</td>\n",
              "      <td>usb host controller functions</td>\n",
              "      <td>USBFrom Wikipedia, the free encyclopedia (Redi...</td>\n",
              "      <td>1</td>\n",
              "      <td>3</td>\n",
              "    </tr>\n",
              "  </tbody>\n",
              "</table>\n",
              "</div>"
            ],
            "text/plain": [
              "    Query_number  doc_number  ... label rank\n",
              "0        1089071      432658  ...     1    1\n",
              "1        1089071      417115  ...     1    2\n",
              "2        1089071      429474  ...     1    3\n",
              "3        1089071      122086  ...     1    4\n",
              "4        1089071       60461  ...     1    5\n",
              "5        1089071      476602  ...     1    6\n",
              "6        1089071      362869  ...     1    7\n",
              "7        1089071      128382  ...     1    8\n",
              "8        1089071      346632  ...     0    9\n",
              "9        1089071       29215  ...     0   10\n",
              "10       1089071      467667  ...     0   11\n",
              "11       1089071      501419  ...     0   12\n",
              "12       1089071      429264  ...     0   13\n",
              "13       1089071      495110  ...     0   14\n",
              "14       1089071      179867  ...     0   15\n",
              "15       1089071      485663  ...     0   16\n",
              "16       1089071      290962  ...     0   17\n",
              "17       1089071      368513  ...     0   18\n",
              "18       1089071      380769  ...     0   19\n",
              "19       1089071      167997  ...     0   20\n",
              "20       1089071       59460  ...     0   21\n",
              "21       1089071      354986  ...     0   22\n",
              "22       1089071      298022  ...     0   23\n",
              "23       1089071      216641  ...     0   24\n",
              "24       1089071      141153  ...     0   25\n",
              "25       1089085      408240  ...     1    1\n",
              "26       1089085      430821  ...     1    2\n",
              "27       1089085      316625  ...     1    3\n",
              "28       1089085      131285  ...     1    4\n",
              "29       1089085      501118  ...     1    5\n",
              "30       1089085       13154  ...     1    6\n",
              "31       1089085      123721  ...     1    7\n",
              "32       1089085      310143  ...     1    8\n",
              "33       1089085       31044  ...     1    9\n",
              "34       1089085      387331  ...     1   10\n",
              "35       1089085      386679  ...     1   11\n",
              "36       1089085      132776  ...     1   12\n",
              "37       1089085      343035  ...     1   13\n",
              "38       1089085      209037  ...     1   14\n",
              "39       1089085      130386  ...     0   15\n",
              "40       1089085      329467  ...     0   16\n",
              "41       1089085      358832  ...     0   17\n",
              "42       1089085      195159  ...     0   18\n",
              "43       1089085      295893  ...     0   19\n",
              "44       1089085      469691  ...     0   20\n",
              "45       1089085      168816  ...     0   21\n",
              "46       1089085      402173  ...     0   22\n",
              "47       1089085      250366  ...     0   23\n",
              "48       1089085       51753  ...     0   24\n",
              "49       1089085      404856  ...     0   25\n",
              "50       1089085      284429  ...     0   26\n",
              "51       1089085       24175  ...     0   27\n",
              "52       1089085      159344  ...     0   28\n",
              "53       1089085      119495  ...     0   29\n",
              "54       1089085      295065  ...     0   30\n",
              "55       1089085      342543  ...     0   31\n",
              "56       1089085      208376  ...     0   32\n",
              "57       1089093      127232  ...     1    1\n",
              "58       1089093      222018  ...     1    2\n",
              "59       1089093      310193  ...     1    3\n",
              "\n",
              "[60 rows x 6 columns]"
            ]
          },
          "metadata": {},
          "execution_count": 49
        }
      ]
    },
    {
      "cell_type": "code",
      "metadata": {
        "id": "BQSYxDxm-LsG",
        "colab": {
          "base_uri": "https://localhost:8080/",
          "height": 435
        },
        "outputId": "f6831796-e89f-436f-bf33-6803ff9e7049"
      },
      "source": [
        "df['doc_len'] = df['doc_text'].apply(lambda words: len(words.split()))\n",
        "max_seq_len = np.round(df['doc_len'].mean() + df['doc_len'].std()).astype(int)\n",
        "sns.distplot(df['doc_len'], hist=True, kde=True, color='b', label='doc len')\n",
        "plt.axvline(x=max_seq_len, color='k', linestyle='--', label='max len')\n",
        "plt.title('plot length'); plt.legend()\n",
        "plt.show()"
      ],
      "execution_count": null,
      "outputs": [
        {
          "output_type": "error",
          "ename": "AttributeError",
          "evalue": "ignored",
          "traceback": [
            "\u001b[0;31m---------------------------------------------------------------------------\u001b[0m",
            "\u001b[0;31mAttributeError\u001b[0m                            Traceback (most recent call last)",
            "\u001b[0;32m<ipython-input-6-483f3fd547fb>\u001b[0m in \u001b[0;36m<module>\u001b[0;34m()\u001b[0m\n\u001b[0;32m----> 1\u001b[0;31m \u001b[0mdf\u001b[0m\u001b[0;34m[\u001b[0m\u001b[0;34m'doc_len'\u001b[0m\u001b[0;34m]\u001b[0m \u001b[0;34m=\u001b[0m \u001b[0mdf\u001b[0m\u001b[0;34m[\u001b[0m\u001b[0;34m'doc_text'\u001b[0m\u001b[0;34m]\u001b[0m\u001b[0;34m.\u001b[0m\u001b[0mapply\u001b[0m\u001b[0;34m(\u001b[0m\u001b[0;32mlambda\u001b[0m \u001b[0mwords\u001b[0m\u001b[0;34m:\u001b[0m \u001b[0mlen\u001b[0m\u001b[0;34m(\u001b[0m\u001b[0mwords\u001b[0m\u001b[0;34m.\u001b[0m\u001b[0msplit\u001b[0m\u001b[0;34m(\u001b[0m\u001b[0;34m)\u001b[0m\u001b[0;34m)\u001b[0m\u001b[0;34m)\u001b[0m\u001b[0;34m\u001b[0m\u001b[0;34m\u001b[0m\u001b[0m\n\u001b[0m\u001b[1;32m      2\u001b[0m \u001b[0mmax_seq_len\u001b[0m \u001b[0;34m=\u001b[0m \u001b[0mnp\u001b[0m\u001b[0;34m.\u001b[0m\u001b[0mround\u001b[0m\u001b[0;34m(\u001b[0m\u001b[0mdf\u001b[0m\u001b[0;34m[\u001b[0m\u001b[0;34m'doc_len'\u001b[0m\u001b[0;34m]\u001b[0m\u001b[0;34m.\u001b[0m\u001b[0mmean\u001b[0m\u001b[0;34m(\u001b[0m\u001b[0;34m)\u001b[0m \u001b[0;34m+\u001b[0m \u001b[0mdf\u001b[0m\u001b[0;34m[\u001b[0m\u001b[0;34m'doc_len'\u001b[0m\u001b[0;34m]\u001b[0m\u001b[0;34m.\u001b[0m\u001b[0mstd\u001b[0m\u001b[0;34m(\u001b[0m\u001b[0;34m)\u001b[0m\u001b[0;34m)\u001b[0m\u001b[0;34m.\u001b[0m\u001b[0mastype\u001b[0m\u001b[0;34m(\u001b[0m\u001b[0mint\u001b[0m\u001b[0;34m)\u001b[0m\u001b[0;34m\u001b[0m\u001b[0;34m\u001b[0m\u001b[0m\n\u001b[1;32m      3\u001b[0m \u001b[0msns\u001b[0m\u001b[0;34m.\u001b[0m\u001b[0mdistplot\u001b[0m\u001b[0;34m(\u001b[0m\u001b[0mdf\u001b[0m\u001b[0;34m[\u001b[0m\u001b[0;34m'doc_len'\u001b[0m\u001b[0;34m]\u001b[0m\u001b[0;34m,\u001b[0m \u001b[0mhist\u001b[0m\u001b[0;34m=\u001b[0m\u001b[0;32mTrue\u001b[0m\u001b[0;34m,\u001b[0m \u001b[0mkde\u001b[0m\u001b[0;34m=\u001b[0m\u001b[0;32mTrue\u001b[0m\u001b[0;34m,\u001b[0m \u001b[0mcolor\u001b[0m\u001b[0;34m=\u001b[0m\u001b[0;34m'b'\u001b[0m\u001b[0;34m,\u001b[0m \u001b[0mlabel\u001b[0m\u001b[0;34m=\u001b[0m\u001b[0;34m'doc len'\u001b[0m\u001b[0;34m)\u001b[0m\u001b[0;34m\u001b[0m\u001b[0;34m\u001b[0m\u001b[0m\n\u001b[1;32m      4\u001b[0m \u001b[0mplt\u001b[0m\u001b[0;34m.\u001b[0m\u001b[0maxvline\u001b[0m\u001b[0;34m(\u001b[0m\u001b[0mx\u001b[0m\u001b[0;34m=\u001b[0m\u001b[0mmax_seq_len\u001b[0m\u001b[0;34m,\u001b[0m \u001b[0mcolor\u001b[0m\u001b[0;34m=\u001b[0m\u001b[0;34m'k'\u001b[0m\u001b[0;34m,\u001b[0m \u001b[0mlinestyle\u001b[0m\u001b[0;34m=\u001b[0m\u001b[0;34m'--'\u001b[0m\u001b[0;34m,\u001b[0m \u001b[0mlabel\u001b[0m\u001b[0;34m=\u001b[0m\u001b[0;34m'max len'\u001b[0m\u001b[0;34m)\u001b[0m\u001b[0;34m\u001b[0m\u001b[0;34m\u001b[0m\u001b[0m\n\u001b[1;32m      5\u001b[0m \u001b[0mplt\u001b[0m\u001b[0;34m.\u001b[0m\u001b[0mtitle\u001b[0m\u001b[0;34m(\u001b[0m\u001b[0;34m'plot length'\u001b[0m\u001b[0;34m)\u001b[0m\u001b[0;34m;\u001b[0m \u001b[0mplt\u001b[0m\u001b[0;34m.\u001b[0m\u001b[0mlegend\u001b[0m\u001b[0;34m(\u001b[0m\u001b[0;34m)\u001b[0m\u001b[0;34m\u001b[0m\u001b[0;34m\u001b[0m\u001b[0m\n",
            "\u001b[0;32m/usr/local/lib/python3.7/dist-packages/pandas/core/series.py\u001b[0m in \u001b[0;36mapply\u001b[0;34m(self, func, convert_dtype, args, **kwds)\u001b[0m\n\u001b[1;32m   4211\u001b[0m             \u001b[0;32melse\u001b[0m\u001b[0;34m:\u001b[0m\u001b[0;34m\u001b[0m\u001b[0;34m\u001b[0m\u001b[0m\n\u001b[1;32m   4212\u001b[0m                 \u001b[0mvalues\u001b[0m \u001b[0;34m=\u001b[0m \u001b[0mself\u001b[0m\u001b[0;34m.\u001b[0m\u001b[0mastype\u001b[0m\u001b[0;34m(\u001b[0m\u001b[0mobject\u001b[0m\u001b[0;34m)\u001b[0m\u001b[0;34m.\u001b[0m\u001b[0m_values\u001b[0m\u001b[0;34m\u001b[0m\u001b[0;34m\u001b[0m\u001b[0m\n\u001b[0;32m-> 4213\u001b[0;31m                 \u001b[0mmapped\u001b[0m \u001b[0;34m=\u001b[0m \u001b[0mlib\u001b[0m\u001b[0;34m.\u001b[0m\u001b[0mmap_infer\u001b[0m\u001b[0;34m(\u001b[0m\u001b[0mvalues\u001b[0m\u001b[0;34m,\u001b[0m \u001b[0mf\u001b[0m\u001b[0;34m,\u001b[0m \u001b[0mconvert\u001b[0m\u001b[0;34m=\u001b[0m\u001b[0mconvert_dtype\u001b[0m\u001b[0;34m)\u001b[0m\u001b[0;34m\u001b[0m\u001b[0;34m\u001b[0m\u001b[0m\n\u001b[0m\u001b[1;32m   4214\u001b[0m \u001b[0;34m\u001b[0m\u001b[0m\n\u001b[1;32m   4215\u001b[0m         \u001b[0;32mif\u001b[0m \u001b[0mlen\u001b[0m\u001b[0;34m(\u001b[0m\u001b[0mmapped\u001b[0m\u001b[0;34m)\u001b[0m \u001b[0;32mand\u001b[0m \u001b[0misinstance\u001b[0m\u001b[0;34m(\u001b[0m\u001b[0mmapped\u001b[0m\u001b[0;34m[\u001b[0m\u001b[0;36m0\u001b[0m\u001b[0;34m]\u001b[0m\u001b[0;34m,\u001b[0m \u001b[0mSeries\u001b[0m\u001b[0;34m)\u001b[0m\u001b[0;34m:\u001b[0m\u001b[0;34m\u001b[0m\u001b[0;34m\u001b[0m\u001b[0m\n",
            "\u001b[0;32mpandas/_libs/lib.pyx\u001b[0m in \u001b[0;36mpandas._libs.lib.map_infer\u001b[0;34m()\u001b[0m\n",
            "\u001b[0;32m<ipython-input-6-483f3fd547fb>\u001b[0m in \u001b[0;36m<lambda>\u001b[0;34m(words)\u001b[0m\n\u001b[0;32m----> 1\u001b[0;31m \u001b[0mdf\u001b[0m\u001b[0;34m[\u001b[0m\u001b[0;34m'doc_len'\u001b[0m\u001b[0;34m]\u001b[0m \u001b[0;34m=\u001b[0m \u001b[0mdf\u001b[0m\u001b[0;34m[\u001b[0m\u001b[0;34m'doc_text'\u001b[0m\u001b[0;34m]\u001b[0m\u001b[0;34m.\u001b[0m\u001b[0mapply\u001b[0m\u001b[0;34m(\u001b[0m\u001b[0;32mlambda\u001b[0m \u001b[0mwords\u001b[0m\u001b[0;34m:\u001b[0m \u001b[0mlen\u001b[0m\u001b[0;34m(\u001b[0m\u001b[0mwords\u001b[0m\u001b[0;34m.\u001b[0m\u001b[0msplit\u001b[0m\u001b[0;34m(\u001b[0m\u001b[0;34m)\u001b[0m\u001b[0;34m)\u001b[0m\u001b[0;34m)\u001b[0m\u001b[0;34m\u001b[0m\u001b[0;34m\u001b[0m\u001b[0m\n\u001b[0m\u001b[1;32m      2\u001b[0m \u001b[0mmax_seq_len\u001b[0m \u001b[0;34m=\u001b[0m \u001b[0mnp\u001b[0m\u001b[0;34m.\u001b[0m\u001b[0mround\u001b[0m\u001b[0;34m(\u001b[0m\u001b[0mdf\u001b[0m\u001b[0;34m[\u001b[0m\u001b[0;34m'doc_len'\u001b[0m\u001b[0;34m]\u001b[0m\u001b[0;34m.\u001b[0m\u001b[0mmean\u001b[0m\u001b[0;34m(\u001b[0m\u001b[0;34m)\u001b[0m \u001b[0;34m+\u001b[0m \u001b[0mdf\u001b[0m\u001b[0;34m[\u001b[0m\u001b[0;34m'doc_len'\u001b[0m\u001b[0;34m]\u001b[0m\u001b[0;34m.\u001b[0m\u001b[0mstd\u001b[0m\u001b[0;34m(\u001b[0m\u001b[0;34m)\u001b[0m\u001b[0;34m)\u001b[0m\u001b[0;34m.\u001b[0m\u001b[0mastype\u001b[0m\u001b[0;34m(\u001b[0m\u001b[0mint\u001b[0m\u001b[0;34m)\u001b[0m\u001b[0;34m\u001b[0m\u001b[0;34m\u001b[0m\u001b[0m\n\u001b[1;32m      3\u001b[0m \u001b[0msns\u001b[0m\u001b[0;34m.\u001b[0m\u001b[0mdistplot\u001b[0m\u001b[0;34m(\u001b[0m\u001b[0mdf\u001b[0m\u001b[0;34m[\u001b[0m\u001b[0;34m'doc_len'\u001b[0m\u001b[0;34m]\u001b[0m\u001b[0;34m,\u001b[0m \u001b[0mhist\u001b[0m\u001b[0;34m=\u001b[0m\u001b[0;32mTrue\u001b[0m\u001b[0;34m,\u001b[0m \u001b[0mkde\u001b[0m\u001b[0;34m=\u001b[0m\u001b[0;32mTrue\u001b[0m\u001b[0;34m,\u001b[0m \u001b[0mcolor\u001b[0m\u001b[0;34m=\u001b[0m\u001b[0;34m'b'\u001b[0m\u001b[0;34m,\u001b[0m \u001b[0mlabel\u001b[0m\u001b[0;34m=\u001b[0m\u001b[0;34m'doc len'\u001b[0m\u001b[0;34m)\u001b[0m\u001b[0;34m\u001b[0m\u001b[0;34m\u001b[0m\u001b[0m\n\u001b[1;32m      4\u001b[0m \u001b[0mplt\u001b[0m\u001b[0;34m.\u001b[0m\u001b[0maxvline\u001b[0m\u001b[0;34m(\u001b[0m\u001b[0mx\u001b[0m\u001b[0;34m=\u001b[0m\u001b[0mmax_seq_len\u001b[0m\u001b[0;34m,\u001b[0m \u001b[0mcolor\u001b[0m\u001b[0;34m=\u001b[0m\u001b[0;34m'k'\u001b[0m\u001b[0;34m,\u001b[0m \u001b[0mlinestyle\u001b[0m\u001b[0;34m=\u001b[0m\u001b[0;34m'--'\u001b[0m\u001b[0;34m,\u001b[0m \u001b[0mlabel\u001b[0m\u001b[0;34m=\u001b[0m\u001b[0;34m'max len'\u001b[0m\u001b[0;34m)\u001b[0m\u001b[0;34m\u001b[0m\u001b[0;34m\u001b[0m\u001b[0m\n\u001b[1;32m      5\u001b[0m \u001b[0mplt\u001b[0m\u001b[0;34m.\u001b[0m\u001b[0mtitle\u001b[0m\u001b[0;34m(\u001b[0m\u001b[0;34m'plot length'\u001b[0m\u001b[0;34m)\u001b[0m\u001b[0;34m;\u001b[0m \u001b[0mplt\u001b[0m\u001b[0;34m.\u001b[0m\u001b[0mlegend\u001b[0m\u001b[0;34m(\u001b[0m\u001b[0;34m)\u001b[0m\u001b[0;34m\u001b[0m\u001b[0;34m\u001b[0m\u001b[0m\n",
            "\u001b[0;31mAttributeError\u001b[0m: 'float' object has no attribute 'split'"
          ]
        }
      ]
    },
    {
      "cell_type": "code",
      "metadata": {
        "id": "mYnVHuB-xvlK"
      },
      "source": [
        ""
      ],
      "execution_count": null,
      "outputs": []
    }
  ]
}